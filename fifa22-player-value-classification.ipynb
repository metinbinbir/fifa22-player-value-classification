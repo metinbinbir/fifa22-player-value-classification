{
  "nbformat": 4,
  "nbformat_minor": 0,
  "metadata": {
    "colab": {
      "name": "fifa22.ipynb",
      "provenance": [],
      "collapsed_sections": []
    },
    "kernelspec": {
      "name": "python3",
      "display_name": "Python 3"
    },
    "language_info": {
      "name": "python"
    }
  },
  "cells": [
    {
      "cell_type": "code",
      "source": [
        "# changing path\n",
        "%cd drive/MyDrive "
      ],
      "metadata": {
        "colab": {
          "base_uri": "https://localhost:8080/"
        },
        "id": "PZ8Y_nnRCEMg",
        "outputId": "c806b7b8-320d-488e-828f-25effac8b6a6"
      },
      "execution_count": 3,
      "outputs": [
        {
          "output_type": "stream",
          "name": "stdout",
          "text": [
            "[Errno 2] No such file or directory: 'drive/MyDrive'\n",
            "/content/drive/MyDrive\n"
          ]
        }
      ]
    },
    {
      "cell_type": "code",
      "source": [
        "ls"
      ],
      "metadata": {
        "colab": {
          "base_uri": "https://localhost:8080/"
        },
        "id": "QKcVY2sS-lRC",
        "outputId": "45eddf4e-df2a-4448-b59e-064213028d4b"
      },
      "execution_count": 4,
      "outputs": [
        {
          "output_type": "stream",
          "name": "stdout",
          "text": [
            " ai-hw-2.gdoc           finalized_model.sav   rf_norm.sav\n",
            " \u001b[0m\u001b[01;34mai-term-project\u001b[0m/       knn_normalized.sav    rf_original.sav\n",
            " ai-term-project.gdoc   knn_norm.sav          rf_pca.sav\n",
            "\u001b[01;34m'Colab Notebooks'\u001b[0m/      knn_original          \u001b[01;34msentiment_analysis_data\u001b[0m/\n",
            " data.csv               knn_original.sav      svc_norm.sav\n",
            " dsp-hw-2.gdoc          knn_pca.sav           svc_original.sav\n",
            " dt_norm.sav            \u001b[01;34modevler\u001b[0m/              svc_pca.sav\n",
            " dt_original.sav        pes_22.ipynb          tree.dot\n",
            " dt_pca.sav             players_22.csv\n"
          ]
        }
      ]
    },
    {
      "cell_type": "code",
      "source": [
        "# importing libraries"
      ],
      "metadata": {
        "id": "CkO-nY2sGCKt"
      },
      "execution_count": 5,
      "outputs": []
    },
    {
      "cell_type": "code",
      "source": [
        "import pandas as pd # data reading\n",
        "import matplotlib.pyplot as plt # data visualization\n",
        "from sklearn import preprocessing\n",
        "from sklearn.preprocessing import LabelEncoder, StandardScaler # data manipulation\n",
        "from sklearn.model_selection import train_test_split, cross_val_score, KFold\n",
        "import warnings\n",
        "from sklearn import metrics\n",
        "from sklearn.exceptions import DataConversionWarning, ConvergenceWarning\n",
        "from sklearn.metrics import plot_confusion_matrix\n",
        "import pickle\n",
        "from sklearn.tree import DecisionTreeClassifier\n",
        "import numpy as np\n",
        "warnings.filterwarnings(action='ignore', category=DataConversionWarning)\n",
        "warnings.filterwarnings(action='ignore', category=ConvergenceWarning)\n",
        "warnings.filterwarnings(action='ignore', category=UserWarning)\n",
        "from sklearn.decomposition import PCA\n",
        "from sklearn.neighbors import KNeighborsClassifier\n",
        "from sklearn.model_selection import train_test_split, GridSearchCV\n",
        "from sklearn.ensemble import RandomForestClassifier\n",
        "from sklearn.svm import SVC \n",
        "from sklearn.metrics import classification_report\n"
      ],
      "metadata": {
        "id": "cRy1Asg_F4KG"
      },
      "execution_count": 6,
      "outputs": []
    },
    {
      "cell_type": "markdown",
      "source": [
        "# Preprocess and Data Visualization"
      ],
      "metadata": {
        "id": "rXysT0Y-ZGkq"
      }
    },
    {
      "cell_type": "code",
      "execution_count": 7,
      "metadata": {
        "colab": {
          "base_uri": "https://localhost:8080/"
        },
        "id": "Q3n-miSqAJkK",
        "outputId": "75438852-572d-4778-f400-c9f1105cb832"
      },
      "outputs": [
        {
          "output_type": "stream",
          "name": "stderr",
          "text": [
            "/usr/local/lib/python3.7/dist-packages/IPython/core/interactiveshell.py:2882: DtypeWarning: Columns (25,108) have mixed types.Specify dtype option on import or set low_memory=False.\n",
            "  exec(code_obj, self.user_global_ns, self.user_ns)\n"
          ]
        }
      ],
      "source": [
        "df = pd.read_csv('players_22.csv',index_col=False , encoding = \"utf-8\") # reading data"
      ]
    },
    {
      "cell_type": "code",
      "source": [
        "df.shape"
      ],
      "metadata": {
        "colab": {
          "base_uri": "https://localhost:8080/"
        },
        "id": "5pckf2hkw16H",
        "outputId": "7a7aa078-783a-4caa-f249-5167c95168ff"
      },
      "execution_count": 8,
      "outputs": [
        {
          "output_type": "execute_result",
          "data": {
            "text/plain": [
              "(19239, 110)"
            ]
          },
          "metadata": {},
          "execution_count": 8
        }
      ]
    },
    {
      "cell_type": "code",
      "source": [
        "df.head() # first rows of the data"
      ],
      "metadata": {
        "id": "qVw644v9CKUU",
        "colab": {
          "base_uri": "https://localhost:8080/",
          "height": 473
        },
        "outputId": "a0e6be82-4403-4e88-ba2e-2c349f582b86"
      },
      "execution_count": 9,
      "outputs": [
        {
          "output_type": "execute_result",
          "data": {
            "text/plain": [
              "   sofifa_id                                         player_url  \\\n",
              "0     158023  https://sofifa.com/player/158023/lionel-messi/...   \n",
              "1     188545  https://sofifa.com/player/188545/robert-lewand...   \n",
              "2      20801  https://sofifa.com/player/20801/c-ronaldo-dos-...   \n",
              "3     190871  https://sofifa.com/player/190871/neymar-da-sil...   \n",
              "4     192985  https://sofifa.com/player/192985/kevin-de-bruy...   \n",
              "\n",
              "          short_name                            long_name player_positions  \\\n",
              "0           L. Messi       Lionel Andrés Messi Cuccittini       RW, ST, CF   \n",
              "1     R. Lewandowski                   Robert Lewandowski               ST   \n",
              "2  Cristiano Ronaldo  Cristiano Ronaldo dos Santos Aveiro           ST, LW   \n",
              "3          Neymar Jr        Neymar da Silva Santos Júnior          LW, CAM   \n",
              "4       K. De Bruyne                      Kevin De Bruyne          CM, CAM   \n",
              "\n",
              "   overall  potential    value_eur  wage_eur  age  ...   lcb    cb   rcb  \\\n",
              "0       93         93   78000000.0  320000.0   34  ...  50+3  50+3  50+3   \n",
              "1       92         92  119500000.0  270000.0   32  ...  60+3  60+3  60+3   \n",
              "2       91         91   45000000.0  270000.0   36  ...  53+3  53+3  53+3   \n",
              "3       91         91  129000000.0  270000.0   29  ...  50+3  50+3  50+3   \n",
              "4       91         91  125500000.0  350000.0   30  ...  69+3  69+3  69+3   \n",
              "\n",
              "     rb    gk                                    player_face_url  \\\n",
              "0  61+3  19+3  https://cdn.sofifa.net/players/158/023/22_120.png   \n",
              "1  61+3  19+3  https://cdn.sofifa.net/players/188/545/22_120.png   \n",
              "2  60+3  20+3  https://cdn.sofifa.net/players/020/801/22_120.png   \n",
              "3  62+3  20+3  https://cdn.sofifa.net/players/190/871/22_120.png   \n",
              "4  75+3  21+3  https://cdn.sofifa.net/players/192/985/22_120.png   \n",
              "\n",
              "                            club_logo_url  \\\n",
              "0  https://cdn.sofifa.net/teams/73/60.png   \n",
              "1  https://cdn.sofifa.net/teams/21/60.png   \n",
              "2  https://cdn.sofifa.net/teams/11/60.png   \n",
              "3  https://cdn.sofifa.net/teams/73/60.png   \n",
              "4  https://cdn.sofifa.net/teams/10/60.png   \n",
              "\n",
              "                             club_flag_url  \\\n",
              "0      https://cdn.sofifa.net/flags/fr.png   \n",
              "1      https://cdn.sofifa.net/flags/de.png   \n",
              "2  https://cdn.sofifa.net/flags/gb-eng.png   \n",
              "3      https://cdn.sofifa.net/flags/fr.png   \n",
              "4  https://cdn.sofifa.net/flags/gb-eng.png   \n",
              "\n",
              "                            nation_logo_url  \\\n",
              "0  https://cdn.sofifa.net/teams/1369/60.png   \n",
              "1  https://cdn.sofifa.net/teams/1353/60.png   \n",
              "2  https://cdn.sofifa.net/teams/1354/60.png   \n",
              "3                                       NaN   \n",
              "4  https://cdn.sofifa.net/teams/1325/60.png   \n",
              "\n",
              "                       nation_flag_url  \n",
              "0  https://cdn.sofifa.net/flags/ar.png  \n",
              "1  https://cdn.sofifa.net/flags/pl.png  \n",
              "2  https://cdn.sofifa.net/flags/pt.png  \n",
              "3  https://cdn.sofifa.net/flags/br.png  \n",
              "4  https://cdn.sofifa.net/flags/be.png  \n",
              "\n",
              "[5 rows x 110 columns]"
            ],
            "text/html": [
              "\n",
              "  <div id=\"df-928afc65-1657-4f2d-bdb9-37a272d216c9\">\n",
              "    <div class=\"colab-df-container\">\n",
              "      <div>\n",
              "<style scoped>\n",
              "    .dataframe tbody tr th:only-of-type {\n",
              "        vertical-align: middle;\n",
              "    }\n",
              "\n",
              "    .dataframe tbody tr th {\n",
              "        vertical-align: top;\n",
              "    }\n",
              "\n",
              "    .dataframe thead th {\n",
              "        text-align: right;\n",
              "    }\n",
              "</style>\n",
              "<table border=\"1\" class=\"dataframe\">\n",
              "  <thead>\n",
              "    <tr style=\"text-align: right;\">\n",
              "      <th></th>\n",
              "      <th>sofifa_id</th>\n",
              "      <th>player_url</th>\n",
              "      <th>short_name</th>\n",
              "      <th>long_name</th>\n",
              "      <th>player_positions</th>\n",
              "      <th>overall</th>\n",
              "      <th>potential</th>\n",
              "      <th>value_eur</th>\n",
              "      <th>wage_eur</th>\n",
              "      <th>age</th>\n",
              "      <th>...</th>\n",
              "      <th>lcb</th>\n",
              "      <th>cb</th>\n",
              "      <th>rcb</th>\n",
              "      <th>rb</th>\n",
              "      <th>gk</th>\n",
              "      <th>player_face_url</th>\n",
              "      <th>club_logo_url</th>\n",
              "      <th>club_flag_url</th>\n",
              "      <th>nation_logo_url</th>\n",
              "      <th>nation_flag_url</th>\n",
              "    </tr>\n",
              "  </thead>\n",
              "  <tbody>\n",
              "    <tr>\n",
              "      <th>0</th>\n",
              "      <td>158023</td>\n",
              "      <td>https://sofifa.com/player/158023/lionel-messi/...</td>\n",
              "      <td>L. Messi</td>\n",
              "      <td>Lionel Andrés Messi Cuccittini</td>\n",
              "      <td>RW, ST, CF</td>\n",
              "      <td>93</td>\n",
              "      <td>93</td>\n",
              "      <td>78000000.0</td>\n",
              "      <td>320000.0</td>\n",
              "      <td>34</td>\n",
              "      <td>...</td>\n",
              "      <td>50+3</td>\n",
              "      <td>50+3</td>\n",
              "      <td>50+3</td>\n",
              "      <td>61+3</td>\n",
              "      <td>19+3</td>\n",
              "      <td>https://cdn.sofifa.net/players/158/023/22_120.png</td>\n",
              "      <td>https://cdn.sofifa.net/teams/73/60.png</td>\n",
              "      <td>https://cdn.sofifa.net/flags/fr.png</td>\n",
              "      <td>https://cdn.sofifa.net/teams/1369/60.png</td>\n",
              "      <td>https://cdn.sofifa.net/flags/ar.png</td>\n",
              "    </tr>\n",
              "    <tr>\n",
              "      <th>1</th>\n",
              "      <td>188545</td>\n",
              "      <td>https://sofifa.com/player/188545/robert-lewand...</td>\n",
              "      <td>R. Lewandowski</td>\n",
              "      <td>Robert Lewandowski</td>\n",
              "      <td>ST</td>\n",
              "      <td>92</td>\n",
              "      <td>92</td>\n",
              "      <td>119500000.0</td>\n",
              "      <td>270000.0</td>\n",
              "      <td>32</td>\n",
              "      <td>...</td>\n",
              "      <td>60+3</td>\n",
              "      <td>60+3</td>\n",
              "      <td>60+3</td>\n",
              "      <td>61+3</td>\n",
              "      <td>19+3</td>\n",
              "      <td>https://cdn.sofifa.net/players/188/545/22_120.png</td>\n",
              "      <td>https://cdn.sofifa.net/teams/21/60.png</td>\n",
              "      <td>https://cdn.sofifa.net/flags/de.png</td>\n",
              "      <td>https://cdn.sofifa.net/teams/1353/60.png</td>\n",
              "      <td>https://cdn.sofifa.net/flags/pl.png</td>\n",
              "    </tr>\n",
              "    <tr>\n",
              "      <th>2</th>\n",
              "      <td>20801</td>\n",
              "      <td>https://sofifa.com/player/20801/c-ronaldo-dos-...</td>\n",
              "      <td>Cristiano Ronaldo</td>\n",
              "      <td>Cristiano Ronaldo dos Santos Aveiro</td>\n",
              "      <td>ST, LW</td>\n",
              "      <td>91</td>\n",
              "      <td>91</td>\n",
              "      <td>45000000.0</td>\n",
              "      <td>270000.0</td>\n",
              "      <td>36</td>\n",
              "      <td>...</td>\n",
              "      <td>53+3</td>\n",
              "      <td>53+3</td>\n",
              "      <td>53+3</td>\n",
              "      <td>60+3</td>\n",
              "      <td>20+3</td>\n",
              "      <td>https://cdn.sofifa.net/players/020/801/22_120.png</td>\n",
              "      <td>https://cdn.sofifa.net/teams/11/60.png</td>\n",
              "      <td>https://cdn.sofifa.net/flags/gb-eng.png</td>\n",
              "      <td>https://cdn.sofifa.net/teams/1354/60.png</td>\n",
              "      <td>https://cdn.sofifa.net/flags/pt.png</td>\n",
              "    </tr>\n",
              "    <tr>\n",
              "      <th>3</th>\n",
              "      <td>190871</td>\n",
              "      <td>https://sofifa.com/player/190871/neymar-da-sil...</td>\n",
              "      <td>Neymar Jr</td>\n",
              "      <td>Neymar da Silva Santos Júnior</td>\n",
              "      <td>LW, CAM</td>\n",
              "      <td>91</td>\n",
              "      <td>91</td>\n",
              "      <td>129000000.0</td>\n",
              "      <td>270000.0</td>\n",
              "      <td>29</td>\n",
              "      <td>...</td>\n",
              "      <td>50+3</td>\n",
              "      <td>50+3</td>\n",
              "      <td>50+3</td>\n",
              "      <td>62+3</td>\n",
              "      <td>20+3</td>\n",
              "      <td>https://cdn.sofifa.net/players/190/871/22_120.png</td>\n",
              "      <td>https://cdn.sofifa.net/teams/73/60.png</td>\n",
              "      <td>https://cdn.sofifa.net/flags/fr.png</td>\n",
              "      <td>NaN</td>\n",
              "      <td>https://cdn.sofifa.net/flags/br.png</td>\n",
              "    </tr>\n",
              "    <tr>\n",
              "      <th>4</th>\n",
              "      <td>192985</td>\n",
              "      <td>https://sofifa.com/player/192985/kevin-de-bruy...</td>\n",
              "      <td>K. De Bruyne</td>\n",
              "      <td>Kevin De Bruyne</td>\n",
              "      <td>CM, CAM</td>\n",
              "      <td>91</td>\n",
              "      <td>91</td>\n",
              "      <td>125500000.0</td>\n",
              "      <td>350000.0</td>\n",
              "      <td>30</td>\n",
              "      <td>...</td>\n",
              "      <td>69+3</td>\n",
              "      <td>69+3</td>\n",
              "      <td>69+3</td>\n",
              "      <td>75+3</td>\n",
              "      <td>21+3</td>\n",
              "      <td>https://cdn.sofifa.net/players/192/985/22_120.png</td>\n",
              "      <td>https://cdn.sofifa.net/teams/10/60.png</td>\n",
              "      <td>https://cdn.sofifa.net/flags/gb-eng.png</td>\n",
              "      <td>https://cdn.sofifa.net/teams/1325/60.png</td>\n",
              "      <td>https://cdn.sofifa.net/flags/be.png</td>\n",
              "    </tr>\n",
              "  </tbody>\n",
              "</table>\n",
              "<p>5 rows × 110 columns</p>\n",
              "</div>\n",
              "      <button class=\"colab-df-convert\" onclick=\"convertToInteractive('df-928afc65-1657-4f2d-bdb9-37a272d216c9')\"\n",
              "              title=\"Convert this dataframe to an interactive table.\"\n",
              "              style=\"display:none;\">\n",
              "        \n",
              "  <svg xmlns=\"http://www.w3.org/2000/svg\" height=\"24px\"viewBox=\"0 0 24 24\"\n",
              "       width=\"24px\">\n",
              "    <path d=\"M0 0h24v24H0V0z\" fill=\"none\"/>\n",
              "    <path d=\"M18.56 5.44l.94 2.06.94-2.06 2.06-.94-2.06-.94-.94-2.06-.94 2.06-2.06.94zm-11 1L8.5 8.5l.94-2.06 2.06-.94-2.06-.94L8.5 2.5l-.94 2.06-2.06.94zm10 10l.94 2.06.94-2.06 2.06-.94-2.06-.94-.94-2.06-.94 2.06-2.06.94z\"/><path d=\"M17.41 7.96l-1.37-1.37c-.4-.4-.92-.59-1.43-.59-.52 0-1.04.2-1.43.59L10.3 9.45l-7.72 7.72c-.78.78-.78 2.05 0 2.83L4 21.41c.39.39.9.59 1.41.59.51 0 1.02-.2 1.41-.59l7.78-7.78 2.81-2.81c.8-.78.8-2.07 0-2.86zM5.41 20L4 18.59l7.72-7.72 1.47 1.35L5.41 20z\"/>\n",
              "  </svg>\n",
              "      </button>\n",
              "      \n",
              "  <style>\n",
              "    .colab-df-container {\n",
              "      display:flex;\n",
              "      flex-wrap:wrap;\n",
              "      gap: 12px;\n",
              "    }\n",
              "\n",
              "    .colab-df-convert {\n",
              "      background-color: #E8F0FE;\n",
              "      border: none;\n",
              "      border-radius: 50%;\n",
              "      cursor: pointer;\n",
              "      display: none;\n",
              "      fill: #1967D2;\n",
              "      height: 32px;\n",
              "      padding: 0 0 0 0;\n",
              "      width: 32px;\n",
              "    }\n",
              "\n",
              "    .colab-df-convert:hover {\n",
              "      background-color: #E2EBFA;\n",
              "      box-shadow: 0px 1px 2px rgba(60, 64, 67, 0.3), 0px 1px 3px 1px rgba(60, 64, 67, 0.15);\n",
              "      fill: #174EA6;\n",
              "    }\n",
              "\n",
              "    [theme=dark] .colab-df-convert {\n",
              "      background-color: #3B4455;\n",
              "      fill: #D2E3FC;\n",
              "    }\n",
              "\n",
              "    [theme=dark] .colab-df-convert:hover {\n",
              "      background-color: #434B5C;\n",
              "      box-shadow: 0px 1px 3px 1px rgba(0, 0, 0, 0.15);\n",
              "      filter: drop-shadow(0px 1px 2px rgba(0, 0, 0, 0.3));\n",
              "      fill: #FFFFFF;\n",
              "    }\n",
              "  </style>\n",
              "\n",
              "      <script>\n",
              "        const buttonEl =\n",
              "          document.querySelector('#df-928afc65-1657-4f2d-bdb9-37a272d216c9 button.colab-df-convert');\n",
              "        buttonEl.style.display =\n",
              "          google.colab.kernel.accessAllowed ? 'block' : 'none';\n",
              "\n",
              "        async function convertToInteractive(key) {\n",
              "          const element = document.querySelector('#df-928afc65-1657-4f2d-bdb9-37a272d216c9');\n",
              "          const dataTable =\n",
              "            await google.colab.kernel.invokeFunction('convertToInteractive',\n",
              "                                                     [key], {});\n",
              "          if (!dataTable) return;\n",
              "\n",
              "          const docLinkHtml = 'Like what you see? Visit the ' +\n",
              "            '<a target=\"_blank\" href=https://colab.research.google.com/notebooks/data_table.ipynb>data table notebook</a>'\n",
              "            + ' to learn more about interactive tables.';\n",
              "          element.innerHTML = '';\n",
              "          dataTable['output_type'] = 'display_data';\n",
              "          await google.colab.output.renderOutput(dataTable, element);\n",
              "          const docLink = document.createElement('div');\n",
              "          docLink.innerHTML = docLinkHtml;\n",
              "          element.appendChild(docLink);\n",
              "        }\n",
              "      </script>\n",
              "    </div>\n",
              "  </div>\n",
              "  "
            ]
          },
          "metadata": {},
          "execution_count": 9
        }
      ]
    },
    {
      "cell_type": "code",
      "source": [
        "df.hist()"
      ],
      "metadata": {
        "id": "hbfIW3xwpI5D",
        "colab": {
          "base_uri": "https://localhost:8080/",
          "height": 1000
        },
        "outputId": "279d5d4b-62e7-4ff7-af3a-3e5acc6161f2"
      },
      "execution_count": 10,
      "outputs": [
        {
          "output_type": "execute_result",
          "data": {
            "text/plain": [
              "array([[<matplotlib.axes._subplots.AxesSubplot object at 0x7f5959bebd10>,\n",
              "        <matplotlib.axes._subplots.AxesSubplot object at 0x7f5959b58390>,\n",
              "        <matplotlib.axes._subplots.AxesSubplot object at 0x7f5959b13590>,\n",
              "        <matplotlib.axes._subplots.AxesSubplot object at 0x7f5959ac8b90>,\n",
              "        <matplotlib.axes._subplots.AxesSubplot object at 0x7f5959a8b1d0>,\n",
              "        <matplotlib.axes._subplots.AxesSubplot object at 0x7f5959a437d0>,\n",
              "        <matplotlib.axes._subplots.AxesSubplot object at 0x7f5959a78a10>,\n",
              "        <matplotlib.axes._subplots.AxesSubplot object at 0x7f5959a3e650>],\n",
              "       [<matplotlib.axes._subplots.AxesSubplot object at 0x7f5959a3e690>,\n",
              "        <matplotlib.axes._subplots.AxesSubplot object at 0x7f59599f3dd0>,\n",
              "        <matplotlib.axes._subplots.AxesSubplot object at 0x7f595996f910>,\n",
              "        <matplotlib.axes._subplots.AxesSubplot object at 0x7f5959922f10>,\n",
              "        <matplotlib.axes._subplots.AxesSubplot object at 0x7f59598e7550>,\n",
              "        <matplotlib.axes._subplots.AxesSubplot object at 0x7f595989fb50>,\n",
              "        <matplotlib.axes._subplots.AxesSubplot object at 0x7f5959862190>,\n",
              "        <matplotlib.axes._subplots.AxesSubplot object at 0x7f5959816790>],\n",
              "       [<matplotlib.axes._subplots.AxesSubplot object at 0x7f59597cdd90>,\n",
              "        <matplotlib.axes._subplots.AxesSubplot object at 0x7f59597913d0>,\n",
              "        <matplotlib.axes._subplots.AxesSubplot object at 0x7f59597459d0>,\n",
              "        <matplotlib.axes._subplots.AxesSubplot object at 0x7f5959772b10>,\n",
              "        <matplotlib.axes._subplots.AxesSubplot object at 0x7f5959741610>,\n",
              "        <matplotlib.axes._subplots.AxesSubplot object at 0x7f59596f7c10>,\n",
              "        <matplotlib.axes._subplots.AxesSubplot object at 0x7f59596bb250>,\n",
              "        <matplotlib.axes._subplots.AxesSubplot object at 0x7f5959671850>],\n",
              "       [<matplotlib.axes._subplots.AxesSubplot object at 0x7f5959627e50>,\n",
              "        <matplotlib.axes._subplots.AxesSubplot object at 0x7f59595ea490>,\n",
              "        <matplotlib.axes._subplots.AxesSubplot object at 0x7f59595a1a90>,\n",
              "        <matplotlib.axes._subplots.AxesSubplot object at 0x7f59595640d0>,\n",
              "        <matplotlib.axes._subplots.AxesSubplot object at 0x7f59595196d0>,\n",
              "        <matplotlib.axes._subplots.AxesSubplot object at 0x7f59594d0cd0>,\n",
              "        <matplotlib.axes._subplots.AxesSubplot object at 0x7f5959493310>,\n",
              "        <matplotlib.axes._subplots.AxesSubplot object at 0x7f595944c610>],\n",
              "       [<matplotlib.axes._subplots.AxesSubplot object at 0x7f5959402ad0>,\n",
              "        <matplotlib.axes._subplots.AxesSubplot object at 0x7f5959431b10>,\n",
              "        <matplotlib.axes._subplots.AxesSubplot object at 0x7f59593fb550>,\n",
              "        <matplotlib.axes._subplots.AxesSubplot object at 0x7f59593b1a50>,\n",
              "        <matplotlib.axes._subplots.AxesSubplot object at 0x7f5959367f50>,\n",
              "        <matplotlib.axes._subplots.AxesSubplot object at 0x7f595932b490>,\n",
              "        <matplotlib.axes._subplots.AxesSubplot object at 0x7f59592e0990>,\n",
              "        <matplotlib.axes._subplots.AxesSubplot object at 0x7f5959298e90>],\n",
              "       [<matplotlib.axes._subplots.AxesSubplot object at 0x7f595925b3d0>,\n",
              "        <matplotlib.axes._subplots.AxesSubplot object at 0x7f59592128d0>,\n",
              "        <matplotlib.axes._subplots.AxesSubplot object at 0x7f59591c5dd0>,\n",
              "        <matplotlib.axes._subplots.AxesSubplot object at 0x7f5959189310>,\n",
              "        <matplotlib.axes._subplots.AxesSubplot object at 0x7f59591bf810>,\n",
              "        <matplotlib.axes._subplots.AxesSubplot object at 0x7f5959175d10>,\n",
              "        <matplotlib.axes._subplots.AxesSubplot object at 0x7f595913a250>,\n",
              "        <matplotlib.axes._subplots.AxesSubplot object at 0x7f59590f0750>],\n",
              "       [<matplotlib.axes._subplots.AxesSubplot object at 0x7f59590a3c50>,\n",
              "        <matplotlib.axes._subplots.AxesSubplot object at 0x7f5959067190>,\n",
              "        <matplotlib.axes._subplots.AxesSubplot object at 0x7f595901c690>,\n",
              "        <matplotlib.axes._subplots.AxesSubplot object at 0x7f5958fd2b90>,\n",
              "        <matplotlib.axes._subplots.AxesSubplot object at 0x7f5958f960d0>,\n",
              "        <matplotlib.axes._subplots.AxesSubplot object at 0x7f5958f4f5d0>,\n",
              "        <matplotlib.axes._subplots.AxesSubplot object at 0x7f5958f03ad0>,\n",
              "        <matplotlib.axes._subplots.AxesSubplot object at 0x7f5958f2eb10>],\n",
              "       [<matplotlib.axes._subplots.AxesSubplot object at 0x7f5958efc4d0>,\n",
              "        <matplotlib.axes._subplots.AxesSubplot object at 0x7f5958eb19d0>,\n",
              "        <matplotlib.axes._subplots.AxesSubplot object at 0x7f5959b58e10>,\n",
              "        <matplotlib.axes._subplots.AxesSubplot object at 0x7f5959989a10>,\n",
              "        <matplotlib.axes._subplots.AxesSubplot object at 0x7f5959829250>,\n",
              "        <matplotlib.axes._subplots.AxesSubplot object at 0x7f5959644cd0>,\n",
              "        <matplotlib.axes._subplots.AxesSubplot object at 0x7f59594e4510>,\n",
              "        <matplotlib.axes._subplots.AxesSubplot object at 0x7f5958d79490>]],\n",
              "      dtype=object)"
            ]
          },
          "metadata": {},
          "execution_count": 10
        },
        {
          "output_type": "display_data",
          "data": {
            "text/plain": [
              "<Figure size 432x288 with 64 Axes>"
            ],
            "image/png": "[encoded data removed]"
          },
          "metadata": {
            "needs_background": "light"
          }
        }
      ]
    },
    {
      "cell_type": "code",
      "source": [
        "# our dataset has 101 columns, so we chose general attributes of a football players\n",
        "\n",
        "df = df[['value_eur','overall','potential','height_cm','weight_kg',\n",
        "         'player_positions','preferred_foot','weak_foot','skill_moves',\n",
        "         'pace','shooting','passing','dribbling','defending','physic',\n",
        "         'attacking_finishing']]"
      ],
      "metadata": {
        "id": "QnKXzFr-CcBm"
      },
      "execution_count": 11,
      "outputs": []
    },
    {
      "cell_type": "code",
      "source": [
        "# we have 16 attribute, value_eur attribute will be target class, the rest will be independent variables\n",
        "df.shape[1]"
      ],
      "metadata": {
        "colab": {
          "base_uri": "https://localhost:8080/"
        },
        "id": "PbT_0jQHG5fo",
        "outputId": "893e4719-8443-4874-d724-919134d1b979"
      },
      "execution_count": 12,
      "outputs": [
        {
          "output_type": "execute_result",
          "data": {
            "text/plain": [
              "16"
            ]
          },
          "metadata": {},
          "execution_count": 12
        }
      ]
    },
    {
      "cell_type": "code",
      "source": [
        "# we have 19239 samples in our dataset\n",
        "df.shape[0] "
      ],
      "metadata": {
        "colab": {
          "base_uri": "https://localhost:8080/"
        },
        "id": "_C7HwhEWHP3m",
        "outputId": "a1454515-230c-4bcd-ce21-65af9f64dffb"
      },
      "execution_count": 13,
      "outputs": [
        {
          "output_type": "execute_result",
          "data": {
            "text/plain": [
              "19239"
            ]
          },
          "metadata": {},
          "execution_count": 13
        }
      ]
    },
    {
      "cell_type": "code",
      "source": [
        "# goalkeepers will be removed since their attributes are different from the players which are playing at other positions\n",
        "df = df[df.player_positions != 'GK']"
      ],
      "metadata": {
        "id": "IStTcVxjFCcA"
      },
      "execution_count": 14,
      "outputs": []
    },
    {
      "cell_type": "code",
      "source": [
        "# after removing goalkeepers, our dataset contain 17107 samples\n",
        "df.reset_index(drop=True, inplace=True)"
      ],
      "metadata": {
        "id": "2O9YivBmK3dA"
      },
      "execution_count": 15,
      "outputs": []
    },
    {
      "cell_type": "code",
      "source": [
        "# after removing goalkeepers, there are 17107 players in the dataset\n",
        "df.shape[0] "
      ],
      "metadata": {
        "colab": {
          "base_uri": "https://localhost:8080/"
        },
        "id": "q242YhOEK9wP",
        "outputId": "0f63db2a-a30d-45a2-94b1-3a3f02326a36"
      },
      "execution_count": 16,
      "outputs": [
        {
          "output_type": "execute_result",
          "data": {
            "text/plain": [
              "17107"
            ]
          },
          "metadata": {},
          "execution_count": 16
        }
      ]
    },
    {
      "cell_type": "code",
      "source": [
        "df = df.dropna().reset_index(drop=True)\n"
      ],
      "metadata": {
        "id": "b8_s8dfH6Wgp"
      },
      "execution_count": 17,
      "outputs": []
    },
    {
      "cell_type": "code",
      "source": [
        "df.shape[0] "
      ],
      "metadata": {
        "colab": {
          "base_uri": "https://localhost:8080/"
        },
        "id": "ArcNayWpJZGr",
        "outputId": "db8552a0-60e5-4776-b1bc-3faa8ea1d793"
      },
      "execution_count": 18,
      "outputs": [
        {
          "output_type": "execute_result",
          "data": {
            "text/plain": [
              "17041"
            ]
          },
          "metadata": {},
          "execution_count": 18
        }
      ]
    },
    {
      "cell_type": "code",
      "source": [
        "df"
      ],
      "metadata": {
        "colab": {
          "base_uri": "https://localhost:8080/",
          "height": 423
        },
        "id": "lP3M9CfBKrh_",
        "outputId": "00312123-47f2-4b44-fe7c-76c7f3ce4c48"
      },
      "execution_count": 19,
      "outputs": [
        {
          "output_type": "execute_result",
          "data": {
            "text/plain": [
              "         value_eur  overall  potential  height_cm  weight_kg player_positions  \\\n",
              "0       78000000.0       93         93        170         72       RW, ST, CF   \n",
              "1      119500000.0       92         92        185         81               ST   \n",
              "2       45000000.0       91         91        187         83           ST, LW   \n",
              "3      129000000.0       91         91        175         68          LW, CAM   \n",
              "4      125500000.0       91         91        181         70          CM, CAM   \n",
              "...            ...      ...        ...        ...        ...              ...   \n",
              "17036      70000.0       47         52        180         64              CDM   \n",
              "17037     110000.0       47         59        175         70               CM   \n",
              "17038     100000.0       47         55        178         72               CM   \n",
              "17039     110000.0       47         60        173         66               ST   \n",
              "17040     110000.0       47         60        167         61              CAM   \n",
              "\n",
              "      preferred_foot  weak_foot  skill_moves  pace  shooting  passing  \\\n",
              "0               Left          4            4  85.0      92.0     91.0   \n",
              "1              Right          4            4  78.0      92.0     79.0   \n",
              "2              Right          4            5  87.0      94.0     80.0   \n",
              "3              Right          5            5  91.0      83.0     86.0   \n",
              "4              Right          5            4  76.0      86.0     93.0   \n",
              "...              ...        ...          ...   ...       ...      ...   \n",
              "17036          Right          3            2  58.0      35.0     46.0   \n",
              "17037          Right          3            2  59.0      39.0     50.0   \n",
              "17038          Right          3            2  60.0      37.0     45.0   \n",
              "17039          Right          3            2  68.0      46.0     36.0   \n",
              "17040          Right          3            2  68.0      38.0     45.0   \n",
              "\n",
              "       dribbling  defending  physic  attacking_finishing  \n",
              "0           95.0       34.0    65.0                   95  \n",
              "1           86.0       44.0    82.0                   95  \n",
              "2           88.0       34.0    75.0                   95  \n",
              "3           94.0       37.0    63.0                   83  \n",
              "4           88.0       64.0    78.0                   82  \n",
              "...          ...        ...     ...                  ...  \n",
              "17036       48.0       42.0    49.0                   32  \n",
              "17037       46.0       41.0    51.0                   33  \n",
              "17038       49.0       41.0    52.0                   32  \n",
              "17039       48.0       15.0    42.0                   49  \n",
              "17040       48.0       36.0    48.0                   32  \n",
              "\n",
              "[17041 rows x 16 columns]"
            ],
            "text/html": [
              "\n",
              "  <div id=\"df-85398510-cc7e-4537-b78b-70bbc9185af3\">\n",
              "    <div class=\"colab-df-container\">\n",
              "      <div>\n",
              "<style scoped>\n",
              "    .dataframe tbody tr th:only-of-type {\n",
              "        vertical-align: middle;\n",
              "    }\n",
              "\n",
              "    .dataframe tbody tr th {\n",
              "        vertical-align: top;\n",
              "    }\n",
              "\n",
              "    .dataframe thead th {\n",
              "        text-align: right;\n",
              "    }\n",
              "</style>\n",
              "<table border=\"1\" class=\"dataframe\">\n",
              "  <thead>\n",
              "    <tr style=\"text-align: right;\">\n",
              "      <th></th>\n",
              "      <th>value_eur</th>\n",
              "      <th>overall</th>\n",
              "      <th>potential</th>\n",
              "      <th>height_cm</th>\n",
              "      <th>weight_kg</th>\n",
              "      <th>player_positions</th>\n",
              "      <th>preferred_foot</th>\n",
              "      <th>weak_foot</th>\n",
              "      <th>skill_moves</th>\n",
              "      <th>pace</th>\n",
              "      <th>shooting</th>\n",
              "      <th>passing</th>\n",
              "      <th>dribbling</th>\n",
              "      <th>defending</th>\n",
              "      <th>physic</th>\n",
              "      <th>attacking_finishing</th>\n",
              "    </tr>\n",
              "  </thead>\n",
              "  <tbody>\n",
              "    <tr>\n",
              "      <th>0</th>\n",
              "      <td>78000000.0</td>\n",
              "      <td>93</td>\n",
              "      <td>93</td>\n",
              "      <td>170</td>\n",
              "      <td>72</td>\n",
              "      <td>RW, ST, CF</td>\n",
              "      <td>Left</td>\n",
              "      <td>4</td>\n",
              "      <td>4</td>\n",
              "      <td>85.0</td>\n",
              "      <td>92.0</td>\n",
              "      <td>91.0</td>\n",
              "      <td>95.0</td>\n",
              "      <td>34.0</td>\n",
              "      <td>65.0</td>\n",
              "      <td>95</td>\n",
              "    </tr>\n",
              "    <tr>\n",
              "      <th>1</th>\n",
              "      <td>119500000.0</td>\n",
              "      <td>92</td>\n",
              "      <td>92</td>\n",
              "      <td>185</td>\n",
              "      <td>81</td>\n",
              "      <td>ST</td>\n",
              "      <td>Right</td>\n",
              "      <td>4</td>\n",
              "      <td>4</td>\n",
              "      <td>78.0</td>\n",
              "      <td>92.0</td>\n",
              "      <td>79.0</td>\n",
              "      <td>86.0</td>\n",
              "      <td>44.0</td>\n",
              "      <td>82.0</td>\n",
              "      <td>95</td>\n",
              "    </tr>\n",
              "    <tr>\n",
              "      <th>2</th>\n",
              "      <td>45000000.0</td>\n",
              "      <td>91</td>\n",
              "      <td>91</td>\n",
              "      <td>187</td>\n",
              "      <td>83</td>\n",
              "      <td>ST, LW</td>\n",
              "      <td>Right</td>\n",
              "      <td>4</td>\n",
              "      <td>5</td>\n",
              "      <td>87.0</td>\n",
              "      <td>94.0</td>\n",
              "      <td>80.0</td>\n",
              "      <td>88.0</td>\n",
              "      <td>34.0</td>\n",
              "      <td>75.0</td>\n",
              "      <td>95</td>\n",
              "    </tr>\n",
              "    <tr>\n",
              "      <th>3</th>\n",
              "      <td>129000000.0</td>\n",
              "      <td>91</td>\n",
              "      <td>91</td>\n",
              "      <td>175</td>\n",
              "      <td>68</td>\n",
              "      <td>LW, CAM</td>\n",
              "      <td>Right</td>\n",
              "      <td>5</td>\n",
              "      <td>5</td>\n",
              "      <td>91.0</td>\n",
              "      <td>83.0</td>\n",
              "      <td>86.0</td>\n",
              "      <td>94.0</td>\n",
              "      <td>37.0</td>\n",
              "      <td>63.0</td>\n",
              "      <td>83</td>\n",
              "    </tr>\n",
              "    <tr>\n",
              "      <th>4</th>\n",
              "      <td>125500000.0</td>\n",
              "      <td>91</td>\n",
              "      <td>91</td>\n",
              "      <td>181</td>\n",
              "      <td>70</td>\n",
              "      <td>CM, CAM</td>\n",
              "      <td>Right</td>\n",
              "      <td>5</td>\n",
              "      <td>4</td>\n",
              "      <td>76.0</td>\n",
              "      <td>86.0</td>\n",
              "      <td>93.0</td>\n",
              "      <td>88.0</td>\n",
              "      <td>64.0</td>\n",
              "      <td>78.0</td>\n",
              "      <td>82</td>\n",
              "    </tr>\n",
              "    <tr>\n",
              "      <th>...</th>\n",
              "      <td>...</td>\n",
              "      <td>...</td>\n",
              "      <td>...</td>\n",
              "      <td>...</td>\n",
              "      <td>...</td>\n",
              "      <td>...</td>\n",
              "      <td>...</td>\n",
              "      <td>...</td>\n",
              "      <td>...</td>\n",
              "      <td>...</td>\n",
              "      <td>...</td>\n",
              "      <td>...</td>\n",
              "      <td>...</td>\n",
              "      <td>...</td>\n",
              "      <td>...</td>\n",
              "      <td>...</td>\n",
              "    </tr>\n",
              "    <tr>\n",
              "      <th>17036</th>\n",
              "      <td>70000.0</td>\n",
              "      <td>47</td>\n",
              "      <td>52</td>\n",
              "      <td>180</td>\n",
              "      <td>64</td>\n",
              "      <td>CDM</td>\n",
              "      <td>Right</td>\n",
              "      <td>3</td>\n",
              "      <td>2</td>\n",
              "      <td>58.0</td>\n",
              "      <td>35.0</td>\n",
              "      <td>46.0</td>\n",
              "      <td>48.0</td>\n",
              "      <td>42.0</td>\n",
              "      <td>49.0</td>\n",
              "      <td>32</td>\n",
              "    </tr>\n",
              "    <tr>\n",
              "      <th>17037</th>\n",
              "      <td>110000.0</td>\n",
              "      <td>47</td>\n",
              "      <td>59</td>\n",
              "      <td>175</td>\n",
              "      <td>70</td>\n",
              "      <td>CM</td>\n",
              "      <td>Right</td>\n",
              "      <td>3</td>\n",
              "      <td>2</td>\n",
              "      <td>59.0</td>\n",
              "      <td>39.0</td>\n",
              "      <td>50.0</td>\n",
              "      <td>46.0</td>\n",
              "      <td>41.0</td>\n",
              "      <td>51.0</td>\n",
              "      <td>33</td>\n",
              "    </tr>\n",
              "    <tr>\n",
              "      <th>17038</th>\n",
              "      <td>100000.0</td>\n",
              "      <td>47</td>\n",
              "      <td>55</td>\n",
              "      <td>178</td>\n",
              "      <td>72</td>\n",
              "      <td>CM</td>\n",
              "      <td>Right</td>\n",
              "      <td>3</td>\n",
              "      <td>2</td>\n",
              "      <td>60.0</td>\n",
              "      <td>37.0</td>\n",
              "      <td>45.0</td>\n",
              "      <td>49.0</td>\n",
              "      <td>41.0</td>\n",
              "      <td>52.0</td>\n",
              "      <td>32</td>\n",
              "    </tr>\n",
              "    <tr>\n",
              "      <th>17039</th>\n",
              "      <td>110000.0</td>\n",
              "      <td>47</td>\n",
              "      <td>60</td>\n",
              "      <td>173</td>\n",
              "      <td>66</td>\n",
              "      <td>ST</td>\n",
              "      <td>Right</td>\n",
              "      <td>3</td>\n",
              "      <td>2</td>\n",
              "      <td>68.0</td>\n",
              "      <td>46.0</td>\n",
              "      <td>36.0</td>\n",
              "      <td>48.0</td>\n",
              "      <td>15.0</td>\n",
              "      <td>42.0</td>\n",
              "      <td>49</td>\n",
              "    </tr>\n",
              "    <tr>\n",
              "      <th>17040</th>\n",
              "      <td>110000.0</td>\n",
              "      <td>47</td>\n",
              "      <td>60</td>\n",
              "      <td>167</td>\n",
              "      <td>61</td>\n",
              "      <td>CAM</td>\n",
              "      <td>Right</td>\n",
              "      <td>3</td>\n",
              "      <td>2</td>\n",
              "      <td>68.0</td>\n",
              "      <td>38.0</td>\n",
              "      <td>45.0</td>\n",
              "      <td>48.0</td>\n",
              "      <td>36.0</td>\n",
              "      <td>48.0</td>\n",
              "      <td>32</td>\n",
              "    </tr>\n",
              "  </tbody>\n",
              "</table>\n",
              "<p>17041 rows × 16 columns</p>\n",
              "</div>\n",
              "      <button class=\"colab-df-convert\" onclick=\"convertToInteractive('df-85398510-cc7e-4537-b78b-70bbc9185af3')\"\n",
              "              title=\"Convert this dataframe to an interactive table.\"\n",
              "              style=\"display:none;\">\n",
              "        \n",
              "  <svg xmlns=\"http://www.w3.org/2000/svg\" height=\"24px\"viewBox=\"0 0 24 24\"\n",
              "       width=\"24px\">\n",
              "    <path d=\"M0 0h24v24H0V0z\" fill=\"none\"/>\n",
              "    <path d=\"M18.56 5.44l.94 2.06.94-2.06 2.06-.94-2.06-.94-.94-2.06-.94 2.06-2.06.94zm-11 1L8.5 8.5l.94-2.06 2.06-.94-2.06-.94L8.5 2.5l-.94 2.06-2.06.94zm10 10l.94 2.06.94-2.06 2.06-.94-2.06-.94-.94-2.06-.94 2.06-2.06.94z\"/><path d=\"M17.41 7.96l-1.37-1.37c-.4-.4-.92-.59-1.43-.59-.52 0-1.04.2-1.43.59L10.3 9.45l-7.72 7.72c-.78.78-.78 2.05 0 2.83L4 21.41c.39.39.9.59 1.41.59.51 0 1.02-.2 1.41-.59l7.78-7.78 2.81-2.81c.8-.78.8-2.07 0-2.86zM5.41 20L4 18.59l7.72-7.72 1.47 1.35L5.41 20z\"/>\n",
              "  </svg>\n",
              "      </button>\n",
              "      \n",
              "  <style>\n",
              "    .colab-df-container {\n",
              "      display:flex;\n",
              "      flex-wrap:wrap;\n",
              "      gap: 12px;\n",
              "    }\n",
              "\n",
              "    .colab-df-convert {\n",
              "      background-color: #E8F0FE;\n",
              "      border: none;\n",
              "      border-radius: 50%;\n",
              "      cursor: pointer;\n",
              "      display: none;\n",
              "      fill: #1967D2;\n",
              "      height: 32px;\n",
              "      padding: 0 0 0 0;\n",
              "      width: 32px;\n",
              "    }\n",
              "\n",
              "    .colab-df-convert:hover {\n",
              "      background-color: #E2EBFA;\n",
              "      box-shadow: 0px 1px 2px rgba(60, 64, 67, 0.3), 0px 1px 3px 1px rgba(60, 64, 67, 0.15);\n",
              "      fill: #174EA6;\n",
              "    }\n",
              "\n",
              "    [theme=dark] .colab-df-convert {\n",
              "      background-color: #3B4455;\n",
              "      fill: #D2E3FC;\n",
              "    }\n",
              "\n",
              "    [theme=dark] .colab-df-convert:hover {\n",
              "      background-color: #434B5C;\n",
              "      box-shadow: 0px 1px 3px 1px rgba(0, 0, 0, 0.15);\n",
              "      filter: drop-shadow(0px 1px 2px rgba(0, 0, 0, 0.3));\n",
              "      fill: #FFFFFF;\n",
              "    }\n",
              "  </style>\n",
              "\n",
              "      <script>\n",
              "        const buttonEl =\n",
              "          document.querySelector('#df-85398510-cc7e-4537-b78b-70bbc9185af3 button.colab-df-convert');\n",
              "        buttonEl.style.display =\n",
              "          google.colab.kernel.accessAllowed ? 'block' : 'none';\n",
              "\n",
              "        async function convertToInteractive(key) {\n",
              "          const element = document.querySelector('#df-85398510-cc7e-4537-b78b-70bbc9185af3');\n",
              "          const dataTable =\n",
              "            await google.colab.kernel.invokeFunction('convertToInteractive',\n",
              "                                                     [key], {});\n",
              "          if (!dataTable) return;\n",
              "\n",
              "          const docLinkHtml = 'Like what you see? Visit the ' +\n",
              "            '<a target=\"_blank\" href=https://colab.research.google.com/notebooks/data_table.ipynb>data table notebook</a>'\n",
              "            + ' to learn more about interactive tables.';\n",
              "          element.innerHTML = '';\n",
              "          dataTable['output_type'] = 'display_data';\n",
              "          await google.colab.output.renderOutput(dataTable, element);\n",
              "          const docLink = document.createElement('div');\n",
              "          docLink.innerHTML = docLinkHtml;\n",
              "          element.appendChild(docLink);\n",
              "        }\n",
              "      </script>\n",
              "    </div>\n",
              "  </div>\n",
              "  "
            ]
          },
          "metadata": {},
          "execution_count": 19
        }
      ]
    },
    {
      "cell_type": "code",
      "source": [
        "df.drop_duplicates(keep=\"first\", inplace=True)"
      ],
      "metadata": {
        "id": "DPaw2LeSIzo1"
      },
      "execution_count": 20,
      "outputs": []
    },
    {
      "cell_type": "code",
      "source": [
        "df.shape[0] "
      ],
      "metadata": {
        "colab": {
          "base_uri": "https://localhost:8080/"
        },
        "id": "e8MfAFRyYl4J",
        "outputId": "9c566009-c4a4-4207-f90e-3865f7326ab4"
      },
      "execution_count": 21,
      "outputs": [
        {
          "output_type": "execute_result",
          "data": {
            "text/plain": [
              "17041"
            ]
          },
          "metadata": {},
          "execution_count": 21
        }
      ]
    },
    {
      "cell_type": "code",
      "source": [
        "df.value_eur.hist()"
      ],
      "metadata": {
        "colab": {
          "base_uri": "https://localhost:8080/",
          "height": 297
        },
        "id": "P2iaTrzApXv3",
        "outputId": "44fdd490-aa29-4106-893d-b32512eb39dc"
      },
      "execution_count": 22,
      "outputs": [
        {
          "output_type": "execute_result",
          "data": {
            "text/plain": [
              "<matplotlib.axes._subplots.AxesSubplot at 0x7f5959beb510>"
            ]
          },
          "metadata": {},
          "execution_count": 22
        },
        {
          "output_type": "display_data",
          "data": {
            "text/plain": [
              "<Figure size 432x288 with 1 Axes>"
            ],
            "image/png": "[encoded data removed]"
          },
          "metadata": {
            "needs_background": "light"
          }
        }
      ]
    },
    {
      "cell_type": "code",
      "source": [
        "fig = plt.figure(figsize = (10,12))\n",
        "ax = fig.gca()\n",
        "df.hist(ax = ax, column=[\"overall\", \"potential\", \"pace\", \"shooting\", ], grid=False)\n",
        "# df.hist(column=[\"overall\", \"potential\", \"pace\", \"shooting\", \"passing\"])"
      ],
      "metadata": {
        "colab": {
          "base_uri": "https://localhost:8080/",
          "height": 810
        },
        "id": "vNIHeKOQdjJQ",
        "outputId": "f91cac0a-1b5d-472f-bad9-854dfad94c42"
      },
      "execution_count": 23,
      "outputs": [
        {
          "output_type": "execute_result",
          "data": {
            "text/plain": [
              "array([[<matplotlib.axes._subplots.AxesSubplot object at 0x7f5956480410>,\n",
              "        <matplotlib.axes._subplots.AxesSubplot object at 0x7f5956443250>],\n",
              "       [<matplotlib.axes._subplots.AxesSubplot object at 0x7f5956469750>,\n",
              "        <matplotlib.axes._subplots.AxesSubplot object at 0x7f5956416c50>]],\n",
              "      dtype=object)"
            ]
          },
          "metadata": {},
          "execution_count": 23
        },
        {
          "output_type": "display_data",
          "data": {
            "text/plain": [
              "<Figure size 720x864 with 4 Axes>"
            ],
            "image/png": "[encoded data removed]"
          },
          "metadata": {
            "needs_background": "light"
          }
        }
      ]
    },
    {
      "cell_type": "code",
      "source": [
        "fig = plt.figure(figsize = (10,12))\n",
        "ax = fig.gca()\n",
        "df.hist(ax=ax, column = ['passing','dribbling','defending','physic',\n",
        "         'attacking_finishing','height_cm','weight_kg'], grid=False)"
      ],
      "metadata": {
        "colab": {
          "base_uri": "https://localhost:8080/",
          "height": 904
        },
        "id": "JcjzysOti9Ey",
        "outputId": "6db6de92-9732-4552-fa85-2a1e9b5f1afd"
      },
      "execution_count": 24,
      "outputs": [
        {
          "output_type": "execute_result",
          "data": {
            "text/plain": [
              "array([[<matplotlib.axes._subplots.AxesSubplot object at 0x7f59562cf210>,\n",
              "        <matplotlib.axes._subplots.AxesSubplot object at 0x7f595624ae50>,\n",
              "        <matplotlib.axes._subplots.AxesSubplot object at 0x7f595620e390>],\n",
              "       [<matplotlib.axes._subplots.AxesSubplot object at 0x7f59561c5890>,\n",
              "        <matplotlib.axes._subplots.AxesSubplot object at 0x7f5956179d90>,\n",
              "        <matplotlib.axes._subplots.AxesSubplot object at 0x7f5956135990>],\n",
              "       [<matplotlib.axes._subplots.AxesSubplot object at 0x7f595616bf10>,\n",
              "        <matplotlib.axes._subplots.AxesSubplot object at 0x7f595612e390>,\n",
              "        <matplotlib.axes._subplots.AxesSubplot object at 0x7f595612e3d0>]],\n",
              "      dtype=object)"
            ]
          },
          "metadata": {},
          "execution_count": 24
        },
        {
          "output_type": "display_data",
          "data": {
            "text/plain": [
              "<Figure size 720x864 with 9 Axes>"
            ],
            "image/png": "[encoded data removed]"
          },
          "metadata": {
            "needs_background": "light"
          }
        }
      ]
    },
    {
      "cell_type": "code",
      "source": [
        "df.head()"
      ],
      "metadata": {
        "id": "XCFLeUZCErR9",
        "colab": {
          "base_uri": "https://localhost:8080/",
          "height": 207
        },
        "outputId": "34885810-5283-443f-bfa8-86074adfbab6"
      },
      "execution_count": 25,
      "outputs": [
        {
          "output_type": "execute_result",
          "data": {
            "text/plain": [
              "     value_eur  overall  potential  height_cm  weight_kg player_positions  \\\n",
              "0   78000000.0       93         93        170         72       RW, ST, CF   \n",
              "1  119500000.0       92         92        185         81               ST   \n",
              "2   45000000.0       91         91        187         83           ST, LW   \n",
              "3  129000000.0       91         91        175         68          LW, CAM   \n",
              "4  125500000.0       91         91        181         70          CM, CAM   \n",
              "\n",
              "  preferred_foot  weak_foot  skill_moves  pace  shooting  passing  dribbling  \\\n",
              "0           Left          4            4  85.0      92.0     91.0       95.0   \n",
              "1          Right          4            4  78.0      92.0     79.0       86.0   \n",
              "2          Right          4            5  87.0      94.0     80.0       88.0   \n",
              "3          Right          5            5  91.0      83.0     86.0       94.0   \n",
              "4          Right          5            4  76.0      86.0     93.0       88.0   \n",
              "\n",
              "   defending  physic  attacking_finishing  \n",
              "0       34.0    65.0                   95  \n",
              "1       44.0    82.0                   95  \n",
              "2       34.0    75.0                   95  \n",
              "3       37.0    63.0                   83  \n",
              "4       64.0    78.0                   82  "
            ],
            "text/html": [
              "\n",
              "  <div id=\"df-e6b945b8-0e65-4adb-ade1-f56505a3292f\">\n",
              "    <div class=\"colab-df-container\">\n",
              "      <div>\n",
              "<style scoped>\n",
              "    .dataframe tbody tr th:only-of-type {\n",
              "        vertical-align: middle;\n",
              "    }\n",
              "\n",
              "    .dataframe tbody tr th {\n",
              "        vertical-align: top;\n",
              "    }\n",
              "\n",
              "    .dataframe thead th {\n",
              "        text-align: right;\n",
              "    }\n",
              "</style>\n",
              "<table border=\"1\" class=\"dataframe\">\n",
              "  <thead>\n",
              "    <tr style=\"text-align: right;\">\n",
              "      <th></th>\n",
              "      <th>value_eur</th>\n",
              "      <th>overall</th>\n",
              "      <th>potential</th>\n",
              "      <th>height_cm</th>\n",
              "      <th>weight_kg</th>\n",
              "      <th>player_positions</th>\n",
              "      <th>preferred_foot</th>\n",
              "      <th>weak_foot</th>\n",
              "      <th>skill_moves</th>\n",
              "      <th>pace</th>\n",
              "      <th>shooting</th>\n",
              "      <th>passing</th>\n",
              "      <th>dribbling</th>\n",
              "      <th>defending</th>\n",
              "      <th>physic</th>\n",
              "      <th>attacking_finishing</th>\n",
              "    </tr>\n",
              "  </thead>\n",
              "  <tbody>\n",
              "    <tr>\n",
              "      <th>0</th>\n",
              "      <td>78000000.0</td>\n",
              "      <td>93</td>\n",
              "      <td>93</td>\n",
              "      <td>170</td>\n",
              "      <td>72</td>\n",
              "      <td>RW, ST, CF</td>\n",
              "      <td>Left</td>\n",
              "      <td>4</td>\n",
              "      <td>4</td>\n",
              "      <td>85.0</td>\n",
              "      <td>92.0</td>\n",
              "      <td>91.0</td>\n",
              "      <td>95.0</td>\n",
              "      <td>34.0</td>\n",
              "      <td>65.0</td>\n",
              "      <td>95</td>\n",
              "    </tr>\n",
              "    <tr>\n",
              "      <th>1</th>\n",
              "      <td>119500000.0</td>\n",
              "      <td>92</td>\n",
              "      <td>92</td>\n",
              "      <td>185</td>\n",
              "      <td>81</td>\n",
              "      <td>ST</td>\n",
              "      <td>Right</td>\n",
              "      <td>4</td>\n",
              "      <td>4</td>\n",
              "      <td>78.0</td>\n",
              "      <td>92.0</td>\n",
              "      <td>79.0</td>\n",
              "      <td>86.0</td>\n",
              "      <td>44.0</td>\n",
              "      <td>82.0</td>\n",
              "      <td>95</td>\n",
              "    </tr>\n",
              "    <tr>\n",
              "      <th>2</th>\n",
              "      <td>45000000.0</td>\n",
              "      <td>91</td>\n",
              "      <td>91</td>\n",
              "      <td>187</td>\n",
              "      <td>83</td>\n",
              "      <td>ST, LW</td>\n",
              "      <td>Right</td>\n",
              "      <td>4</td>\n",
              "      <td>5</td>\n",
              "      <td>87.0</td>\n",
              "      <td>94.0</td>\n",
              "      <td>80.0</td>\n",
              "      <td>88.0</td>\n",
              "      <td>34.0</td>\n",
              "      <td>75.0</td>\n",
              "      <td>95</td>\n",
              "    </tr>\n",
              "    <tr>\n",
              "      <th>3</th>\n",
              "      <td>129000000.0</td>\n",
              "      <td>91</td>\n",
              "      <td>91</td>\n",
              "      <td>175</td>\n",
              "      <td>68</td>\n",
              "      <td>LW, CAM</td>\n",
              "      <td>Right</td>\n",
              "      <td>5</td>\n",
              "      <td>5</td>\n",
              "      <td>91.0</td>\n",
              "      <td>83.0</td>\n",
              "      <td>86.0</td>\n",
              "      <td>94.0</td>\n",
              "      <td>37.0</td>\n",
              "      <td>63.0</td>\n",
              "      <td>83</td>\n",
              "    </tr>\n",
              "    <tr>\n",
              "      <th>4</th>\n",
              "      <td>125500000.0</td>\n",
              "      <td>91</td>\n",
              "      <td>91</td>\n",
              "      <td>181</td>\n",
              "      <td>70</td>\n",
              "      <td>CM, CAM</td>\n",
              "      <td>Right</td>\n",
              "      <td>5</td>\n",
              "      <td>4</td>\n",
              "      <td>76.0</td>\n",
              "      <td>86.0</td>\n",
              "      <td>93.0</td>\n",
              "      <td>88.0</td>\n",
              "      <td>64.0</td>\n",
              "      <td>78.0</td>\n",
              "      <td>82</td>\n",
              "    </tr>\n",
              "  </tbody>\n",
              "</table>\n",
              "</div>\n",
              "      <button class=\"colab-df-convert\" onclick=\"convertToInteractive('df-e6b945b8-0e65-4adb-ade1-f56505a3292f')\"\n",
              "              title=\"Convert this dataframe to an interactive table.\"\n",
              "              style=\"display:none;\">\n",
              "        \n",
              "  <svg xmlns=\"http://www.w3.org/2000/svg\" height=\"24px\"viewBox=\"0 0 24 24\"\n",
              "       width=\"24px\">\n",
              "    <path d=\"M0 0h24v24H0V0z\" fill=\"none\"/>\n",
              "    <path d=\"M18.56 5.44l.94 2.06.94-2.06 2.06-.94-2.06-.94-.94-2.06-.94 2.06-2.06.94zm-11 1L8.5 8.5l.94-2.06 2.06-.94-2.06-.94L8.5 2.5l-.94 2.06-2.06.94zm10 10l.94 2.06.94-2.06 2.06-.94-2.06-.94-.94-2.06-.94 2.06-2.06.94z\"/><path d=\"M17.41 7.96l-1.37-1.37c-.4-.4-.92-.59-1.43-.59-.52 0-1.04.2-1.43.59L10.3 9.45l-7.72 7.72c-.78.78-.78 2.05 0 2.83L4 21.41c.39.39.9.59 1.41.59.51 0 1.02-.2 1.41-.59l7.78-7.78 2.81-2.81c.8-.78.8-2.07 0-2.86zM5.41 20L4 18.59l7.72-7.72 1.47 1.35L5.41 20z\"/>\n",
              "  </svg>\n",
              "      </button>\n",
              "      \n",
              "  <style>\n",
              "    .colab-df-container {\n",
              "      display:flex;\n",
              "      flex-wrap:wrap;\n",
              "      gap: 12px;\n",
              "    }\n",
              "\n",
              "    .colab-df-convert {\n",
              "      background-color: #E8F0FE;\n",
              "      border: none;\n",
              "      border-radius: 50%;\n",
              "      cursor: pointer;\n",
              "      display: none;\n",
              "      fill: #1967D2;\n",
              "      height: 32px;\n",
              "      padding: 0 0 0 0;\n",
              "      width: 32px;\n",
              "    }\n",
              "\n",
              "    .colab-df-convert:hover {\n",
              "      background-color: #E2EBFA;\n",
              "      box-shadow: 0px 1px 2px rgba(60, 64, 67, 0.3), 0px 1px 3px 1px rgba(60, 64, 67, 0.15);\n",
              "      fill: #174EA6;\n",
              "    }\n",
              "\n",
              "    [theme=dark] .colab-df-convert {\n",
              "      background-color: #3B4455;\n",
              "      fill: #D2E3FC;\n",
              "    }\n",
              "\n",
              "    [theme=dark] .colab-df-convert:hover {\n",
              "      background-color: #434B5C;\n",
              "      box-shadow: 0px 1px 3px 1px rgba(0, 0, 0, 0.15);\n",
              "      filter: drop-shadow(0px 1px 2px rgba(0, 0, 0, 0.3));\n",
              "      fill: #FFFFFF;\n",
              "    }\n",
              "  </style>\n",
              "\n",
              "      <script>\n",
              "        const buttonEl =\n",
              "          document.querySelector('#df-e6b945b8-0e65-4adb-ade1-f56505a3292f button.colab-df-convert');\n",
              "        buttonEl.style.display =\n",
              "          google.colab.kernel.accessAllowed ? 'block' : 'none';\n",
              "\n",
              "        async function convertToInteractive(key) {\n",
              "          const element = document.querySelector('#df-e6b945b8-0e65-4adb-ade1-f56505a3292f');\n",
              "          const dataTable =\n",
              "            await google.colab.kernel.invokeFunction('convertToInteractive',\n",
              "                                                     [key], {});\n",
              "          if (!dataTable) return;\n",
              "\n",
              "          const docLinkHtml = 'Like what you see? Visit the ' +\n",
              "            '<a target=\"_blank\" href=https://colab.research.google.com/notebooks/data_table.ipynb>data table notebook</a>'\n",
              "            + ' to learn more about interactive tables.';\n",
              "          element.innerHTML = '';\n",
              "          dataTable['output_type'] = 'display_data';\n",
              "          await google.colab.output.renderOutput(dataTable, element);\n",
              "          const docLink = document.createElement('div');\n",
              "          docLink.innerHTML = docLinkHtml;\n",
              "          element.appendChild(docLink);\n",
              "        }\n",
              "      </script>\n",
              "    </div>\n",
              "  </div>\n",
              "  "
            ]
          },
          "metadata": {},
          "execution_count": 25
        }
      ]
    },
    {
      "cell_type": "code",
      "source": [
        "# position attributes are textual data, so they should be converted to numerical data\n",
        "df['player_positions'].unique()"
      ],
      "metadata": {
        "id": "qXF2hfurYXU0",
        "colab": {
          "base_uri": "https://localhost:8080/"
        },
        "outputId": "305430dd-bc73-4775-f658-dc0c36092b34"
      },
      "execution_count": 26,
      "outputs": [
        {
          "output_type": "execute_result",
          "data": {
            "text/plain": [
              "array(['RW, ST, CF', 'ST', 'ST, LW', 'LW, CAM', 'CM, CAM', 'CDM, CM',\n",
              "       'CF, ST', 'LM, CF, LW', 'CDM', 'CB', 'LW', 'RW', 'CDM, RB', 'CM',\n",
              "       'LW, RW', 'CAM', 'RW, LW', 'CAM, RM, RW', 'CM, LM', 'CB, CDM',\n",
              "       'CM, CDM', 'CF, CAM', 'LB', 'CM, CDM, CB', 'RB', 'RM, CF, LM',\n",
              "       'LB, LM', 'LW, CF', 'RW, RM', 'ST, RM, RW', 'CDM, CB', 'RB, LB',\n",
              "       'LM, RM, LW', 'CAM, CM, RW', 'CM, RM, ST', 'CAM, CF, CM',\n",
              "       'CAM, CM', 'CAM, CF', 'ST, LW, LM', 'ST, LW, RW', 'CF',\n",
              "       'CF, LW, CAM', 'RM, LM, RW', 'CM, CDM, CAM', 'LM, ST', 'RB, RWB',\n",
              "       'RB, RM', 'CF, ST, CAM', 'RB, RWB, RM', 'ST, RW', 'CB, LB',\n",
              "       'CAM, CM, CF', 'LW, CF, CAM', 'LW, LM, CAM', 'LM, LWB', 'RW, CAM',\n",
              "       'CAM, RM, ST', 'RM, LM', 'CAM, LW, CM', 'RW, LW, CAM', 'CB, RWB',\n",
              "       'CM, CAM, CDM', 'CAM, RM, LM', 'CM, CDM, LM', 'CF, RM, RW',\n",
              "       'ST, CF', 'LWB, LB, LM', 'LB, LWB, LM', 'LM, CM, RM', 'ST, RM',\n",
              "       'ST, CAM', 'LWB, LM', 'LB, CB', 'CAM, RM', 'RW, LW, RM', 'RM, RW',\n",
              "       'CAM, ST', 'CAM, CM, LW', 'CB, CDM, LB', 'RM, RB, RW',\n",
              "       'CF, LM, ST', 'CM, LM, RM', 'LM, CF', 'RW, RM, LW', 'CAM, LM',\n",
              "       'CM, CB, CDM', 'LB, LM, LWB', 'CB, RB', 'CM, CF', 'LW, ST',\n",
              "       'LW, RW, LM', 'RM, RW, LW', 'LWB, LB', 'CAM, CM, CDM', 'RW, ST',\n",
              "       'LW, LM', 'LM, LW, LWB', 'CM, RM', 'RW, CAM, CM', 'RB, LB, CB',\n",
              "       'RB, CM, RM', 'CB, RB, LB', 'RM, CF', 'RW, RB, RM', 'LM, RM, CM',\n",
              "       'LM, RM, ST', 'ST, LM', 'RWB, RB, RM', 'CDM, CM, CB', 'LM, ST, CF',\n",
              "       'CDM, CM, RB', 'RWB, CB, RM', 'CDM, CM, CAM', 'CF, CM',\n",
              "       'CM, RM, LM', 'LM, LW', 'RWB', 'RWB, RB', 'LM, LB', 'RW, CM',\n",
              "       'RW, CF', 'RB, RM, CM', 'CM, CAM, LM', 'CM, CDM, RM', 'CM, LM, CF',\n",
              "       'CAM, LW, RW', 'CAM, LW', 'LWB, RWB', 'RM, LM, ST', 'CB, RB, RWB',\n",
              "       'LM, CAM', 'LM', 'LM, LW, RM', 'LB, CB, LWB', 'LB, CDM',\n",
              "       'CAM, LM, LW', 'RM, RB, CM', 'RWB, RM', 'RM', 'RM, LM, LB',\n",
              "       'CM, LB, RB', 'CF, LW', 'RM, RWB', 'CAM, RW', 'ST, RW, CAM',\n",
              "       'CAM, ST, CM', 'LM, RM', 'LM, ST, RM', 'RB, RM, LB', 'CAM, LM, RM',\n",
              "       'RWB, RM, LM', 'LW, RW, ST', 'RWB, LWB, CB', 'CM, CAM, CF',\n",
              "       'LM, RM, CAM', 'RB, CB', 'CB, CM, CDM', 'RM, ST', 'LM, CM',\n",
              "       'LB, LWB', 'CB, LB, CDM', 'CAM, LM, ST', 'RM, CAM', 'CDM, CM, LM',\n",
              "       'RWB, LWB, RB', 'CF, RW', 'LB, RB', 'CM, LM, LW', 'CAM, CF, LM',\n",
              "       'RM, LM, CM', 'CDM, CB, CM', 'CB, CM', 'CDM, LB', 'CDM, CM, RM',\n",
              "       'RW, RWB', 'LB, LWB, CB', 'RM, RB', 'LW, RW, CAM', 'CAM, CM, RM',\n",
              "       'CAM, LW, LM', 'RW, RM, ST', 'CM, CAM, LW', 'CAM, LM, CM',\n",
              "       'LM, ST, CAM', 'RM, LM, LW', 'ST, RW, LW', 'ST, LW, CAM',\n",
              "       'RM, CM, CAM', 'CAM, CM, LM', 'RB, RM, RW', 'RWB, RM, RB',\n",
              "       'RM, RWB, CM', 'RM, CM', 'RB, RM, LM', 'CAM, ST, LW', 'LM, LW, ST',\n",
              "       'CM, LW', 'RB, RWB, LB', 'CM, CB', 'RM, LW', 'LB, RB, LM',\n",
              "       'CF, CAM, LM', 'LM, CF, RM', 'RM, RW, CM', 'CM, ST, LM',\n",
              "       'CF, LM, RM', 'LB, RB, CB', 'LB, LM, CAM', 'LM, CAM, ST',\n",
              "       'CDM, RWB', 'RWB, RW', 'LM, RW', 'LW, ST, LM', 'LM, RM, CF',\n",
              "       'ST, LM, CAM', 'RM, RW, CF', 'CM, RM, CDM', 'CDM, RB, CB',\n",
              "       'RM, CAM, RW', 'CB, LB, LM', 'LW, LM, CF', 'CM, CDM, RB',\n",
              "       'CM, RM, CAM', 'RM, RW, ST', 'LM, LW, CM', 'CAM, LW, ST',\n",
              "       'RB, RM, RWB', 'LWB, LB, RB', 'RM, CAM, ST', 'LB, LW',\n",
              "       'RM, LW, CAM', 'CB, RB, CDM', 'LM, RW, LW', 'LM, CAM, RM',\n",
              "       'LWB, LB, CB', 'RB, LB, RM', 'LM, CAM, CM', 'RM, LM, CAM',\n",
              "       'RM, LW, LM', 'RM, CM, ST', 'LW, LM, ST', 'RB, CB, CDM',\n",
              "       'LW, ST, RW', 'ST, LM, RM', 'CF, CAM, ST', 'CDM, CAM, CM',\n",
              "       'CB, LB, RM', 'CM, CAM, RW', 'CDM, CM, LB', 'RM, CM, RW', 'RB, CM',\n",
              "       'LW, CF, ST', 'LM, CM, LWB', 'RM, LB, RB', 'LM, ST, LW',\n",
              "       'CAM, CDM, LM', 'CB, LB, RB', 'CAM, CF, ST', 'RW, CAM, CF',\n",
              "       'LW, CAM, ST', 'LWB, RW, RM', 'ST, LM, CM', 'RM, CM, LB',\n",
              "       'RW, CAM, LW', 'CF, LW, ST', 'RW, RM, CM', 'RM, LWB, LB', 'LB, CM',\n",
              "       'RW, CAM, LM', 'RM, ST, LM', 'ST, RM, LM', 'CM, CF, CAM',\n",
              "       'RM, RB, RWB', 'CDM, RB, RWB', 'LB, LM, LW', 'RM, RW, LM',\n",
              "       'RW, ST, LM', 'CDM, RM', 'ST, LM, LW', 'RB, CDM', 'LW, RM, RW',\n",
              "       'CM, RW, LW', 'LWB, LM, LB', 'CAM, RM, CM', 'LB, LM, CM',\n",
              "       'LM, ST, CM', 'RW, LW, CF', 'LWB', 'CB, CDM, CM', 'CF, LM, CAM',\n",
              "       'RM, RW, CAM', 'CAM, CDM', 'LB, CM, LM', 'LW, LM, RW',\n",
              "       'RW, ST, RM', 'CB, RB, RM', 'LM, RM, RW', 'ST, CAM, CDM',\n",
              "       'CF, RW, ST', 'CAM, ST, LM', 'LWB, LB, LW', 'RW, LW, ST',\n",
              "       'ST, CAM, LM', 'LB, CAM, LM', 'RW, RM, CAM', 'RW, CAM, RM',\n",
              "       'RB, CB, LB', 'RM, CAM, LM', 'RM, ST, RWB', 'LM, CM, CAM',\n",
              "       'ST, CAM, RM', 'CM, CAM, RM', 'RW, LM', 'CF, LM', 'RB, RWB, CB',\n",
              "       'LB, CM, RB', 'RB, CB, RWB', 'RB, RWB, LWB', 'LB, LWB, RB',\n",
              "       'LWB, CB, LB', 'CAM, CM, ST', 'LM, LB, LWB', 'CAM, ST, CF',\n",
              "       'LM, CAM, LW', 'CM, CF, RM', 'LW, LM, LWB', 'LM, LW, CAM',\n",
              "       'CAM, CDM, CM', 'ST, RM, CAM', 'CM, CAM, RWB', 'RB, CB, RM',\n",
              "       'RM, ST, RW', 'LM, CF, CAM', 'CM, LB', 'LB, LM, CB', 'RM, LM, CF',\n",
              "       'ST, CF, CAM', 'RM, RWB, CAM', 'RM, CM, LM', 'CDM, CAM, RB',\n",
              "       'LB, LWB, LW', 'CAM, RW, CM', 'ST, CAM, CM', 'CAM, CF, RM',\n",
              "       'CAM, CF, LW', 'ST, LW, CF', 'CAM, RW, LW', 'RWB, RB, LWB',\n",
              "       'ST, CF, LW', 'LWB, CB', 'RM, RB, LM', 'RB, RW', 'RWB, RM, LWB',\n",
              "       'LM, CAM, CF', 'RM, LM, RB', 'LWB, CM', 'LM, RM, LWB',\n",
              "       'CAM, ST, RW', 'RM, RB, ST', 'CF, ST, LM', 'LW, LWB, RWB',\n",
              "       'CM, LW, RW', 'RM, ST, CM', 'LM, LB, LW', 'LW, CM, CAM',\n",
              "       'LM, LW, RW', 'CAM, RM, RB', 'CDM, RB, RM', 'CAM, CM, RWB',\n",
              "       'RM, CAM, CM', 'CF, RM, CAM', 'CDM, RM, CM', 'ST, CAM, LW',\n",
              "       'CDM, CM, ST', 'CM, RW', 'LW, CAM, RW', 'LB, CDM, CB',\n",
              "       'RWB, RB, CB', 'CM, LM, LWB', 'ST, RW, RM', 'RM, RWB, ST',\n",
              "       'LWB, CM, RW', 'LB, LM, RB', 'LM, ST, LB', 'RWB, RB, LB',\n",
              "       'RB, CDM, LB', 'CF, RM, ST', 'LM, LB, RM', 'RB, LB, RWB',\n",
              "       'CAM, LM, RW', 'CAM, ST, RM', 'LM, CM, CDM', 'CM, RM, RB',\n",
              "       'CF, LM, CM', 'CM, RB', 'CAM, RW, ST', 'CAM, LM, CF', 'LW, LM, LB',\n",
              "       'LB, LW, LM', 'CB, RM', 'CF, RM', 'CDM, CAM', 'LB, LWB, CDM',\n",
              "       'RM, RB, LB', 'RWB, RB, CM', 'RM, LWB', 'LM, LB, CAM',\n",
              "       'LM, LWB, LW', 'LB, CB, RM', 'LB, RB, RWB', 'RB, CM, RWB',\n",
              "       'LM, RM, LB', 'ST, CAM, CF', 'CM, LM, CAM', 'RB, LM', 'RW, ST, LW',\n",
              "       'CB, CDM, RB', 'CAM, RB', 'LB, CM, CDM', 'CF, ST, LW',\n",
              "       'CM, CDM, LB', 'LWB, LW, LM', 'CAM, LW, CF', 'CDM, LM',\n",
              "       'LB, RB, LW', 'LB, CB, LM', 'CDM, CAM, LM', 'RB, LM, RM',\n",
              "       'CM, LM, CDM', 'RB, LB, LM', 'CDM, RB, CM', 'CDM, LB, CB',\n",
              "       'RW, LW, LM', 'CB, LB, LWB', 'LB, LM, CDM', 'LW, CM',\n",
              "       'CDM, CB, RB', 'CM, CAM, ST', 'RB, CDM, CB', 'CB, LWB, LB',\n",
              "       'CB, LB, CM', 'ST, CM, RW', 'LW, LM, RM', 'RW, LW, CM',\n",
              "       'RW, RM, CF', 'CM, LM, LB', 'RB, LB, CDM', 'RM, LM, RWB',\n",
              "       'ST, CF, RW', 'RB, CM, CAM', 'CM, CF, ST', 'LM, RW, RM',\n",
              "       'CM, LM, ST', 'LB, CB, RB', 'RB, RWB, CM', 'RB, CDM, CM',\n",
              "       'LWB, LW', 'CM, CAM, CB', 'RM, ST, CAM', 'CM, CDM, ST',\n",
              "       'RB, RM, CB', 'CAM, CF, RW', 'RM, CB', 'LW, RM, LM', 'CF, CAM, LW',\n",
              "       'LM, CM, CF', 'CM, RWB, RW', 'LM, LB, RB', 'ST, RM, CF',\n",
              "       'RM, LM, CDM', 'RM, RWB, RB', 'CM, CDM, LW', 'LW, LWB, LM',\n",
              "       'LB, RB, RM', 'CM, LW, CDM', 'RB, RWB, CDM', 'LB, ST, CAM',\n",
              "       'CM, RB, LB', 'CM, RB, CDM', 'LM, CF, ST', 'CAM, RW, CF',\n",
              "       'CB, CAM', 'LM, LW, CF', 'RM, ST, RB', 'LW, RW, RM', 'CB, RWB, RB',\n",
              "       'LWB, LB, RWB', 'RWB, LWB', 'CF, CM, ST', 'RW, LM, RM',\n",
              "       'RM, RW, RWB', 'CAM, CDM, ST', 'LB, LM, RM', 'LM, RWB',\n",
              "       'LB, CDM, LM', 'RB, RWB, RW', 'LB, LWB, CM', 'CDM, RWB, CB',\n",
              "       'ST, CAM, RW', 'RW, RB', 'ST, CF, RM', 'RM, CF, ST', 'LM, LWB, ST',\n",
              "       'LB, RM', 'CM, CDM, CF', 'LM, LWB, RM', 'CM, CDM, LWB',\n",
              "       'LM, LWB, LB', 'RW, ST, CAM', 'LM, CAM, LWB', 'LM, RW, ST',\n",
              "       'RWB, RM, CDM', 'LM, CM, ST', 'LM, ST, RW', 'CM, CB, CF',\n",
              "       'LWB, LM, CB', 'CAM, CDM, RM', 'CF, ST, RW', 'RWB, CB',\n",
              "       'RW, RM, RB', 'RW, LWB, RWB', 'CM, LW, ST', 'RW, CAM, ST',\n",
              "       'CDM, LM, CM', 'LM, CAM, LB', 'CF, CM, CDM', 'CF, RM, LM',\n",
              "       'ST, LW, RM', 'CB, RWB, RM', 'LB, CM, ST', 'RWB, LWB, CM',\n",
              "       'RM, CF, RB', 'CF, CAM, CM', 'LB, RM, LM', 'CDM, LB, RB',\n",
              "       'RB, CB, ST', 'LM, CM, LW', 'CF, CAM, RM', 'LB, CB, CDM',\n",
              "       'CM, LW, CAM', 'RB, CB, LM', 'CM, RB, RW', 'CB, LWB',\n",
              "       'CM, LWB, CDM', 'RB, CDM, RM', 'CB, LWB, LM', 'LW, CAM, CM',\n",
              "       'RB, CM, CDM', 'LW, LM, CM', 'LM, LB, CM', 'RW, RM, LM',\n",
              "       'LB, RB, CM', 'CB, CM, RB', 'RB, LB, LWB', 'LB, LW, CM',\n",
              "       'CDM, RB, LB', 'CM, CAM, LB', 'CM, ST, CDM', 'LW, RM, CM',\n",
              "       'RB, RW, LW', 'RM, ST, LW', 'RM, LW, RW', 'RW, LM, ST',\n",
              "       'CB, RB, LM', 'CM, RM, RW', 'LW, LB, LM', 'LM, RB', 'RM, CAM, CF',\n",
              "       'LM, ST, LWB', 'RB, ST', 'RM, ST, LB', 'LM, LB, CB', 'CB, LM, RM',\n",
              "       'LB, LM, CF', 'RW, CAM, LB', 'CAM, RM, CF', 'CDM, CAM, RM',\n",
              "       'RW, CF, CAM', 'LM, RB, LW', 'RM, RW, RB', 'LM, RB, RM', 'CB, ST',\n",
              "       'CB, RB, CM', 'CM, CF, LM', 'CM, LB, CDM', 'CAM, RM, RWB',\n",
              "       'RM, CAM, CB', 'LW, LB', 'RB, CAM, RM', 'RB, LW, RWB',\n",
              "       'RB, RM, CAM', 'RM, RW, CDM', 'ST, CB', 'CAM, RWB, CM',\n",
              "       'RM, CDM, RB', 'CM, RWB', 'LB, RB, CDM', 'CM, RB, RM', 'LW, LWB',\n",
              "       'LM, RB, CM', 'LM, CDM', 'RWB, CB, RB', 'RWB, CM', 'CM, RW, CAM',\n",
              "       'RWB, LW, RW', 'LM, RM, RWB', 'LM, CDM, CM', 'RB, CB, CM',\n",
              "       'CDM, CB, RM', 'LW, RM, ST', 'ST, RW, LM', 'RM, CDM, RWB',\n",
              "       'CDM, CB, LB', 'CAM, ST, CDM', 'CAM, RW, RM', 'LM, CM, RW',\n",
              "       'LB, ST', 'CM, CF, CDM', 'LW, RM', 'LW, RW, LB', 'LB, RM, CM',\n",
              "       'CB, CF', 'RW, CF, RM', 'RWB, RB, ST', 'CAM, CM, LWB',\n",
              "       'ST, LM, LB', 'LWB, ST', 'LWB, LM, RM', 'CDM, CM, RWB',\n",
              "       'RWB, CM, LWB', 'LWB, RWB, LW', 'CDM, LB, LM', 'RM, CM, CDM',\n",
              "       'RW, RM, LWB', 'LM, LWB, CF', 'LW, RW, RB', 'CF, RM, CM',\n",
              "       'LM, CM, LB', 'RM, CM, RWB', 'CM, ST', 'RM, RWB, RW', 'LM, LW, LB',\n",
              "       'RB, CAM', 'LWB, CAM', 'RWB, CDM', 'CAM, LW, LB', 'LW, CF, RW',\n",
              "       'LM, RM, RB', 'RW, LB', 'CB, LM', 'LW, RW, CM', 'LW, CAM, CF',\n",
              "       'CB, RM, RB', 'CB, LB, RWB', 'RM, LM, LWB', 'LB, CAM, CM',\n",
              "       'RWB, LWB, RW', 'CM, LWB', 'LB, LW, RW', 'CM, LM, RB',\n",
              "       'CB, LWB, RWB', 'CF, RW, LW', 'CM, RW, RM', 'RM, CAM, RWB',\n",
              "       'RM, ST, CF', 'CM, LW, LB', 'LW, LWB, RB', 'LW, RW, CF',\n",
              "       'LW, LWB, RW', 'LWB, RB', 'RW, ST, RB', 'ST, CM', 'CDM, LM, LB'],\n",
              "      dtype=object)"
            ]
          },
          "metadata": {},
          "execution_count": 26
        }
      ]
    },
    {
      "cell_type": "code",
      "source": [
        "len(df['player_positions'].unique())"
      ],
      "metadata": {
        "id": "iQ7p1r7-cYbG",
        "colab": {
          "base_uri": "https://localhost:8080/"
        },
        "outputId": "0c7c2cbb-7aff-4d10-b442-d5516aa458dc"
      },
      "execution_count": 27,
      "outputs": [
        {
          "output_type": "execute_result",
          "data": {
            "text/plain": [
              "673"
            ]
          },
          "metadata": {},
          "execution_count": 27
        }
      ]
    },
    {
      "cell_type": "code",
      "source": [
        "print(df['player_positions'].isnull().sum())"
      ],
      "metadata": {
        "colab": {
          "base_uri": "https://localhost:8080/"
        },
        "id": "1RuZ-3t-qAGp",
        "outputId": "4b47495a-43f2-4da1-d62c-045fa98de565"
      },
      "execution_count": 28,
      "outputs": [
        {
          "output_type": "stream",
          "name": "stdout",
          "text": [
            "0\n"
          ]
        }
      ]
    },
    {
      "cell_type": "code",
      "source": [
        "len(df['player_positions'])"
      ],
      "metadata": {
        "colab": {
          "base_uri": "https://localhost:8080/"
        },
        "id": "dyHG1upLqV7I",
        "outputId": "bcd54642-f0d4-4223-a388-086ea4787f40"
      },
      "execution_count": 29,
      "outputs": [
        {
          "output_type": "execute_result",
          "data": {
            "text/plain": [
              "17041"
            ]
          },
          "metadata": {},
          "execution_count": 29
        }
      ]
    },
    {
      "cell_type": "code",
      "source": [
        "\"\"\"\n",
        "however, there are too much positions, so they should be classified as CB / LB-RB / CDM / CAM / LW-RW / ST\n",
        "and this preprocess can not be done one by one, it needs te bo iterated and taking the first position if a row contains\n",
        "more than one positions\n",
        "\"\"\"\n",
        "df_positions = df['player_positions'].tolist()"
      ],
      "metadata": {
        "id": "wLL0gnSBYrfb"
      },
      "execution_count": 30,
      "outputs": []
    },
    {
      "cell_type": "code",
      "source": [
        "len(df_positions)"
      ],
      "metadata": {
        "colab": {
          "base_uri": "https://localhost:8080/"
        },
        "id": "0c_pFRroja5-",
        "outputId": "db133d52-6d55-4983-d9a2-3fe46bdcfd0b"
      },
      "execution_count": 31,
      "outputs": [
        {
          "output_type": "execute_result",
          "data": {
            "text/plain": [
              "17041"
            ]
          },
          "metadata": {},
          "execution_count": 31
        }
      ]
    },
    {
      "cell_type": "code",
      "source": [
        "# df converted to list, if a cell contains more than one positions, setting the cell value with first position by string operations\n",
        "for i in range(len(df_positions)):\n",
        "  if len(df_positions[i]) < 2:\n",
        "    print(i)\n",
        "  currentPosition = df_positions[i].split(\",\")\n",
        "  if  len(currentPosition) > 1:\n",
        "    df_positions[i] = currentPosition[0]\n"
      ],
      "metadata": {
        "id": "Vt_QaCrPebMG"
      },
      "execution_count": 32,
      "outputs": []
    },
    {
      "cell_type": "code",
      "source": [
        "listToDF = pd.DataFrame(df_positions,columns=['pos']).squeeze()"
      ],
      "metadata": {
        "id": "VuuaSSxG1fnZ"
      },
      "execution_count": 33,
      "outputs": []
    },
    {
      "cell_type": "code",
      "source": [
        "df['player_positions'] = listToDF"
      ],
      "metadata": {
        "id": "olYmK4nC1jRA"
      },
      "execution_count": 34,
      "outputs": []
    },
    {
      "cell_type": "code",
      "source": [
        "# CB / LB-RB / CDM / CAM / LW-RW / ST / CM\n",
        "df['player_positions'] = df['player_positions'].replace(['LW'],\"LW-RW\")\n",
        "df['player_positions'] = df['player_positions'].replace(['RW'],\"LW-RW\")\n",
        "df['player_positions'] = df['player_positions'].replace(['LM'],\"CM\")\n",
        "df['player_positions'] = df['player_positions'].replace(['RM'],\"CM\")\n",
        "df['player_positions'] = df['player_positions'].replace(['LB'],\"LB-RB\")\n",
        "df['player_positions'] = df['player_positions'].replace(['RB'],\"LB-RB\")\n",
        "df['player_positions'] = df['player_positions'].replace(['LWB'],\"LB-RB\")\n",
        "df['player_positions'] = df['player_positions'].replace(['RWB'],\"LB-RB\")\n",
        "df['player_positions'] = df['player_positions'].replace(['CF'],\"ST\")"
      ],
      "metadata": {
        "id": "Xm21IDh7j97r"
      },
      "execution_count": 35,
      "outputs": []
    },
    {
      "cell_type": "code",
      "source": [
        "pos_list = df['player_positions'].unique().tolist()"
      ],
      "metadata": {
        "id": "kYuUYLqHgkJv"
      },
      "execution_count": 36,
      "outputs": []
    },
    {
      "cell_type": "code",
      "source": [
        "pos_list"
      ],
      "metadata": {
        "colab": {
          "base_uri": "https://localhost:8080/"
        },
        "id": "5PCMRwsug8ly",
        "outputId": "325bcf16-a76a-4026-f946-e2031b96a9e9"
      },
      "execution_count": 37,
      "outputs": [
        {
          "output_type": "execute_result",
          "data": {
            "text/plain": [
              "['LW-RW', 'ST', 'CM', 'CDM', 'CB', 'CAM', 'LB-RB']"
            ]
          },
          "metadata": {},
          "execution_count": 37
        }
      ]
    },
    {
      "cell_type": "code",
      "source": [
        "key_bar, count_bar = np.unique(df['player_positions'], return_counts=True)\n",
        "plt.bar(key_bar, count_bar)\n",
        "plt.title(\"Player Positions Bar Chart\")\n",
        "plt.show()"
      ],
      "metadata": {
        "colab": {
          "base_uri": "https://localhost:8080/",
          "height": 280
        },
        "id": "6Sx8-e0xhBYR",
        "outputId": "708e0c31-51aa-4557-848e-000353b9dc33"
      },
      "execution_count": 38,
      "outputs": [
        {
          "output_type": "display_data",
          "data": {
            "text/plain": [
              "<Figure size 432x288 with 1 Axes>"
            ],
            "image/png": "[encoded data removed]"
          },
          "metadata": {
            "needs_background": "light"
          }
        }
      ]
    },
    {
      "cell_type": "code",
      "source": [
        "df.player_positions.value_counts().plot(kind='pie',autopct='%1.1f%%')"
      ],
      "metadata": {
        "colab": {
          "base_uri": "https://localhost:8080/",
          "height": 267
        },
        "id": "FS2D3OHpNzoT",
        "outputId": "5bd8c435-1619-4ee1-8737-dbd245c89b0d"
      },
      "execution_count": 39,
      "outputs": [
        {
          "output_type": "execute_result",
          "data": {
            "text/plain": [
              "<matplotlib.axes._subplots.AxesSubplot at 0x7f5955dba050>"
            ]
          },
          "metadata": {},
          "execution_count": 39
        },
        {
          "output_type": "display_data",
          "data": {
            "text/plain": [
              "<Figure size 432x288 with 1 Axes>"
            ],
            "image/png": "[encoded data removed]"
          },
          "metadata": {}
        }
      ]
    },
    {
      "cell_type": "code",
      "source": [
        "labelencoder = LabelEncoder()\n",
        "df['player_positions'] = labelencoder.fit_transform(df['player_positions'])\n",
        "position_dict = dict(zip(labelencoder.classes_,range(len(labelencoder.classes_))))"
      ],
      "metadata": {
        "id": "Bpj-KuZ65qQN"
      },
      "execution_count": 40,
      "outputs": []
    },
    {
      "cell_type": "code",
      "source": [
        "position_dict"
      ],
      "metadata": {
        "colab": {
          "base_uri": "https://localhost:8080/"
        },
        "id": "qEzoC3yAHzxz",
        "outputId": "77e5b4c6-084e-4c27-cd69-20b5bf9b0873"
      },
      "execution_count": 41,
      "outputs": [
        {
          "output_type": "execute_result",
          "data": {
            "text/plain": [
              "{'CAM': 0, 'CB': 1, 'CDM': 2, 'CM': 3, 'LB-RB': 4, 'LW-RW': 5, 'ST': 6}"
            ]
          },
          "metadata": {},
          "execution_count": 41
        }
      ]
    },
    {
      "cell_type": "code",
      "source": [
        "key_bar, count_bar = np.unique(df['preferred_foot'], return_counts=True)\n",
        "plt.bar(key_bar, count_bar)\n",
        "plt.title(\"Preferred Foot Bar Chart\")\n",
        "plt.show()"
      ],
      "metadata": {
        "colab": {
          "base_uri": "https://localhost:8080/",
          "height": 280
        },
        "id": "l7DTfDEWIExT",
        "outputId": "a11bfb75-93fd-4405-f21a-b04f9b7405ae"
      },
      "execution_count": 42,
      "outputs": [
        {
          "output_type": "display_data",
          "data": {
            "text/plain": [
              "<Figure size 432x288 with 1 Axes>"
            ],
            "image/png": "[encoded data removed]"
          },
          "metadata": {
            "needs_background": "light"
          }
        }
      ]
    },
    {
      "cell_type": "code",
      "source": [
        "x = df.preferred_foot.value_counts().plot(kind='pie',autopct='%1.1f%%')"
      ],
      "metadata": {
        "colab": {
          "base_uri": "https://localhost:8080/",
          "height": 247
        },
        "id": "3Xna3PveJcSE",
        "outputId": "2af984e3-0e9e-430d-91bd-eaf4050f7aeb"
      },
      "execution_count": 43,
      "outputs": [
        {
          "output_type": "display_data",
          "data": {
            "text/plain": [
              "<Figure size 432x288 with 1 Axes>"
            ],
            "image/png": "[encoded data removed]"
          },
          "metadata": {}
        }
      ]
    },
    {
      "cell_type": "code",
      "source": [
        "key_bar, count_bar = np.unique(df['weak_foot'], return_counts=True)\n",
        "plt.bar(key_bar, count_bar)\n",
        "plt.title(\"Weak Foot Bar Chart\")\n",
        "plt.show()"
      ],
      "metadata": {
        "colab": {
          "base_uri": "https://localhost:8080/",
          "height": 280
        },
        "id": "qmUU5vHNOtV0",
        "outputId": "959f73a9-bb50-4623-847d-f4b043660291"
      },
      "execution_count": 44,
      "outputs": [
        {
          "output_type": "display_data",
          "data": {
            "text/plain": [
              "<Figure size 432x288 with 1 Axes>"
            ],
            "image/png": "[encoded data removed]"
          },
          "metadata": {
            "needs_background": "light"
          }
        }
      ]
    },
    {
      "cell_type": "code",
      "source": [
        "df.weak_foot.value_counts().plot(kind='pie',autopct='%1.1f%%')"
      ],
      "metadata": {
        "colab": {
          "base_uri": "https://localhost:8080/",
          "height": 267
        },
        "id": "HOc2yw5qNoOM",
        "outputId": "ed7b866f-e9f5-4a03-bc3c-f4e9a3d3b928"
      },
      "execution_count": 45,
      "outputs": [
        {
          "output_type": "execute_result",
          "data": {
            "text/plain": [
              "<matplotlib.axes._subplots.AxesSubplot at 0x7f5955c67210>"
            ]
          },
          "metadata": {},
          "execution_count": 45
        },
        {
          "output_type": "display_data",
          "data": {
            "text/plain": [
              "<Figure size 432x288 with 1 Axes>"
            ],
            "image/png": "[encoded data removed]"
          },
          "metadata": {}
        }
      ]
    },
    {
      "cell_type": "code",
      "source": [
        "key_bar, count_bar = np.unique(df['skill_moves'], return_counts=True)\n",
        "y = plt.bar(key_bar, count_bar)\n",
        "plt.title(\"Skill Moves Bar Chart\")\n",
        "plt.show()"
      ],
      "metadata": {
        "colab": {
          "base_uri": "https://localhost:8080/",
          "height": 280
        },
        "id": "E73nJIguJ-7s",
        "outputId": "baf719dc-90e8-4cb9-be82-eeeab4a00a5d"
      },
      "execution_count": 46,
      "outputs": [
        {
          "output_type": "display_data",
          "data": {
            "text/plain": [
              "<Figure size 432x288 with 1 Axes>"
            ],
            "image/png": "[encoded data removed]"
          },
          "metadata": {
            "needs_background": "light"
          }
        }
      ]
    },
    {
      "cell_type": "code",
      "source": [
        "df.skill_moves.value_counts().plot(kind='pie',autopct='%1.1f%%')"
      ],
      "metadata": {
        "colab": {
          "base_uri": "https://localhost:8080/",
          "height": 267
        },
        "id": "4zo-n3eAPOJl",
        "outputId": "9ad56060-5514-4450-9616-2d394b94cfb8"
      },
      "execution_count": 47,
      "outputs": [
        {
          "output_type": "execute_result",
          "data": {
            "text/plain": [
              "<matplotlib.axes._subplots.AxesSubplot at 0x7f5955b3f490>"
            ]
          },
          "metadata": {},
          "execution_count": 47
        },
        {
          "output_type": "display_data",
          "data": {
            "text/plain": [
              "<Figure size 432x288 with 1 Axes>"
            ],
            "image/png": "[encoded data removed]"
          },
          "metadata": {}
        }
      ]
    },
    {
      "cell_type": "code",
      "source": [
        "df['preferred_foot'] = labelencoder.fit_transform(df['preferred_foot'])"
      ],
      "metadata": {
        "id": "uLEr22JYEOgh"
      },
      "execution_count": 48,
      "outputs": []
    },
    {
      "cell_type": "code",
      "source": [
        "pref_foot_dict = dict(zip(labelencoder.classes_,range(len(labelencoder.classes_))))"
      ],
      "metadata": {
        "id": "IzlFGZhwA_QF"
      },
      "execution_count": 49,
      "outputs": []
    },
    {
      "cell_type": "code",
      "source": [
        "pref_foot_dict"
      ],
      "metadata": {
        "colab": {
          "base_uri": "https://localhost:8080/"
        },
        "id": "IT8NPvmJFPd9",
        "outputId": "cf2eb072-e64b-4d0b-8e92-fe7069c1b37d"
      },
      "execution_count": 50,
      "outputs": [
        {
          "output_type": "execute_result",
          "data": {
            "text/plain": [
              "{'Left': 0, 'Right': 1}"
            ]
          },
          "metadata": {},
          "execution_count": 50
        }
      ]
    },
    {
      "cell_type": "code",
      "source": [
        "df['preferred_foot'].head()"
      ],
      "metadata": {
        "colab": {
          "base_uri": "https://localhost:8080/"
        },
        "id": "oFHQxHLOFkPT",
        "outputId": "d680800f-a2eb-49e6-a3d1-32b941756341"
      },
      "execution_count": 51,
      "outputs": [
        {
          "output_type": "execute_result",
          "data": {
            "text/plain": [
              "0    0\n",
              "1    1\n",
              "2    1\n",
              "3    1\n",
              "4    1\n",
              "Name: preferred_foot, dtype: int64"
            ]
          },
          "metadata": {},
          "execution_count": 51
        }
      ]
    },
    {
      "cell_type": "code",
      "source": [
        "df.head()"
      ],
      "metadata": {
        "colab": {
          "base_uri": "https://localhost:8080/",
          "height": 207
        },
        "id": "FQWhNgZYGLES",
        "outputId": "d1efa5e4-eba0-412c-85d1-5467aee58974"
      },
      "execution_count": 52,
      "outputs": [
        {
          "output_type": "execute_result",
          "data": {
            "text/plain": [
              "     value_eur  overall  potential  height_cm  weight_kg  player_positions  \\\n",
              "0   78000000.0       93         93        170         72                 5   \n",
              "1  119500000.0       92         92        185         81                 6   \n",
              "2   45000000.0       91         91        187         83                 6   \n",
              "3  129000000.0       91         91        175         68                 5   \n",
              "4  125500000.0       91         91        181         70                 3   \n",
              "\n",
              "   preferred_foot  weak_foot  skill_moves  pace  shooting  passing  dribbling  \\\n",
              "0               0          4            4  85.0      92.0     91.0       95.0   \n",
              "1               1          4            4  78.0      92.0     79.0       86.0   \n",
              "2               1          4            5  87.0      94.0     80.0       88.0   \n",
              "3               1          5            5  91.0      83.0     86.0       94.0   \n",
              "4               1          5            4  76.0      86.0     93.0       88.0   \n",
              "\n",
              "   defending  physic  attacking_finishing  \n",
              "0       34.0    65.0                   95  \n",
              "1       44.0    82.0                   95  \n",
              "2       34.0    75.0                   95  \n",
              "3       37.0    63.0                   83  \n",
              "4       64.0    78.0                   82  "
            ],
            "text/html": [
              "\n",
              "  <div id=\"df-2b1af231-408c-4aaf-b6d8-8fbd73a27743\">\n",
              "    <div class=\"colab-df-container\">\n",
              "      <div>\n",
              "<style scoped>\n",
              "    .dataframe tbody tr th:only-of-type {\n",
              "        vertical-align: middle;\n",
              "    }\n",
              "\n",
              "    .dataframe tbody tr th {\n",
              "        vertical-align: top;\n",
              "    }\n",
              "\n",
              "    .dataframe thead th {\n",
              "        text-align: right;\n",
              "    }\n",
              "</style>\n",
              "<table border=\"1\" class=\"dataframe\">\n",
              "  <thead>\n",
              "    <tr style=\"text-align: right;\">\n",
              "      <th></th>\n",
              "      <th>value_eur</th>\n",
              "      <th>overall</th>\n",
              "      <th>potential</th>\n",
              "      <th>height_cm</th>\n",
              "      <th>weight_kg</th>\n",
              "      <th>player_positions</th>\n",
              "      <th>preferred_foot</th>\n",
              "      <th>weak_foot</th>\n",
              "      <th>skill_moves</th>\n",
              "      <th>pace</th>\n",
              "      <th>shooting</th>\n",
              "      <th>passing</th>\n",
              "      <th>dribbling</th>\n",
              "      <th>defending</th>\n",
              "      <th>physic</th>\n",
              "      <th>attacking_finishing</th>\n",
              "    </tr>\n",
              "  </thead>\n",
              "  <tbody>\n",
              "    <tr>\n",
              "      <th>0</th>\n",
              "      <td>78000000.0</td>\n",
              "      <td>93</td>\n",
              "      <td>93</td>\n",
              "      <td>170</td>\n",
              "      <td>72</td>\n",
              "      <td>5</td>\n",
              "      <td>0</td>\n",
              "      <td>4</td>\n",
              "      <td>4</td>\n",
              "      <td>85.0</td>\n",
              "      <td>92.0</td>\n",
              "      <td>91.0</td>\n",
              "      <td>95.0</td>\n",
              "      <td>34.0</td>\n",
              "      <td>65.0</td>\n",
              "      <td>95</td>\n",
              "    </tr>\n",
              "    <tr>\n",
              "      <th>1</th>\n",
              "      <td>119500000.0</td>\n",
              "      <td>92</td>\n",
              "      <td>92</td>\n",
              "      <td>185</td>\n",
              "      <td>81</td>\n",
              "      <td>6</td>\n",
              "      <td>1</td>\n",
              "      <td>4</td>\n",
              "      <td>4</td>\n",
              "      <td>78.0</td>\n",
              "      <td>92.0</td>\n",
              "      <td>79.0</td>\n",
              "      <td>86.0</td>\n",
              "      <td>44.0</td>\n",
              "      <td>82.0</td>\n",
              "      <td>95</td>\n",
              "    </tr>\n",
              "    <tr>\n",
              "      <th>2</th>\n",
              "      <td>45000000.0</td>\n",
              "      <td>91</td>\n",
              "      <td>91</td>\n",
              "      <td>187</td>\n",
              "      <td>83</td>\n",
              "      <td>6</td>\n",
              "      <td>1</td>\n",
              "      <td>4</td>\n",
              "      <td>5</td>\n",
              "      <td>87.0</td>\n",
              "      <td>94.0</td>\n",
              "      <td>80.0</td>\n",
              "      <td>88.0</td>\n",
              "      <td>34.0</td>\n",
              "      <td>75.0</td>\n",
              "      <td>95</td>\n",
              "    </tr>\n",
              "    <tr>\n",
              "      <th>3</th>\n",
              "      <td>129000000.0</td>\n",
              "      <td>91</td>\n",
              "      <td>91</td>\n",
              "      <td>175</td>\n",
              "      <td>68</td>\n",
              "      <td>5</td>\n",
              "      <td>1</td>\n",
              "      <td>5</td>\n",
              "      <td>5</td>\n",
              "      <td>91.0</td>\n",
              "      <td>83.0</td>\n",
              "      <td>86.0</td>\n",
              "      <td>94.0</td>\n",
              "      <td>37.0</td>\n",
              "      <td>63.0</td>\n",
              "      <td>83</td>\n",
              "    </tr>\n",
              "    <tr>\n",
              "      <th>4</th>\n",
              "      <td>125500000.0</td>\n",
              "      <td>91</td>\n",
              "      <td>91</td>\n",
              "      <td>181</td>\n",
              "      <td>70</td>\n",
              "      <td>3</td>\n",
              "      <td>1</td>\n",
              "      <td>5</td>\n",
              "      <td>4</td>\n",
              "      <td>76.0</td>\n",
              "      <td>86.0</td>\n",
              "      <td>93.0</td>\n",
              "      <td>88.0</td>\n",
              "      <td>64.0</td>\n",
              "      <td>78.0</td>\n",
              "      <td>82</td>\n",
              "    </tr>\n",
              "  </tbody>\n",
              "</table>\n",
              "</div>\n",
              "      <button class=\"colab-df-convert\" onclick=\"convertToInteractive('df-2b1af231-408c-4aaf-b6d8-8fbd73a27743')\"\n",
              "              title=\"Convert this dataframe to an interactive table.\"\n",
              "              style=\"display:none;\">\n",
              "        \n",
              "  <svg xmlns=\"http://www.w3.org/2000/svg\" height=\"24px\"viewBox=\"0 0 24 24\"\n",
              "       width=\"24px\">\n",
              "    <path d=\"M0 0h24v24H0V0z\" fill=\"none\"/>\n",
              "    <path d=\"M18.56 5.44l.94 2.06.94-2.06 2.06-.94-2.06-.94-.94-2.06-.94 2.06-2.06.94zm-11 1L8.5 8.5l.94-2.06 2.06-.94-2.06-.94L8.5 2.5l-.94 2.06-2.06.94zm10 10l.94 2.06.94-2.06 2.06-.94-2.06-.94-.94-2.06-.94 2.06-2.06.94z\"/><path d=\"M17.41 7.96l-1.37-1.37c-.4-.4-.92-.59-1.43-.59-.52 0-1.04.2-1.43.59L10.3 9.45l-7.72 7.72c-.78.78-.78 2.05 0 2.83L4 21.41c.39.39.9.59 1.41.59.51 0 1.02-.2 1.41-.59l7.78-7.78 2.81-2.81c.8-.78.8-2.07 0-2.86zM5.41 20L4 18.59l7.72-7.72 1.47 1.35L5.41 20z\"/>\n",
              "  </svg>\n",
              "      </button>\n",
              "      \n",
              "  <style>\n",
              "    .colab-df-container {\n",
              "      display:flex;\n",
              "      flex-wrap:wrap;\n",
              "      gap: 12px;\n",
              "    }\n",
              "\n",
              "    .colab-df-convert {\n",
              "      background-color: #E8F0FE;\n",
              "      border: none;\n",
              "      border-radius: 50%;\n",
              "      cursor: pointer;\n",
              "      display: none;\n",
              "      fill: #1967D2;\n",
              "      height: 32px;\n",
              "      padding: 0 0 0 0;\n",
              "      width: 32px;\n",
              "    }\n",
              "\n",
              "    .colab-df-convert:hover {\n",
              "      background-color: #E2EBFA;\n",
              "      box-shadow: 0px 1px 2px rgba(60, 64, 67, 0.3), 0px 1px 3px 1px rgba(60, 64, 67, 0.15);\n",
              "      fill: #174EA6;\n",
              "    }\n",
              "\n",
              "    [theme=dark] .colab-df-convert {\n",
              "      background-color: #3B4455;\n",
              "      fill: #D2E3FC;\n",
              "    }\n",
              "\n",
              "    [theme=dark] .colab-df-convert:hover {\n",
              "      background-color: #434B5C;\n",
              "      box-shadow: 0px 1px 3px 1px rgba(0, 0, 0, 0.15);\n",
              "      filter: drop-shadow(0px 1px 2px rgba(0, 0, 0, 0.3));\n",
              "      fill: #FFFFFF;\n",
              "    }\n",
              "  </style>\n",
              "\n",
              "      <script>\n",
              "        const buttonEl =\n",
              "          document.querySelector('#df-2b1af231-408c-4aaf-b6d8-8fbd73a27743 button.colab-df-convert');\n",
              "        buttonEl.style.display =\n",
              "          google.colab.kernel.accessAllowed ? 'block' : 'none';\n",
              "\n",
              "        async function convertToInteractive(key) {\n",
              "          const element = document.querySelector('#df-2b1af231-408c-4aaf-b6d8-8fbd73a27743');\n",
              "          const dataTable =\n",
              "            await google.colab.kernel.invokeFunction('convertToInteractive',\n",
              "                                                     [key], {});\n",
              "          if (!dataTable) return;\n",
              "\n",
              "          const docLinkHtml = 'Like what you see? Visit the ' +\n",
              "            '<a target=\"_blank\" href=https://colab.research.google.com/notebooks/data_table.ipynb>data table notebook</a>'\n",
              "            + ' to learn more about interactive tables.';\n",
              "          element.innerHTML = '';\n",
              "          dataTable['output_type'] = 'display_data';\n",
              "          await google.colab.output.renderOutput(dataTable, element);\n",
              "          const docLink = document.createElement('div');\n",
              "          docLink.innerHTML = docLinkHtml;\n",
              "          element.appendChild(docLink);\n",
              "        }\n",
              "      </script>\n",
              "    </div>\n",
              "  </div>\n",
              "  "
            ]
          },
          "metadata": {},
          "execution_count": 52
        }
      ]
    },
    {
      "cell_type": "code",
      "source": [
        "df.isna().any()"
      ],
      "metadata": {
        "colab": {
          "base_uri": "https://localhost:8080/"
        },
        "id": "hf4a5vKYJ6kr",
        "outputId": "b03b4395-817e-4027-de91-1be0f861ecd0"
      },
      "execution_count": 53,
      "outputs": [
        {
          "output_type": "execute_result",
          "data": {
            "text/plain": [
              "value_eur              False\n",
              "overall                False\n",
              "potential              False\n",
              "height_cm              False\n",
              "weight_kg              False\n",
              "player_positions       False\n",
              "preferred_foot         False\n",
              "weak_foot              False\n",
              "skill_moves            False\n",
              "pace                   False\n",
              "shooting               False\n",
              "passing                False\n",
              "dribbling              False\n",
              "defending              False\n",
              "physic                 False\n",
              "attacking_finishing    False\n",
              "dtype: bool"
            ]
          },
          "metadata": {},
          "execution_count": 53
        }
      ]
    },
    {
      "cell_type": "code",
      "source": [
        "df['weak_foot'] = df['weak_foot'].multiply(0.2)\n",
        "df['skill_moves'] = df['skill_moves'].multiply(0.2)\n"
      ],
      "metadata": {
        "id": "wou_uw0s9CpZ"
      },
      "execution_count": 54,
      "outputs": []
    },
    {
      "cell_type": "code",
      "source": [
        "df.head()"
      ],
      "metadata": {
        "colab": {
          "base_uri": "https://localhost:8080/",
          "height": 207
        },
        "id": "ic3856QrBZ5w",
        "outputId": "7b6dee33-cde2-4ddb-82c2-2dfd9223bb01"
      },
      "execution_count": 55,
      "outputs": [
        {
          "output_type": "execute_result",
          "data": {
            "text/plain": [
              "     value_eur  overall  potential  height_cm  weight_kg  player_positions  \\\n",
              "0   78000000.0       93         93        170         72                 5   \n",
              "1  119500000.0       92         92        185         81                 6   \n",
              "2   45000000.0       91         91        187         83                 6   \n",
              "3  129000000.0       91         91        175         68                 5   \n",
              "4  125500000.0       91         91        181         70                 3   \n",
              "\n",
              "   preferred_foot  weak_foot  skill_moves  pace  shooting  passing  dribbling  \\\n",
              "0               0        0.8          0.8  85.0      92.0     91.0       95.0   \n",
              "1               1        0.8          0.8  78.0      92.0     79.0       86.0   \n",
              "2               1        0.8          1.0  87.0      94.0     80.0       88.0   \n",
              "3               1        1.0          1.0  91.0      83.0     86.0       94.0   \n",
              "4               1        1.0          0.8  76.0      86.0     93.0       88.0   \n",
              "\n",
              "   defending  physic  attacking_finishing  \n",
              "0       34.0    65.0                   95  \n",
              "1       44.0    82.0                   95  \n",
              "2       34.0    75.0                   95  \n",
              "3       37.0    63.0                   83  \n",
              "4       64.0    78.0                   82  "
            ],
            "text/html": [
              "\n",
              "  <div id=\"df-c0023cca-c5f3-40d3-a475-8d0a4744b9ac\">\n",
              "    <div class=\"colab-df-container\">\n",
              "      <div>\n",
              "<style scoped>\n",
              "    .dataframe tbody tr th:only-of-type {\n",
              "        vertical-align: middle;\n",
              "    }\n",
              "\n",
              "    .dataframe tbody tr th {\n",
              "        vertical-align: top;\n",
              "    }\n",
              "\n",
              "    .dataframe thead th {\n",
              "        text-align: right;\n",
              "    }\n",
              "</style>\n",
              "<table border=\"1\" class=\"dataframe\">\n",
              "  <thead>\n",
              "    <tr style=\"text-align: right;\">\n",
              "      <th></th>\n",
              "      <th>value_eur</th>\n",
              "      <th>overall</th>\n",
              "      <th>potential</th>\n",
              "      <th>height_cm</th>\n",
              "      <th>weight_kg</th>\n",
              "      <th>player_positions</th>\n",
              "      <th>preferred_foot</th>\n",
              "      <th>weak_foot</th>\n",
              "      <th>skill_moves</th>\n",
              "      <th>pace</th>\n",
              "      <th>shooting</th>\n",
              "      <th>passing</th>\n",
              "      <th>dribbling</th>\n",
              "      <th>defending</th>\n",
              "      <th>physic</th>\n",
              "      <th>attacking_finishing</th>\n",
              "    </tr>\n",
              "  </thead>\n",
              "  <tbody>\n",
              "    <tr>\n",
              "      <th>0</th>\n",
              "      <td>78000000.0</td>\n",
              "      <td>93</td>\n",
              "      <td>93</td>\n",
              "      <td>170</td>\n",
              "      <td>72</td>\n",
              "      <td>5</td>\n",
              "      <td>0</td>\n",
              "      <td>0.8</td>\n",
              "      <td>0.8</td>\n",
              "      <td>85.0</td>\n",
              "      <td>92.0</td>\n",
              "      <td>91.0</td>\n",
              "      <td>95.0</td>\n",
              "      <td>34.0</td>\n",
              "      <td>65.0</td>\n",
              "      <td>95</td>\n",
              "    </tr>\n",
              "    <tr>\n",
              "      <th>1</th>\n",
              "      <td>119500000.0</td>\n",
              "      <td>92</td>\n",
              "      <td>92</td>\n",
              "      <td>185</td>\n",
              "      <td>81</td>\n",
              "      <td>6</td>\n",
              "      <td>1</td>\n",
              "      <td>0.8</td>\n",
              "      <td>0.8</td>\n",
              "      <td>78.0</td>\n",
              "      <td>92.0</td>\n",
              "      <td>79.0</td>\n",
              "      <td>86.0</td>\n",
              "      <td>44.0</td>\n",
              "      <td>82.0</td>\n",
              "      <td>95</td>\n",
              "    </tr>\n",
              "    <tr>\n",
              "      <th>2</th>\n",
              "      <td>45000000.0</td>\n",
              "      <td>91</td>\n",
              "      <td>91</td>\n",
              "      <td>187</td>\n",
              "      <td>83</td>\n",
              "      <td>6</td>\n",
              "      <td>1</td>\n",
              "      <td>0.8</td>\n",
              "      <td>1.0</td>\n",
              "      <td>87.0</td>\n",
              "      <td>94.0</td>\n",
              "      <td>80.0</td>\n",
              "      <td>88.0</td>\n",
              "      <td>34.0</td>\n",
              "      <td>75.0</td>\n",
              "      <td>95</td>\n",
              "    </tr>\n",
              "    <tr>\n",
              "      <th>3</th>\n",
              "      <td>129000000.0</td>\n",
              "      <td>91</td>\n",
              "      <td>91</td>\n",
              "      <td>175</td>\n",
              "      <td>68</td>\n",
              "      <td>5</td>\n",
              "      <td>1</td>\n",
              "      <td>1.0</td>\n",
              "      <td>1.0</td>\n",
              "      <td>91.0</td>\n",
              "      <td>83.0</td>\n",
              "      <td>86.0</td>\n",
              "      <td>94.0</td>\n",
              "      <td>37.0</td>\n",
              "      <td>63.0</td>\n",
              "      <td>83</td>\n",
              "    </tr>\n",
              "    <tr>\n",
              "      <th>4</th>\n",
              "      <td>125500000.0</td>\n",
              "      <td>91</td>\n",
              "      <td>91</td>\n",
              "      <td>181</td>\n",
              "      <td>70</td>\n",
              "      <td>3</td>\n",
              "      <td>1</td>\n",
              "      <td>1.0</td>\n",
              "      <td>0.8</td>\n",
              "      <td>76.0</td>\n",
              "      <td>86.0</td>\n",
              "      <td>93.0</td>\n",
              "      <td>88.0</td>\n",
              "      <td>64.0</td>\n",
              "      <td>78.0</td>\n",
              "      <td>82</td>\n",
              "    </tr>\n",
              "  </tbody>\n",
              "</table>\n",
              "</div>\n",
              "      <button class=\"colab-df-convert\" onclick=\"convertToInteractive('df-c0023cca-c5f3-40d3-a475-8d0a4744b9ac')\"\n",
              "              title=\"Convert this dataframe to an interactive table.\"\n",
              "              style=\"display:none;\">\n",
              "        \n",
              "  <svg xmlns=\"http://www.w3.org/2000/svg\" height=\"24px\"viewBox=\"0 0 24 24\"\n",
              "       width=\"24px\">\n",
              "    <path d=\"M0 0h24v24H0V0z\" fill=\"none\"/>\n",
              "    <path d=\"M18.56 5.44l.94 2.06.94-2.06 2.06-.94-2.06-.94-.94-2.06-.94 2.06-2.06.94zm-11 1L8.5 8.5l.94-2.06 2.06-.94-2.06-.94L8.5 2.5l-.94 2.06-2.06.94zm10 10l.94 2.06.94-2.06 2.06-.94-2.06-.94-.94-2.06-.94 2.06-2.06.94z\"/><path d=\"M17.41 7.96l-1.37-1.37c-.4-.4-.92-.59-1.43-.59-.52 0-1.04.2-1.43.59L10.3 9.45l-7.72 7.72c-.78.78-.78 2.05 0 2.83L4 21.41c.39.39.9.59 1.41.59.51 0 1.02-.2 1.41-.59l7.78-7.78 2.81-2.81c.8-.78.8-2.07 0-2.86zM5.41 20L4 18.59l7.72-7.72 1.47 1.35L5.41 20z\"/>\n",
              "  </svg>\n",
              "      </button>\n",
              "      \n",
              "  <style>\n",
              "    .colab-df-container {\n",
              "      display:flex;\n",
              "      flex-wrap:wrap;\n",
              "      gap: 12px;\n",
              "    }\n",
              "\n",
              "    .colab-df-convert {\n",
              "      background-color: #E8F0FE;\n",
              "      border: none;\n",
              "      border-radius: 50%;\n",
              "      cursor: pointer;\n",
              "      display: none;\n",
              "      fill: #1967D2;\n",
              "      height: 32px;\n",
              "      padding: 0 0 0 0;\n",
              "      width: 32px;\n",
              "    }\n",
              "\n",
              "    .colab-df-convert:hover {\n",
              "      background-color: #E2EBFA;\n",
              "      box-shadow: 0px 1px 2px rgba(60, 64, 67, 0.3), 0px 1px 3px 1px rgba(60, 64, 67, 0.15);\n",
              "      fill: #174EA6;\n",
              "    }\n",
              "\n",
              "    [theme=dark] .colab-df-convert {\n",
              "      background-color: #3B4455;\n",
              "      fill: #D2E3FC;\n",
              "    }\n",
              "\n",
              "    [theme=dark] .colab-df-convert:hover {\n",
              "      background-color: #434B5C;\n",
              "      box-shadow: 0px 1px 3px 1px rgba(0, 0, 0, 0.15);\n",
              "      filter: drop-shadow(0px 1px 2px rgba(0, 0, 0, 0.3));\n",
              "      fill: #FFFFFF;\n",
              "    }\n",
              "  </style>\n",
              "\n",
              "      <script>\n",
              "        const buttonEl =\n",
              "          document.querySelector('#df-c0023cca-c5f3-40d3-a475-8d0a4744b9ac button.colab-df-convert');\n",
              "        buttonEl.style.display =\n",
              "          google.colab.kernel.accessAllowed ? 'block' : 'none';\n",
              "\n",
              "        async function convertToInteractive(key) {\n",
              "          const element = document.querySelector('#df-c0023cca-c5f3-40d3-a475-8d0a4744b9ac');\n",
              "          const dataTable =\n",
              "            await google.colab.kernel.invokeFunction('convertToInteractive',\n",
              "                                                     [key], {});\n",
              "          if (!dataTable) return;\n",
              "\n",
              "          const docLinkHtml = 'Like what you see? Visit the ' +\n",
              "            '<a target=\"_blank\" href=https://colab.research.google.com/notebooks/data_table.ipynb>data table notebook</a>'\n",
              "            + ' to learn more about interactive tables.';\n",
              "          element.innerHTML = '';\n",
              "          dataTable['output_type'] = 'display_data';\n",
              "          await google.colab.output.renderOutput(dataTable, element);\n",
              "          const docLink = document.createElement('div');\n",
              "          docLink.innerHTML = docLinkHtml;\n",
              "          element.appendChild(docLink);\n",
              "        }\n",
              "      </script>\n",
              "    </div>\n",
              "  </div>\n",
              "  "
            ]
          },
          "metadata": {},
          "execution_count": 55
        }
      ]
    },
    {
      "cell_type": "code",
      "source": [
        "df[['overall','potential',\"pace\", \"shooting\", \n",
        "    \"passing\", \"dribbling\", \"defending\", \"physic\",\n",
        "    \"attacking_finishing\", \"height_cm\", 'weight_kg']] /= 100"
      ],
      "metadata": {
        "id": "Mjc4lHBnFnwj"
      },
      "execution_count": 56,
      "outputs": []
    },
    {
      "cell_type": "code",
      "source": [
        "df.head()"
      ],
      "metadata": {
        "colab": {
          "base_uri": "https://localhost:8080/",
          "height": 207
        },
        "id": "uMHa3eV8Hj63",
        "outputId": "c887bae6-6ca0-4a4b-a63f-2df03332e139"
      },
      "execution_count": 57,
      "outputs": [
        {
          "output_type": "execute_result",
          "data": {
            "text/plain": [
              "     value_eur  overall  potential  height_cm  weight_kg  player_positions  \\\n",
              "0   78000000.0     0.93       0.93       1.70       0.72                 5   \n",
              "1  119500000.0     0.92       0.92       1.85       0.81                 6   \n",
              "2   45000000.0     0.91       0.91       1.87       0.83                 6   \n",
              "3  129000000.0     0.91       0.91       1.75       0.68                 5   \n",
              "4  125500000.0     0.91       0.91       1.81       0.70                 3   \n",
              "\n",
              "   preferred_foot  weak_foot  skill_moves  pace  shooting  passing  dribbling  \\\n",
              "0               0        0.8          0.8  0.85      0.92     0.91       0.95   \n",
              "1               1        0.8          0.8  0.78      0.92     0.79       0.86   \n",
              "2               1        0.8          1.0  0.87      0.94     0.80       0.88   \n",
              "3               1        1.0          1.0  0.91      0.83     0.86       0.94   \n",
              "4               1        1.0          0.8  0.76      0.86     0.93       0.88   \n",
              "\n",
              "   defending  physic  attacking_finishing  \n",
              "0       0.34    0.65                 0.95  \n",
              "1       0.44    0.82                 0.95  \n",
              "2       0.34    0.75                 0.95  \n",
              "3       0.37    0.63                 0.83  \n",
              "4       0.64    0.78                 0.82  "
            ],
            "text/html": [
              "\n",
              "  <div id=\"df-af7dd2e8-3571-4498-a379-af5928b36dc4\">\n",
              "    <div class=\"colab-df-container\">\n",
              "      <div>\n",
              "<style scoped>\n",
              "    .dataframe tbody tr th:only-of-type {\n",
              "        vertical-align: middle;\n",
              "    }\n",
              "\n",
              "    .dataframe tbody tr th {\n",
              "        vertical-align: top;\n",
              "    }\n",
              "\n",
              "    .dataframe thead th {\n",
              "        text-align: right;\n",
              "    }\n",
              "</style>\n",
              "<table border=\"1\" class=\"dataframe\">\n",
              "  <thead>\n",
              "    <tr style=\"text-align: right;\">\n",
              "      <th></th>\n",
              "      <th>value_eur</th>\n",
              "      <th>overall</th>\n",
              "      <th>potential</th>\n",
              "      <th>height_cm</th>\n",
              "      <th>weight_kg</th>\n",
              "      <th>player_positions</th>\n",
              "      <th>preferred_foot</th>\n",
              "      <th>weak_foot</th>\n",
              "      <th>skill_moves</th>\n",
              "      <th>pace</th>\n",
              "      <th>shooting</th>\n",
              "      <th>passing</th>\n",
              "      <th>dribbling</th>\n",
              "      <th>defending</th>\n",
              "      <th>physic</th>\n",
              "      <th>attacking_finishing</th>\n",
              "    </tr>\n",
              "  </thead>\n",
              "  <tbody>\n",
              "    <tr>\n",
              "      <th>0</th>\n",
              "      <td>78000000.0</td>\n",
              "      <td>0.93</td>\n",
              "      <td>0.93</td>\n",
              "      <td>1.70</td>\n",
              "      <td>0.72</td>\n",
              "      <td>5</td>\n",
              "      <td>0</td>\n",
              "      <td>0.8</td>\n",
              "      <td>0.8</td>\n",
              "      <td>0.85</td>\n",
              "      <td>0.92</td>\n",
              "      <td>0.91</td>\n",
              "      <td>0.95</td>\n",
              "      <td>0.34</td>\n",
              "      <td>0.65</td>\n",
              "      <td>0.95</td>\n",
              "    </tr>\n",
              "    <tr>\n",
              "      <th>1</th>\n",
              "      <td>119500000.0</td>\n",
              "      <td>0.92</td>\n",
              "      <td>0.92</td>\n",
              "      <td>1.85</td>\n",
              "      <td>0.81</td>\n",
              "      <td>6</td>\n",
              "      <td>1</td>\n",
              "      <td>0.8</td>\n",
              "      <td>0.8</td>\n",
              "      <td>0.78</td>\n",
              "      <td>0.92</td>\n",
              "      <td>0.79</td>\n",
              "      <td>0.86</td>\n",
              "      <td>0.44</td>\n",
              "      <td>0.82</td>\n",
              "      <td>0.95</td>\n",
              "    </tr>\n",
              "    <tr>\n",
              "      <th>2</th>\n",
              "      <td>45000000.0</td>\n",
              "      <td>0.91</td>\n",
              "      <td>0.91</td>\n",
              "      <td>1.87</td>\n",
              "      <td>0.83</td>\n",
              "      <td>6</td>\n",
              "      <td>1</td>\n",
              "      <td>0.8</td>\n",
              "      <td>1.0</td>\n",
              "      <td>0.87</td>\n",
              "      <td>0.94</td>\n",
              "      <td>0.80</td>\n",
              "      <td>0.88</td>\n",
              "      <td>0.34</td>\n",
              "      <td>0.75</td>\n",
              "      <td>0.95</td>\n",
              "    </tr>\n",
              "    <tr>\n",
              "      <th>3</th>\n",
              "      <td>129000000.0</td>\n",
              "      <td>0.91</td>\n",
              "      <td>0.91</td>\n",
              "      <td>1.75</td>\n",
              "      <td>0.68</td>\n",
              "      <td>5</td>\n",
              "      <td>1</td>\n",
              "      <td>1.0</td>\n",
              "      <td>1.0</td>\n",
              "      <td>0.91</td>\n",
              "      <td>0.83</td>\n",
              "      <td>0.86</td>\n",
              "      <td>0.94</td>\n",
              "      <td>0.37</td>\n",
              "      <td>0.63</td>\n",
              "      <td>0.83</td>\n",
              "    </tr>\n",
              "    <tr>\n",
              "      <th>4</th>\n",
              "      <td>125500000.0</td>\n",
              "      <td>0.91</td>\n",
              "      <td>0.91</td>\n",
              "      <td>1.81</td>\n",
              "      <td>0.70</td>\n",
              "      <td>3</td>\n",
              "      <td>1</td>\n",
              "      <td>1.0</td>\n",
              "      <td>0.8</td>\n",
              "      <td>0.76</td>\n",
              "      <td>0.86</td>\n",
              "      <td>0.93</td>\n",
              "      <td>0.88</td>\n",
              "      <td>0.64</td>\n",
              "      <td>0.78</td>\n",
              "      <td>0.82</td>\n",
              "    </tr>\n",
              "  </tbody>\n",
              "</table>\n",
              "</div>\n",
              "      <button class=\"colab-df-convert\" onclick=\"convertToInteractive('df-af7dd2e8-3571-4498-a379-af5928b36dc4')\"\n",
              "              title=\"Convert this dataframe to an interactive table.\"\n",
              "              style=\"display:none;\">\n",
              "        \n",
              "  <svg xmlns=\"http://www.w3.org/2000/svg\" height=\"24px\"viewBox=\"0 0 24 24\"\n",
              "       width=\"24px\">\n",
              "    <path d=\"M0 0h24v24H0V0z\" fill=\"none\"/>\n",
              "    <path d=\"M18.56 5.44l.94 2.06.94-2.06 2.06-.94-2.06-.94-.94-2.06-.94 2.06-2.06.94zm-11 1L8.5 8.5l.94-2.06 2.06-.94-2.06-.94L8.5 2.5l-.94 2.06-2.06.94zm10 10l.94 2.06.94-2.06 2.06-.94-2.06-.94-.94-2.06-.94 2.06-2.06.94z\"/><path d=\"M17.41 7.96l-1.37-1.37c-.4-.4-.92-.59-1.43-.59-.52 0-1.04.2-1.43.59L10.3 9.45l-7.72 7.72c-.78.78-.78 2.05 0 2.83L4 21.41c.39.39.9.59 1.41.59.51 0 1.02-.2 1.41-.59l7.78-7.78 2.81-2.81c.8-.78.8-2.07 0-2.86zM5.41 20L4 18.59l7.72-7.72 1.47 1.35L5.41 20z\"/>\n",
              "  </svg>\n",
              "      </button>\n",
              "      \n",
              "  <style>\n",
              "    .colab-df-container {\n",
              "      display:flex;\n",
              "      flex-wrap:wrap;\n",
              "      gap: 12px;\n",
              "    }\n",
              "\n",
              "    .colab-df-convert {\n",
              "      background-color: #E8F0FE;\n",
              "      border: none;\n",
              "      border-radius: 50%;\n",
              "      cursor: pointer;\n",
              "      display: none;\n",
              "      fill: #1967D2;\n",
              "      height: 32px;\n",
              "      padding: 0 0 0 0;\n",
              "      width: 32px;\n",
              "    }\n",
              "\n",
              "    .colab-df-convert:hover {\n",
              "      background-color: #E2EBFA;\n",
              "      box-shadow: 0px 1px 2px rgba(60, 64, 67, 0.3), 0px 1px 3px 1px rgba(60, 64, 67, 0.15);\n",
              "      fill: #174EA6;\n",
              "    }\n",
              "\n",
              "    [theme=dark] .colab-df-convert {\n",
              "      background-color: #3B4455;\n",
              "      fill: #D2E3FC;\n",
              "    }\n",
              "\n",
              "    [theme=dark] .colab-df-convert:hover {\n",
              "      background-color: #434B5C;\n",
              "      box-shadow: 0px 1px 3px 1px rgba(0, 0, 0, 0.15);\n",
              "      filter: drop-shadow(0px 1px 2px rgba(0, 0, 0, 0.3));\n",
              "      fill: #FFFFFF;\n",
              "    }\n",
              "  </style>\n",
              "\n",
              "      <script>\n",
              "        const buttonEl =\n",
              "          document.querySelector('#df-af7dd2e8-3571-4498-a379-af5928b36dc4 button.colab-df-convert');\n",
              "        buttonEl.style.display =\n",
              "          google.colab.kernel.accessAllowed ? 'block' : 'none';\n",
              "\n",
              "        async function convertToInteractive(key) {\n",
              "          const element = document.querySelector('#df-af7dd2e8-3571-4498-a379-af5928b36dc4');\n",
              "          const dataTable =\n",
              "            await google.colab.kernel.invokeFunction('convertToInteractive',\n",
              "                                                     [key], {});\n",
              "          if (!dataTable) return;\n",
              "\n",
              "          const docLinkHtml = 'Like what you see? Visit the ' +\n",
              "            '<a target=\"_blank\" href=https://colab.research.google.com/notebooks/data_table.ipynb>data table notebook</a>'\n",
              "            + ' to learn more about interactive tables.';\n",
              "          element.innerHTML = '';\n",
              "          dataTable['output_type'] = 'display_data';\n",
              "          await google.colab.output.renderOutput(dataTable, element);\n",
              "          const docLink = document.createElement('div');\n",
              "          docLink.innerHTML = docLinkHtml;\n",
              "          element.appendChild(docLink);\n",
              "        }\n",
              "      </script>\n",
              "    </div>\n",
              "  </div>\n",
              "  "
            ]
          },
          "metadata": {},
          "execution_count": 57
        }
      ]
    },
    {
      "cell_type": "code",
      "source": [
        "min(df['value_eur'])"
      ],
      "metadata": {
        "colab": {
          "base_uri": "https://localhost:8080/"
        },
        "id": "3zj5HsMsKF7a",
        "outputId": "a45d7724-5053-4f1f-a4d4-c57491df1fd0"
      },
      "execution_count": 58,
      "outputs": [
        {
          "output_type": "execute_result",
          "data": {
            "text/plain": [
              "15000.0"
            ]
          },
          "metadata": {},
          "execution_count": 58
        }
      ]
    },
    {
      "cell_type": "code",
      "source": [
        "((15000 <= df['value_eur']) & (df['value_eur'] < 750000)).sum()"
      ],
      "metadata": {
        "colab": {
          "base_uri": "https://localhost:8080/"
        },
        "id": "L-rlwxg7JtIK",
        "outputId": "449be0aa-ca24-4e0a-cc46-53d6cdef51f4"
      },
      "execution_count": 59,
      "outputs": [
        {
          "output_type": "execute_result",
          "data": {
            "text/plain": [
              "6359"
            ]
          },
          "metadata": {},
          "execution_count": 59
        }
      ]
    },
    {
      "cell_type": "code",
      "source": [
        "((750000 <= df['value_eur']) & (df['value_eur'] < 2500000)).sum()"
      ],
      "metadata": {
        "colab": {
          "base_uri": "https://localhost:8080/"
        },
        "id": "ZkCu58uQJtPE",
        "outputId": "baf2391a-df5c-46a8-cdbd-d55b238ac556"
      },
      "execution_count": 60,
      "outputs": [
        {
          "output_type": "execute_result",
          "data": {
            "text/plain": [
              "6966"
            ]
          },
          "metadata": {},
          "execution_count": 60
        }
      ]
    },
    {
      "cell_type": "code",
      "source": [
        "((2500000 <= df['value_eur']) & (df['value_eur'] < 10000000)).sum()"
      ],
      "metadata": {
        "colab": {
          "base_uri": "https://localhost:8080/"
        },
        "id": "XrlW6NXyLtbP",
        "outputId": "87aec984-0684-49ad-bc08-2c6079062200"
      },
      "execution_count": 61,
      "outputs": [
        {
          "output_type": "execute_result",
          "data": {
            "text/plain": [
              "2688"
            ]
          },
          "metadata": {},
          "execution_count": 61
        }
      ]
    },
    {
      "cell_type": "code",
      "source": [
        "((10000000 <= df['value_eur']) & (df['value_eur'] < 50000000)).sum()"
      ],
      "metadata": {
        "colab": {
          "base_uri": "https://localhost:8080/"
        },
        "id": "ujua_nzZLteA",
        "outputId": "adc00b70-64ee-4286-d2ec-2fe723b97e39"
      },
      "execution_count": 62,
      "outputs": [
        {
          "output_type": "execute_result",
          "data": {
            "text/plain": [
              "938"
            ]
          },
          "metadata": {},
          "execution_count": 62
        }
      ]
    },
    {
      "cell_type": "code",
      "source": [
        "((50000000 <= df['value_eur'])).sum()"
      ],
      "metadata": {
        "colab": {
          "base_uri": "https://localhost:8080/"
        },
        "id": "hQy2qCexLtgu",
        "outputId": "249575b3-c5a0-44c8-f263-bbbdf63bf3f0"
      },
      "execution_count": 63,
      "outputs": [
        {
          "output_type": "execute_result",
          "data": {
            "text/plain": [
              "90"
            ]
          },
          "metadata": {},
          "execution_count": 63
        }
      ]
    },
    {
      "cell_type": "code",
      "source": [
        "df['value_eur'].max()"
      ],
      "metadata": {
        "colab": {
          "base_uri": "https://localhost:8080/"
        },
        "id": "KNw-7NunNrqz",
        "outputId": "16019b59-4cb8-446a-d3bc-e1f0d1bb5003"
      },
      "execution_count": 64,
      "outputs": [
        {
          "output_type": "execute_result",
          "data": {
            "text/plain": [
              "194000000.0"
            ]
          },
          "metadata": {},
          "execution_count": 64
        }
      ]
    },
    {
      "cell_type": "code",
      "source": [
        "df['value_eur'] = pd.cut(df['value_eur'], bins=[0, 749999, 2499999,\n",
        "                  9999999, 49999999, 200000000], labels=[1,2,3,4,5])"
      ],
      "metadata": {
        "id": "4-l93AOjLtjM"
      },
      "execution_count": 65,
      "outputs": []
    },
    {
      "cell_type": "code",
      "source": [
        "value_labels = [\"0-750k\", \"750k-2.5m\", \"2.5m-10m\", \"10m-50m\", \"50m+\"]"
      ],
      "metadata": {
        "id": "2IlFumA6Z33F"
      },
      "execution_count": 66,
      "outputs": []
    },
    {
      "cell_type": "code",
      "source": [
        "key_bar, count_bar = np.unique(df['value_eur'], return_counts=True)"
      ],
      "metadata": {
        "id": "326X864ATaaj"
      },
      "execution_count": 67,
      "outputs": []
    },
    {
      "cell_type": "code",
      "source": [
        "fig = plt.figure(figsize =(10, 7))\n",
        "plt.bar(value_labels, count_bar)\n",
        "plt.title(\"Player Values (€) Classes\")\n",
        "plt.show()"
      ],
      "metadata": {
        "colab": {
          "base_uri": "https://localhost:8080/",
          "height": 444
        },
        "id": "9wnE0ne-aPSE",
        "outputId": "3ee7524e-04ce-48d6-9214-a57fff3a50a9"
      },
      "execution_count": 68,
      "outputs": [
        {
          "output_type": "display_data",
          "data": {
            "text/plain": [
              "<Figure size 720x504 with 1 Axes>"
            ],
            "image/png": "[encoded data removed]"
          },
          "metadata": {
            "needs_background": "light"
          }
        }
      ]
    },
    {
      "cell_type": "code",
      "source": [
        "features = ['overall', 'potential', 'height_cm', 'weight_kg',\n",
        "       'player_positions', 'preferred_foot', 'weak_foot', 'skill_moves',\n",
        "       'pace', 'shooting', 'passing', 'dribbling', 'defending', 'physic',\n",
        "       'attacking_finishing']\n",
        "\n",
        "X = df.loc[:, features]\n",
        "y = df.loc[:,['value_eur']]\n"
      ],
      "metadata": {
        "id": "dK4j8YCoPH2t"
      },
      "execution_count": 69,
      "outputs": []
    },
    {
      "cell_type": "code",
      "source": [
        "X.isnull().values.any()"
      ],
      "metadata": {
        "colab": {
          "base_uri": "https://localhost:8080/"
        },
        "id": "12SMCuREVLZK",
        "outputId": "c7a1b7fc-f8af-475f-954b-665283bb6bf5"
      },
      "execution_count": 70,
      "outputs": [
        {
          "output_type": "execute_result",
          "data": {
            "text/plain": [
              "False"
            ]
          },
          "metadata": {},
          "execution_count": 70
        }
      ]
    },
    {
      "cell_type": "code",
      "source": [
        "y.isnull().values.any()"
      ],
      "metadata": {
        "colab": {
          "base_uri": "https://localhost:8080/"
        },
        "id": "rqgeJL26VRnu",
        "outputId": "3034cd7c-582c-4bef-c741-522da4175e09"
      },
      "execution_count": 71,
      "outputs": [
        {
          "output_type": "execute_result",
          "data": {
            "text/plain": [
              "False"
            ]
          },
          "metadata": {},
          "execution_count": 71
        }
      ]
    },
    {
      "cell_type": "code",
      "source": [
        "X.head()"
      ],
      "metadata": {
        "colab": {
          "base_uri": "https://localhost:8080/",
          "height": 207
        },
        "id": "2f0ISK-VYKca",
        "outputId": "e15254c9-cd9e-4f2d-8d6b-15ba3137264e"
      },
      "execution_count": 72,
      "outputs": [
        {
          "output_type": "execute_result",
          "data": {
            "text/plain": [
              "   overall  potential  height_cm  weight_kg  player_positions  preferred_foot  \\\n",
              "0     0.93       0.93       1.70       0.72                 5               0   \n",
              "1     0.92       0.92       1.85       0.81                 6               1   \n",
              "2     0.91       0.91       1.87       0.83                 6               1   \n",
              "3     0.91       0.91       1.75       0.68                 5               1   \n",
              "4     0.91       0.91       1.81       0.70                 3               1   \n",
              "\n",
              "   weak_foot  skill_moves  pace  shooting  passing  dribbling  defending  \\\n",
              "0        0.8          0.8  0.85      0.92     0.91       0.95       0.34   \n",
              "1        0.8          0.8  0.78      0.92     0.79       0.86       0.44   \n",
              "2        0.8          1.0  0.87      0.94     0.80       0.88       0.34   \n",
              "3        1.0          1.0  0.91      0.83     0.86       0.94       0.37   \n",
              "4        1.0          0.8  0.76      0.86     0.93       0.88       0.64   \n",
              "\n",
              "   physic  attacking_finishing  \n",
              "0    0.65                 0.95  \n",
              "1    0.82                 0.95  \n",
              "2    0.75                 0.95  \n",
              "3    0.63                 0.83  \n",
              "4    0.78                 0.82  "
            ],
            "text/html": [
              "\n",
              "  <div id=\"df-238028ed-157f-4ba6-8214-27b1a173a516\">\n",
              "    <div class=\"colab-df-container\">\n",
              "      <div>\n",
              "<style scoped>\n",
              "    .dataframe tbody tr th:only-of-type {\n",
              "        vertical-align: middle;\n",
              "    }\n",
              "\n",
              "    .dataframe tbody tr th {\n",
              "        vertical-align: top;\n",
              "    }\n",
              "\n",
              "    .dataframe thead th {\n",
              "        text-align: right;\n",
              "    }\n",
              "</style>\n",
              "<table border=\"1\" class=\"dataframe\">\n",
              "  <thead>\n",
              "    <tr style=\"text-align: right;\">\n",
              "      <th></th>\n",
              "      <th>overall</th>\n",
              "      <th>potential</th>\n",
              "      <th>height_cm</th>\n",
              "      <th>weight_kg</th>\n",
              "      <th>player_positions</th>\n",
              "      <th>preferred_foot</th>\n",
              "      <th>weak_foot</th>\n",
              "      <th>skill_moves</th>\n",
              "      <th>pace</th>\n",
              "      <th>shooting</th>\n",
              "      <th>passing</th>\n",
              "      <th>dribbling</th>\n",
              "      <th>defending</th>\n",
              "      <th>physic</th>\n",
              "      <th>attacking_finishing</th>\n",
              "    </tr>\n",
              "  </thead>\n",
              "  <tbody>\n",
              "    <tr>\n",
              "      <th>0</th>\n",
              "      <td>0.93</td>\n",
              "      <td>0.93</td>\n",
              "      <td>1.70</td>\n",
              "      <td>0.72</td>\n",
              "      <td>5</td>\n",
              "      <td>0</td>\n",
              "      <td>0.8</td>\n",
              "      <td>0.8</td>\n",
              "      <td>0.85</td>\n",
              "      <td>0.92</td>\n",
              "      <td>0.91</td>\n",
              "      <td>0.95</td>\n",
              "      <td>0.34</td>\n",
              "      <td>0.65</td>\n",
              "      <td>0.95</td>\n",
              "    </tr>\n",
              "    <tr>\n",
              "      <th>1</th>\n",
              "      <td>0.92</td>\n",
              "      <td>0.92</td>\n",
              "      <td>1.85</td>\n",
              "      <td>0.81</td>\n",
              "      <td>6</td>\n",
              "      <td>1</td>\n",
              "      <td>0.8</td>\n",
              "      <td>0.8</td>\n",
              "      <td>0.78</td>\n",
              "      <td>0.92</td>\n",
              "      <td>0.79</td>\n",
              "      <td>0.86</td>\n",
              "      <td>0.44</td>\n",
              "      <td>0.82</td>\n",
              "      <td>0.95</td>\n",
              "    </tr>\n",
              "    <tr>\n",
              "      <th>2</th>\n",
              "      <td>0.91</td>\n",
              "      <td>0.91</td>\n",
              "      <td>1.87</td>\n",
              "      <td>0.83</td>\n",
              "      <td>6</td>\n",
              "      <td>1</td>\n",
              "      <td>0.8</td>\n",
              "      <td>1.0</td>\n",
              "      <td>0.87</td>\n",
              "      <td>0.94</td>\n",
              "      <td>0.80</td>\n",
              "      <td>0.88</td>\n",
              "      <td>0.34</td>\n",
              "      <td>0.75</td>\n",
              "      <td>0.95</td>\n",
              "    </tr>\n",
              "    <tr>\n",
              "      <th>3</th>\n",
              "      <td>0.91</td>\n",
              "      <td>0.91</td>\n",
              "      <td>1.75</td>\n",
              "      <td>0.68</td>\n",
              "      <td>5</td>\n",
              "      <td>1</td>\n",
              "      <td>1.0</td>\n",
              "      <td>1.0</td>\n",
              "      <td>0.91</td>\n",
              "      <td>0.83</td>\n",
              "      <td>0.86</td>\n",
              "      <td>0.94</td>\n",
              "      <td>0.37</td>\n",
              "      <td>0.63</td>\n",
              "      <td>0.83</td>\n",
              "    </tr>\n",
              "    <tr>\n",
              "      <th>4</th>\n",
              "      <td>0.91</td>\n",
              "      <td>0.91</td>\n",
              "      <td>1.81</td>\n",
              "      <td>0.70</td>\n",
              "      <td>3</td>\n",
              "      <td>1</td>\n",
              "      <td>1.0</td>\n",
              "      <td>0.8</td>\n",
              "      <td>0.76</td>\n",
              "      <td>0.86</td>\n",
              "      <td>0.93</td>\n",
              "      <td>0.88</td>\n",
              "      <td>0.64</td>\n",
              "      <td>0.78</td>\n",
              "      <td>0.82</td>\n",
              "    </tr>\n",
              "  </tbody>\n",
              "</table>\n",
              "</div>\n",
              "      <button class=\"colab-df-convert\" onclick=\"convertToInteractive('df-238028ed-157f-4ba6-8214-27b1a173a516')\"\n",
              "              title=\"Convert this dataframe to an interactive table.\"\n",
              "              style=\"display:none;\">\n",
              "        \n",
              "  <svg xmlns=\"http://www.w3.org/2000/svg\" height=\"24px\"viewBox=\"0 0 24 24\"\n",
              "       width=\"24px\">\n",
              "    <path d=\"M0 0h24v24H0V0z\" fill=\"none\"/>\n",
              "    <path d=\"M18.56 5.44l.94 2.06.94-2.06 2.06-.94-2.06-.94-.94-2.06-.94 2.06-2.06.94zm-11 1L8.5 8.5l.94-2.06 2.06-.94-2.06-.94L8.5 2.5l-.94 2.06-2.06.94zm10 10l.94 2.06.94-2.06 2.06-.94-2.06-.94-.94-2.06-.94 2.06-2.06.94z\"/><path d=\"M17.41 7.96l-1.37-1.37c-.4-.4-.92-.59-1.43-.59-.52 0-1.04.2-1.43.59L10.3 9.45l-7.72 7.72c-.78.78-.78 2.05 0 2.83L4 21.41c.39.39.9.59 1.41.59.51 0 1.02-.2 1.41-.59l7.78-7.78 2.81-2.81c.8-.78.8-2.07 0-2.86zM5.41 20L4 18.59l7.72-7.72 1.47 1.35L5.41 20z\"/>\n",
              "  </svg>\n",
              "      </button>\n",
              "      \n",
              "  <style>\n",
              "    .colab-df-container {\n",
              "      display:flex;\n",
              "      flex-wrap:wrap;\n",
              "      gap: 12px;\n",
              "    }\n",
              "\n",
              "    .colab-df-convert {\n",
              "      background-color: #E8F0FE;\n",
              "      border: none;\n",
              "      border-radius: 50%;\n",
              "      cursor: pointer;\n",
              "      display: none;\n",
              "      fill: #1967D2;\n",
              "      height: 32px;\n",
              "      padding: 0 0 0 0;\n",
              "      width: 32px;\n",
              "    }\n",
              "\n",
              "    .colab-df-convert:hover {\n",
              "      background-color: #E2EBFA;\n",
              "      box-shadow: 0px 1px 2px rgba(60, 64, 67, 0.3), 0px 1px 3px 1px rgba(60, 64, 67, 0.15);\n",
              "      fill: #174EA6;\n",
              "    }\n",
              "\n",
              "    [theme=dark] .colab-df-convert {\n",
              "      background-color: #3B4455;\n",
              "      fill: #D2E3FC;\n",
              "    }\n",
              "\n",
              "    [theme=dark] .colab-df-convert:hover {\n",
              "      background-color: #434B5C;\n",
              "      box-shadow: 0px 1px 3px 1px rgba(0, 0, 0, 0.15);\n",
              "      filter: drop-shadow(0px 1px 2px rgba(0, 0, 0, 0.3));\n",
              "      fill: #FFFFFF;\n",
              "    }\n",
              "  </style>\n",
              "\n",
              "      <script>\n",
              "        const buttonEl =\n",
              "          document.querySelector('#df-238028ed-157f-4ba6-8214-27b1a173a516 button.colab-df-convert');\n",
              "        buttonEl.style.display =\n",
              "          google.colab.kernel.accessAllowed ? 'block' : 'none';\n",
              "\n",
              "        async function convertToInteractive(key) {\n",
              "          const element = document.querySelector('#df-238028ed-157f-4ba6-8214-27b1a173a516');\n",
              "          const dataTable =\n",
              "            await google.colab.kernel.invokeFunction('convertToInteractive',\n",
              "                                                     [key], {});\n",
              "          if (!dataTable) return;\n",
              "\n",
              "          const docLinkHtml = 'Like what you see? Visit the ' +\n",
              "            '<a target=\"_blank\" href=https://colab.research.google.com/notebooks/data_table.ipynb>data table notebook</a>'\n",
              "            + ' to learn more about interactive tables.';\n",
              "          element.innerHTML = '';\n",
              "          dataTable['output_type'] = 'display_data';\n",
              "          await google.colab.output.renderOutput(dataTable, element);\n",
              "          const docLink = document.createElement('div');\n",
              "          docLink.innerHTML = docLinkHtml;\n",
              "          element.appendChild(docLink);\n",
              "        }\n",
              "      </script>\n",
              "    </div>\n",
              "  </div>\n",
              "  "
            ]
          },
          "metadata": {},
          "execution_count": 72
        }
      ]
    },
    {
      "cell_type": "code",
      "source": [
        "y.head()"
      ],
      "metadata": {
        "colab": {
          "base_uri": "https://localhost:8080/",
          "height": 207
        },
        "id": "P3mL6_cnPgpd",
        "outputId": "91b2b753-e6d5-479a-af81-7d277f452bed"
      },
      "execution_count": 73,
      "outputs": [
        {
          "output_type": "execute_result",
          "data": {
            "text/plain": [
              "  value_eur\n",
              "0         5\n",
              "1         5\n",
              "2         4\n",
              "3         5\n",
              "4         5"
            ],
            "text/html": [
              "\n",
              "  <div id=\"df-d219cb5b-948e-4dba-8116-c3760b384be2\">\n",
              "    <div class=\"colab-df-container\">\n",
              "      <div>\n",
              "<style scoped>\n",
              "    .dataframe tbody tr th:only-of-type {\n",
              "        vertical-align: middle;\n",
              "    }\n",
              "\n",
              "    .dataframe tbody tr th {\n",
              "        vertical-align: top;\n",
              "    }\n",
              "\n",
              "    .dataframe thead th {\n",
              "        text-align: right;\n",
              "    }\n",
              "</style>\n",
              "<table border=\"1\" class=\"dataframe\">\n",
              "  <thead>\n",
              "    <tr style=\"text-align: right;\">\n",
              "      <th></th>\n",
              "      <th>value_eur</th>\n",
              "    </tr>\n",
              "  </thead>\n",
              "  <tbody>\n",
              "    <tr>\n",
              "      <th>0</th>\n",
              "      <td>5</td>\n",
              "    </tr>\n",
              "    <tr>\n",
              "      <th>1</th>\n",
              "      <td>5</td>\n",
              "    </tr>\n",
              "    <tr>\n",
              "      <th>2</th>\n",
              "      <td>4</td>\n",
              "    </tr>\n",
              "    <tr>\n",
              "      <th>3</th>\n",
              "      <td>5</td>\n",
              "    </tr>\n",
              "    <tr>\n",
              "      <th>4</th>\n",
              "      <td>5</td>\n",
              "    </tr>\n",
              "  </tbody>\n",
              "</table>\n",
              "</div>\n",
              "      <button class=\"colab-df-convert\" onclick=\"convertToInteractive('df-d219cb5b-948e-4dba-8116-c3760b384be2')\"\n",
              "              title=\"Convert this dataframe to an interactive table.\"\n",
              "              style=\"display:none;\">\n",
              "        \n",
              "  <svg xmlns=\"http://www.w3.org/2000/svg\" height=\"24px\"viewBox=\"0 0 24 24\"\n",
              "       width=\"24px\">\n",
              "    <path d=\"M0 0h24v24H0V0z\" fill=\"none\"/>\n",
              "    <path d=\"M18.56 5.44l.94 2.06.94-2.06 2.06-.94-2.06-.94-.94-2.06-.94 2.06-2.06.94zm-11 1L8.5 8.5l.94-2.06 2.06-.94-2.06-.94L8.5 2.5l-.94 2.06-2.06.94zm10 10l.94 2.06.94-2.06 2.06-.94-2.06-.94-.94-2.06-.94 2.06-2.06.94z\"/><path d=\"M17.41 7.96l-1.37-1.37c-.4-.4-.92-.59-1.43-.59-.52 0-1.04.2-1.43.59L10.3 9.45l-7.72 7.72c-.78.78-.78 2.05 0 2.83L4 21.41c.39.39.9.59 1.41.59.51 0 1.02-.2 1.41-.59l7.78-7.78 2.81-2.81c.8-.78.8-2.07 0-2.86zM5.41 20L4 18.59l7.72-7.72 1.47 1.35L5.41 20z\"/>\n",
              "  </svg>\n",
              "      </button>\n",
              "      \n",
              "  <style>\n",
              "    .colab-df-container {\n",
              "      display:flex;\n",
              "      flex-wrap:wrap;\n",
              "      gap: 12px;\n",
              "    }\n",
              "\n",
              "    .colab-df-convert {\n",
              "      background-color: #E8F0FE;\n",
              "      border: none;\n",
              "      border-radius: 50%;\n",
              "      cursor: pointer;\n",
              "      display: none;\n",
              "      fill: #1967D2;\n",
              "      height: 32px;\n",
              "      padding: 0 0 0 0;\n",
              "      width: 32px;\n",
              "    }\n",
              "\n",
              "    .colab-df-convert:hover {\n",
              "      background-color: #E2EBFA;\n",
              "      box-shadow: 0px 1px 2px rgba(60, 64, 67, 0.3), 0px 1px 3px 1px rgba(60, 64, 67, 0.15);\n",
              "      fill: #174EA6;\n",
              "    }\n",
              "\n",
              "    [theme=dark] .colab-df-convert {\n",
              "      background-color: #3B4455;\n",
              "      fill: #D2E3FC;\n",
              "    }\n",
              "\n",
              "    [theme=dark] .colab-df-convert:hover {\n",
              "      background-color: #434B5C;\n",
              "      box-shadow: 0px 1px 3px 1px rgba(0, 0, 0, 0.15);\n",
              "      filter: drop-shadow(0px 1px 2px rgba(0, 0, 0, 0.3));\n",
              "      fill: #FFFFFF;\n",
              "    }\n",
              "  </style>\n",
              "\n",
              "      <script>\n",
              "        const buttonEl =\n",
              "          document.querySelector('#df-d219cb5b-948e-4dba-8116-c3760b384be2 button.colab-df-convert');\n",
              "        buttonEl.style.display =\n",
              "          google.colab.kernel.accessAllowed ? 'block' : 'none';\n",
              "\n",
              "        async function convertToInteractive(key) {\n",
              "          const element = document.querySelector('#df-d219cb5b-948e-4dba-8116-c3760b384be2');\n",
              "          const dataTable =\n",
              "            await google.colab.kernel.invokeFunction('convertToInteractive',\n",
              "                                                     [key], {});\n",
              "          if (!dataTable) return;\n",
              "\n",
              "          const docLinkHtml = 'Like what you see? Visit the ' +\n",
              "            '<a target=\"_blank\" href=https://colab.research.google.com/notebooks/data_table.ipynb>data table notebook</a>'\n",
              "            + ' to learn more about interactive tables.';\n",
              "          element.innerHTML = '';\n",
              "          dataTable['output_type'] = 'display_data';\n",
              "          await google.colab.output.renderOutput(dataTable, element);\n",
              "          const docLink = document.createElement('div');\n",
              "          docLink.innerHTML = docLinkHtml;\n",
              "          element.appendChild(docLink);\n",
              "        }\n",
              "      </script>\n",
              "    </div>\n",
              "  </div>\n",
              "  "
            ]
          },
          "metadata": {},
          "execution_count": 73
        }
      ]
    },
    {
      "cell_type": "code",
      "source": [
        "X.shape, y.shape"
      ],
      "metadata": {
        "colab": {
          "base_uri": "https://localhost:8080/"
        },
        "id": "tkIiKXjzTXbq",
        "outputId": "5b86a58a-f092-491e-f396-c9ecafc826e7"
      },
      "execution_count": 74,
      "outputs": [
        {
          "output_type": "execute_result",
          "data": {
            "text/plain": [
              "((17041, 15), (17041, 1))"
            ]
          },
          "metadata": {},
          "execution_count": 74
        }
      ]
    },
    {
      "cell_type": "code",
      "source": [
        "# train test split, PCA ve normalizasyon islemleri\n",
        "X_train, X_test, y_train, y_test = train_test_split(X, y, test_size=0.2)\n",
        "\n",
        "scaler = StandardScaler()\n",
        "X_train_pca = scaler.fit_transform(X_train)\n",
        "X_test_pca = scaler.transform(X_test)\n",
        "pca = PCA(n_components=5)\n",
        "\n",
        "X_train_pca = pca.fit_transform(X_train_pca)\n",
        "X_test_pca = pca.fit_transform(X_test_pca)\n",
        "\n",
        "X_train_norm = preprocessing.normalize(X_train)  \n",
        "X_test_norm = preprocessing.normalize(X_test)  "
      ],
      "metadata": {
        "id": "NF1LrDl9H_3m"
      },
      "execution_count": 75,
      "outputs": []
    },
    {
      "cell_type": "markdown",
      "source": [
        "# KNN"
      ],
      "metadata": {
        "id": "j-9NP2SUoF_g"
      }
    },
    {
      "cell_type": "code",
      "source": [
        "params = {\n",
        "    'n_neighbors': [7, 5, 3, 9]\n",
        "}\n",
        "\n",
        "#### knn with original data \n",
        "knn = KNeighborsClassifier()\n",
        "cv = GridSearchCV(estimator=knn, param_grid=params, cv=10)\n",
        "cv.fit(X_train, y_train)\n",
        "KNN_original = KNeighborsClassifier(n_neighbors=cv.best_params_[\"n_neighbors\"])\n",
        "KNN_original.fit(X_train, y_train)\n",
        "y_preds_KNN = KNN_original.predict(X_test)\n",
        "KNN_accuracy_original = metrics.accuracy_score(y_test, y_preds_KNN)\n",
        "KNN_f1_original = metrics.f1_score(y_test, y_preds_KNN, average=\"weighted\")\n",
        "print(\"Accuracy With KNN (original):\",KNN_accuracy_original)\n",
        "print(\"Accuracy With KNN (original):\",KNN_f1_original)\n",
        "\n",
        "\n",
        "### knn with pca data\n",
        "knn = KNeighborsClassifier()\n",
        "cv = GridSearchCV(estimator=knn, param_grid=params, cv=10)\n",
        "cv.fit(X_train_pca, y_train)\n",
        "KNN_pca = KNeighborsClassifier(n_neighbors=cv.best_params_[\"n_neighbors\"])\n",
        "KNN_pca.fit(X_train_pca,y_train) \n",
        "KNN_preds_original = KNN_pca.predict(X_test_pca)\n",
        "KNN_accuracy_pca = metrics.accuracy_score(y_test, KNN_preds_original)\n",
        "KNN_f1_pca = metrics.f1_score(y_test, KNN_preds_original, average=\"weighted\")\n",
        "print(\"\\nAccuracy With KNN (PCA):\",KNN_accuracy_pca)\n",
        "print(\"F1 With KNN (PCA Data):\", KNN_f1_pca)\n",
        "\n",
        "### knn with normalized data\n",
        "knn = KNeighborsClassifier()\n",
        "cv = GridSearchCV(estimator=knn, param_grid=params, cv=10)\n",
        "cv.fit(X_train_norm, y_train)\n",
        "KNN_norm = KNeighborsClassifier(n_neighbors=cv.best_params_[\"n_neighbors\"])\n",
        "KNN_norm.fit(X_train_norm,y_train) # normalized test datasi ile test\n",
        "KNN_preds_norm = KNN_norm.predict(X_test_norm) # normalized test datasi ile predict\n",
        "KNN_acc_norm = metrics.accuracy_score(y_test,KNN_preds_norm)\n",
        "KNN_F1_norm = metrics.f1_score(y_test, KNN_preds_norm, average=\"weighted\")\n",
        "print(\"\\nAccuracy With KNN (Normalized):\",KNN_acc_norm)\n",
        "print(\"F1 With KNN (Normalized):\", KNN_F1_norm)"
      ],
      "metadata": {
        "id": "2oTiWw9wH__V",
        "colab": {
          "base_uri": "https://localhost:8080/"
        },
        "outputId": "1fac9068-a991-4fa6-ab5d-fddc63cfef4a"
      },
      "execution_count": 76,
      "outputs": [
        {
          "output_type": "stream",
          "name": "stdout",
          "text": [
            "Accuracy With KNN (original): 0.7609269580522148\n",
            "Accuracy With KNN (original): 0.7561355540087507\n",
            "\n",
            "Accuracy With KNN (PCA): 0.3933704898797301\n",
            "F1 With KNN (PCA Data): 0.3914781682404443\n",
            "\n",
            "Accuracy With KNN (Normalized): 0.7421531240833089\n",
            "F1 With KNN (Normalized): 0.7366584578468759\n"
          ]
        }
      ]
    },
    {
      "cell_type": "code",
      "source": [
        "# accuracy comparison of knn models trained with different datasets\n",
        "y= [KNN_accuracy_original, KNN_accuracy_pca, KNN_acc_norm]\n",
        "x = [1, 2, 3]\n",
        "tick_label = ['Original Data', 'PCA Data' , 'Normalized Data']\n",
        "plt.bar(x, y, tick_label = tick_label,\n",
        "        width = 0.8, color = ['red', 'orange','blue'])\n",
        "plt.xlabel('Type of Data')\n",
        "plt.ylabel('Score')\n",
        "plt.title('KNN Accuracy Comparison')\n",
        "\n",
        "plt.show()"
      ],
      "metadata": {
        "id": "xxl9k8KXPHMc",
        "colab": {
          "base_uri": "https://localhost:8080/",
          "height": 295
        },
        "outputId": "579135d9-52dd-4a9c-8f0e-9280a17d4b15"
      },
      "execution_count": 77,
      "outputs": [
        {
          "output_type": "display_data",
          "data": {
            "text/plain": [
              "<Figure size 432x288 with 1 Axes>"
            ],
            "image/png": "[encoded data removed]"
          },
          "metadata": {
            "needs_background": "light"
          }
        }
      ]
    },
    {
      "cell_type": "markdown",
      "source": [
        "\n",
        "# DECISION TREE"
      ],
      "metadata": {
        "id": "frw3IX0wwCBu"
      }
    },
    {
      "cell_type": "code",
      "source": [
        "params = {\n",
        "    \"criterion\":[\"gini\", \"entropy\"]\n",
        "}\n",
        "DT = DecisionTreeClassifier() \n",
        "cv = GridSearchCV(DT, param_grid=params, cv=10)\n",
        "cv.fit(X_train, y_train)\n",
        "DT_original = DecisionTreeClassifier(criterion=cv.best_params_[\"criterion\"])\n",
        "\n",
        "# DT with original data\n",
        "DT_original.fit(X_train,y_train)\n",
        "y_preds_DT = DT_original.predict(X_test)\n",
        "DT_accuracy = metrics.accuracy_score(y_test, y_preds_DT)\n",
        "DT_f1_original = metrics.f1_score(y_test, y_preds_DT, average=\"weighted\")\n",
        "print(\"Accuracy With Decision Tree (Original Data):\",DT_accuracy)\n",
        "print(\"F1 With Decision Tree (Original Data)\", DT_f1_original)\n",
        "\n",
        "# DT with PCA data\n",
        "DT = DecisionTreeClassifier()\n",
        "cv = GridSearchCV(estimator=DT, param_grid=params, cv=10)\n",
        "cv.fit(X_train_pca, y_train)\n",
        "DT_pca = DecisionTreeClassifier(criterion=cv.best_params_[\"criterion\"])\n",
        "DT_pca.fit(X_train_pca,y_train)\n",
        "y_preds_DT_pca = DT_pca.predict(X_test_pca)\n",
        "DT_accuracy_pca = metrics.accuracy_score(y_test, y_preds_DT_pca)\n",
        "DT_f1_pca = metrics.f1_score(y_test, y_preds_DT_pca, average=\"weighted\")\n",
        "print(\"\\nAccuracy With Decision Tree (PCA Data):\",DT_accuracy_pca)\n",
        "print(\"F1 With Decision Tree (PCA Data):\", DT_f1_pca)\n",
        "\n",
        "# DT with normalized data\n",
        "DT = DecisionTreeClassifier()\n",
        "cv = GridSearchCV(estimator=DT, param_grid=params, cv=10)\n",
        "cv.fit(X_train_norm, y_train)\n",
        "DT_norm = DecisionTreeClassifier(criterion=cv.best_params_[\"criterion\"])\n",
        "DT_norm.fit(X_train_norm,y_train)\n",
        "y_preds_DT_norm = DT_norm.predict(X_test_norm)\n",
        "DT_accuracy_norm = metrics.accuracy_score(y_test, y_preds_DT_norm)\n",
        "DT_f1_norm = metrics.f1_score(y_test, y_preds_DT_norm, average=\"weighted\")\n",
        "print(\"\\nAccuracy With Decision Tree (Normalized Data):\",DT_accuracy_norm)\n",
        "print(\"F1 With Decision Tree (Normalized Data): \", DT_f1_norm)\n",
        "\n"
      ],
      "metadata": {
        "id": "SuqlelgtcG6R",
        "colab": {
          "base_uri": "https://localhost:8080/"
        },
        "outputId": "a33275ef-e52d-4ce9-c32c-dc0a17be4dfe"
      },
      "execution_count": 79,
      "outputs": [
        {
          "output_type": "stream",
          "name": "stdout",
          "text": [
            "Accuracy With Decision Tree (Original Data): 0.9251980052801408\n",
            "F1 With Decision Tree (Original Data) 0.9251376921806522\n",
            "\n",
            "Accuracy With Decision Tree (PCA Data): 0.3725432678204752\n",
            "F1 With Decision Tree (PCA Data): 0.37362707251472754\n",
            "\n",
            "Accuracy With Decision Tree (Normalized Data): 0.8451158697565269\n",
            "F1 With Decision Tree (Normalized Data):  0.8450759414395975\n"
          ]
        }
      ]
    },
    {
      "cell_type": "code",
      "source": [
        "# accuracy comparison of DT trained with different datasets\n",
        "y= [DT_accuracy, DT_accuracy_pca, DT_accuracy_norm]\n",
        "x = [1, 2, 3]\n",
        "tick_label = ['Original Data', 'PCA Data' , 'Normalized Data']\n",
        "plt.bar(x, y, tick_label = tick_label,\n",
        "        width = 0.8, color = ['red', 'orange','blue'])\n",
        "plt.xlabel('Type of Data')\n",
        "plt.ylabel('Score')\n",
        "plt.title('Decision Tree Accuracy Comparison')\n",
        "\n",
        "plt.show()"
      ],
      "metadata": {
        "id": "HquGqG9NP6uS",
        "colab": {
          "base_uri": "https://localhost:8080/",
          "height": 295
        },
        "outputId": "90e79fdc-1f4b-4d78-af5c-239503d93c7e"
      },
      "execution_count": 80,
      "outputs": [
        {
          "output_type": "display_data",
          "data": {
            "text/plain": [
              "<Figure size 432x288 with 1 Axes>"
            ],
            "image/png": "[encoded data removed]"
          },
          "metadata": {
            "needs_background": "light"
          }
        }
      ]
    },
    {
      "cell_type": "markdown",
      "source": [
        "# Random Forest Classifier"
      ],
      "metadata": {
        "id": "TeZJI-wpXWMi"
      }
    },
    {
      "cell_type": "code",
      "source": [
        "RFC = RandomForestClassifier()\n",
        "\n",
        "params = {\n",
        "    \"n_estimators\":[100,200],\n",
        "    \"criterion\":[\"gini\",\"entropy\"]\n",
        "}\n",
        "\n",
        "# rf with original data\n",
        "cv = GridSearchCV(estimator=RFC, param_grid=params, cv=10)\n",
        "cv.fit(X_train,y_train)\n",
        "RFC_original = RandomForestClassifier(random_state=34, n_estimators=cv.best_params_[\"n_estimators\"], criterion=cv.best_params_[\"criterion\"])\n",
        "RFC_original.fit(X_train, y_train)\n",
        "RFC_preds_original = RFC_original.predict(X_test)\n",
        "RFC_accuracy_original = metrics.accuracy_score(y_test, RFC_preds_original)\n",
        "RFC_f1_original = metrics.f1_score(y_test, RFC_preds_original, average = \"weighted\")\n",
        "\n",
        "print(\"Accuracy With Random Forest (Original Data): \", RFC_accuracy_original)\n",
        "print(\"F1 With Random Forest (Original Data)\", RFC_f1_original)\n",
        "\n",
        "\n",
        "# rf with PCA data\n",
        "cv = GridSearchCV(estimator=RFC, param_grid=params, cv=10)\n",
        "cv.fit(X_train_pca,y_train)\n",
        "RFC_pca = RandomForestClassifier(random_state=34, n_estimators=cv.best_params_[\"n_estimators\"], criterion=cv.best_params_[\"criterion\"])\n",
        "RFC_pca.fit(X_train_pca, y_train)\n",
        "RFC_preds_pca = RFC_pca.predict(X_test_pca)\n",
        "RFC_accuracy_pca = metrics.accuracy_score(y_test, RFC_preds_pca)\n",
        "RFC_f1_pca = metrics.f1_score(y_test, RFC_preds_pca, average = \"weighted\")\n",
        "\n",
        "print(\"\\nAccuracy With Random Forest: (PCA Data)\", RFC_accuracy_pca)\n",
        "print(\"F1 With Random Forest (Original Data)\", RFC_f1_pca)\n",
        "\n",
        "# rf with normalized data\n",
        "cv = GridSearchCV(estimator=RFC, param_grid=params, cv=10)\n",
        "cv.fit(X_train_norm,y_train)\n",
        "RFC_norm = RandomForestClassifier(random_state=34, n_estimators=cv.best_params_[\"n_estimators\"], criterion=cv.best_params_[\"criterion\"])\n",
        "RFC_norm.fit(X_train_norm, y_train)\n",
        "RFC_preds_norm = RFC_norm.predict(X_test_norm)\n",
        "RFC_accuracy_norm = metrics.accuracy_score(y_test, RFC_preds_norm)\n",
        "RFC_f1_norm = metrics.f1_score(y_test, RFC_preds_norm, average = \"weighted\")\n",
        "print(\"\\nAccuracy With Random Forest: (Normalized Data)\", RFC_accuracy_norm)\n",
        "print(\"F1 With Random Forest (Normalized Data)\", RFC_f1_norm)\n"
      ],
      "metadata": {
        "id": "ZI8H11xVcG_Y",
        "colab": {
          "base_uri": "https://localhost:8080/"
        },
        "outputId": "aa2c757c-2a9b-424f-eafb-5e7d71babdb5"
      },
      "execution_count": 81,
      "outputs": [
        {
          "output_type": "stream",
          "name": "stdout",
          "text": [
            "Accuracy With Random Forest (Original Data):  0.9404517453798767\n",
            "F1 With Random Forest (Original Data) 0.9404500389744821\n",
            "\n",
            "Accuracy With Random Forest: (PCA Data) 0.3839835728952772\n",
            "F1 With Random Forest (Original Data) 0.38372517426317143\n",
            "\n",
            "Accuracy With Random Forest: (Normalized Data) 0.8820768553828102\n",
            "F1 With Random Forest (Normalized Data) 0.8811045475150421\n"
          ]
        }
      ]
    },
    {
      "cell_type": "code",
      "source": [
        "# accuracy coomparison of RFC models trained with different datasets\n",
        "y= [RFC_accuracy_original, RFC_accuracy_pca, RFC_accuracy_norm]\n",
        "x = [1, 2, 3]\n",
        "tick_label = ['Original Data', 'PCA Data' , 'Normalized Data']\n",
        "plt.bar(x, y, tick_label = tick_label,\n",
        "        width = 0.8, color = ['red', 'orange','blue'])\n",
        "plt.xlabel('Type of Data')\n",
        "plt.ylabel('Score')\n",
        "plt.title('Random Forest Accuracy Comparison')\n",
        "\n",
        "plt.show()"
      ],
      "metadata": {
        "id": "2-SjQCc8Qhoj",
        "colab": {
          "base_uri": "https://localhost:8080/",
          "height": 295
        },
        "outputId": "c4855017-9334-4f82-f702-161dd2cf382b"
      },
      "execution_count": 82,
      "outputs": [
        {
          "output_type": "display_data",
          "data": {
            "text/plain": [
              "<Figure size 432x288 with 1 Axes>"
            ],
            "image/png": "[encoded data removed]"
          },
          "metadata": {
            "needs_background": "light"
          }
        }
      ]
    },
    {
      "cell_type": "markdown",
      "source": [
        "# Support Vector Machines"
      ],
      "metadata": {
        "id": "iMl2lQFbXoJb"
      }
    },
    {
      "cell_type": "code",
      "source": [
        "\n",
        "svc = SVC()\n",
        "params = {\n",
        "    \"kernel\":[\"linear\"]\n",
        "}\n",
        "\n",
        "# svc with original data\n",
        "cv = GridSearchCV(estimator=svc, param_grid=params, cv=10)\n",
        "cv.fit(X_train, y_train)\n",
        "SVC_original= SVC(kernel=cv.best_params_[\"kernel\"])\n",
        "SVC_original.fit(X_train, y_train)\n",
        "SVC_preds_original = SVC_original.predict(X_test)\n",
        "SVC_accuracy_original = metrics.accuracy_score(y_test, SVC_preds_original)\n",
        "SVC_f1_original = metrics.f1_score(y_test, SVC_preds_original, average=\"weighted\")\n",
        "print(\"Accuracy With Support Vector Machines: (Original Data)\", SVC_accuracy_original)\n",
        "print(\"F1 With Support Vector Machine (Original Data):\", SVC_f1_original)\n",
        "\n",
        "# svc with PCA data\n",
        "svc = SVC()\n",
        "cv = GridSearchCV(estimator=svc, param_grid=params, cv=10)\n",
        "cv.fit(X_train_pca, y_train)\n",
        "SVC_pca = SVC(kernel=cv.best_params_[\"kernel\"])\n",
        "SVC_pca.fit(X_train_pca, y_train)\n",
        "SVC_preds_pca = SVC_pca.predict(X_test_pca)\n",
        "SVC_accuracy_pca = metrics.accuracy_score(y_test, SVC_preds_pca)\n",
        "SVC_f1_pca = metrics.f1_score(y_test, SVC_preds_pca, average=\"weighted\")\n",
        "print(\"\\nAccuracy With Support Vector Machines: (PCA Data) \", SVC_accuracy_pca)\n",
        "print(\"F1 With Support Vector Machine (Original Data):\", SVC_f1_pca)\n",
        "\n",
        "# svc with normalized data\n",
        "svc = SVC()\n",
        "cv = GridSearchCV(estimator=svc, param_grid=params, cv=10)\n",
        "cv.fit(X_train_norm, y_train)\n",
        "SVC_norm = SVC(kernel=cv.best_params_[\"kernel\"])\n",
        "SVC_norm.fit(X_train_norm, y_train)\n",
        "SVC_preds_norm = SVC_norm.predict(X_test_norm)\n",
        "SVC_accuracy_norm = metrics.accuracy_score(y_test, SVC_preds_norm)\n",
        "SVC_f1_norm = metrics.f1_score(y_test, SVC_preds_norm,average=\"weighted\")\n",
        "print(\"\\nAccuracy With Support Vector Machines: (Normalized Data) \", SVC_accuracy_norm)\n",
        "print(\"F1 With Support Vector Machine (Normalized):\", SVC_f1_norm)"
      ],
      "metadata": {
        "id": "0DziaigKcoQ4",
        "colab": {
          "base_uri": "https://localhost:8080/"
        },
        "outputId": "a2d6a1e9-95b2-446e-ed12-9f66a1738c1f"
      },
      "execution_count": 83,
      "outputs": [
        {
          "output_type": "stream",
          "name": "stdout",
          "text": [
            "Accuracy With Support Vector Machines: (Original Data) 0.8738633030214139\n",
            "F1 With Support Vector Machine (Original Data): 0.8712527222338359\n",
            "\n",
            "Accuracy With Support Vector Machines: (PCA Data)  0.35875623349956\n",
            "F1 With Support Vector Machine (Original Data): 0.35798118248832417\n",
            "\n",
            "Accuracy With Support Vector Machines: (Normalized Data)  0.6113229686124964\n",
            "F1 With Support Vector Machine (Normalized): 0.5459219234470829\n"
          ]
        }
      ]
    },
    {
      "cell_type": "code",
      "source": [
        "# accuracy comparison of SVC models trained with different datasets\n",
        "y= [SVC_accuracy_original, SVC_accuracy_pca, SVC_accuracy_norm]\n",
        "x = [1, 2, 3]\n",
        "tick_label = ['Original Data', 'PCA Data' , 'Normalized Data']\n",
        "plt.bar(x, y, tick_label = tick_label,\n",
        "        width = 0.8, color = ['red', 'orange','blue'])\n",
        "plt.xlabel('Type of Data')\n",
        "plt.ylabel('Score')\n",
        "plt.title('Support Vector Machine Accuracy Comparison')\n",
        "\n",
        "plt.show()"
      ],
      "metadata": {
        "id": "uJhxAd7WcoYA",
        "colab": {
          "base_uri": "https://localhost:8080/",
          "height": 295
        },
        "outputId": "b61e53cc-40fd-4c37-efba-4a417ea6ed0d"
      },
      "execution_count": 84,
      "outputs": [
        {
          "output_type": "display_data",
          "data": {
            "text/plain": [
              "<Figure size 432x288 with 1 Axes>"
            ],
            "image/png": "[encoded data removed]"
          },
          "metadata": {
            "needs_background": "light"
          }
        }
      ]
    },
    {
      "cell_type": "markdown",
      "source": [
        "# Saving Models and Classification Reports"
      ],
      "metadata": {
        "id": "QFnLszVwX-Rr"
      }
    },
    {
      "cell_type": "code",
      "source": [
        "import pickle\n",
        "\n",
        "def save_trained_model(filename, model):\n",
        "  pickle.dump(model, open(filename+\".sav\", 'wb'))\n",
        " \n",
        "def load_from_pretrained(filename):\n",
        "  loaded_model = pickle.load(open(filename, 'rb'))\n",
        "  return loaded_model"
      ],
      "metadata": {
        "id": "tQfyAg9_Y-0q"
      },
      "execution_count": 85,
      "outputs": []
    },
    {
      "cell_type": "code",
      "source": [
        "save_trained_model(\"knn_original\", KNN_original)\n",
        "save_trained_model(\"knn_pca\", KNN_pca)\n",
        "save_trained_model(\"knn_norm\", KNN_norm)\n",
        "\n",
        "save_trained_model(\"dt_original\", DT_original)\n",
        "save_trained_model(\"dt_pca\", DT_pca)\n",
        "save_trained_model(\"dt_norm\", DT_norm)\n",
        "\n",
        "save_trained_model(\"rf_original\", RFC_original)\n",
        "save_trained_model(\"rf_pca\", RFC_pca)\n",
        "save_trained_model(\"rf_norm\", RFC_norm)\n",
        "\n",
        "save_trained_model(\"svc_original\",SVC_original)\n",
        "save_trained_model(\"svc_pca\",SVC_pca)\n",
        "save_trained_model(\"svc_norm\",SVC_norm)\n"
      ],
      "metadata": {
        "id": "KuuxPQb7ZI_4"
      },
      "execution_count": 86,
      "outputs": []
    },
    {
      "cell_type": "code",
      "source": [
        "target_names = ['0-750000', '750k - 2.5 m', '2.5 m - 10 m','10m - 50m','50m - 200m']\n",
        "print(classification_report(y_test, y_preds_KNN, target_names=target_names))\n",
        "print(\"Classification Report for Best KNN Model\")"
      ],
      "metadata": {
        "id": "iLjj6nZFtYTo",
        "colab": {
          "base_uri": "https://localhost:8080/"
        },
        "outputId": "fce08bfc-7849-4b4d-be54-d2591a61a81a"
      },
      "execution_count": 97,
      "outputs": [
        {
          "output_type": "stream",
          "name": "stdout",
          "text": [
            "              precision    recall  f1-score   support\n",
            "\n",
            "    0-750000       0.86      0.81      0.84      1274\n",
            "750k - 2.5 m       0.72      0.84      0.78      1399\n",
            "2.5 m - 10 m       0.63      0.58      0.60       516\n",
            "   10m - 50m       0.76      0.45      0.56       200\n",
            "  50m - 200m       1.00      0.05      0.10        20\n",
            "\n",
            "    accuracy                           0.76      3409\n",
            "   macro avg       0.79      0.55      0.57      3409\n",
            "weighted avg       0.77      0.76      0.76      3409\n",
            "\n",
            "Classification Report for Best KNN Model\n"
          ]
        }
      ]
    },
    {
      "cell_type": "code",
      "source": [
        "target_names = ['0-750000', '750k - 2.5 m', '2.5 m - 10 m','10m - 50m','50m - 200m']\n",
        "print(classification_report(y_test, y_preds_DT, target_names=target_names))\n",
        "print(\"Classification Report for Best Decision Tree Model\")"
      ],
      "metadata": {
        "id": "zSf3L8SCZJH8",
        "colab": {
          "base_uri": "https://localhost:8080/"
        },
        "outputId": "9679476d-c8ee-4b97-960b-1a460f753090"
      },
      "execution_count": 98,
      "outputs": [
        {
          "output_type": "stream",
          "name": "stdout",
          "text": [
            "              precision    recall  f1-score   support\n",
            "\n",
            "    0-750000       0.94      0.95      0.94      1274\n",
            "750k - 2.5 m       0.93      0.92      0.92      1399\n",
            "2.5 m - 10 m       0.90      0.90      0.90       516\n",
            "   10m - 50m       0.90      0.91      0.90       200\n",
            "  50m - 200m       0.79      0.75      0.77        20\n",
            "\n",
            "    accuracy                           0.93      3409\n",
            "   macro avg       0.89      0.88      0.89      3409\n",
            "weighted avg       0.93      0.93      0.93      3409\n",
            "\n",
            "Classification Report for Best Decision Tree Model\n"
          ]
        }
      ]
    },
    {
      "cell_type": "code",
      "source": [
        "target_names = ['0-750000', '750k - 2.5 m', '2.5 m - 10 m','10m - 50m','50m - 200m']\n",
        "print(classification_report(y_test, RFC_preds_original, target_names=target_names))\n",
        "print(\"Classification Report for Best Random Forest Model\")"
      ],
      "metadata": {
        "id": "FDpC_Yp2uCyg",
        "colab": {
          "base_uri": "https://localhost:8080/"
        },
        "outputId": "a1f7731c-9470-409a-cffb-d1365267a3ed"
      },
      "execution_count": 99,
      "outputs": [
        {
          "output_type": "stream",
          "name": "stdout",
          "text": [
            "              precision    recall  f1-score   support\n",
            "\n",
            "    0-750000       0.98      0.94      0.96      1274\n",
            "750k - 2.5 m       0.93      0.96      0.94      1399\n",
            "2.5 m - 10 m       0.90      0.92      0.91       516\n",
            "   10m - 50m       0.89      0.93      0.91       200\n",
            "  50m - 200m       0.92      0.60      0.73        20\n",
            "\n",
            "    accuracy                           0.94      3409\n",
            "   macro avg       0.93      0.87      0.89      3409\n",
            "weighted avg       0.94      0.94      0.94      3409\n",
            "\n",
            "Classification Report for Best Random Forest Model\n"
          ]
        }
      ]
    },
    {
      "cell_type": "code",
      "source": [
        "target_names = ['0-750000', '750k - 2.5 m', '2.5 m - 10 m','10m - 50m','50m - 200m']\n",
        "print(classification_report(y_test, SVC_preds_original, target_names=target_names))\n",
        "print(\"Classification Report for Best Support Vector Machine Model\")"
      ],
      "metadata": {
        "id": "AQjzr79BuC0v",
        "colab": {
          "base_uri": "https://localhost:8080/"
        },
        "outputId": "901cd75c-3e9d-4f71-e241-7e4700bee1cc"
      },
      "execution_count": 100,
      "outputs": [
        {
          "output_type": "stream",
          "name": "stdout",
          "text": [
            "              precision    recall  f1-score   support\n",
            "\n",
            "    0-750000       0.92      0.88      0.90      1274\n",
            "750k - 2.5 m       0.86      0.90      0.88      1399\n",
            "2.5 m - 10 m       0.82      0.87      0.84       516\n",
            "   10m - 50m       0.85      0.73      0.79       200\n",
            "  50m - 200m       0.00      0.00      0.00        20\n",
            "\n",
            "    accuracy                           0.87      3409\n",
            "   macro avg       0.69      0.68      0.68      3409\n",
            "weighted avg       0.87      0.87      0.87      3409\n",
            "\n",
            "Classification Report for Best Support Vector Machine Model\n"
          ]
        }
      ]
    },
    {
      "cell_type": "code",
      "source": [
        "y= [KNN_accuracy_original, DT_accuracy, RFC_accuracy_original, SVC_accuracy_original]\n",
        "x = [1, 2, 3, 4]\n",
        "tick_label = ['KNN', 'Decision Tree' , 'Random Forest', 'SVC']\n",
        "plt.bar(x, y, tick_label = tick_label,\n",
        "        width = 0.8, color = ['red', 'orange','blue','green'])\n",
        "plt.xlabel('Type of Models')\n",
        "plt.ylabel('Score')\n",
        "plt.title('Classification Algorithm Accuracy Comparison with Original Data')\n",
        "\n",
        "plt.show()"
      ],
      "metadata": {
        "id": "c-HJAWI2uC3Q",
        "colab": {
          "base_uri": "https://localhost:8080/",
          "height": 295
        },
        "outputId": "dbbe4588-f277-49a0-ca7b-16e0000a7013"
      },
      "execution_count": 91,
      "outputs": [
        {
          "output_type": "display_data",
          "data": {
            "text/plain": [
              "<Figure size 432x288 with 1 Axes>"
            ],
            "image/png": "[encoded data removed]"
          },
          "metadata": {
            "needs_background": "light"
          }
        }
      ]
    },
    {
      "cell_type": "code",
      "source": [
        "y= [KNN_accuracy_pca, DT_accuracy_pca, RFC_accuracy_pca, SVC_accuracy_pca]\n",
        "x = [1, 2, 3, 4]\n",
        "tick_label = ['KNN', 'Decision Tree' , 'Random Forest', 'SVC']\n",
        "plt.bar(x, y, tick_label = tick_label,\n",
        "        width = 0.8, color = ['red', 'orange','blue','green'])\n",
        "plt.xlabel('Type of Models')\n",
        "plt.ylabel('Score')\n",
        "plt.title('Classification Algorithm Accuracy Comparison with PCA Data')\n",
        "\n",
        "plt.show()"
      ],
      "metadata": {
        "id": "dz3E2I9huC5C",
        "colab": {
          "base_uri": "https://localhost:8080/",
          "height": 295
        },
        "outputId": "40803821-3c03-4b4f-b494-4926d32e6bff"
      },
      "execution_count": 92,
      "outputs": [
        {
          "output_type": "display_data",
          "data": {
            "text/plain": [
              "<Figure size 432x288 with 1 Axes>"
            ],
            "image/png": "[encoded data removed]"
          },
          "metadata": {
            "needs_background": "light"
          }
        }
      ]
    },
    {
      "cell_type": "code",
      "source": [
        "y= [KNN_acc_norm, DT_accuracy_norm, RFC_accuracy_norm, SVC_accuracy_norm]\n",
        "x = [1, 2, 3, 4]\n",
        "tick_label = ['KNN', 'Decision Tree' , 'Random Forest', 'SVC']\n",
        "plt.bar(x, y, tick_label = tick_label,\n",
        "        width = 0.8, color = ['red', 'orange','blue','green'])\n",
        "plt.xlabel('Type of Models')\n",
        "plt.ylabel('Score')\n",
        "plt.title('Classification Algorithm Accuracy Comparison with Normalized Data')\n",
        "\n",
        "plt.show()"
      ],
      "metadata": {
        "id": "aJ3QMjOcw7Q_",
        "colab": {
          "base_uri": "https://localhost:8080/",
          "height": 295
        },
        "outputId": "53b74c23-686d-4b66-8d5e-55664aa3c0bb"
      },
      "execution_count": 93,
      "outputs": [
        {
          "output_type": "display_data",
          "data": {
            "text/plain": [
              "<Figure size 432x288 with 1 Axes>"
            ],
            "image/png": "[encoded data removed]"
          },
          "metadata": {
            "needs_background": "light"
          }
        }
      ]
    },
    {
      "cell_type": "markdown",
      "source": [
        "# Custom Input Prediction\n",
        "\n",
        "**Mevki**\n",
        "\n",
        "*   CAM = 0\n",
        "*   CB = 1\n",
        "*   CDM = 2\n",
        "*   CM = 3\n",
        "*   LB-RB = 4\n",
        "*   LW-RW = 5\n",
        "*   ST = 6\n",
        "\n",
        "**Sağ-Sol Ayak**\n",
        "*   Left = 0\n",
        "*   Right = 1\n",
        "\n",
        "**Bonservis**\n",
        "\n",
        "*   0 - 750k -> 1\n",
        "* 750k - 2.5m -> 2\n",
        "* 2.5m - 10m -> 3\n",
        "* 10m - 50m -> 4\n",
        "* 50m + -> 5\n",
        "\n",
        "['overall', 'potential', 'height_cm', 'weight_kg', 'player_positions', 'preferred_foot', 'weak_foot', 'skill_moves', 'pace', 'shooting', 'passing' 'dribbling', 'defending', 'physic', 'attacking_finishing']"
      ],
      "metadata": {
        "id": "8VHSIeNFMI_D"
      }
    },
    {
      "cell_type": "code",
      "source": [
        "import pickle\n",
        "\n",
        "def save_trained_model(filename, model):\n",
        "  pickle.dump(model, open(filename+\".sav\", 'wb'))\n",
        " \n",
        "def load_from_pretrained(filename):\n",
        "  loaded_model = pickle.load(open(filename, 'rb'))\n",
        "  return loaded_model"
      ],
      "metadata": {
        "id": "e0lblRv-YxPK"
      },
      "execution_count": 94,
      "outputs": []
    },
    {
      "cell_type": "code",
      "source": [
        "position_dict = {'CAM': 0, 'CB': 1, 'CDM': 2, 'CM': 3, 'LB-RB': 4, 'LW-RW': 5, 'ST': 6}\n",
        "pref_foot_dict = {'Left': 0, \"Right\":1}\n",
        "value_dict = {'0-750k €':1, '750k - 2.5m €': 2, '2.5m - 10m €': 3, '10m - 50m €': 4, '50m + €': 5 }"
      ],
      "metadata": {
        "id": "PGTCc_DkQSF7"
      },
      "execution_count": 95,
      "outputs": []
    },
    {
      "cell_type": "code",
      "source": [
        "overall = 95 / 100\n",
        "potential = 95 / 100\n",
        "height_cm = 180 / 100\n",
        "weight_kg = 80 / 100\n",
        "player_positions = \"ST\"\n",
        "preferred_foot = \"Left\"\n",
        "weak_foot = 4 / 5\n",
        "skill_moves = 4 / 5\n",
        "pace = 78 / 100\n",
        "shooting = 85 / 100\n",
        "passing = 83 / 100\n",
        "dribbling = 79 / 100\n",
        "defending = 60 / 100\n",
        "physic = 80 / 100\n",
        "attacking_finishing = 70 / 100\n",
        "\n",
        "# overall = 66 / 100\n",
        "# potential = 68 / 100\n",
        "# height_cm = 190 / 100\n",
        "# weight_kg = 100 / 100\n",
        "# player_positions = \"CB\"\n",
        "# preferred_foot = \"Right\"\n",
        "# weak_foot = 2 / 5\n",
        "# skill_moves = 2 / 5\n",
        "# pace = 58 / 100\n",
        "# shooting = 60 / 100\n",
        "# passing = 40 / 100\n",
        "# dribbling = 65 / 100\n",
        "# defending = 50 / 100\n",
        "# physic = 61 / 100\n",
        "# attacking_finishing = 70 / 100\n",
        "\n",
        "# overall = 77 / 100\n",
        "# potential = 85 / 100\n",
        "# height_cm = 160 / 100\n",
        "# weight_kg = 70 / 100\n",
        "# player_positions = \"LW-RW\"\n",
        "# preferred_foot = \"Right\"\n",
        "# weak_foot = 3 / 5\n",
        "# skill_moves = 5 / 5\n",
        "# pace = 70 / 100\n",
        "# shooting = 55 / 100\n",
        "# passing = 68 / 100\n",
        "# dribbling = 47 / 100\n",
        "# defending = 40 / 100\n",
        "# physic = 58 / 100\n",
        "# attacking_finishing = 65 / 100\n",
        "\n",
        "player_positions = position_dict.get(player_positions)\n",
        "preferred_foot = pref_foot_dict.get(preferred_foot)\n",
        "\n",
        "knn_model = load_from_pretrained(\"knn_original.sav\")\n",
        "dt_model = load_from_pretrained(\"dt_original.sav\")\n",
        "rf_model = load_from_pretrained(\"rf_original.sav\")\n",
        "svc_model = load_from_pretrained(\"svc_original.sav\")\n",
        "\n",
        "\n",
        "predict_array = [[overall, potential, height_cm, weight_kg, player_positions, preferred_foot, weak_foot, skill_moves, pace, shooting, passing, dribbling, defending, physic, attacking_finishing]]\n",
        "\n",
        "knn_result = knn_model.predict(predict_array)[0]\n",
        "dt_result = dt_model.predict(predict_array)[0]\n",
        "rf_result = rf_model.predict(predict_array)[0]\n",
        "svc_result = svc_model.predict(predict_array)[0]\n",
        "\n",
        "key_list = list(value_dict.keys())\n",
        "val_list = list(value_dict.values())\n",
        "\n",
        "index_knn = val_list.index(knn_result)\n",
        "print(\"Oyuncunun Bonservis Bedeli Tahmini Aralığı (KNN): \", key_list[index_knn])\n",
        "\n",
        "index_dt = val_list.index(dt_result)\n",
        "print(\"\\nOyuncunun Bonservis Bedeli Tahmini Aralığı (DT): \", key_list[index_dt])\n",
        "\n",
        "index_rf = val_list.index(rf_result)\n",
        "print(\"\\nOyuncunun Bonservis Bedeli Tahmini Aralığı (RF): \", key_list[index_rf])\n",
        "\n",
        "index_svc = val_list.index(svc_result)\n",
        "print(\"\\nOyuncunun Bonservis Bedeli Tahmini Aralığı (SVC): \", key_list[index_svc])\n"
      ],
      "metadata": {
        "id": "juwFYC5eMMBN",
        "colab": {
          "base_uri": "https://localhost:8080/"
        },
        "outputId": "37155af2-afb2-476d-f4b0-05a26f725dda"
      },
      "execution_count": 96,
      "outputs": [
        {
          "output_type": "stream",
          "name": "stdout",
          "text": [
            "Oyuncunun Bonservis Bedeli Tahmini Aralığı (KNN):  10m - 50m €\n",
            "\n",
            "Oyuncunun Bonservis Bedeli Tahmini Aralığı (DT):  50m + €\n",
            "\n",
            "Oyuncunun Bonservis Bedeli Tahmini Aralığı (RF):  50m + €\n",
            "\n",
            "Oyuncunun Bonservis Bedeli Tahmini Aralığı (SVC):  10m - 50m €\n"
          ]
        }
      ]
    }
  ]
}