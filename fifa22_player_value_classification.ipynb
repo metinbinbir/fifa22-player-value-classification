{
  "nbformat": 4,
  "nbformat_minor": 0,
  "metadata": {
    "colab": {
      "name": "fifa22_player_value_classification.ipynb",
      "provenance": [],
      "collapsed_sections": []
    },
    "kernelspec": {
      "name": "python3",
      "display_name": "Python 3"
    },
    "language_info": {
      "name": "python"
    }
  },
  "cells": [
    {
      "cell_type": "markdown",
      "source": [
        "# FIFA 22 PLAYER VALUE CLASSIFICATION\n",
        "\n",
        "*   METİN BİNBİR\n",
        "*   HÜMA BİLGİN\n",
        "\n"
      ],
      "metadata": {
        "id": "4D6RBEQcwm5m"
      }
    },
    {
      "cell_type": "code",
      "source": [
        "# changing path\n",
        "%cd drive/MyDrive "
      ],
      "metadata": {
        "id": "PZ8Y_nnRCEMg"
      },
      "execution_count": null,
      "outputs": []
    },
    {
      "cell_type": "code",
      "source": [
        "ls"
      ],
      "metadata": {
        "id": "QKcVY2sS-lRC"
      },
      "execution_count": null,
      "outputs": []
    },
    {
      "cell_type": "code",
      "source": [
        "# importing libraries"
      ],
      "metadata": {
        "id": "CkO-nY2sGCKt"
      },
      "execution_count": null,
      "outputs": []
    },
    {
      "cell_type": "code",
      "source": [
        "import pandas as pd # data reading\n",
        "import matplotlib.pyplot as plt # data visualization\n",
        "from sklearn import preprocessing\n",
        "from sklearn.preprocessing import LabelEncoder, StandardScaler # data manipulation\n",
        "from sklearn.model_selection import train_test_split, cross_val_score, KFold\n",
        "import warnings\n",
        "from sklearn import metrics\n",
        "from sklearn.exceptions import DataConversionWarning, ConvergenceWarning\n",
        "from sklearn.metrics import plot_confusion_matrix\n",
        "import pickle\n",
        "from sklearn.tree import DecisionTreeClassifier\n",
        "import numpy as np\n",
        "warnings.filterwarnings(action='ignore', category=DataConversionWarning)\n",
        "warnings.filterwarnings(action='ignore', category=ConvergenceWarning)\n",
        "warnings.filterwarnings(action='ignore', category=UserWarning)\n",
        "from sklearn.decomposition import PCA\n",
        "from sklearn.neighbors import KNeighborsClassifier\n",
        "from sklearn.model_selection import train_test_split, GridSearchCV\n",
        "from sklearn.ensemble import RandomForestClassifier\n",
        "from sklearn.svm import SVC \n",
        "from sklearn.metrics import classification_report\n"
      ],
      "metadata": {
        "id": "cRy1Asg_F4KG"
      },
      "execution_count": null,
      "outputs": []
    },
    {
      "cell_type": "markdown",
      "source": [
        "# Preprocess and Data Visualization"
      ],
      "metadata": {
        "id": "rXysT0Y-ZGkq"
      }
    },
    {
      "cell_type": "code",
      "execution_count": null,
      "metadata": {
        "id": "Q3n-miSqAJkK"
      },
      "outputs": [],
      "source": [
        "df = pd.read_csv('players_22.csv',index_col=False , encoding = \"utf-8\") # reading data"
      ]
    },
    {
      "cell_type": "code",
      "source": [
        "df.shape"
      ],
      "metadata": {
        "id": "5pckf2hkw16H"
      },
      "execution_count": null,
      "outputs": []
    },
    {
      "cell_type": "code",
      "source": [
        "df.head() # first rows of the data"
      ],
      "metadata": {
        "id": "qVw644v9CKUU"
      },
      "execution_count": null,
      "outputs": []
    },
    {
      "cell_type": "code",
      "source": [
        "df.hist()"
      ],
      "metadata": {
        "id": "hbfIW3xwpI5D"
      },
      "execution_count": null,
      "outputs": []
    },
    {
      "cell_type": "code",
      "source": [
        "# our dataset has 101 columns, so we chose general attributes of a football players\n",
        "\n",
        "df = df[['value_eur','overall','potential','height_cm','weight_kg',\n",
        "         'player_positions','preferred_foot','weak_foot','skill_moves',\n",
        "         'pace','shooting','passing','dribbling','defending','physic',\n",
        "         'attacking_finishing']]"
      ],
      "metadata": {
        "id": "QnKXzFr-CcBm"
      },
      "execution_count": null,
      "outputs": []
    },
    {
      "cell_type": "code",
      "source": [
        "# we have 16 attribute, value_eur attribute will be target class, the rest will be independent variables\n",
        "df.shape[1]"
      ],
      "metadata": {
        "id": "PbT_0jQHG5fo"
      },
      "execution_count": null,
      "outputs": []
    },
    {
      "cell_type": "code",
      "source": [
        "# we have 19239 samples in our dataset\n",
        "df.shape[0] "
      ],
      "metadata": {
        "id": "_C7HwhEWHP3m"
      },
      "execution_count": null,
      "outputs": []
    },
    {
      "cell_type": "code",
      "source": [
        "# goalkeepers will be removed since their attributes are different from the players which are playing at other positions\n",
        "df = df[df.player_positions != 'GK']"
      ],
      "metadata": {
        "id": "IStTcVxjFCcA"
      },
      "execution_count": null,
      "outputs": []
    },
    {
      "cell_type": "code",
      "source": [
        "# after removing goalkeepers, our dataset contain 17107 samples\n",
        "df.reset_index(drop=True, inplace=True)"
      ],
      "metadata": {
        "id": "2O9YivBmK3dA"
      },
      "execution_count": null,
      "outputs": []
    },
    {
      "cell_type": "code",
      "source": [
        "# after removing goalkeepers, there are 17107 players in the dataset\n",
        "df.shape[0] "
      ],
      "metadata": {
        "id": "q242YhOEK9wP"
      },
      "execution_count": null,
      "outputs": []
    },
    {
      "cell_type": "code",
      "source": [
        "df = df.dropna().reset_index(drop=True)\n"
      ],
      "metadata": {
        "id": "b8_s8dfH6Wgp"
      },
      "execution_count": null,
      "outputs": []
    },
    {
      "cell_type": "code",
      "source": [
        "df.shape[0] "
      ],
      "metadata": {
        "id": "ArcNayWpJZGr"
      },
      "execution_count": null,
      "outputs": []
    },
    {
      "cell_type": "code",
      "source": [
        "df"
      ],
      "metadata": {
        "id": "lP3M9CfBKrh_"
      },
      "execution_count": null,
      "outputs": []
    },
    {
      "cell_type": "code",
      "source": [
        "df.drop_duplicates(keep=\"first\", inplace=True)"
      ],
      "metadata": {
        "id": "DPaw2LeSIzo1"
      },
      "execution_count": null,
      "outputs": []
    },
    {
      "cell_type": "code",
      "source": [
        "df.shape[0] "
      ],
      "metadata": {
        "id": "e8MfAFRyYl4J"
      },
      "execution_count": null,
      "outputs": []
    },
    {
      "cell_type": "code",
      "source": [
        "df.value_eur.hist()"
      ],
      "metadata": {
        "id": "P2iaTrzApXv3"
      },
      "execution_count": null,
      "outputs": []
    },
    {
      "cell_type": "code",
      "source": [
        "fig = plt.figure(figsize = (10,12))\n",
        "ax = fig.gca()\n",
        "df.hist(ax = ax, column=[\"overall\", \"potential\", \"pace\", \"shooting\", ], grid=False)\n",
        "# df.hist(column=[\"overall\", \"potential\", \"pace\", \"shooting\", \"passing\"])"
      ],
      "metadata": {
        "id": "vNIHeKOQdjJQ"
      },
      "execution_count": null,
      "outputs": []
    },
    {
      "cell_type": "code",
      "source": [
        "fig = plt.figure(figsize = (10,12))\n",
        "ax = fig.gca()\n",
        "df.hist(ax=ax, column = ['passing','dribbling','defending','physic',\n",
        "         'attacking_finishing','height_cm','weight_kg'], grid=False)"
      ],
      "metadata": {
        "id": "JcjzysOti9Ey"
      },
      "execution_count": null,
      "outputs": []
    },
    {
      "cell_type": "code",
      "source": [
        "df.head()"
      ],
      "metadata": {
        "id": "XCFLeUZCErR9"
      },
      "execution_count": null,
      "outputs": []
    },
    {
      "cell_type": "code",
      "source": [
        "# position attributes are textual data, so they should be converted to numerical data\n",
        "df['player_positions'].unique()"
      ],
      "metadata": {
        "id": "qXF2hfurYXU0"
      },
      "execution_count": null,
      "outputs": []
    },
    {
      "cell_type": "code",
      "source": [
        "len(df['player_positions'].unique())"
      ],
      "metadata": {
        "id": "iQ7p1r7-cYbG"
      },
      "execution_count": null,
      "outputs": []
    },
    {
      "cell_type": "code",
      "source": [
        "print(df['player_positions'].isnull().sum())"
      ],
      "metadata": {
        "id": "1RuZ-3t-qAGp"
      },
      "execution_count": null,
      "outputs": []
    },
    {
      "cell_type": "code",
      "source": [
        "len(df['player_positions'])"
      ],
      "metadata": {
        "id": "dyHG1upLqV7I"
      },
      "execution_count": null,
      "outputs": []
    },
    {
      "cell_type": "code",
      "source": [
        "\"\"\"\n",
        "however, there are too much positions, so they should be classified as CB / LB-RB / CDM / CAM / LW-RW / ST\n",
        "and this preprocess can not be done one by one, it needs te bo iterated and taking the first position if a row contains\n",
        "more than one positions\n",
        "\"\"\"\n",
        "df_positions = df['player_positions'].tolist()"
      ],
      "metadata": {
        "id": "wLL0gnSBYrfb"
      },
      "execution_count": null,
      "outputs": []
    },
    {
      "cell_type": "code",
      "source": [
        "len(df_positions)"
      ],
      "metadata": {
        "id": "0c_pFRroja5-"
      },
      "execution_count": null,
      "outputs": []
    },
    {
      "cell_type": "code",
      "source": [
        "# df converted to list, if a cell contains more than one positions, setting the cell value with first position by string operations\n",
        "for i in range(len(df_positions)):\n",
        "  if len(df_positions[i]) < 2:\n",
        "    print(i)\n",
        "  currentPosition = df_positions[i].split(\",\")\n",
        "  if  len(currentPosition) > 1:\n",
        "    df_positions[i] = currentPosition[0]\n"
      ],
      "metadata": {
        "id": "Vt_QaCrPebMG"
      },
      "execution_count": null,
      "outputs": []
    },
    {
      "cell_type": "code",
      "source": [
        "listToDF = pd.DataFrame(df_positions,columns=['pos']).squeeze()"
      ],
      "metadata": {
        "id": "VuuaSSxG1fnZ"
      },
      "execution_count": null,
      "outputs": []
    },
    {
      "cell_type": "code",
      "source": [
        "df['player_positions'] = listToDF"
      ],
      "metadata": {
        "id": "olYmK4nC1jRA"
      },
      "execution_count": null,
      "outputs": []
    },
    {
      "cell_type": "code",
      "source": [
        "# CB / LB-RB / CDM / CAM / LW-RW / ST / CM\n",
        "df['player_positions'] = df['player_positions'].replace(['LW'],\"LW-RW\")\n",
        "df['player_positions'] = df['player_positions'].replace(['RW'],\"LW-RW\")\n",
        "df['player_positions'] = df['player_positions'].replace(['LM'],\"CM\")\n",
        "df['player_positions'] = df['player_positions'].replace(['RM'],\"CM\")\n",
        "df['player_positions'] = df['player_positions'].replace(['LB'],\"LB-RB\")\n",
        "df['player_positions'] = df['player_positions'].replace(['RB'],\"LB-RB\")\n",
        "df['player_positions'] = df['player_positions'].replace(['LWB'],\"LB-RB\")\n",
        "df['player_positions'] = df['player_positions'].replace(['RWB'],\"LB-RB\")\n",
        "df['player_positions'] = df['player_positions'].replace(['CF'],\"ST\")"
      ],
      "metadata": {
        "id": "Xm21IDh7j97r"
      },
      "execution_count": null,
      "outputs": []
    },
    {
      "cell_type": "code",
      "source": [
        "pos_list = df['player_positions'].unique().tolist()"
      ],
      "metadata": {
        "id": "kYuUYLqHgkJv"
      },
      "execution_count": null,
      "outputs": []
    },
    {
      "cell_type": "code",
      "source": [
        "pos_list"
      ],
      "metadata": {
        "id": "5PCMRwsug8ly"
      },
      "execution_count": null,
      "outputs": []
    },
    {
      "cell_type": "code",
      "source": [
        "key_bar, count_bar = np.unique(df['player_positions'], return_counts=True)\n",
        "plt.bar(key_bar, count_bar)\n",
        "plt.title(\"Player Positions Bar Chart\")\n",
        "plt.show()"
      ],
      "metadata": {
        "id": "6Sx8-e0xhBYR"
      },
      "execution_count": null,
      "outputs": []
    },
    {
      "cell_type": "code",
      "source": [
        "df.player_positions.value_counts().plot(kind='pie',autopct='%1.1f%%')"
      ],
      "metadata": {
        "id": "FS2D3OHpNzoT"
      },
      "execution_count": null,
      "outputs": []
    },
    {
      "cell_type": "code",
      "source": [
        "labelencoder = LabelEncoder()\n",
        "df['player_positions'] = labelencoder.fit_transform(df['player_positions'])\n",
        "position_dict = dict(zip(labelencoder.classes_,range(len(labelencoder.classes_))))"
      ],
      "metadata": {
        "id": "Bpj-KuZ65qQN"
      },
      "execution_count": null,
      "outputs": []
    },
    {
      "cell_type": "code",
      "source": [
        "position_dict"
      ],
      "metadata": {
        "id": "qEzoC3yAHzxz"
      },
      "execution_count": null,
      "outputs": []
    },
    {
      "cell_type": "code",
      "source": [
        "key_bar, count_bar = np.unique(df['preferred_foot'], return_counts=True)\n",
        "plt.bar(key_bar, count_bar)\n",
        "plt.title(\"Preferred Foot Bar Chart\")\n",
        "plt.show()"
      ],
      "metadata": {
        "id": "l7DTfDEWIExT"
      },
      "execution_count": null,
      "outputs": []
    },
    {
      "cell_type": "code",
      "source": [
        "x = df.preferred_foot.value_counts().plot(kind='pie',autopct='%1.1f%%')"
      ],
      "metadata": {
        "id": "3Xna3PveJcSE"
      },
      "execution_count": null,
      "outputs": []
    },
    {
      "cell_type": "code",
      "source": [
        "key_bar, count_bar = np.unique(df['weak_foot'], return_counts=True)\n",
        "plt.bar(key_bar, count_bar)\n",
        "plt.title(\"Weak Foot Bar Chart\")\n",
        "plt.show()"
      ],
      "metadata": {
        "id": "qmUU5vHNOtV0"
      },
      "execution_count": null,
      "outputs": []
    },
    {
      "cell_type": "code",
      "source": [
        "df.weak_foot.value_counts().plot(kind='pie',autopct='%1.1f%%')"
      ],
      "metadata": {
        "id": "HOc2yw5qNoOM"
      },
      "execution_count": null,
      "outputs": []
    },
    {
      "cell_type": "code",
      "source": [
        "key_bar, count_bar = np.unique(df['skill_moves'], return_counts=True)\n",
        "y = plt.bar(key_bar, count_bar)\n",
        "plt.title(\"Skill Moves Bar Chart\")\n",
        "plt.show()"
      ],
      "metadata": {
        "id": "E73nJIguJ-7s"
      },
      "execution_count": null,
      "outputs": []
    },
    {
      "cell_type": "code",
      "source": [
        "df.skill_moves.value_counts().plot(kind='pie',autopct='%1.1f%%')"
      ],
      "metadata": {
        "id": "4zo-n3eAPOJl"
      },
      "execution_count": null,
      "outputs": []
    },
    {
      "cell_type": "code",
      "source": [
        "df['preferred_foot'] = labelencoder.fit_transform(df['preferred_foot'])"
      ],
      "metadata": {
        "id": "uLEr22JYEOgh"
      },
      "execution_count": null,
      "outputs": []
    },
    {
      "cell_type": "code",
      "source": [
        "pref_foot_dict = dict(zip(labelencoder.classes_,range(len(labelencoder.classes_))))"
      ],
      "metadata": {
        "id": "IzlFGZhwA_QF"
      },
      "execution_count": null,
      "outputs": []
    },
    {
      "cell_type": "code",
      "source": [
        "pref_foot_dict"
      ],
      "metadata": {
        "id": "IT8NPvmJFPd9"
      },
      "execution_count": null,
      "outputs": []
    },
    {
      "cell_type": "code",
      "source": [
        "df['preferred_foot'].head()"
      ],
      "metadata": {
        "id": "oFHQxHLOFkPT"
      },
      "execution_count": null,
      "outputs": []
    },
    {
      "cell_type": "code",
      "source": [
        "df.head()"
      ],
      "metadata": {
        "id": "FQWhNgZYGLES"
      },
      "execution_count": null,
      "outputs": []
    },
    {
      "cell_type": "code",
      "source": [
        "df.isna().any()"
      ],
      "metadata": {
        "id": "hf4a5vKYJ6kr"
      },
      "execution_count": null,
      "outputs": []
    },
    {
      "cell_type": "code",
      "source": [
        "df['weak_foot'] = df['weak_foot'].multiply(0.2)\n",
        "df['skill_moves'] = df['skill_moves'].multiply(0.2)\n"
      ],
      "metadata": {
        "id": "wou_uw0s9CpZ"
      },
      "execution_count": null,
      "outputs": []
    },
    {
      "cell_type": "code",
      "source": [
        "df.head()"
      ],
      "metadata": {
        "id": "ic3856QrBZ5w"
      },
      "execution_count": null,
      "outputs": []
    },
    {
      "cell_type": "code",
      "source": [
        "df[['overall','potential',\"pace\", \"shooting\", \n",
        "    \"passing\", \"dribbling\", \"defending\", \"physic\",\n",
        "    \"attacking_finishing\", \"height_cm\", 'weight_kg']] /= 100"
      ],
      "metadata": {
        "id": "Mjc4lHBnFnwj"
      },
      "execution_count": null,
      "outputs": []
    },
    {
      "cell_type": "code",
      "source": [
        "df.head()"
      ],
      "metadata": {
        "id": "uMHa3eV8Hj63"
      },
      "execution_count": null,
      "outputs": []
    },
    {
      "cell_type": "code",
      "source": [
        "min(df['value_eur'])"
      ],
      "metadata": {
        "id": "3zj5HsMsKF7a"
      },
      "execution_count": null,
      "outputs": []
    },
    {
      "cell_type": "code",
      "source": [
        "((15000 <= df['value_eur']) & (df['value_eur'] < 750000)).sum()"
      ],
      "metadata": {
        "id": "L-rlwxg7JtIK"
      },
      "execution_count": null,
      "outputs": []
    },
    {
      "cell_type": "code",
      "source": [
        "((750000 <= df['value_eur']) & (df['value_eur'] < 2500000)).sum()"
      ],
      "metadata": {
        "id": "ZkCu58uQJtPE"
      },
      "execution_count": null,
      "outputs": []
    },
    {
      "cell_type": "code",
      "source": [
        "((2500000 <= df['value_eur']) & (df['value_eur'] < 10000000)).sum()"
      ],
      "metadata": {
        "id": "XrlW6NXyLtbP"
      },
      "execution_count": null,
      "outputs": []
    },
    {
      "cell_type": "code",
      "source": [
        "((10000000 <= df['value_eur']) & (df['value_eur'] < 50000000)).sum()"
      ],
      "metadata": {
        "id": "ujua_nzZLteA"
      },
      "execution_count": null,
      "outputs": []
    },
    {
      "cell_type": "code",
      "source": [
        "((50000000 <= df['value_eur'])).sum()"
      ],
      "metadata": {
        "id": "hQy2qCexLtgu"
      },
      "execution_count": null,
      "outputs": []
    },
    {
      "cell_type": "code",
      "source": [
        "df['value_eur'].max()"
      ],
      "metadata": {
        "id": "KNw-7NunNrqz"
      },
      "execution_count": null,
      "outputs": []
    },
    {
      "cell_type": "code",
      "source": [
        "df['value_eur'] = pd.cut(df['value_eur'], bins=[0, 749999, 2499999,\n",
        "                  9999999, 49999999, 200000000], labels=[1,2,3,4,5])"
      ],
      "metadata": {
        "id": "4-l93AOjLtjM"
      },
      "execution_count": null,
      "outputs": []
    },
    {
      "cell_type": "code",
      "source": [
        "value_labels = [\"0-750k\", \"750k-2.5m\", \"2.5m-10m\", \"10m-50m\", \"50m+\"]"
      ],
      "metadata": {
        "id": "2IlFumA6Z33F"
      },
      "execution_count": null,
      "outputs": []
    },
    {
      "cell_type": "code",
      "source": [
        "key_bar, count_bar = np.unique(df['value_eur'], return_counts=True)"
      ],
      "metadata": {
        "id": "326X864ATaaj"
      },
      "execution_count": null,
      "outputs": []
    },
    {
      "cell_type": "code",
      "source": [
        "fig = plt.figure(figsize =(10, 7))\n",
        "plt.bar(value_labels, count_bar)\n",
        "plt.title(\"Player Values (€) Classes\")\n",
        "plt.show()"
      ],
      "metadata": {
        "id": "9wnE0ne-aPSE"
      },
      "execution_count": null,
      "outputs": []
    },
    {
      "cell_type": "code",
      "source": [
        "features = ['overall', 'potential', 'height_cm', 'weight_kg',\n",
        "       'player_positions', 'preferred_foot', 'weak_foot', 'skill_moves',\n",
        "       'pace', 'shooting', 'passing', 'dribbling', 'defending', 'physic',\n",
        "       'attacking_finishing']\n",
        "\n",
        "X = df.loc[:, features]\n",
        "y = df.loc[:,['value_eur']]\n"
      ],
      "metadata": {
        "id": "dK4j8YCoPH2t"
      },
      "execution_count": null,
      "outputs": []
    },
    {
      "cell_type": "code",
      "source": [
        "X.isnull().values.any()"
      ],
      "metadata": {
        "id": "12SMCuREVLZK"
      },
      "execution_count": null,
      "outputs": []
    },
    {
      "cell_type": "code",
      "source": [
        "y.isnull().values.any()"
      ],
      "metadata": {
        "id": "rqgeJL26VRnu"
      },
      "execution_count": null,
      "outputs": []
    },
    {
      "cell_type": "code",
      "source": [
        "X.head()"
      ],
      "metadata": {
        "id": "2f0ISK-VYKca"
      },
      "execution_count": null,
      "outputs": []
    },
    {
      "cell_type": "code",
      "source": [
        "y.head()"
      ],
      "metadata": {
        "id": "P3mL6_cnPgpd"
      },
      "execution_count": null,
      "outputs": []
    },
    {
      "cell_type": "code",
      "source": [
        "X.shape, y.shape"
      ],
      "metadata": {
        "id": "tkIiKXjzTXbq"
      },
      "execution_count": null,
      "outputs": []
    },
    {
      "cell_type": "code",
      "source": [
        "# train test split, PCA ve normalizasyon islemleri\n",
        "X_train, X_test, y_train, y_test = train_test_split(X, y, test_size=0.2)\n",
        "\n",
        "scaler = StandardScaler()\n",
        "X_train_pca = scaler.fit_transform(X_train)\n",
        "X_test_pca = scaler.transform(X_test)\n",
        "pca = PCA(n_components=5)\n",
        "\n",
        "X_train_pca = pca.fit_transform(X_train_pca)\n",
        "X_test_pca = pca.fit_transform(X_test_pca)\n",
        "\n",
        "X_train_norm = preprocessing.normalize(X_train)  \n",
        "X_test_norm = preprocessing.normalize(X_test)  "
      ],
      "metadata": {
        "id": "NF1LrDl9H_3m"
      },
      "execution_count": null,
      "outputs": []
    },
    {
      "cell_type": "markdown",
      "source": [
        "# KNN"
      ],
      "metadata": {
        "id": "j-9NP2SUoF_g"
      }
    },
    {
      "cell_type": "code",
      "source": [
        "params = {\n",
        "    'n_neighbors': [7, 5, 3, 9]\n",
        "}\n",
        "\n",
        "#### knn with original data \n",
        "knn = KNeighborsClassifier()\n",
        "cv = GridSearchCV(estimator=knn, param_grid=params, cv=10)\n",
        "cv.fit(X_train, y_train)\n",
        "KNN_original = KNeighborsClassifier(n_neighbors=cv.best_params_[\"n_neighbors\"])\n",
        "KNN_original.fit(X_train, y_train)\n",
        "y_preds_KNN = KNN_original.predict(X_test)\n",
        "KNN_accuracy_original = metrics.accuracy_score(y_test, y_preds_KNN)\n",
        "KNN_f1_original = metrics.f1_score(y_test, y_preds_KNN, average=\"weighted\")\n",
        "print(\"Accuracy With KNN (original):\",KNN_accuracy_original)\n",
        "print(\"Accuracy With KNN (original):\",KNN_f1_original)\n",
        "\n",
        "\n",
        "### knn with pca data\n",
        "knn = KNeighborsClassifier()\n",
        "cv = GridSearchCV(estimator=knn, param_grid=params, cv=10)\n",
        "cv.fit(X_train_pca, y_train)\n",
        "KNN_pca = KNeighborsClassifier(n_neighbors=cv.best_params_[\"n_neighbors\"])\n",
        "KNN_pca.fit(X_train_pca,y_train) \n",
        "KNN_preds_original = KNN_pca.predict(X_test_pca)\n",
        "KNN_accuracy_pca = metrics.accuracy_score(y_test, KNN_preds_original)\n",
        "KNN_f1_pca = metrics.f1_score(y_test, KNN_preds_original, average=\"weighted\")\n",
        "print(\"\\nAccuracy With KNN (PCA):\",KNN_accuracy_pca)\n",
        "print(\"F1 With KNN (PCA Data):\", KNN_f1_pca)\n",
        "\n",
        "### knn with normalized data\n",
        "knn = KNeighborsClassifier()\n",
        "cv = GridSearchCV(estimator=knn, param_grid=params, cv=10)\n",
        "cv.fit(X_train_norm, y_train)\n",
        "KNN_norm = KNeighborsClassifier(n_neighbors=cv.best_params_[\"n_neighbors\"])\n",
        "KNN_norm.fit(X_train_norm,y_train) # normalized test datasi ile test\n",
        "KNN_preds_norm = KNN_norm.predict(X_test_norm) # normalized test datasi ile predict\n",
        "KNN_acc_norm = metrics.accuracy_score(y_test,KNN_preds_norm)\n",
        "KNN_F1_norm = metrics.f1_score(y_test, KNN_preds_norm, average=\"weighted\")\n",
        "print(\"\\nAccuracy With KNN (Normalized):\",KNN_acc_norm)\n",
        "print(\"F1 With KNN (Normalized):\", KNN_F1_norm)"
      ],
      "metadata": {
        "id": "2oTiWw9wH__V"
      },
      "execution_count": null,
      "outputs": []
    },
    {
      "cell_type": "code",
      "source": [
        "# accuracy comparison of knn models trained with different datasets\n",
        "y= [KNN_accuracy_original, KNN_accuracy_pca, KNN_acc_norm]\n",
        "x = [1, 2, 3]\n",
        "tick_label = ['Original Data', 'PCA Data' , 'Normalized Data']\n",
        "plt.bar(x, y, tick_label = tick_label,\n",
        "        width = 0.8, color = ['red', 'orange','blue'])\n",
        "plt.xlabel('Type of Data')\n",
        "plt.ylabel('Score')\n",
        "plt.title('KNN Accuracy Comparison')\n",
        "\n",
        "plt.show()"
      ],
      "metadata": {
        "id": "xxl9k8KXPHMc"
      },
      "execution_count": null,
      "outputs": []
    },
    {
      "cell_type": "markdown",
      "source": [
        "\n",
        "# DECISION TREE"
      ],
      "metadata": {
        "id": "frw3IX0wwCBu"
      }
    },
    {
      "cell_type": "code",
      "source": [
        "params = {\n",
        "    \"criterion\":[\"gini\", \"entropy\"]\n",
        "}\n",
        "DT = DecisionTreeClassifier() \n",
        "cv = GridSearchCV(DT, param_grid=params, cv=10)\n",
        "cv.fit(X_train, y_train)\n",
        "DT_original = DecisionTreeClassifier(criterion=cv.best_params_[\"criterion\"])\n",
        "\n",
        "# DT with original data\n",
        "DT_original.fit(X_train,y_train)\n",
        "y_preds_DT = DT_original.predict(X_test)\n",
        "DT_accuracy = metrics.accuracy_score(y_test, y_preds_DT)\n",
        "DT_f1_original = metrics.f1_score(y_test, y_preds_DT, average=\"weighted\")\n",
        "print(\"Accuracy With Decision Tree (Original Data):\",DT_accuracy)\n",
        "print(\"F1 With Decision Tree (Original Data)\", DT_f1_original)\n",
        "\n",
        "# DT with PCA data\n",
        "DT = DecisionTreeClassifier()\n",
        "cv = GridSearchCV(estimator=DT, param_grid=params, cv=10)\n",
        "cv.fit(X_train_pca, y_train)\n",
        "DT_pca = DecisionTreeClassifier(criterion=cv.best_params_[\"criterion\"])\n",
        "DT_pca.fit(X_train_pca,y_train)\n",
        "y_preds_DT_pca = DT_pca.predict(X_test_pca)\n",
        "DT_accuracy_pca = metrics.accuracy_score(y_test, y_preds_DT_pca)\n",
        "DT_f1_pca = metrics.f1_score(y_test, y_preds_DT_pca, average=\"weighted\")\n",
        "print(\"\\nAccuracy With Decision Tree (PCA Data):\",DT_accuracy_pca)\n",
        "print(\"F1 With Decision Tree (PCA Data):\", DT_f1_pca)\n",
        "\n",
        "# DT with normalized data\n",
        "DT = DecisionTreeClassifier()\n",
        "cv = GridSearchCV(estimator=DT, param_grid=params, cv=10)\n",
        "cv.fit(X_train_norm, y_train)\n",
        "DT_norm = DecisionTreeClassifier(criterion=cv.best_params_[\"criterion\"])\n",
        "DT_norm.fit(X_train_norm,y_train)\n",
        "y_preds_DT_norm = DT_norm.predict(X_test_norm)\n",
        "DT_accuracy_norm = metrics.accuracy_score(y_test, y_preds_DT_norm)\n",
        "DT_f1_norm = metrics.f1_score(y_test, y_preds_DT_norm, average=\"weighted\")\n",
        "print(\"\\nAccuracy With Decision Tree (Normalized Data):\",DT_accuracy_norm)\n",
        "print(\"F1 With Decision Tree (Normalized Data): \", DT_f1_norm)\n",
        "\n"
      ],
      "metadata": {
        "id": "SuqlelgtcG6R"
      },
      "execution_count": null,
      "outputs": []
    },
    {
      "cell_type": "code",
      "source": [
        "# accuracy comparison of DT trained with different datasets\n",
        "y= [DT_accuracy, DT_accuracy_pca, DT_accuracy_norm]\n",
        "x = [1, 2, 3]\n",
        "tick_label = ['Original Data', 'PCA Data' , 'Normalized Data']\n",
        "plt.bar(x, y, tick_label = tick_label,\n",
        "        width = 0.8, color = ['red', 'orange','blue'])\n",
        "plt.xlabel('Type of Data')\n",
        "plt.ylabel('Score')\n",
        "plt.title('Decision Tree Accuracy Comparison')\n",
        "\n",
        "plt.show()"
      ],
      "metadata": {
        "id": "HquGqG9NP6uS"
      },
      "execution_count": null,
      "outputs": []
    },
    {
      "cell_type": "markdown",
      "source": [
        "# Random Forest Classifier"
      ],
      "metadata": {
        "id": "TeZJI-wpXWMi"
      }
    },
    {
      "cell_type": "code",
      "source": [
        "RFC = RandomForestClassifier()\n",
        "\n",
        "params = {\n",
        "    \"n_estimators\":[100,200],\n",
        "    \"criterion\":[\"gini\",\"entropy\"]\n",
        "}\n",
        "\n",
        "# rf with original data\n",
        "cv = GridSearchCV(estimator=RFC, param_grid=params, cv=10)\n",
        "cv.fit(X_train,y_train)\n",
        "RFC_original = RandomForestClassifier(random_state=34, n_estimators=cv.best_params_[\"n_estimators\"], criterion=cv.best_params_[\"criterion\"])\n",
        "RFC_original.fit(X_train, y_train)\n",
        "RFC_preds_original = RFC_original.predict(X_test)\n",
        "RFC_accuracy_original = metrics.accuracy_score(y_test, RFC_preds_original)\n",
        "RFC_f1_original = metrics.f1_score(y_test, RFC_preds_original, average = \"weighted\")\n",
        "\n",
        "print(\"Accuracy With Random Forest (Original Data): \", RFC_accuracy_original)\n",
        "print(\"F1 With Random Forest (Original Data)\", RFC_f1_original)\n",
        "\n",
        "\n",
        "# rf with PCA data\n",
        "cv = GridSearchCV(estimator=RFC, param_grid=params, cv=10)\n",
        "cv.fit(X_train_pca,y_train)\n",
        "RFC_pca = RandomForestClassifier(random_state=34, n_estimators=cv.best_params_[\"n_estimators\"], criterion=cv.best_params_[\"criterion\"])\n",
        "RFC_pca.fit(X_train_pca, y_train)\n",
        "RFC_preds_pca = RFC_pca.predict(X_test_pca)\n",
        "RFC_accuracy_pca = metrics.accuracy_score(y_test, RFC_preds_pca)\n",
        "RFC_f1_pca = metrics.f1_score(y_test, RFC_preds_pca, average = \"weighted\")\n",
        "\n",
        "print(\"\\nAccuracy With Random Forest: (PCA Data)\", RFC_accuracy_pca)\n",
        "print(\"F1 With Random Forest (Original Data)\", RFC_f1_pca)\n",
        "\n",
        "# rf with normalized data\n",
        "cv = GridSearchCV(estimator=RFC, param_grid=params, cv=10)\n",
        "cv.fit(X_train_norm,y_train)\n",
        "RFC_norm = RandomForestClassifier(random_state=34, n_estimators=cv.best_params_[\"n_estimators\"], criterion=cv.best_params_[\"criterion\"])\n",
        "RFC_norm.fit(X_train_norm, y_train)\n",
        "RFC_preds_norm = RFC_norm.predict(X_test_norm)\n",
        "RFC_accuracy_norm = metrics.accuracy_score(y_test, RFC_preds_norm)\n",
        "RFC_f1_norm = metrics.f1_score(y_test, RFC_preds_norm, average = \"weighted\")\n",
        "print(\"\\nAccuracy With Random Forest: (Normalized Data)\", RFC_accuracy_norm)\n",
        "print(\"F1 With Random Forest (Normalized Data)\", RFC_f1_norm)\n"
      ],
      "metadata": {
        "id": "ZI8H11xVcG_Y"
      },
      "execution_count": null,
      "outputs": []
    },
    {
      "cell_type": "code",
      "source": [
        "# accuracy coomparison of RFC models trained with different datasets\n",
        "y= [RFC_accuracy_original, RFC_accuracy_pca, RFC_accuracy_norm]\n",
        "x = [1, 2, 3]\n",
        "tick_label = ['Original Data', 'PCA Data' , 'Normalized Data']\n",
        "plt.bar(x, y, tick_label = tick_label,\n",
        "        width = 0.8, color = ['red', 'orange','blue'])\n",
        "plt.xlabel('Type of Data')\n",
        "plt.ylabel('Score')\n",
        "plt.title('Random Forest Accuracy Comparison')\n",
        "\n",
        "plt.show()"
      ],
      "metadata": {
        "id": "2-SjQCc8Qhoj"
      },
      "execution_count": null,
      "outputs": []
    },
    {
      "cell_type": "markdown",
      "source": [
        "# Support Vector Machines"
      ],
      "metadata": {
        "id": "iMl2lQFbXoJb"
      }
    },
    {
      "cell_type": "code",
      "source": [
        "\n",
        "svc = SVC()\n",
        "params = {\n",
        "    \"kernel\":[\"linear\"]\n",
        "}\n",
        "\n",
        "# svc with original data\n",
        "cv = GridSearchCV(estimator=svc, param_grid=params, cv=10)\n",
        "cv.fit(X_train, y_train)\n",
        "SVC_original= SVC(kernel=cv.best_params_[\"kernel\"])\n",
        "SVC_original.fit(X_train, y_train)\n",
        "SVC_preds_original = SVC_original.predict(X_test)\n",
        "SVC_accuracy_original = metrics.accuracy_score(y_test, SVC_preds_original)\n",
        "SVC_f1_original = metrics.f1_score(y_test, SVC_preds_original, average=\"weighted\")\n",
        "print(\"Accuracy With Support Vector Machines: (Original Data)\", SVC_accuracy_original)\n",
        "print(\"F1 With Support Vector Machine (Original Data):\", SVC_f1_original)\n",
        "\n",
        "# svc with PCA data\n",
        "svc = SVC()\n",
        "cv = GridSearchCV(estimator=svc, param_grid=params, cv=10)\n",
        "cv.fit(X_train_pca, y_train)\n",
        "SVC_pca = SVC(kernel=cv.best_params_[\"kernel\"])\n",
        "SVC_pca.fit(X_train_pca, y_train)\n",
        "SVC_preds_pca = SVC_pca.predict(X_test_pca)\n",
        "SVC_accuracy_pca = metrics.accuracy_score(y_test, SVC_preds_pca)\n",
        "SVC_f1_pca = metrics.f1_score(y_test, SVC_preds_pca, average=\"weighted\")\n",
        "print(\"\\nAccuracy With Support Vector Machines: (PCA Data) \", SVC_accuracy_pca)\n",
        "print(\"F1 With Support Vector Machine (Original Data):\", SVC_f1_pca)\n",
        "\n",
        "# svc with normalized data\n",
        "svc = SVC()\n",
        "cv = GridSearchCV(estimator=svc, param_grid=params, cv=10)\n",
        "cv.fit(X_train_norm, y_train)\n",
        "SVC_norm = SVC(kernel=cv.best_params_[\"kernel\"])\n",
        "SVC_norm.fit(X_train_norm, y_train)\n",
        "SVC_preds_norm = SVC_norm.predict(X_test_norm)\n",
        "SVC_accuracy_norm = metrics.accuracy_score(y_test, SVC_preds_norm)\n",
        "SVC_f1_norm = metrics.f1_score(y_test, SVC_preds_norm,average=\"weighted\")\n",
        "print(\"\\nAccuracy With Support Vector Machines: (Normalized Data) \", SVC_accuracy_norm)\n",
        "print(\"F1 With Support Vector Machine (Normalized):\", SVC_f1_norm)"
      ],
      "metadata": {
        "id": "0DziaigKcoQ4"
      },
      "execution_count": null,
      "outputs": []
    },
    {
      "cell_type": "code",
      "source": [
        "# accuracy comparison of SVC models trained with different datasets\n",
        "y= [SVC_accuracy_original, SVC_accuracy_pca, SVC_accuracy_norm]\n",
        "x = [1, 2, 3]\n",
        "tick_label = ['Original Data', 'PCA Data' , 'Normalized Data']\n",
        "plt.bar(x, y, tick_label = tick_label,\n",
        "        width = 0.8, color = ['red', 'orange','blue'])\n",
        "plt.xlabel('Type of Data')\n",
        "plt.ylabel('Score')\n",
        "plt.title('Support Vector Machine Accuracy Comparison')\n",
        "\n",
        "plt.show()"
      ],
      "metadata": {
        "id": "uJhxAd7WcoYA"
      },
      "execution_count": null,
      "outputs": []
    },
    {
      "cell_type": "markdown",
      "source": [
        "# Saving Models and Classification Reports"
      ],
      "metadata": {
        "id": "QFnLszVwX-Rr"
      }
    },
    {
      "cell_type": "code",
      "source": [
        "import pickle\n",
        "\n",
        "def save_trained_model(filename, model):\n",
        "  pickle.dump(model, open(filename+\".sav\", 'wb'))\n",
        " \n",
        "def load_from_pretrained(filename):\n",
        "  loaded_model = pickle.load(open(filename, 'rb'))\n",
        "  return loaded_model"
      ],
      "metadata": {
        "id": "tQfyAg9_Y-0q"
      },
      "execution_count": null,
      "outputs": []
    },
    {
      "cell_type": "code",
      "source": [
        "save_trained_model(\"knn_original\", KNN_original)\n",
        "save_trained_model(\"knn_pca\", KNN_pca)\n",
        "save_trained_model(\"knn_norm\", KNN_norm)\n",
        "\n",
        "save_trained_model(\"dt_original\", DT_original)\n",
        "save_trained_model(\"dt_pca\", DT_pca)\n",
        "save_trained_model(\"dt_norm\", DT_norm)\n",
        "\n",
        "save_trained_model(\"rf_original\", RFC_original)\n",
        "save_trained_model(\"rf_pca\", RFC_pca)\n",
        "save_trained_model(\"rf_norm\", RFC_norm)\n",
        "\n",
        "save_trained_model(\"svc_original\",SVC_original)\n",
        "save_trained_model(\"svc_pca\",SVC_pca)\n",
        "save_trained_model(\"svc_norm\",SVC_norm)\n"
      ],
      "metadata": {
        "id": "KuuxPQb7ZI_4"
      },
      "execution_count": null,
      "outputs": []
    },
    {
      "cell_type": "code",
      "source": [
        "target_names = ['0-750000', '750k - 2.5 m', '2.5 m - 10 m','10m - 50m','50m - 200m']\n",
        "print(classification_report(y_test, y_preds_KNN, target_names=target_names))\n",
        "print(\"Classification Report for Best KNN Model\")"
      ],
      "metadata": {
        "id": "iLjj6nZFtYTo"
      },
      "execution_count": null,
      "outputs": []
    },
    {
      "cell_type": "code",
      "source": [
        "target_names = ['0-750000', '750k - 2.5 m', '2.5 m - 10 m','10m - 50m','50m - 200m']\n",
        "print(classification_report(y_test, y_preds_DT, target_names=target_names))\n",
        "print(\"Classification Report for Best Decision Tree Model\")"
      ],
      "metadata": {
        "id": "zSf3L8SCZJH8"
      },
      "execution_count": null,
      "outputs": []
    },
    {
      "cell_type": "code",
      "source": [
        "target_names = ['0-750000', '750k - 2.5 m', '2.5 m - 10 m','10m - 50m','50m - 200m']\n",
        "print(classification_report(y_test, RFC_preds_original, target_names=target_names))\n",
        "print(\"Classification Report for Best Random Forest Model\")"
      ],
      "metadata": {
        "id": "FDpC_Yp2uCyg"
      },
      "execution_count": null,
      "outputs": []
    },
    {
      "cell_type": "code",
      "source": [
        "target_names = ['0-750000', '750k - 2.5 m', '2.5 m - 10 m','10m - 50m','50m - 200m']\n",
        "print(classification_report(y_test, SVC_preds_original, target_names=target_names))\n",
        "print(\"Classification Report for Best Support Vector Machine Model\")"
      ],
      "metadata": {
        "id": "AQjzr79BuC0v"
      },
      "execution_count": null,
      "outputs": []
    },
    {
      "cell_type": "code",
      "source": [
        "y= [KNN_accuracy_original, DT_accuracy, RFC_accuracy_original, SVC_accuracy_original]\n",
        "x = [1, 2, 3, 4]\n",
        "tick_label = ['KNN', 'Decision Tree' , 'Random Forest', 'SVC']\n",
        "plt.bar(x, y, tick_label = tick_label,\n",
        "        width = 0.8, color = ['red', 'orange','blue','green'])\n",
        "plt.xlabel('Type of Models')\n",
        "plt.ylabel('Score')\n",
        "plt.title('Classification Algorithm Accuracy Comparison with Original Data')\n",
        "\n",
        "plt.show()"
      ],
      "metadata": {
        "id": "c-HJAWI2uC3Q"
      },
      "execution_count": null,
      "outputs": []
    },
    {
      "cell_type": "code",
      "source": [
        "y= [KNN_accuracy_pca, DT_accuracy_pca, RFC_accuracy_pca, SVC_accuracy_pca]\n",
        "x = [1, 2, 3, 4]\n",
        "tick_label = ['KNN', 'Decision Tree' , 'Random Forest', 'SVC']\n",
        "plt.bar(x, y, tick_label = tick_label,\n",
        "        width = 0.8, color = ['red', 'orange','blue','green'])\n",
        "plt.xlabel('Type of Models')\n",
        "plt.ylabel('Score')\n",
        "plt.title('Classification Algorithm Accuracy Comparison with PCA Data')\n",
        "\n",
        "plt.show()"
      ],
      "metadata": {
        "id": "dz3E2I9huC5C"
      },
      "execution_count": null,
      "outputs": []
    },
    {
      "cell_type": "code",
      "source": [
        "y= [KNN_acc_norm, DT_accuracy_norm, RFC_accuracy_norm, SVC_accuracy_norm]\n",
        "x = [1, 2, 3, 4]\n",
        "tick_label = ['KNN', 'Decision Tree' , 'Random Forest', 'SVC']\n",
        "plt.bar(x, y, tick_label = tick_label,\n",
        "        width = 0.8, color = ['red', 'orange','blue','green'])\n",
        "plt.xlabel('Type of Models')\n",
        "plt.ylabel('Score')\n",
        "plt.title('Classification Algorithm Accuracy Comparison with Normalized Data')\n",
        "\n",
        "plt.show()"
      ],
      "metadata": {
        "id": "aJ3QMjOcw7Q_"
      },
      "execution_count": null,
      "outputs": []
    },
    {
      "cell_type": "markdown",
      "source": [
        "# Custom Input Prediction\n",
        "\n",
        "**Mevki**\n",
        "\n",
        "*   CAM = 0\n",
        "*   CB = 1\n",
        "*   CDM = 2\n",
        "*   CM = 3\n",
        "*   LB-RB = 4\n",
        "*   LW-RW = 5\n",
        "*   ST = 6\n",
        "\n",
        "**Sağ-Sol Ayak**\n",
        "*   Left = 0\n",
        "*   Right = 1\n",
        "\n",
        "**Bonservis**\n",
        "\n",
        "*   0 - 750k -> 1\n",
        "* 750k - 2.5m -> 2\n",
        "* 2.5m - 10m -> 3\n",
        "* 10m - 50m -> 4\n",
        "* 50m + -> 5\n",
        "\n",
        "['overall', 'potential', 'height_cm', 'weight_kg', 'player_positions', 'preferred_foot', 'weak_foot', 'skill_moves', 'pace', 'shooting', 'passing' 'dribbling', 'defending', 'physic', 'attacking_finishing']"
      ],
      "metadata": {
        "id": "8VHSIeNFMI_D"
      }
    },
    {
      "cell_type": "code",
      "source": [
        "import pickle\n",
        "\n",
        "def save_trained_model(filename, model):\n",
        "  pickle.dump(model, open(filename+\".sav\", 'wb'))\n",
        " \n",
        "def load_from_pretrained(filename):\n",
        "  loaded_model = pickle.load(open(filename, 'rb'))\n",
        "  return loaded_model"
      ],
      "metadata": {
        "id": "e0lblRv-YxPK"
      },
      "execution_count": null,
      "outputs": []
    },
    {
      "cell_type": "code",
      "source": [
        "position_dict = {'CAM': 0, 'CB': 1, 'CDM': 2, 'CM': 3, 'LB-RB': 4, 'LW-RW': 5, 'ST': 6}\n",
        "pref_foot_dict = {'Left': 0, \"Right\":1}\n",
        "value_dict = {'0-750k €':1, '750k - 2.5m €': 2, '2.5m - 10m €': 3, '10m - 50m €': 4, '50m + €': 5 }"
      ],
      "metadata": {
        "id": "PGTCc_DkQSF7"
      },
      "execution_count": null,
      "outputs": []
    },
    {
      "cell_type": "code",
      "source": [
        "overall = 95 / 100\n",
        "potential = 95 / 100\n",
        "height_cm = 180 / 100\n",
        "weight_kg = 80 / 100\n",
        "player_positions = \"ST\"\n",
        "preferred_foot = \"Left\"\n",
        "weak_foot = 4 / 5\n",
        "skill_moves = 4 / 5\n",
        "pace = 78 / 100\n",
        "shooting = 85 / 100\n",
        "passing = 83 / 100\n",
        "dribbling = 79 / 100\n",
        "defending = 60 / 100\n",
        "physic = 80 / 100\n",
        "attacking_finishing = 70 / 100\n",
        "\n",
        "# overall = 66 / 100\n",
        "# potential = 68 / 100\n",
        "# height_cm = 190 / 100\n",
        "# weight_kg = 100 / 100\n",
        "# player_positions = \"CB\"\n",
        "# preferred_foot = \"Right\"\n",
        "# weak_foot = 2 / 5\n",
        "# skill_moves = 2 / 5\n",
        "# pace = 58 / 100\n",
        "# shooting = 60 / 100\n",
        "# passing = 40 / 100\n",
        "# dribbling = 65 / 100\n",
        "# defending = 50 / 100\n",
        "# physic = 61 / 100\n",
        "# attacking_finishing = 70 / 100\n",
        "\n",
        "# overall = 77 / 100\n",
        "# potential = 85 / 100\n",
        "# height_cm = 160 / 100\n",
        "# weight_kg = 70 / 100\n",
        "# player_positions = \"LW-RW\"\n",
        "# preferred_foot = \"Right\"\n",
        "# weak_foot = 3 / 5\n",
        "# skill_moves = 5 / 5\n",
        "# pace = 70 / 100\n",
        "# shooting = 55 / 100\n",
        "# passing = 68 / 100\n",
        "# dribbling = 47 / 100\n",
        "# defending = 40 / 100\n",
        "# physic = 58 / 100\n",
        "# attacking_finishing = 65 / 100\n",
        "\n",
        "player_positions = position_dict.get(player_positions)\n",
        "preferred_foot = pref_foot_dict.get(preferred_foot)\n",
        "\n",
        "knn_model = load_from_pretrained(\"knn_original.sav\")\n",
        "dt_model = load_from_pretrained(\"dt_original.sav\")\n",
        "rf_model = load_from_pretrained(\"rf_original.sav\")\n",
        "svc_model = load_from_pretrained(\"svc_original.sav\")\n",
        "\n",
        "\n",
        "predict_array = [[overall, potential, height_cm, weight_kg, player_positions, preferred_foot, weak_foot, skill_moves, pace, shooting, passing, dribbling, defending, physic, attacking_finishing]]\n",
        "\n",
        "knn_result = knn_model.predict(predict_array)[0]\n",
        "dt_result = dt_model.predict(predict_array)[0]\n",
        "rf_result = rf_model.predict(predict_array)[0]\n",
        "svc_result = svc_model.predict(predict_array)[0]\n",
        "\n",
        "key_list = list(value_dict.keys())\n",
        "val_list = list(value_dict.values())\n",
        "\n",
        "index_knn = val_list.index(knn_result)\n",
        "print(\"Oyuncunun Bonservis Bedeli Tahmini Aralığı (KNN): \", key_list[index_knn])\n",
        "\n",
        "index_dt = val_list.index(dt_result)\n",
        "print(\"\\nOyuncunun Bonservis Bedeli Tahmini Aralığı (DT): \", key_list[index_dt])\n",
        "\n",
        "index_rf = val_list.index(rf_result)\n",
        "print(\"\\nOyuncunun Bonservis Bedeli Tahmini Aralığı (RF): \", key_list[index_rf])\n",
        "\n",
        "index_svc = val_list.index(svc_result)\n",
        "print(\"\\nOyuncunun Bonservis Bedeli Tahmini Aralığı (SVC): \", key_list[index_svc])\n"
      ],
      "metadata": {
        "id": "juwFYC5eMMBN"
      },
      "execution_count": null,
      "outputs": []
    }
  ]
}