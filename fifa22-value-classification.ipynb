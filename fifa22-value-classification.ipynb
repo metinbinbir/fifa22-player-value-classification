{
  "cells": [
    {
      "cell_type": "code",
      "execution_count": null,
      "metadata": {
        "colab": {
          "base_uri": "https://localhost:8080/"
        },
        "id": "PZ8Y_nnRCEMg",
        "outputId": "6734a92a-31c9-43ce-fe19-64a9761e4aea"
      },
      "outputs": [
        {
          "name": "stdout",
          "output_type": "stream",
          "text": [
            "[Errno 2] No such file or directory: 'drive/MyDrive'\n",
            "/content/drive/MyDrive\n"
          ]
        }
      ],
      "source": [
        "# changing path\n",
        "%cd drive/MyDrive "
      ]
    },
    {
      "cell_type": "code",
      "execution_count": null,
      "metadata": {
        "colab": {
          "base_uri": "https://localhost:8080/"
        },
        "id": "QKcVY2sS-lRC",
        "outputId": "5c0ff16c-6d05-4694-a300-57014b9ee43c"
      },
      "outputs": [
        {
          "name": "stdout",
          "output_type": "stream",
          "text": [
            " ai-hw-2.gdoc        finalized_model.sav   pes_22.ipynb      svc_original.sav\n",
            "\u001b[0m\u001b[01;34m'Colab Notebooks'\u001b[0m/   knn_normalized.sav    players_22.csv    svc_pca.sav\n",
            " data.csv            knn_norm.sav          rf_norm.sav       tree.dot\n",
            " dt_norm.sav         knn_original          rf_original.sav\n",
            " dt_original.sav     knn_original.sav      rf_pca.sav\n",
            " dt_pca.sav          knn_pca.sav           svc_norm.sav\n"
          ]
        }
      ],
      "source": [
        "ls"
      ]
    },
    {
      "cell_type": "code",
      "execution_count": null,
      "metadata": {
        "id": "CkO-nY2sGCKt"
      },
      "outputs": [],
      "source": [
        "# importing libraries"
      ]
    },
    {
      "cell_type": "code",
      "execution_count": null,
      "metadata": {
        "id": "cRy1Asg_F4KG"
      },
      "outputs": [],
      "source": [
        "import pandas as pd # data reading\n",
        "import matplotlib.pyplot as plt # data visualization\n",
        "from sklearn import preprocessing\n",
        "from sklearn.preprocessing import LabelEncoder, StandardScaler # data manipulation\n",
        "from sklearn.model_selection import train_test_split, cross_val_score, KFold\n",
        "import warnings\n",
        "from sklearn.exceptions import DataConversionWarning, ConvergenceWarning\n",
        "from sklearn.metrics import plot_confusion_matrix\n",
        "import pickle\n",
        "from sklearn import metrics\n",
        "from sklearn.tree import DecisionTreeClassifier\n",
        "import numpy as np\n",
        "warnings.filterwarnings(action='ignore', category=DataConversionWarning)\n",
        "warnings.filterwarnings(action='ignore', category=ConvergenceWarning)\n",
        "warnings.filterwarnings(action='ignore', category=UserWarning)\n",
        "from sklearn.decomposition import PCA\n",
        "from sklearn.neighbors import KNeighborsClassifier\n",
        "from sklearn.model_selection import train_test_split, GridSearchCV\n",
        "from sklearn.ensemble import RandomForestClassifier\n",
        "from sklearn.svm import SVC \n",
        "from sklearn.metrics import classification_report\n"
      ]
    },
    {
      "cell_type": "markdown",
      "metadata": {
        "id": "rXysT0Y-ZGkq"
      },
      "source": [
        "# Preprocess and Data Visualization"
      ]
    },
    {
      "cell_type": "code",
      "execution_count": null,
      "metadata": {
        "colab": {
          "base_uri": "https://localhost:8080/"
        },
        "id": "Q3n-miSqAJkK",
        "outputId": "f730767a-5e07-42ce-aec8-21ef4420c3e2"
      },
      "outputs": [
        {
          "name": "stderr",
          "output_type": "stream",
          "text": [
            "/usr/local/lib/python3.7/dist-packages/IPython/core/interactiveshell.py:2882: DtypeWarning: Columns (25,108) have mixed types.Specify dtype option on import or set low_memory=False.\n",
            "  exec(code_obj, self.user_global_ns, self.user_ns)\n"
          ]
        }
      ],
      "source": [
        "df = pd.read_csv('players_22.csv',index_col=False , encoding = \"utf-8\") # reading data"
      ]
    },
    {
      "cell_type": "code",
      "execution_count": null,
      "metadata": {
        "colab": {
          "base_uri": "https://localhost:8080/"
        },
        "id": "5pckf2hkw16H",
        "outputId": "db0c3145-cb3d-4f57-8c10-b00b4370b541"
      },
      "outputs": [
        {
          "data": {
            "text/plain": [
              "(19239, 110)"
            ]
          },
          "execution_count": 31,
          "metadata": {},
          "output_type": "execute_result"
        }
      ],
      "source": [
        "df.shape"
      ]
    },
    {
      "cell_type": "code",
      "execution_count": null,
      "metadata": {
        "colab": {
          "base_uri": "https://localhost:8080/",
          "height": 473
        },
        "id": "qVw644v9CKUU",
        "outputId": "e191392a-6a3d-4408-e017-d864f052153c"
      },
      "outputs": [
        {
          "data": {
            "text/html": [
              "\n",
              "  <div id=\"df-0b01f8aa-252f-45d7-a17b-a1baf2448760\">\n",
              "    <div class=\"colab-df-container\">\n",
              "      <div>\n",
              "<style scoped>\n",
              "    .dataframe tbody tr th:only-of-type {\n",
              "        vertical-align: middle;\n",
              "    }\n",
              "\n",
              "    .dataframe tbody tr th {\n",
              "        vertical-align: top;\n",
              "    }\n",
              "\n",
              "    .dataframe thead th {\n",
              "        text-align: right;\n",
              "    }\n",
              "</style>\n",
              "<table border=\"1\" class=\"dataframe\">\n",
              "  <thead>\n",
              "    <tr style=\"text-align: right;\">\n",
              "      <th></th>\n",
              "      <th>sofifa_id</th>\n",
              "      <th>player_url</th>\n",
              "      <th>short_name</th>\n",
              "      <th>long_name</th>\n",
              "      <th>player_positions</th>\n",
              "      <th>overall</th>\n",
              "      <th>potential</th>\n",
              "      <th>value_eur</th>\n",
              "      <th>wage_eur</th>\n",
              "      <th>age</th>\n",
              "      <th>...</th>\n",
              "      <th>lcb</th>\n",
              "      <th>cb</th>\n",
              "      <th>rcb</th>\n",
              "      <th>rb</th>\n",
              "      <th>gk</th>\n",
              "      <th>player_face_url</th>\n",
              "      <th>club_logo_url</th>\n",
              "      <th>club_flag_url</th>\n",
              "      <th>nation_logo_url</th>\n",
              "      <th>nation_flag_url</th>\n",
              "    </tr>\n",
              "  </thead>\n",
              "  <tbody>\n",
              "    <tr>\n",
              "      <th>0</th>\n",
              "      <td>158023</td>\n",
              "      <td>https://sofifa.com/player/158023/lionel-messi/...</td>\n",
              "      <td>L. Messi</td>\n",
              "      <td>Lionel Andrés Messi Cuccittini</td>\n",
              "      <td>RW, ST, CF</td>\n",
              "      <td>93</td>\n",
              "      <td>93</td>\n",
              "      <td>78000000.0</td>\n",
              "      <td>320000.0</td>\n",
              "      <td>34</td>\n",
              "      <td>...</td>\n",
              "      <td>50+3</td>\n",
              "      <td>50+3</td>\n",
              "      <td>50+3</td>\n",
              "      <td>61+3</td>\n",
              "      <td>19+3</td>\n",
              "      <td>https://cdn.sofifa.net/players/158/023/22_120.png</td>\n",
              "      <td>https://cdn.sofifa.net/teams/73/60.png</td>\n",
              "      <td>https://cdn.sofifa.net/flags/fr.png</td>\n",
              "      <td>https://cdn.sofifa.net/teams/1369/60.png</td>\n",
              "      <td>https://cdn.sofifa.net/flags/ar.png</td>\n",
              "    </tr>\n",
              "    <tr>\n",
              "      <th>1</th>\n",
              "      <td>188545</td>\n",
              "      <td>https://sofifa.com/player/188545/robert-lewand...</td>\n",
              "      <td>R. Lewandowski</td>\n",
              "      <td>Robert Lewandowski</td>\n",
              "      <td>ST</td>\n",
              "      <td>92</td>\n",
              "      <td>92</td>\n",
              "      <td>119500000.0</td>\n",
              "      <td>270000.0</td>\n",
              "      <td>32</td>\n",
              "      <td>...</td>\n",
              "      <td>60+3</td>\n",
              "      <td>60+3</td>\n",
              "      <td>60+3</td>\n",
              "      <td>61+3</td>\n",
              "      <td>19+3</td>\n",
              "      <td>https://cdn.sofifa.net/players/188/545/22_120.png</td>\n",
              "      <td>https://cdn.sofifa.net/teams/21/60.png</td>\n",
              "      <td>https://cdn.sofifa.net/flags/de.png</td>\n",
              "      <td>https://cdn.sofifa.net/teams/1353/60.png</td>\n",
              "      <td>https://cdn.sofifa.net/flags/pl.png</td>\n",
              "    </tr>\n",
              "    <tr>\n",
              "      <th>2</th>\n",
              "      <td>20801</td>\n",
              "      <td>https://sofifa.com/player/20801/c-ronaldo-dos-...</td>\n",
              "      <td>Cristiano Ronaldo</td>\n",
              "      <td>Cristiano Ronaldo dos Santos Aveiro</td>\n",
              "      <td>ST, LW</td>\n",
              "      <td>91</td>\n",
              "      <td>91</td>\n",
              "      <td>45000000.0</td>\n",
              "      <td>270000.0</td>\n",
              "      <td>36</td>\n",
              "      <td>...</td>\n",
              "      <td>53+3</td>\n",
              "      <td>53+3</td>\n",
              "      <td>53+3</td>\n",
              "      <td>60+3</td>\n",
              "      <td>20+3</td>\n",
              "      <td>https://cdn.sofifa.net/players/020/801/22_120.png</td>\n",
              "      <td>https://cdn.sofifa.net/teams/11/60.png</td>\n",
              "      <td>https://cdn.sofifa.net/flags/gb-eng.png</td>\n",
              "      <td>https://cdn.sofifa.net/teams/1354/60.png</td>\n",
              "      <td>https://cdn.sofifa.net/flags/pt.png</td>\n",
              "    </tr>\n",
              "    <tr>\n",
              "      <th>3</th>\n",
              "      <td>190871</td>\n",
              "      <td>https://sofifa.com/player/190871/neymar-da-sil...</td>\n",
              "      <td>Neymar Jr</td>\n",
              "      <td>Neymar da Silva Santos Júnior</td>\n",
              "      <td>LW, CAM</td>\n",
              "      <td>91</td>\n",
              "      <td>91</td>\n",
              "      <td>129000000.0</td>\n",
              "      <td>270000.0</td>\n",
              "      <td>29</td>\n",
              "      <td>...</td>\n",
              "      <td>50+3</td>\n",
              "      <td>50+3</td>\n",
              "      <td>50+3</td>\n",
              "      <td>62+3</td>\n",
              "      <td>20+3</td>\n",
              "      <td>https://cdn.sofifa.net/players/190/871/22_120.png</td>\n",
              "      <td>https://cdn.sofifa.net/teams/73/60.png</td>\n",
              "      <td>https://cdn.sofifa.net/flags/fr.png</td>\n",
              "      <td>NaN</td>\n",
              "      <td>https://cdn.sofifa.net/flags/br.png</td>\n",
              "    </tr>\n",
              "    <tr>\n",
              "      <th>4</th>\n",
              "      <td>192985</td>\n",
              "      <td>https://sofifa.com/player/192985/kevin-de-bruy...</td>\n",
              "      <td>K. De Bruyne</td>\n",
              "      <td>Kevin De Bruyne</td>\n",
              "      <td>CM, CAM</td>\n",
              "      <td>91</td>\n",
              "      <td>91</td>\n",
              "      <td>125500000.0</td>\n",
              "      <td>350000.0</td>\n",
              "      <td>30</td>\n",
              "      <td>...</td>\n",
              "      <td>69+3</td>\n",
              "      <td>69+3</td>\n",
              "      <td>69+3</td>\n",
              "      <td>75+3</td>\n",
              "      <td>21+3</td>\n",
              "      <td>https://cdn.sofifa.net/players/192/985/22_120.png</td>\n",
              "      <td>https://cdn.sofifa.net/teams/10/60.png</td>\n",
              "      <td>https://cdn.sofifa.net/flags/gb-eng.png</td>\n",
              "      <td>https://cdn.sofifa.net/teams/1325/60.png</td>\n",
              "      <td>https://cdn.sofifa.net/flags/be.png</td>\n",
              "    </tr>\n",
              "  </tbody>\n",
              "</table>\n",
              "<p>5 rows × 110 columns</p>\n",
              "</div>\n",
              "      <button class=\"colab-df-convert\" onclick=\"convertToInteractive('df-0b01f8aa-252f-45d7-a17b-a1baf2448760')\"\n",
              "              title=\"Convert this dataframe to an interactive table.\"\n",
              "              style=\"display:none;\">\n",
              "        \n",
              "  <svg xmlns=\"http://www.w3.org/2000/svg\" height=\"24px\"viewBox=\"0 0 24 24\"\n",
              "       width=\"24px\">\n",
              "    <path d=\"M0 0h24v24H0V0z\" fill=\"none\"/>\n",
              "    <path d=\"M18.56 5.44l.94 2.06.94-2.06 2.06-.94-2.06-.94-.94-2.06-.94 2.06-2.06.94zm-11 1L8.5 8.5l.94-2.06 2.06-.94-2.06-.94L8.5 2.5l-.94 2.06-2.06.94zm10 10l.94 2.06.94-2.06 2.06-.94-2.06-.94-.94-2.06-.94 2.06-2.06.94z\"/><path d=\"M17.41 7.96l-1.37-1.37c-.4-.4-.92-.59-1.43-.59-.52 0-1.04.2-1.43.59L10.3 9.45l-7.72 7.72c-.78.78-.78 2.05 0 2.83L4 21.41c.39.39.9.59 1.41.59.51 0 1.02-.2 1.41-.59l7.78-7.78 2.81-2.81c.8-.78.8-2.07 0-2.86zM5.41 20L4 18.59l7.72-7.72 1.47 1.35L5.41 20z\"/>\n",
              "  </svg>\n",
              "      </button>\n",
              "      \n",
              "  <style>\n",
              "    .colab-df-container {\n",
              "      display:flex;\n",
              "      flex-wrap:wrap;\n",
              "      gap: 12px;\n",
              "    }\n",
              "\n",
              "    .colab-df-convert {\n",
              "      background-color: #E8F0FE;\n",
              "      border: none;\n",
              "      border-radius: 50%;\n",
              "      cursor: pointer;\n",
              "      display: none;\n",
              "      fill: #1967D2;\n",
              "      height: 32px;\n",
              "      padding: 0 0 0 0;\n",
              "      width: 32px;\n",
              "    }\n",
              "\n",
              "    .colab-df-convert:hover {\n",
              "      background-color: #E2EBFA;\n",
              "      box-shadow: 0px 1px 2px rgba(60, 64, 67, 0.3), 0px 1px 3px 1px rgba(60, 64, 67, 0.15);\n",
              "      fill: #174EA6;\n",
              "    }\n",
              "\n",
              "    [theme=dark] .colab-df-convert {\n",
              "      background-color: #3B4455;\n",
              "      fill: #D2E3FC;\n",
              "    }\n",
              "\n",
              "    [theme=dark] .colab-df-convert:hover {\n",
              "      background-color: #434B5C;\n",
              "      box-shadow: 0px 1px 3px 1px rgba(0, 0, 0, 0.15);\n",
              "      filter: drop-shadow(0px 1px 2px rgba(0, 0, 0, 0.3));\n",
              "      fill: #FFFFFF;\n",
              "    }\n",
              "  </style>\n",
              "\n",
              "      <script>\n",
              "        const buttonEl =\n",
              "          document.querySelector('#df-0b01f8aa-252f-45d7-a17b-a1baf2448760 button.colab-df-convert');\n",
              "        buttonEl.style.display =\n",
              "          google.colab.kernel.accessAllowed ? 'block' : 'none';\n",
              "\n",
              "        async function convertToInteractive(key) {\n",
              "          const element = document.querySelector('#df-0b01f8aa-252f-45d7-a17b-a1baf2448760');\n",
              "          const dataTable =\n",
              "            await google.colab.kernel.invokeFunction('convertToInteractive',\n",
              "                                                     [key], {});\n",
              "          if (!dataTable) return;\n",
              "\n",
              "          const docLinkHtml = 'Like what you see? Visit the ' +\n",
              "            '<a target=\"_blank\" href=https://colab.research.google.com/notebooks/data_table.ipynb>data table notebook</a>'\n",
              "            + ' to learn more about interactive tables.';\n",
              "          element.innerHTML = '';\n",
              "          dataTable['output_type'] = 'display_data';\n",
              "          await google.colab.output.renderOutput(dataTable, element);\n",
              "          const docLink = document.createElement('div');\n",
              "          docLink.innerHTML = docLinkHtml;\n",
              "          element.appendChild(docLink);\n",
              "        }\n",
              "      </script>\n",
              "    </div>\n",
              "  </div>\n",
              "  "
            ],
            "text/plain": [
              "   sofifa_id                                         player_url  \\\n",
              "0     158023  https://sofifa.com/player/158023/lionel-messi/...   \n",
              "1     188545  https://sofifa.com/player/188545/robert-lewand...   \n",
              "2      20801  https://sofifa.com/player/20801/c-ronaldo-dos-...   \n",
              "3     190871  https://sofifa.com/player/190871/neymar-da-sil...   \n",
              "4     192985  https://sofifa.com/player/192985/kevin-de-bruy...   \n",
              "\n",
              "          short_name                            long_name player_positions  \\\n",
              "0           L. Messi       Lionel Andrés Messi Cuccittini       RW, ST, CF   \n",
              "1     R. Lewandowski                   Robert Lewandowski               ST   \n",
              "2  Cristiano Ronaldo  Cristiano Ronaldo dos Santos Aveiro           ST, LW   \n",
              "3          Neymar Jr        Neymar da Silva Santos Júnior          LW, CAM   \n",
              "4       K. De Bruyne                      Kevin De Bruyne          CM, CAM   \n",
              "\n",
              "   overall  potential    value_eur  wage_eur  age  ...   lcb    cb   rcb  \\\n",
              "0       93         93   78000000.0  320000.0   34  ...  50+3  50+3  50+3   \n",
              "1       92         92  119500000.0  270000.0   32  ...  60+3  60+3  60+3   \n",
              "2       91         91   45000000.0  270000.0   36  ...  53+3  53+3  53+3   \n",
              "3       91         91  129000000.0  270000.0   29  ...  50+3  50+3  50+3   \n",
              "4       91         91  125500000.0  350000.0   30  ...  69+3  69+3  69+3   \n",
              "\n",
              "     rb    gk                                    player_face_url  \\\n",
              "0  61+3  19+3  https://cdn.sofifa.net/players/158/023/22_120.png   \n",
              "1  61+3  19+3  https://cdn.sofifa.net/players/188/545/22_120.png   \n",
              "2  60+3  20+3  https://cdn.sofifa.net/players/020/801/22_120.png   \n",
              "3  62+3  20+3  https://cdn.sofifa.net/players/190/871/22_120.png   \n",
              "4  75+3  21+3  https://cdn.sofifa.net/players/192/985/22_120.png   \n",
              "\n",
              "                            club_logo_url  \\\n",
              "0  https://cdn.sofifa.net/teams/73/60.png   \n",
              "1  https://cdn.sofifa.net/teams/21/60.png   \n",
              "2  https://cdn.sofifa.net/teams/11/60.png   \n",
              "3  https://cdn.sofifa.net/teams/73/60.png   \n",
              "4  https://cdn.sofifa.net/teams/10/60.png   \n",
              "\n",
              "                             club_flag_url  \\\n",
              "0      https://cdn.sofifa.net/flags/fr.png   \n",
              "1      https://cdn.sofifa.net/flags/de.png   \n",
              "2  https://cdn.sofifa.net/flags/gb-eng.png   \n",
              "3      https://cdn.sofifa.net/flags/fr.png   \n",
              "4  https://cdn.sofifa.net/flags/gb-eng.png   \n",
              "\n",
              "                            nation_logo_url  \\\n",
              "0  https://cdn.sofifa.net/teams/1369/60.png   \n",
              "1  https://cdn.sofifa.net/teams/1353/60.png   \n",
              "2  https://cdn.sofifa.net/teams/1354/60.png   \n",
              "3                                       NaN   \n",
              "4  https://cdn.sofifa.net/teams/1325/60.png   \n",
              "\n",
              "                       nation_flag_url  \n",
              "0  https://cdn.sofifa.net/flags/ar.png  \n",
              "1  https://cdn.sofifa.net/flags/pl.png  \n",
              "2  https://cdn.sofifa.net/flags/pt.png  \n",
              "3  https://cdn.sofifa.net/flags/br.png  \n",
              "4  https://cdn.sofifa.net/flags/be.png  \n",
              "\n",
              "[5 rows x 110 columns]"
            ]
          },
          "execution_count": 32,
          "metadata": {},
          "output_type": "execute_result"
        }
      ],
      "source": [
        "df.head() # first rows of the data"
      ]
    },
    {
      "cell_type": "code",
      "execution_count": null,
      "metadata": {
        "id": "hbfIW3xwpI5D"
      },
      "outputs": [],
      "source": [
        "df.hist()"
      ]
    },
    {
      "cell_type": "code",
      "execution_count": null,
      "metadata": {
        "id": "QnKXzFr-CcBm"
      },
      "outputs": [],
      "source": [
        "# our dataset has 101 columns, so we chose general attributes of a football players\n",
        "\n",
        "df = df[['value_eur','overall','potential','height_cm','weight_kg',\n",
        "         'player_positions','preferred_foot','weak_foot','skill_moves',\n",
        "         'pace','shooting','passing','dribbling','defending','physic',\n",
        "         'attacking_finishing']]"
      ]
    },
    {
      "cell_type": "code",
      "execution_count": null,
      "metadata": {
        "colab": {
          "base_uri": "https://localhost:8080/"
        },
        "id": "PbT_0jQHG5fo",
        "outputId": "aac27d41-5d7d-4295-8326-b04c32a59d46"
      },
      "outputs": [
        {
          "data": {
            "text/plain": [
              "16"
            ]
          },
          "execution_count": 7,
          "metadata": {},
          "output_type": "execute_result"
        }
      ],
      "source": [
        "# we have 16 attribute, value_eur attribute will be target class, the rest will be independent variables\n",
        "df.shape[1]"
      ]
    },
    {
      "cell_type": "code",
      "execution_count": null,
      "metadata": {
        "colab": {
          "base_uri": "https://localhost:8080/"
        },
        "id": "_C7HwhEWHP3m",
        "outputId": "c6dc2505-d749-4a07-87b8-2d591c08263a"
      },
      "outputs": [
        {
          "data": {
            "text/plain": [
              "19239"
            ]
          },
          "execution_count": 14,
          "metadata": {},
          "output_type": "execute_result"
        }
      ],
      "source": [
        "# we have 19239 samples in our dataset\n",
        "df.shape[0] "
      ]
    },
    {
      "cell_type": "code",
      "execution_count": null,
      "metadata": {
        "id": "IStTcVxjFCcA"
      },
      "outputs": [],
      "source": [
        "# goalkeepers will be removed since their attributes are different from the players which are playing at other positions\n",
        "df = df[df.player_positions != 'GK']"
      ]
    },
    {
      "cell_type": "code",
      "execution_count": null,
      "metadata": {
        "id": "2O9YivBmK3dA"
      },
      "outputs": [],
      "source": [
        "# after removing goalkeepers, our dataset contain 17107 samples\n",
        "df.reset_index(drop=True, inplace=True)"
      ]
    },
    {
      "cell_type": "code",
      "execution_count": null,
      "metadata": {
        "colab": {
          "base_uri": "https://localhost:8080/"
        },
        "id": "q242YhOEK9wP",
        "outputId": "267b04e7-4a1d-412a-8236-b91e05fd61a2"
      },
      "outputs": [
        {
          "data": {
            "text/plain": [
              "17107"
            ]
          },
          "execution_count": 36,
          "metadata": {},
          "output_type": "execute_result"
        }
      ],
      "source": [
        "# after removing goalkeepers, there are 17107 players in the dataset\n",
        "df.shape[0] "
      ]
    },
    {
      "cell_type": "code",
      "execution_count": null,
      "metadata": {
        "id": "b8_s8dfH6Wgp"
      },
      "outputs": [],
      "source": [
        "df = df.dropna().reset_index(drop=True)\n"
      ]
    },
    {
      "cell_type": "code",
      "execution_count": null,
      "metadata": {
        "colab": {
          "base_uri": "https://localhost:8080/"
        },
        "id": "ArcNayWpJZGr",
        "outputId": "25790e15-f36f-4b66-89a9-ea87618bf246"
      },
      "outputs": [
        {
          "data": {
            "text/plain": [
              "17041"
            ]
          },
          "execution_count": 14,
          "metadata": {},
          "output_type": "execute_result"
        }
      ],
      "source": [
        "df.shape[0] "
      ]
    },
    {
      "cell_type": "code",
      "execution_count": null,
      "metadata": {
        "colab": {
          "base_uri": "https://localhost:8080/",
          "height": 423
        },
        "id": "lP3M9CfBKrh_",
        "outputId": "0be5130c-848b-4f0b-e06b-600ddabaf046"
      },
      "outputs": [
        {
          "data": {
            "text/html": [
              "\n",
              "  <div id=\"df-cf71f2af-d590-4985-87fd-e7d7e06be13c\">\n",
              "    <div class=\"colab-df-container\">\n",
              "      <div>\n",
              "<style scoped>\n",
              "    .dataframe tbody tr th:only-of-type {\n",
              "        vertical-align: middle;\n",
              "    }\n",
              "\n",
              "    .dataframe tbody tr th {\n",
              "        vertical-align: top;\n",
              "    }\n",
              "\n",
              "    .dataframe thead th {\n",
              "        text-align: right;\n",
              "    }\n",
              "</style>\n",
              "<table border=\"1\" class=\"dataframe\">\n",
              "  <thead>\n",
              "    <tr style=\"text-align: right;\">\n",
              "      <th></th>\n",
              "      <th>value_eur</th>\n",
              "      <th>overall</th>\n",
              "      <th>potential</th>\n",
              "      <th>height_cm</th>\n",
              "      <th>weight_kg</th>\n",
              "      <th>player_positions</th>\n",
              "      <th>preferred_foot</th>\n",
              "      <th>weak_foot</th>\n",
              "      <th>skill_moves</th>\n",
              "      <th>pace</th>\n",
              "      <th>shooting</th>\n",
              "      <th>passing</th>\n",
              "      <th>dribbling</th>\n",
              "      <th>defending</th>\n",
              "      <th>physic</th>\n",
              "      <th>attacking_finishing</th>\n",
              "    </tr>\n",
              "  </thead>\n",
              "  <tbody>\n",
              "    <tr>\n",
              "      <th>0</th>\n",
              "      <td>78000000.0</td>\n",
              "      <td>93</td>\n",
              "      <td>93</td>\n",
              "      <td>170</td>\n",
              "      <td>72</td>\n",
              "      <td>RW, ST, CF</td>\n",
              "      <td>Left</td>\n",
              "      <td>4</td>\n",
              "      <td>4</td>\n",
              "      <td>85.0</td>\n",
              "      <td>92.0</td>\n",
              "      <td>91.0</td>\n",
              "      <td>95.0</td>\n",
              "      <td>34.0</td>\n",
              "      <td>65.0</td>\n",
              "      <td>95</td>\n",
              "    </tr>\n",
              "    <tr>\n",
              "      <th>1</th>\n",
              "      <td>119500000.0</td>\n",
              "      <td>92</td>\n",
              "      <td>92</td>\n",
              "      <td>185</td>\n",
              "      <td>81</td>\n",
              "      <td>ST</td>\n",
              "      <td>Right</td>\n",
              "      <td>4</td>\n",
              "      <td>4</td>\n",
              "      <td>78.0</td>\n",
              "      <td>92.0</td>\n",
              "      <td>79.0</td>\n",
              "      <td>86.0</td>\n",
              "      <td>44.0</td>\n",
              "      <td>82.0</td>\n",
              "      <td>95</td>\n",
              "    </tr>\n",
              "    <tr>\n",
              "      <th>2</th>\n",
              "      <td>45000000.0</td>\n",
              "      <td>91</td>\n",
              "      <td>91</td>\n",
              "      <td>187</td>\n",
              "      <td>83</td>\n",
              "      <td>ST, LW</td>\n",
              "      <td>Right</td>\n",
              "      <td>4</td>\n",
              "      <td>5</td>\n",
              "      <td>87.0</td>\n",
              "      <td>94.0</td>\n",
              "      <td>80.0</td>\n",
              "      <td>88.0</td>\n",
              "      <td>34.0</td>\n",
              "      <td>75.0</td>\n",
              "      <td>95</td>\n",
              "    </tr>\n",
              "    <tr>\n",
              "      <th>3</th>\n",
              "      <td>129000000.0</td>\n",
              "      <td>91</td>\n",
              "      <td>91</td>\n",
              "      <td>175</td>\n",
              "      <td>68</td>\n",
              "      <td>LW, CAM</td>\n",
              "      <td>Right</td>\n",
              "      <td>5</td>\n",
              "      <td>5</td>\n",
              "      <td>91.0</td>\n",
              "      <td>83.0</td>\n",
              "      <td>86.0</td>\n",
              "      <td>94.0</td>\n",
              "      <td>37.0</td>\n",
              "      <td>63.0</td>\n",
              "      <td>83</td>\n",
              "    </tr>\n",
              "    <tr>\n",
              "      <th>4</th>\n",
              "      <td>125500000.0</td>\n",
              "      <td>91</td>\n",
              "      <td>91</td>\n",
              "      <td>181</td>\n",
              "      <td>70</td>\n",
              "      <td>CM, CAM</td>\n",
              "      <td>Right</td>\n",
              "      <td>5</td>\n",
              "      <td>4</td>\n",
              "      <td>76.0</td>\n",
              "      <td>86.0</td>\n",
              "      <td>93.0</td>\n",
              "      <td>88.0</td>\n",
              "      <td>64.0</td>\n",
              "      <td>78.0</td>\n",
              "      <td>82</td>\n",
              "    </tr>\n",
              "    <tr>\n",
              "      <th>...</th>\n",
              "      <td>...</td>\n",
              "      <td>...</td>\n",
              "      <td>...</td>\n",
              "      <td>...</td>\n",
              "      <td>...</td>\n",
              "      <td>...</td>\n",
              "      <td>...</td>\n",
              "      <td>...</td>\n",
              "      <td>...</td>\n",
              "      <td>...</td>\n",
              "      <td>...</td>\n",
              "      <td>...</td>\n",
              "      <td>...</td>\n",
              "      <td>...</td>\n",
              "      <td>...</td>\n",
              "      <td>...</td>\n",
              "    </tr>\n",
              "    <tr>\n",
              "      <th>17036</th>\n",
              "      <td>70000.0</td>\n",
              "      <td>47</td>\n",
              "      <td>52</td>\n",
              "      <td>180</td>\n",
              "      <td>64</td>\n",
              "      <td>CDM</td>\n",
              "      <td>Right</td>\n",
              "      <td>3</td>\n",
              "      <td>2</td>\n",
              "      <td>58.0</td>\n",
              "      <td>35.0</td>\n",
              "      <td>46.0</td>\n",
              "      <td>48.0</td>\n",
              "      <td>42.0</td>\n",
              "      <td>49.0</td>\n",
              "      <td>32</td>\n",
              "    </tr>\n",
              "    <tr>\n",
              "      <th>17037</th>\n",
              "      <td>110000.0</td>\n",
              "      <td>47</td>\n",
              "      <td>59</td>\n",
              "      <td>175</td>\n",
              "      <td>70</td>\n",
              "      <td>CM</td>\n",
              "      <td>Right</td>\n",
              "      <td>3</td>\n",
              "      <td>2</td>\n",
              "      <td>59.0</td>\n",
              "      <td>39.0</td>\n",
              "      <td>50.0</td>\n",
              "      <td>46.0</td>\n",
              "      <td>41.0</td>\n",
              "      <td>51.0</td>\n",
              "      <td>33</td>\n",
              "    </tr>\n",
              "    <tr>\n",
              "      <th>17038</th>\n",
              "      <td>100000.0</td>\n",
              "      <td>47</td>\n",
              "      <td>55</td>\n",
              "      <td>178</td>\n",
              "      <td>72</td>\n",
              "      <td>CM</td>\n",
              "      <td>Right</td>\n",
              "      <td>3</td>\n",
              "      <td>2</td>\n",
              "      <td>60.0</td>\n",
              "      <td>37.0</td>\n",
              "      <td>45.0</td>\n",
              "      <td>49.0</td>\n",
              "      <td>41.0</td>\n",
              "      <td>52.0</td>\n",
              "      <td>32</td>\n",
              "    </tr>\n",
              "    <tr>\n",
              "      <th>17039</th>\n",
              "      <td>110000.0</td>\n",
              "      <td>47</td>\n",
              "      <td>60</td>\n",
              "      <td>173</td>\n",
              "      <td>66</td>\n",
              "      <td>ST</td>\n",
              "      <td>Right</td>\n",
              "      <td>3</td>\n",
              "      <td>2</td>\n",
              "      <td>68.0</td>\n",
              "      <td>46.0</td>\n",
              "      <td>36.0</td>\n",
              "      <td>48.0</td>\n",
              "      <td>15.0</td>\n",
              "      <td>42.0</td>\n",
              "      <td>49</td>\n",
              "    </tr>\n",
              "    <tr>\n",
              "      <th>17040</th>\n",
              "      <td>110000.0</td>\n",
              "      <td>47</td>\n",
              "      <td>60</td>\n",
              "      <td>167</td>\n",
              "      <td>61</td>\n",
              "      <td>CAM</td>\n",
              "      <td>Right</td>\n",
              "      <td>3</td>\n",
              "      <td>2</td>\n",
              "      <td>68.0</td>\n",
              "      <td>38.0</td>\n",
              "      <td>45.0</td>\n",
              "      <td>48.0</td>\n",
              "      <td>36.0</td>\n",
              "      <td>48.0</td>\n",
              "      <td>32</td>\n",
              "    </tr>\n",
              "  </tbody>\n",
              "</table>\n",
              "<p>17041 rows × 16 columns</p>\n",
              "</div>\n",
              "      <button class=\"colab-df-convert\" onclick=\"convertToInteractive('df-cf71f2af-d590-4985-87fd-e7d7e06be13c')\"\n",
              "              title=\"Convert this dataframe to an interactive table.\"\n",
              "              style=\"display:none;\">\n",
              "        \n",
              "  <svg xmlns=\"http://www.w3.org/2000/svg\" height=\"24px\"viewBox=\"0 0 24 24\"\n",
              "       width=\"24px\">\n",
              "    <path d=\"M0 0h24v24H0V0z\" fill=\"none\"/>\n",
              "    <path d=\"M18.56 5.44l.94 2.06.94-2.06 2.06-.94-2.06-.94-.94-2.06-.94 2.06-2.06.94zm-11 1L8.5 8.5l.94-2.06 2.06-.94-2.06-.94L8.5 2.5l-.94 2.06-2.06.94zm10 10l.94 2.06.94-2.06 2.06-.94-2.06-.94-.94-2.06-.94 2.06-2.06.94z\"/><path d=\"M17.41 7.96l-1.37-1.37c-.4-.4-.92-.59-1.43-.59-.52 0-1.04.2-1.43.59L10.3 9.45l-7.72 7.72c-.78.78-.78 2.05 0 2.83L4 21.41c.39.39.9.59 1.41.59.51 0 1.02-.2 1.41-.59l7.78-7.78 2.81-2.81c.8-.78.8-2.07 0-2.86zM5.41 20L4 18.59l7.72-7.72 1.47 1.35L5.41 20z\"/>\n",
              "  </svg>\n",
              "      </button>\n",
              "      \n",
              "  <style>\n",
              "    .colab-df-container {\n",
              "      display:flex;\n",
              "      flex-wrap:wrap;\n",
              "      gap: 12px;\n",
              "    }\n",
              "\n",
              "    .colab-df-convert {\n",
              "      background-color: #E8F0FE;\n",
              "      border: none;\n",
              "      border-radius: 50%;\n",
              "      cursor: pointer;\n",
              "      display: none;\n",
              "      fill: #1967D2;\n",
              "      height: 32px;\n",
              "      padding: 0 0 0 0;\n",
              "      width: 32px;\n",
              "    }\n",
              "\n",
              "    .colab-df-convert:hover {\n",
              "      background-color: #E2EBFA;\n",
              "      box-shadow: 0px 1px 2px rgba(60, 64, 67, 0.3), 0px 1px 3px 1px rgba(60, 64, 67, 0.15);\n",
              "      fill: #174EA6;\n",
              "    }\n",
              "\n",
              "    [theme=dark] .colab-df-convert {\n",
              "      background-color: #3B4455;\n",
              "      fill: #D2E3FC;\n",
              "    }\n",
              "\n",
              "    [theme=dark] .colab-df-convert:hover {\n",
              "      background-color: #434B5C;\n",
              "      box-shadow: 0px 1px 3px 1px rgba(0, 0, 0, 0.15);\n",
              "      filter: drop-shadow(0px 1px 2px rgba(0, 0, 0, 0.3));\n",
              "      fill: #FFFFFF;\n",
              "    }\n",
              "  </style>\n",
              "\n",
              "      <script>\n",
              "        const buttonEl =\n",
              "          document.querySelector('#df-cf71f2af-d590-4985-87fd-e7d7e06be13c button.colab-df-convert');\n",
              "        buttonEl.style.display =\n",
              "          google.colab.kernel.accessAllowed ? 'block' : 'none';\n",
              "\n",
              "        async function convertToInteractive(key) {\n",
              "          const element = document.querySelector('#df-cf71f2af-d590-4985-87fd-e7d7e06be13c');\n",
              "          const dataTable =\n",
              "            await google.colab.kernel.invokeFunction('convertToInteractive',\n",
              "                                                     [key], {});\n",
              "          if (!dataTable) return;\n",
              "\n",
              "          const docLinkHtml = 'Like what you see? Visit the ' +\n",
              "            '<a target=\"_blank\" href=https://colab.research.google.com/notebooks/data_table.ipynb>data table notebook</a>'\n",
              "            + ' to learn more about interactive tables.';\n",
              "          element.innerHTML = '';\n",
              "          dataTable['output_type'] = 'display_data';\n",
              "          await google.colab.output.renderOutput(dataTable, element);\n",
              "          const docLink = document.createElement('div');\n",
              "          docLink.innerHTML = docLinkHtml;\n",
              "          element.appendChild(docLink);\n",
              "        }\n",
              "      </script>\n",
              "    </div>\n",
              "  </div>\n",
              "  "
            ],
            "text/plain": [
              "         value_eur  overall  potential  height_cm  weight_kg player_positions  \\\n",
              "0       78000000.0       93         93        170         72       RW, ST, CF   \n",
              "1      119500000.0       92         92        185         81               ST   \n",
              "2       45000000.0       91         91        187         83           ST, LW   \n",
              "3      129000000.0       91         91        175         68          LW, CAM   \n",
              "4      125500000.0       91         91        181         70          CM, CAM   \n",
              "...            ...      ...        ...        ...        ...              ...   \n",
              "17036      70000.0       47         52        180         64              CDM   \n",
              "17037     110000.0       47         59        175         70               CM   \n",
              "17038     100000.0       47         55        178         72               CM   \n",
              "17039     110000.0       47         60        173         66               ST   \n",
              "17040     110000.0       47         60        167         61              CAM   \n",
              "\n",
              "      preferred_foot  weak_foot  skill_moves  pace  shooting  passing  \\\n",
              "0               Left          4            4  85.0      92.0     91.0   \n",
              "1              Right          4            4  78.0      92.0     79.0   \n",
              "2              Right          4            5  87.0      94.0     80.0   \n",
              "3              Right          5            5  91.0      83.0     86.0   \n",
              "4              Right          5            4  76.0      86.0     93.0   \n",
              "...              ...        ...          ...   ...       ...      ...   \n",
              "17036          Right          3            2  58.0      35.0     46.0   \n",
              "17037          Right          3            2  59.0      39.0     50.0   \n",
              "17038          Right          3            2  60.0      37.0     45.0   \n",
              "17039          Right          3            2  68.0      46.0     36.0   \n",
              "17040          Right          3            2  68.0      38.0     45.0   \n",
              "\n",
              "       dribbling  defending  physic  attacking_finishing  \n",
              "0           95.0       34.0    65.0                   95  \n",
              "1           86.0       44.0    82.0                   95  \n",
              "2           88.0       34.0    75.0                   95  \n",
              "3           94.0       37.0    63.0                   83  \n",
              "4           88.0       64.0    78.0                   82  \n",
              "...          ...        ...     ...                  ...  \n",
              "17036       48.0       42.0    49.0                   32  \n",
              "17037       46.0       41.0    51.0                   33  \n",
              "17038       49.0       41.0    52.0                   32  \n",
              "17039       48.0       15.0    42.0                   49  \n",
              "17040       48.0       36.0    48.0                   32  \n",
              "\n",
              "[17041 rows x 16 columns]"
            ]
          },
          "execution_count": 13,
          "metadata": {},
          "output_type": "execute_result"
        }
      ],
      "source": [
        "df"
      ]
    },
    {
      "cell_type": "code",
      "execution_count": null,
      "metadata": {
        "id": "DPaw2LeSIzo1"
      },
      "outputs": [],
      "source": [
        "df.drop_duplicates(keep=\"first\", inplace=True)"
      ]
    },
    {
      "cell_type": "code",
      "execution_count": null,
      "metadata": {
        "colab": {
          "base_uri": "https://localhost:8080/"
        },
        "id": "e8MfAFRyYl4J",
        "outputId": "7e63a3e2-9c10-4bea-e538-1e0ba6f2291a"
      },
      "outputs": [
        {
          "data": {
            "text/plain": [
              "17041"
            ]
          },
          "execution_count": 121,
          "metadata": {},
          "output_type": "execute_result"
        }
      ],
      "source": [
        "df.shape[0] "
      ]
    },
    {
      "cell_type": "code",
      "execution_count": null,
      "metadata": {
        "colab": {
          "base_uri": "https://localhost:8080/",
          "height": 295
        },
        "id": "P2iaTrzApXv3",
        "outputId": "8103138e-506b-4162-f86a-5fb11f0cfe59"
      },
      "outputs": [
        {
          "data": {
            "text/plain": [
              "<matplotlib.axes._subplots.AxesSubplot at 0x7f70c013f610>"
            ]
          },
          "execution_count": 17,
          "metadata": {},
          "output_type": "execute_result"
        },
        {
          "data": {
            "image/png": "[encoded data removed]",
            "text/plain": [
              "<Figure size 432x288 with 1 Axes>"
            ]
          },
          "metadata": {
            "needs_background": "light"
          },
          "output_type": "display_data"
        }
      ],
      "source": [
        "df.value_eur.hist()"
      ]
    },
    {
      "cell_type": "code",
      "execution_count": null,
      "metadata": {
        "colab": {
          "base_uri": "https://localhost:8080/",
          "height": 803
        },
        "id": "vNIHeKOQdjJQ",
        "outputId": "ecebb77d-02c6-4ec0-b9c7-65cab3a2810b"
      },
      "outputs": [
        {
          "data": {
            "text/plain": [
              "array([[<matplotlib.axes._subplots.AxesSubplot object at 0x7f70ba03a210>,\n",
              "        <matplotlib.axes._subplots.AxesSubplot object at 0x7f70bbae0d10>],\n",
              "       [<matplotlib.axes._subplots.AxesSubplot object at 0x7f70be103490>,\n",
              "        <matplotlib.axes._subplots.AxesSubplot object at 0x7f70bb5eef90>]],\n",
              "      dtype=object)"
            ]
          },
          "execution_count": 163,
          "metadata": {},
          "output_type": "execute_result"
        },
        {
          "data": {
            "image/png": "[encoded data removed]",
            "text/plain": [
              "<Figure size 720x864 with 4 Axes>"
            ]
          },
          "metadata": {
            "needs_background": "light"
          },
          "output_type": "display_data"
        }
      ],
      "source": [
        "fig = plt.figure(figsize = (10,12))\n",
        "ax = fig.gca()\n",
        "df.hist(ax = ax, column=[\"overall\", \"potential\", \"pace\", \"shooting\", ], grid=False)\n",
        "# df.hist(column=[\"overall\", \"potential\", \"pace\", \"shooting\", \"passing\"])"
      ]
    },
    {
      "cell_type": "code",
      "execution_count": null,
      "metadata": {
        "colab": {
          "base_uri": "https://localhost:8080/",
          "height": 889
        },
        "id": "JcjzysOti9Ey",
        "outputId": "dd1032f3-9247-4861-e42c-c482f81c63ed"
      },
      "outputs": [
        {
          "data": {
            "text/plain": [
              "array([[<matplotlib.axes._subplots.AxesSubplot object at 0x7f70bb1e7e90>,\n",
              "        <matplotlib.axes._subplots.AxesSubplot object at 0x7f70ba4dde10>,\n",
              "        <matplotlib.axes._subplots.AxesSubplot object at 0x7f70b9e5b350>],\n",
              "       [<matplotlib.axes._subplots.AxesSubplot object at 0x7f70ba031ed0>,\n",
              "        <matplotlib.axes._subplots.AxesSubplot object at 0x7f70baa09f90>,\n",
              "        <matplotlib.axes._subplots.AxesSubplot object at 0x7f70b9db54d0>],\n",
              "       [<matplotlib.axes._subplots.AxesSubplot object at 0x7f70b9d60a50>,\n",
              "        <matplotlib.axes._subplots.AxesSubplot object at 0x7f70b9f2fe90>,\n",
              "        <matplotlib.axes._subplots.AxesSubplot object at 0x7f70b9f2fed0>]],\n",
              "      dtype=object)"
            ]
          },
          "execution_count": 164,
          "metadata": {},
          "output_type": "execute_result"
        },
        {
          "data": {
            "image/png": "[encoded data removed]",
            "text/plain": [
              "<Figure size 720x864 with 9 Axes>"
            ]
          },
          "metadata": {
            "needs_background": "light"
          },
          "output_type": "display_data"
        }
      ],
      "source": [
        "fig = plt.figure(figsize = (10,12))\n",
        "ax = fig.gca()\n",
        "df.hist(ax=ax, column = ['passing','dribbling','defending','physic',\n",
        "         'attacking_finishing','height_cm','weight_kg'], grid=False)"
      ]
    },
    {
      "cell_type": "code",
      "execution_count": null,
      "metadata": {
        "colab": {
          "base_uri": "https://localhost:8080/",
          "height": 205
        },
        "id": "XCFLeUZCErR9",
        "outputId": "d62a904c-2916-4c69-d2b8-5a11136e3505"
      },
      "outputs": [
        {
          "data": {
            "text/html": [
              "\n",
              "  <div id=\"df-7235ffe7-65fe-4fe8-a6cc-ff18c292de52\">\n",
              "    <div class=\"colab-df-container\">\n",
              "      <div>\n",
              "<style scoped>\n",
              "    .dataframe tbody tr th:only-of-type {\n",
              "        vertical-align: middle;\n",
              "    }\n",
              "\n",
              "    .dataframe tbody tr th {\n",
              "        vertical-align: top;\n",
              "    }\n",
              "\n",
              "    .dataframe thead th {\n",
              "        text-align: right;\n",
              "    }\n",
              "</style>\n",
              "<table border=\"1\" class=\"dataframe\">\n",
              "  <thead>\n",
              "    <tr style=\"text-align: right;\">\n",
              "      <th></th>\n",
              "      <th>value_eur</th>\n",
              "      <th>overall</th>\n",
              "      <th>potential</th>\n",
              "      <th>height_cm</th>\n",
              "      <th>weight_kg</th>\n",
              "      <th>player_positions</th>\n",
              "      <th>preferred_foot</th>\n",
              "      <th>weak_foot</th>\n",
              "      <th>skill_moves</th>\n",
              "      <th>pace</th>\n",
              "      <th>shooting</th>\n",
              "      <th>passing</th>\n",
              "      <th>dribbling</th>\n",
              "      <th>defending</th>\n",
              "      <th>physic</th>\n",
              "      <th>attacking_finishing</th>\n",
              "    </tr>\n",
              "  </thead>\n",
              "  <tbody>\n",
              "    <tr>\n",
              "      <th>0</th>\n",
              "      <td>78000000.0</td>\n",
              "      <td>93</td>\n",
              "      <td>93</td>\n",
              "      <td>170</td>\n",
              "      <td>72</td>\n",
              "      <td>RW, ST, CF</td>\n",
              "      <td>Left</td>\n",
              "      <td>4</td>\n",
              "      <td>4</td>\n",
              "      <td>85.0</td>\n",
              "      <td>92.0</td>\n",
              "      <td>91.0</td>\n",
              "      <td>95.0</td>\n",
              "      <td>34.0</td>\n",
              "      <td>65.0</td>\n",
              "      <td>95</td>\n",
              "    </tr>\n",
              "    <tr>\n",
              "      <th>1</th>\n",
              "      <td>119500000.0</td>\n",
              "      <td>92</td>\n",
              "      <td>92</td>\n",
              "      <td>185</td>\n",
              "      <td>81</td>\n",
              "      <td>ST</td>\n",
              "      <td>Right</td>\n",
              "      <td>4</td>\n",
              "      <td>4</td>\n",
              "      <td>78.0</td>\n",
              "      <td>92.0</td>\n",
              "      <td>79.0</td>\n",
              "      <td>86.0</td>\n",
              "      <td>44.0</td>\n",
              "      <td>82.0</td>\n",
              "      <td>95</td>\n",
              "    </tr>\n",
              "    <tr>\n",
              "      <th>2</th>\n",
              "      <td>45000000.0</td>\n",
              "      <td>91</td>\n",
              "      <td>91</td>\n",
              "      <td>187</td>\n",
              "      <td>83</td>\n",
              "      <td>ST, LW</td>\n",
              "      <td>Right</td>\n",
              "      <td>4</td>\n",
              "      <td>5</td>\n",
              "      <td>87.0</td>\n",
              "      <td>94.0</td>\n",
              "      <td>80.0</td>\n",
              "      <td>88.0</td>\n",
              "      <td>34.0</td>\n",
              "      <td>75.0</td>\n",
              "      <td>95</td>\n",
              "    </tr>\n",
              "    <tr>\n",
              "      <th>3</th>\n",
              "      <td>129000000.0</td>\n",
              "      <td>91</td>\n",
              "      <td>91</td>\n",
              "      <td>175</td>\n",
              "      <td>68</td>\n",
              "      <td>LW, CAM</td>\n",
              "      <td>Right</td>\n",
              "      <td>5</td>\n",
              "      <td>5</td>\n",
              "      <td>91.0</td>\n",
              "      <td>83.0</td>\n",
              "      <td>86.0</td>\n",
              "      <td>94.0</td>\n",
              "      <td>37.0</td>\n",
              "      <td>63.0</td>\n",
              "      <td>83</td>\n",
              "    </tr>\n",
              "    <tr>\n",
              "      <th>4</th>\n",
              "      <td>125500000.0</td>\n",
              "      <td>91</td>\n",
              "      <td>91</td>\n",
              "      <td>181</td>\n",
              "      <td>70</td>\n",
              "      <td>CM, CAM</td>\n",
              "      <td>Right</td>\n",
              "      <td>5</td>\n",
              "      <td>4</td>\n",
              "      <td>76.0</td>\n",
              "      <td>86.0</td>\n",
              "      <td>93.0</td>\n",
              "      <td>88.0</td>\n",
              "      <td>64.0</td>\n",
              "      <td>78.0</td>\n",
              "      <td>82</td>\n",
              "    </tr>\n",
              "  </tbody>\n",
              "</table>\n",
              "</div>\n",
              "      <button class=\"colab-df-convert\" onclick=\"convertToInteractive('df-7235ffe7-65fe-4fe8-a6cc-ff18c292de52')\"\n",
              "              title=\"Convert this dataframe to an interactive table.\"\n",
              "              style=\"display:none;\">\n",
              "        \n",
              "  <svg xmlns=\"http://www.w3.org/2000/svg\" height=\"24px\"viewBox=\"0 0 24 24\"\n",
              "       width=\"24px\">\n",
              "    <path d=\"M0 0h24v24H0V0z\" fill=\"none\"/>\n",
              "    <path d=\"M18.56 5.44l.94 2.06.94-2.06 2.06-.94-2.06-.94-.94-2.06-.94 2.06-2.06.94zm-11 1L8.5 8.5l.94-2.06 2.06-.94-2.06-.94L8.5 2.5l-.94 2.06-2.06.94zm10 10l.94 2.06.94-2.06 2.06-.94-2.06-.94-.94-2.06-.94 2.06-2.06.94z\"/><path d=\"M17.41 7.96l-1.37-1.37c-.4-.4-.92-.59-1.43-.59-.52 0-1.04.2-1.43.59L10.3 9.45l-7.72 7.72c-.78.78-.78 2.05 0 2.83L4 21.41c.39.39.9.59 1.41.59.51 0 1.02-.2 1.41-.59l7.78-7.78 2.81-2.81c.8-.78.8-2.07 0-2.86zM5.41 20L4 18.59l7.72-7.72 1.47 1.35L5.41 20z\"/>\n",
              "  </svg>\n",
              "      </button>\n",
              "      \n",
              "  <style>\n",
              "    .colab-df-container {\n",
              "      display:flex;\n",
              "      flex-wrap:wrap;\n",
              "      gap: 12px;\n",
              "    }\n",
              "\n",
              "    .colab-df-convert {\n",
              "      background-color: #E8F0FE;\n",
              "      border: none;\n",
              "      border-radius: 50%;\n",
              "      cursor: pointer;\n",
              "      display: none;\n",
              "      fill: #1967D2;\n",
              "      height: 32px;\n",
              "      padding: 0 0 0 0;\n",
              "      width: 32px;\n",
              "    }\n",
              "\n",
              "    .colab-df-convert:hover {\n",
              "      background-color: #E2EBFA;\n",
              "      box-shadow: 0px 1px 2px rgba(60, 64, 67, 0.3), 0px 1px 3px 1px rgba(60, 64, 67, 0.15);\n",
              "      fill: #174EA6;\n",
              "    }\n",
              "\n",
              "    [theme=dark] .colab-df-convert {\n",
              "      background-color: #3B4455;\n",
              "      fill: #D2E3FC;\n",
              "    }\n",
              "\n",
              "    [theme=dark] .colab-df-convert:hover {\n",
              "      background-color: #434B5C;\n",
              "      box-shadow: 0px 1px 3px 1px rgba(0, 0, 0, 0.15);\n",
              "      filter: drop-shadow(0px 1px 2px rgba(0, 0, 0, 0.3));\n",
              "      fill: #FFFFFF;\n",
              "    }\n",
              "  </style>\n",
              "\n",
              "      <script>\n",
              "        const buttonEl =\n",
              "          document.querySelector('#df-7235ffe7-65fe-4fe8-a6cc-ff18c292de52 button.colab-df-convert');\n",
              "        buttonEl.style.display =\n",
              "          google.colab.kernel.accessAllowed ? 'block' : 'none';\n",
              "\n",
              "        async function convertToInteractive(key) {\n",
              "          const element = document.querySelector('#df-7235ffe7-65fe-4fe8-a6cc-ff18c292de52');\n",
              "          const dataTable =\n",
              "            await google.colab.kernel.invokeFunction('convertToInteractive',\n",
              "                                                     [key], {});\n",
              "          if (!dataTable) return;\n",
              "\n",
              "          const docLinkHtml = 'Like what you see? Visit the ' +\n",
              "            '<a target=\"_blank\" href=https://colab.research.google.com/notebooks/data_table.ipynb>data table notebook</a>'\n",
              "            + ' to learn more about interactive tables.';\n",
              "          element.innerHTML = '';\n",
              "          dataTable['output_type'] = 'display_data';\n",
              "          await google.colab.output.renderOutput(dataTable, element);\n",
              "          const docLink = document.createElement('div');\n",
              "          docLink.innerHTML = docLinkHtml;\n",
              "          element.appendChild(docLink);\n",
              "        }\n",
              "      </script>\n",
              "    </div>\n",
              "  </div>\n",
              "  "
            ],
            "text/plain": [
              "     value_eur  overall  potential  height_cm  weight_kg player_positions  \\\n",
              "0   78000000.0       93         93        170         72       RW, ST, CF   \n",
              "1  119500000.0       92         92        185         81               ST   \n",
              "2   45000000.0       91         91        187         83           ST, LW   \n",
              "3  129000000.0       91         91        175         68          LW, CAM   \n",
              "4  125500000.0       91         91        181         70          CM, CAM   \n",
              "\n",
              "  preferred_foot  weak_foot  skill_moves  pace  shooting  passing  dribbling  \\\n",
              "0           Left          4            4  85.0      92.0     91.0       95.0   \n",
              "1          Right          4            4  78.0      92.0     79.0       86.0   \n",
              "2          Right          4            5  87.0      94.0     80.0       88.0   \n",
              "3          Right          5            5  91.0      83.0     86.0       94.0   \n",
              "4          Right          5            4  76.0      86.0     93.0       88.0   \n",
              "\n",
              "   defending  physic  attacking_finishing  \n",
              "0       34.0    65.0                   95  \n",
              "1       44.0    82.0                   95  \n",
              "2       34.0    75.0                   95  \n",
              "3       37.0    63.0                   83  \n",
              "4       64.0    78.0                   82  "
            ]
          },
          "execution_count": 166,
          "metadata": {},
          "output_type": "execute_result"
        }
      ],
      "source": [
        "df.head()"
      ]
    },
    {
      "cell_type": "code",
      "execution_count": null,
      "metadata": {
        "colab": {
          "base_uri": "https://localhost:8080/"
        },
        "id": "qXF2hfurYXU0",
        "outputId": "a721c11d-9c7c-40b4-ee78-a48b80218de5"
      },
      "outputs": [
        {
          "data": {
            "text/plain": [
              "array(['RW, ST, CF', 'ST', 'ST, LW', 'LW, CAM', 'CM, CAM', 'CDM, CM',\n",
              "       'CF, ST', 'LM, CF, LW', 'CDM', 'CB', 'LW', 'RW', 'CDM, RB', 'CM',\n",
              "       'LW, RW', 'CAM', 'RW, LW', 'CAM, RM, RW', 'CM, LM', 'CB, CDM',\n",
              "       'CM, CDM', 'CF, CAM', 'LB', 'CM, CDM, CB', 'RB', 'RM, CF, LM',\n",
              "       'LB, LM', 'LW, CF', 'RW, RM', 'ST, RM, RW', 'CDM, CB', 'RB, LB',\n",
              "       'LM, RM, LW', 'CAM, CM, RW', 'CM, RM, ST', 'CAM, CF, CM',\n",
              "       'CAM, CM', 'CAM, CF', 'ST, LW, LM', 'ST, LW, RW', 'CF',\n",
              "       'CF, LW, CAM', 'RM, LM, RW', 'CM, CDM, CAM', 'LM, ST', 'RB, RWB',\n",
              "       'RB, RM', 'CF, ST, CAM', 'RB, RWB, RM', 'ST, RW', 'CB, LB',\n",
              "       'CAM, CM, CF', 'LW, CF, CAM', 'LW, LM, CAM', 'LM, LWB', 'RW, CAM',\n",
              "       'CAM, RM, ST', 'RM, LM', 'CAM, LW, CM', 'RW, LW, CAM', 'CB, RWB',\n",
              "       'CM, CAM, CDM', 'CAM, RM, LM', 'CM, CDM, LM', 'CF, RM, RW',\n",
              "       'ST, CF', 'LWB, LB, LM', 'LB, LWB, LM', 'LM, CM, RM', 'ST, RM',\n",
              "       'ST, CAM', 'LWB, LM', 'LB, CB', 'CAM, RM', 'RW, LW, RM', 'RM, RW',\n",
              "       'CAM, ST', 'CAM, CM, LW', 'CB, CDM, LB', 'RM, RB, RW',\n",
              "       'CF, LM, ST', 'CM, LM, RM', 'LM, CF', 'RW, RM, LW', 'CAM, LM',\n",
              "       'CM, CB, CDM', 'LB, LM, LWB', 'CB, RB', 'CM, CF', 'LW, ST',\n",
              "       'LW, RW, LM', 'RM, RW, LW', 'LWB, LB', 'CAM, CM, CDM', 'RW, ST',\n",
              "       'LW, LM', 'LM, LW, LWB', 'CM, RM', 'RW, CAM, CM', 'RB, LB, CB',\n",
              "       'RB, CM, RM', 'CB, RB, LB', 'RM, CF', 'RW, RB, RM', 'LM, RM, CM',\n",
              "       'LM, RM, ST', 'ST, LM', 'RWB, RB, RM', 'CDM, CM, CB', 'LM, ST, CF',\n",
              "       'CDM, CM, RB', 'RWB, CB, RM', 'CDM, CM, CAM', 'CF, CM',\n",
              "       'CM, RM, LM', 'LM, LW', 'RWB', 'RWB, RB', 'LM, LB', 'RW, CM',\n",
              "       'RW, CF', 'RB, RM, CM', 'CM, CAM, LM', 'CM, CDM, RM', 'CM, LM, CF',\n",
              "       'CAM, LW, RW', 'CAM, LW', 'LWB, RWB', 'RM, LM, ST', 'CB, RB, RWB',\n",
              "       'LM, CAM', 'LM', 'LM, LW, RM', 'LB, CB, LWB', 'LB, CDM',\n",
              "       'CAM, LM, LW', 'RM, RB, CM', 'RWB, RM', 'RM', 'RM, LM, LB',\n",
              "       'CM, LB, RB', 'CF, LW', 'RM, RWB', 'CAM, RW', 'ST, RW, CAM',\n",
              "       'CAM, ST, CM', 'LM, RM', 'LM, ST, RM', 'RB, RM, LB', 'CAM, LM, RM',\n",
              "       'RWB, RM, LM', 'LW, RW, ST', 'RWB, LWB, CB', 'CM, CAM, CF',\n",
              "       'LM, RM, CAM', 'RB, CB', 'CB, CM, CDM', 'RM, ST', 'LM, CM',\n",
              "       'LB, LWB', 'CB, LB, CDM', 'CAM, LM, ST', 'RM, CAM', 'CDM, CM, LM',\n",
              "       'RWB, LWB, RB', 'CF, RW', 'LB, RB', 'CM, LM, LW', 'CAM, CF, LM',\n",
              "       'RM, LM, CM', 'CDM, CB, CM', 'CB, CM', 'CDM, LB', 'CDM, CM, RM',\n",
              "       'RW, RWB', 'LB, LWB, CB', 'RM, RB', 'LW, RW, CAM', 'CAM, CM, RM',\n",
              "       'CAM, LW, LM', 'RW, RM, ST', 'CM, CAM, LW', 'CAM, LM, CM',\n",
              "       'LM, ST, CAM', 'RM, LM, LW', 'ST, RW, LW', 'ST, LW, CAM',\n",
              "       'RM, CM, CAM', 'CAM, CM, LM', 'RB, RM, RW', 'RWB, RM, RB',\n",
              "       'RM, RWB, CM', 'RM, CM', 'RB, RM, LM', 'CAM, ST, LW', 'LM, LW, ST',\n",
              "       'CM, LW', 'RB, RWB, LB', 'CM, CB', 'RM, LW', 'LB, RB, LM',\n",
              "       'CF, CAM, LM', 'LM, CF, RM', 'RM, RW, CM', 'CM, ST, LM',\n",
              "       'CF, LM, RM', 'LB, RB, CB', 'LB, LM, CAM', 'LM, CAM, ST',\n",
              "       'CDM, RWB', 'RWB, RW', 'LM, RW', 'LW, ST, LM', 'LM, RM, CF',\n",
              "       'ST, LM, CAM', 'RM, RW, CF', 'CM, RM, CDM', 'CDM, RB, CB',\n",
              "       'RM, CAM, RW', 'CB, LB, LM', 'LW, LM, CF', 'CM, CDM, RB',\n",
              "       'CM, RM, CAM', 'RM, RW, ST', 'LM, LW, CM', 'CAM, LW, ST',\n",
              "       'RB, RM, RWB', 'LWB, LB, RB', 'RM, CAM, ST', 'LB, LW',\n",
              "       'RM, LW, CAM', 'CB, RB, CDM', 'LM, RW, LW', 'LM, CAM, RM',\n",
              "       'LWB, LB, CB', 'RB, LB, RM', 'LM, CAM, CM', 'RM, LM, CAM',\n",
              "       'RM, LW, LM', 'RM, CM, ST', 'LW, LM, ST', 'RB, CB, CDM',\n",
              "       'LW, ST, RW', 'ST, LM, RM', 'CF, CAM, ST', 'CDM, CAM, CM',\n",
              "       'CB, LB, RM', 'CM, CAM, RW', 'CDM, CM, LB', 'RM, CM, RW', 'RB, CM',\n",
              "       'LW, CF, ST', 'LM, CM, LWB', 'RM, LB, RB', 'LM, ST, LW',\n",
              "       'CAM, CDM, LM', 'CB, LB, RB', 'CAM, CF, ST', 'RW, CAM, CF',\n",
              "       'LW, CAM, ST', 'LWB, RW, RM', 'ST, LM, CM', 'RM, CM, LB',\n",
              "       'RW, CAM, LW', 'CF, LW, ST', 'RW, RM, CM', 'RM, LWB, LB', 'LB, CM',\n",
              "       'RW, CAM, LM', 'RM, ST, LM', 'ST, RM, LM', 'CM, CF, CAM',\n",
              "       'RM, RB, RWB', 'CDM, RB, RWB', 'LB, LM, LW', 'RM, RW, LM',\n",
              "       'RW, ST, LM', 'CDM, RM', 'ST, LM, LW', 'RB, CDM', 'LW, RM, RW',\n",
              "       'CM, RW, LW', 'LWB, LM, LB', 'CAM, RM, CM', 'LB, LM, CM',\n",
              "       'LM, ST, CM', 'RW, LW, CF', 'LWB', 'CB, CDM, CM', 'CF, LM, CAM',\n",
              "       'RM, RW, CAM', 'CAM, CDM', 'LB, CM, LM', 'LW, LM, RW',\n",
              "       'RW, ST, RM', 'CB, RB, RM', 'LM, RM, RW', 'ST, CAM, CDM',\n",
              "       'CF, RW, ST', 'CAM, ST, LM', 'LWB, LB, LW', 'RW, LW, ST',\n",
              "       'ST, CAM, LM', 'LB, CAM, LM', 'RW, RM, CAM', 'RW, CAM, RM',\n",
              "       'RB, CB, LB', 'RM, CAM, LM', 'RM, ST, RWB', 'LM, CM, CAM',\n",
              "       'ST, CAM, RM', 'CM, CAM, RM', 'RW, LM', 'CF, LM', 'RB, RWB, CB',\n",
              "       'LB, CM, RB', 'RB, CB, RWB', 'RB, RWB, LWB', 'LB, LWB, RB',\n",
              "       'LWB, CB, LB', 'CAM, CM, ST', 'LM, LB, LWB', 'CAM, ST, CF',\n",
              "       'LM, CAM, LW', 'CM, CF, RM', 'LW, LM, LWB', 'LM, LW, CAM',\n",
              "       'CAM, CDM, CM', 'ST, RM, CAM', 'CM, CAM, RWB', 'RB, CB, RM',\n",
              "       'RM, ST, RW', 'LM, CF, CAM', 'CM, LB', 'LB, LM, CB', 'RM, LM, CF',\n",
              "       'ST, CF, CAM', 'RM, RWB, CAM', 'RM, CM, LM', 'CDM, CAM, RB',\n",
              "       'LB, LWB, LW', 'CAM, RW, CM', 'ST, CAM, CM', 'CAM, CF, RM',\n",
              "       'CAM, CF, LW', 'ST, LW, CF', 'CAM, RW, LW', 'RWB, RB, LWB',\n",
              "       'ST, CF, LW', 'LWB, CB', 'RM, RB, LM', 'RB, RW', 'RWB, RM, LWB',\n",
              "       'LM, CAM, CF', 'RM, LM, RB', 'LWB, CM', 'LM, RM, LWB',\n",
              "       'CAM, ST, RW', 'RM, RB, ST', 'CF, ST, LM', 'LW, LWB, RWB',\n",
              "       'CM, LW, RW', 'RM, ST, CM', 'LM, LB, LW', 'LW, CM, CAM',\n",
              "       'LM, LW, RW', 'CAM, RM, RB', 'CDM, RB, RM', 'CAM, CM, RWB',\n",
              "       'RM, CAM, CM', 'CF, RM, CAM', 'CDM, RM, CM', 'ST, CAM, LW',\n",
              "       'CDM, CM, ST', 'CM, RW', 'LW, CAM, RW', 'LB, CDM, CB',\n",
              "       'RWB, RB, CB', 'CM, LM, LWB', 'ST, RW, RM', 'RM, RWB, ST',\n",
              "       'LWB, CM, RW', 'LB, LM, RB', 'LM, ST, LB', 'RWB, RB, LB',\n",
              "       'RB, CDM, LB', 'CF, RM, ST', 'LM, LB, RM', 'RB, LB, RWB',\n",
              "       'CAM, LM, RW', 'CAM, ST, RM', 'LM, CM, CDM', 'CM, RM, RB',\n",
              "       'CF, LM, CM', 'CM, RB', 'CAM, RW, ST', 'CAM, LM, CF', 'LW, LM, LB',\n",
              "       'LB, LW, LM', 'CB, RM', 'CF, RM', 'CDM, CAM', 'LB, LWB, CDM',\n",
              "       'RM, RB, LB', 'RWB, RB, CM', 'RM, LWB', 'LM, LB, CAM',\n",
              "       'LM, LWB, LW', 'LB, CB, RM', 'LB, RB, RWB', 'RB, CM, RWB',\n",
              "       'LM, RM, LB', 'ST, CAM, CF', 'CM, LM, CAM', 'RB, LM', 'RW, ST, LW',\n",
              "       'CB, CDM, RB', 'CAM, RB', 'LB, CM, CDM', 'CF, ST, LW',\n",
              "       'CM, CDM, LB', 'LWB, LW, LM', 'CAM, LW, CF', 'CDM, LM',\n",
              "       'LB, RB, LW', 'LB, CB, LM', 'CDM, CAM, LM', 'RB, LM, RM',\n",
              "       'CM, LM, CDM', 'RB, LB, LM', 'CDM, RB, CM', 'CDM, LB, CB',\n",
              "       'RW, LW, LM', 'CB, LB, LWB', 'LB, LM, CDM', 'LW, CM',\n",
              "       'CDM, CB, RB', 'CM, CAM, ST', 'RB, CDM, CB', 'CB, LWB, LB',\n",
              "       'CB, LB, CM', 'ST, CM, RW', 'LW, LM, RM', 'RW, LW, CM',\n",
              "       'RW, RM, CF', 'CM, LM, LB', 'RB, LB, CDM', 'RM, LM, RWB',\n",
              "       'ST, CF, RW', 'RB, CM, CAM', 'CM, CF, ST', 'LM, RW, RM',\n",
              "       'CM, LM, ST', 'LB, CB, RB', 'RB, RWB, CM', 'RB, CDM, CM',\n",
              "       'LWB, LW', 'CM, CAM, CB', 'RM, ST, CAM', 'CM, CDM, ST',\n",
              "       'RB, RM, CB', 'CAM, CF, RW', 'RM, CB', 'LW, RM, LM', 'CF, CAM, LW',\n",
              "       'LM, CM, CF', 'CM, RWB, RW', 'LM, LB, RB', 'ST, RM, CF',\n",
              "       'RM, LM, CDM', 'RM, RWB, RB', 'CM, CDM, LW', 'LW, LWB, LM',\n",
              "       'LB, RB, RM', 'CM, LW, CDM', 'RB, RWB, CDM', 'LB, ST, CAM',\n",
              "       'CM, RB, LB', 'CM, RB, CDM', 'LM, CF, ST', 'CAM, RW, CF',\n",
              "       'CB, CAM', 'LM, LW, CF', 'RM, ST, RB', 'LW, RW, RM', 'CB, RWB, RB',\n",
              "       'LWB, LB, RWB', 'RWB, LWB', 'CF, CM, ST', 'RW, LM, RM',\n",
              "       'RM, RW, RWB', 'CAM, CDM, ST', 'LB, LM, RM', 'LM, RWB',\n",
              "       'LB, CDM, LM', 'RB, RWB, RW', 'LB, LWB, CM', 'CDM, RWB, CB',\n",
              "       'ST, CAM, RW', 'RW, RB', 'ST, CF, RM', 'RM, CF, ST', 'LM, LWB, ST',\n",
              "       'LB, RM', 'CM, CDM, CF', 'LM, LWB, RM', 'CM, CDM, LWB',\n",
              "       'LM, LWB, LB', 'RW, ST, CAM', 'LM, CAM, LWB', 'LM, RW, ST',\n",
              "       'RWB, RM, CDM', 'LM, CM, ST', 'LM, ST, RW', 'CM, CB, CF',\n",
              "       'LWB, LM, CB', 'CAM, CDM, RM', 'CF, ST, RW', 'RWB, CB',\n",
              "       'RW, RM, RB', 'RW, LWB, RWB', 'CM, LW, ST', 'RW, CAM, ST',\n",
              "       'CDM, LM, CM', 'LM, CAM, LB', 'CF, CM, CDM', 'CF, RM, LM',\n",
              "       'ST, LW, RM', 'CB, RWB, RM', 'LB, CM, ST', 'RWB, LWB, CM',\n",
              "       'RM, CF, RB', 'CF, CAM, CM', 'LB, RM, LM', 'CDM, LB, RB',\n",
              "       'RB, CB, ST', 'LM, CM, LW', 'CF, CAM, RM', 'LB, CB, CDM',\n",
              "       'CM, LW, CAM', 'RB, CB, LM', 'CM, RB, RW', 'CB, LWB',\n",
              "       'CM, LWB, CDM', 'RB, CDM, RM', 'CB, LWB, LM', 'LW, CAM, CM',\n",
              "       'RB, CM, CDM', 'LW, LM, CM', 'LM, LB, CM', 'RW, RM, LM',\n",
              "       'LB, RB, CM', 'CB, CM, RB', 'RB, LB, LWB', 'LB, LW, CM',\n",
              "       'CDM, RB, LB', 'CM, CAM, LB', 'CM, ST, CDM', 'LW, RM, CM',\n",
              "       'RB, RW, LW', 'RM, ST, LW', 'RM, LW, RW', 'RW, LM, ST',\n",
              "       'CB, RB, LM', 'CM, RM, RW', 'LW, LB, LM', 'LM, RB', 'RM, CAM, CF',\n",
              "       'LM, ST, LWB', 'RB, ST', 'RM, ST, LB', 'LM, LB, CB', 'CB, LM, RM',\n",
              "       'LB, LM, CF', 'RW, CAM, LB', 'CAM, RM, CF', 'CDM, CAM, RM',\n",
              "       'RW, CF, CAM', 'LM, RB, LW', 'RM, RW, RB', 'LM, RB, RM', 'CB, ST',\n",
              "       'CB, RB, CM', 'CM, CF, LM', 'CM, LB, CDM', 'CAM, RM, RWB',\n",
              "       'RM, CAM, CB', 'LW, LB', 'RB, CAM, RM', 'RB, LW, RWB',\n",
              "       'RB, RM, CAM', 'RM, RW, CDM', 'ST, CB', 'CAM, RWB, CM',\n",
              "       'RM, CDM, RB', 'CM, RWB', 'LB, RB, CDM', 'CM, RB, RM', 'LW, LWB',\n",
              "       'LM, RB, CM', 'LM, CDM', 'RWB, CB, RB', 'RWB, CM', 'CM, RW, CAM',\n",
              "       'RWB, LW, RW', 'LM, RM, RWB', 'LM, CDM, CM', 'RB, CB, CM',\n",
              "       'CDM, CB, RM', 'LW, RM, ST', 'ST, RW, LM', 'RM, CDM, RWB',\n",
              "       'CDM, CB, LB', 'CAM, ST, CDM', 'CAM, RW, RM', 'LM, CM, RW',\n",
              "       'LB, ST', 'CM, CF, CDM', 'LW, RM', 'LW, RW, LB', 'LB, RM, CM',\n",
              "       'CB, CF', 'RW, CF, RM', 'RWB, RB, ST', 'CAM, CM, LWB',\n",
              "       'ST, LM, LB', 'LWB, ST', 'LWB, LM, RM', 'CDM, CM, RWB',\n",
              "       'RWB, CM, LWB', 'LWB, RWB, LW', 'CDM, LB, LM', 'RM, CM, CDM',\n",
              "       'RW, RM, LWB', 'LM, LWB, CF', 'LW, RW, RB', 'CF, RM, CM',\n",
              "       'LM, CM, LB', 'RM, CM, RWB', 'CM, ST', 'RM, RWB, RW', 'LM, LW, LB',\n",
              "       'RB, CAM', 'LWB, CAM', 'RWB, CDM', 'CAM, LW, LB', 'LW, CF, RW',\n",
              "       'LM, RM, RB', 'RW, LB', 'CB, LM', 'LW, RW, CM', 'LW, CAM, CF',\n",
              "       'CB, RM, RB', 'CB, LB, RWB', 'RM, LM, LWB', 'LB, CAM, CM',\n",
              "       'RWB, LWB, RW', 'CM, LWB', 'LB, LW, RW', 'CM, LM, RB',\n",
              "       'CB, LWB, RWB', 'CF, RW, LW', 'CM, RW, RM', 'RM, CAM, RWB',\n",
              "       'RM, ST, CF', 'CM, LW, LB', 'LW, LWB, RB', 'LW, RW, CF',\n",
              "       'LW, LWB, RW', 'LWB, RB', 'RW, ST, RB', 'ST, CM', 'CDM, LM, LB'],\n",
              "      dtype=object)"
            ]
          },
          "execution_count": 167,
          "metadata": {},
          "output_type": "execute_result"
        }
      ],
      "source": [
        "# position attributes are textual data, so they should be converted to numerical data\n",
        "df['player_positions'].unique()"
      ]
    },
    {
      "cell_type": "code",
      "execution_count": null,
      "metadata": {
        "colab": {
          "base_uri": "https://localhost:8080/"
        },
        "id": "iQ7p1r7-cYbG",
        "outputId": "a175bb65-201b-4184-f3a8-31a921fa5b62"
      },
      "outputs": [
        {
          "data": {
            "text/plain": [
              "673"
            ]
          },
          "execution_count": 168,
          "metadata": {},
          "output_type": "execute_result"
        }
      ],
      "source": [
        "len(df['player_positions'].unique())"
      ]
    },
    {
      "cell_type": "code",
      "execution_count": null,
      "metadata": {
        "colab": {
          "base_uri": "https://localhost:8080/"
        },
        "id": "1RuZ-3t-qAGp",
        "outputId": "e7bb3e0f-0f8f-4a51-e7ae-914fd4da9fe3"
      },
      "outputs": [
        {
          "name": "stdout",
          "output_type": "stream",
          "text": [
            "0\n"
          ]
        }
      ],
      "source": [
        "print(df['player_positions'].isnull().sum())"
      ]
    },
    {
      "cell_type": "code",
      "execution_count": null,
      "metadata": {
        "colab": {
          "base_uri": "https://localhost:8080/"
        },
        "id": "dyHG1upLqV7I",
        "outputId": "09f57b44-8d3a-47dc-bade-75cb74716740"
      },
      "outputs": [
        {
          "data": {
            "text/plain": [
              "17041"
            ]
          },
          "execution_count": 170,
          "metadata": {},
          "output_type": "execute_result"
        }
      ],
      "source": [
        "len(df['player_positions'])"
      ]
    },
    {
      "cell_type": "code",
      "execution_count": null,
      "metadata": {
        "id": "wLL0gnSBYrfb"
      },
      "outputs": [],
      "source": [
        "\"\"\"\n",
        "however, there are too much positions, so they should be classified as CB / LB-RB / CDM / CAM / LW-RW / ST\n",
        "and this preprocess can not be done one by one, it needs te bo iterated and taking the first position if a row contains\n",
        "more than one positions\n",
        "\"\"\"\n",
        "df_positions = df['player_positions'].tolist()"
      ]
    },
    {
      "cell_type": "code",
      "execution_count": null,
      "metadata": {
        "colab": {
          "base_uri": "https://localhost:8080/"
        },
        "id": "0c_pFRroja5-",
        "outputId": "74472980-7d39-469f-fe11-029e86ed9a77"
      },
      "outputs": [
        {
          "data": {
            "text/plain": [
              "17041"
            ]
          },
          "execution_count": 172,
          "metadata": {},
          "output_type": "execute_result"
        }
      ],
      "source": [
        "len(df_positions)"
      ]
    },
    {
      "cell_type": "code",
      "execution_count": null,
      "metadata": {
        "id": "Vt_QaCrPebMG"
      },
      "outputs": [],
      "source": [
        "# df converted to list, if a cell contains more than one positions, setting the cell value with first position by string operations\n",
        "for i in range(len(df_positions)):\n",
        "  if len(df_positions[i]) < 2:\n",
        "    print(i)\n",
        "  currentPosition = df_positions[i].split(\",\")\n",
        "  if  len(currentPosition) > 1:\n",
        "    df_positions[i] = currentPosition[0]\n"
      ]
    },
    {
      "cell_type": "code",
      "execution_count": null,
      "metadata": {
        "id": "VuuaSSxG1fnZ"
      },
      "outputs": [],
      "source": [
        "listToDF = pd.DataFrame(df_positions,columns=['pos']).squeeze()"
      ]
    },
    {
      "cell_type": "code",
      "execution_count": null,
      "metadata": {
        "id": "olYmK4nC1jRA"
      },
      "outputs": [],
      "source": [
        "df['player_positions'] = listToDF"
      ]
    },
    {
      "cell_type": "code",
      "execution_count": null,
      "metadata": {
        "id": "Xm21IDh7j97r"
      },
      "outputs": [],
      "source": [
        "# CB / LB-RB / CDM / CAM / LW-RW / ST / CM\n",
        "df['player_positions'] = df['player_positions'].replace(['LW'],\"LW-RW\")\n",
        "df['player_positions'] = df['player_positions'].replace(['RW'],\"LW-RW\")\n",
        "df['player_positions'] = df['player_positions'].replace(['LM'],\"CM\")\n",
        "df['player_positions'] = df['player_positions'].replace(['RM'],\"CM\")\n",
        "df['player_positions'] = df['player_positions'].replace(['LB'],\"LB-RB\")\n",
        "df['player_positions'] = df['player_positions'].replace(['RB'],\"LB-RB\")\n",
        "df['player_positions'] = df['player_positions'].replace(['LWB'],\"LB-RB\")\n",
        "df['player_positions'] = df['player_positions'].replace(['RWB'],\"LB-RB\")\n",
        "df['player_positions'] = df['player_positions'].replace(['CF'],\"ST\")"
      ]
    },
    {
      "cell_type": "code",
      "execution_count": null,
      "metadata": {
        "id": "kYuUYLqHgkJv"
      },
      "outputs": [],
      "source": [
        "pos_list = df['player_positions'].unique().tolist()"
      ]
    },
    {
      "cell_type": "code",
      "execution_count": null,
      "metadata": {
        "colab": {
          "base_uri": "https://localhost:8080/"
        },
        "id": "5PCMRwsug8ly",
        "outputId": "040abaee-93d3-4afb-b529-cbf33cee73db"
      },
      "outputs": [
        {
          "data": {
            "text/plain": [
              "['LW-RW', 'ST', 'CM', 'CDM', 'CB', 'CAM', 'LB-RB']"
            ]
          },
          "execution_count": 178,
          "metadata": {},
          "output_type": "execute_result"
        }
      ],
      "source": [
        "pos_list"
      ]
    },
    {
      "cell_type": "code",
      "execution_count": null,
      "metadata": {
        "colab": {
          "base_uri": "https://localhost:8080/",
          "height": 280
        },
        "id": "6Sx8-e0xhBYR",
        "outputId": "5a940316-6c4c-4ebb-fd67-51afae5e7d59"
      },
      "outputs": [
        {
          "data": {
            "image/png": "[encoded data removed]",
            "text/plain": [
              "<Figure size 432x288 with 1 Axes>"
            ]
          },
          "metadata": {
            "needs_background": "light"
          },
          "output_type": "display_data"
        }
      ],
      "source": [
        "key_bar, count_bar = np.unique(df['player_positions'], return_counts=True)\n",
        "plt.bar(key_bar, count_bar)\n",
        "plt.title(\"Player Positions Bar Chart\")\n",
        "plt.show()"
      ]
    },
    {
      "cell_type": "code",
      "execution_count": null,
      "metadata": {
        "colab": {
          "base_uri": "https://localhost:8080/",
          "height": 265
        },
        "id": "FS2D3OHpNzoT",
        "outputId": "7fcc4c1f-258d-44ae-c4c8-d261c0648120"
      },
      "outputs": [
        {
          "data": {
            "text/plain": [
              "<matplotlib.axes._subplots.AxesSubplot at 0x7f70baa26390>"
            ]
          },
          "execution_count": 180,
          "metadata": {},
          "output_type": "execute_result"
        },
        {
          "data": {
            "image/png": "[encoded data removed]",
            "text/plain": [
              "<Figure size 432x288 with 1 Axes>"
            ]
          },
          "metadata": {},
          "output_type": "display_data"
        }
      ],
      "source": [
        "df.player_positions.value_counts().plot(kind='pie',autopct='%1.1f%%')"
      ]
    },
    {
      "cell_type": "code",
      "execution_count": null,
      "metadata": {
        "id": "Bpj-KuZ65qQN"
      },
      "outputs": [],
      "source": [
        "labelencoder = LabelEncoder()\n",
        "df['player_positions'] = labelencoder.fit_transform(df['player_positions'])\n",
        "position_dict = dict(zip(labelencoder.classes_,range(len(labelencoder.classes_))))"
      ]
    },
    {
      "cell_type": "code",
      "execution_count": null,
      "metadata": {
        "colab": {
          "base_uri": "https://localhost:8080/"
        },
        "id": "qEzoC3yAHzxz",
        "outputId": "38dbaf5e-b91c-414e-be33-476b38a32ad4"
      },
      "outputs": [
        {
          "data": {
            "text/plain": [
              "{'CAM': 0, 'CB': 1, 'CDM': 2, 'CM': 3, 'LB-RB': 4, 'LW-RW': 5, 'ST': 6}"
            ]
          },
          "execution_count": 182,
          "metadata": {},
          "output_type": "execute_result"
        }
      ],
      "source": [
        "position_dict"
      ]
    },
    {
      "cell_type": "code",
      "execution_count": null,
      "metadata": {
        "colab": {
          "base_uri": "https://localhost:8080/",
          "height": 280
        },
        "id": "l7DTfDEWIExT",
        "outputId": "7fbbd9a6-0963-4f3d-d675-556903dc4c31"
      },
      "outputs": [
        {
          "data": {
            "image/png": "[encoded data removed]",
            "text/plain": [
              "<Figure size 432x288 with 1 Axes>"
            ]
          },
          "metadata": {
            "needs_background": "light"
          },
          "output_type": "display_data"
        }
      ],
      "source": [
        "key_bar, count_bar = np.unique(df['preferred_foot'], return_counts=True)\n",
        "plt.bar(key_bar, count_bar)\n",
        "plt.title(\"Preferred Foot Bar Chart\")\n",
        "plt.show()"
      ]
    },
    {
      "cell_type": "code",
      "execution_count": null,
      "metadata": {
        "colab": {
          "base_uri": "https://localhost:8080/",
          "height": 248
        },
        "id": "3Xna3PveJcSE",
        "outputId": "4551a070-bdcf-48a1-9afa-2b6437539e2d"
      },
      "outputs": [
        {
          "data": {
            "image/png": "[encoded data removed]",
            "text/plain": [
              "<Figure size 432x288 with 1 Axes>"
            ]
          },
          "metadata": {},
          "output_type": "display_data"
        }
      ],
      "source": [
        "x = df.preferred_foot.value_counts().plot(kind='pie',autopct='%1.1f%%')"
      ]
    },
    {
      "cell_type": "code",
      "execution_count": null,
      "metadata": {
        "colab": {
          "base_uri": "https://localhost:8080/",
          "height": 280
        },
        "id": "qmUU5vHNOtV0",
        "outputId": "5c114368-62ae-41a9-9199-60d65d55f863"
      },
      "outputs": [
        {
          "data": {
            "image/png": "[encoded data removed]",
            "text/plain": [
              "<Figure size 432x288 with 1 Axes>"
            ]
          },
          "metadata": {
            "needs_background": "light"
          },
          "output_type": "display_data"
        }
      ],
      "source": [
        "key_bar, count_bar = np.unique(df['weak_foot'], return_counts=True)\n",
        "plt.bar(key_bar, count_bar)\n",
        "plt.title(\"Weak Foot Bar Chart\")\n",
        "plt.show()"
      ]
    },
    {
      "cell_type": "code",
      "execution_count": null,
      "metadata": {
        "colab": {
          "base_uri": "https://localhost:8080/",
          "height": 265
        },
        "id": "HOc2yw5qNoOM",
        "outputId": "4ac30cc7-a13a-4ff3-ebed-cff0de70afbb"
      },
      "outputs": [
        {
          "data": {
            "text/plain": [
              "<matplotlib.axes._subplots.AxesSubplot at 0x7f70b9bb2250>"
            ]
          },
          "execution_count": 186,
          "metadata": {},
          "output_type": "execute_result"
        },
        {
          "data": {
            "image/png": "[encoded data removed]",
            "text/plain": [
              "<Figure size 432x288 with 1 Axes>"
            ]
          },
          "metadata": {},
          "output_type": "display_data"
        }
      ],
      "source": [
        "df.weak_foot.value_counts().plot(kind='pie',autopct='%1.1f%%')"
      ]
    },
    {
      "cell_type": "code",
      "execution_count": null,
      "metadata": {
        "colab": {
          "base_uri": "https://localhost:8080/",
          "height": 280
        },
        "id": "E73nJIguJ-7s",
        "outputId": "58f04a86-b052-44a5-d369-b30061a6a69e"
      },
      "outputs": [
        {
          "data": {
            "image/png": "[encoded data removed]",
            "text/plain": [
              "<Figure size 432x288 with 1 Axes>"
            ]
          },
          "metadata": {
            "needs_background": "light"
          },
          "output_type": "display_data"
        }
      ],
      "source": [
        "key_bar, count_bar = np.unique(df['skill_moves'], return_counts=True)\n",
        "y = plt.bar(key_bar, count_bar)\n",
        "plt.title(\"Skill Moves Bar Chart\")\n",
        "plt.show()"
      ]
    },
    {
      "cell_type": "code",
      "execution_count": null,
      "metadata": {
        "colab": {
          "base_uri": "https://localhost:8080/",
          "height": 265
        },
        "id": "4zo-n3eAPOJl",
        "outputId": "6c4b8ae7-be38-4ae5-acb0-b6463fc030ca"
      },
      "outputs": [
        {
          "data": {
            "text/plain": [
              "<matplotlib.axes._subplots.AxesSubplot at 0x7f70b98b9a10>"
            ]
          },
          "execution_count": 193,
          "metadata": {},
          "output_type": "execute_result"
        },
        {
          "data": {
            "image/png": "[encoded data removed]",
            "text/plain": [
              "<Figure size 432x288 with 1 Axes>"
            ]
          },
          "metadata": {},
          "output_type": "display_data"
        }
      ],
      "source": [
        "df.skill_moves.value_counts().plot(kind='pie',autopct='%1.1f%%')"
      ]
    },
    {
      "cell_type": "code",
      "execution_count": null,
      "metadata": {
        "id": "uLEr22JYEOgh"
      },
      "outputs": [],
      "source": [
        "df['preferred_foot'] = labelencoder.fit_transform(df['preferred_foot'])"
      ]
    },
    {
      "cell_type": "code",
      "execution_count": null,
      "metadata": {
        "id": "IzlFGZhwA_QF"
      },
      "outputs": [],
      "source": [
        "pref_foot_dict = dict(zip(labelencoder.classes_,range(len(labelencoder.classes_))))"
      ]
    },
    {
      "cell_type": "code",
      "execution_count": null,
      "metadata": {
        "colab": {
          "base_uri": "https://localhost:8080/"
        },
        "id": "IT8NPvmJFPd9",
        "outputId": "36184835-2ada-4955-a2f3-2893156ceda0"
      },
      "outputs": [
        {
          "data": {
            "text/plain": [
              "{'Left': 0, 'Right': 1}"
            ]
          },
          "execution_count": 194,
          "metadata": {},
          "output_type": "execute_result"
        }
      ],
      "source": [
        "pref_foot_dict"
      ]
    },
    {
      "cell_type": "code",
      "execution_count": null,
      "metadata": {
        "colab": {
          "base_uri": "https://localhost:8080/"
        },
        "id": "oFHQxHLOFkPT",
        "outputId": "9d2c855b-511c-4c90-c1db-10842fbb9af2"
      },
      "outputs": [
        {
          "data": {
            "text/plain": [
              "0     Left\n",
              "1    Right\n",
              "2    Right\n",
              "3    Right\n",
              "4    Right\n",
              "Name: preferred_foot, dtype: object"
            ]
          },
          "execution_count": 195,
          "metadata": {},
          "output_type": "execute_result"
        }
      ],
      "source": [
        "df['preferred_foot'].head()"
      ]
    },
    {
      "cell_type": "code",
      "execution_count": null,
      "metadata": {
        "colab": {
          "base_uri": "https://localhost:8080/",
          "height": 205
        },
        "id": "FQWhNgZYGLES",
        "outputId": "b288b056-0248-472e-b0fc-91074f8605a6"
      },
      "outputs": [
        {
          "data": {
            "text/html": [
              "\n",
              "  <div id=\"df-70ee474d-9495-4475-bd92-ad39da450969\">\n",
              "    <div class=\"colab-df-container\">\n",
              "      <div>\n",
              "<style scoped>\n",
              "    .dataframe tbody tr th:only-of-type {\n",
              "        vertical-align: middle;\n",
              "    }\n",
              "\n",
              "    .dataframe tbody tr th {\n",
              "        vertical-align: top;\n",
              "    }\n",
              "\n",
              "    .dataframe thead th {\n",
              "        text-align: right;\n",
              "    }\n",
              "</style>\n",
              "<table border=\"1\" class=\"dataframe\">\n",
              "  <thead>\n",
              "    <tr style=\"text-align: right;\">\n",
              "      <th></th>\n",
              "      <th>value_eur</th>\n",
              "      <th>overall</th>\n",
              "      <th>potential</th>\n",
              "      <th>height_cm</th>\n",
              "      <th>weight_kg</th>\n",
              "      <th>player_positions</th>\n",
              "      <th>preferred_foot</th>\n",
              "      <th>weak_foot</th>\n",
              "      <th>skill_moves</th>\n",
              "      <th>pace</th>\n",
              "      <th>shooting</th>\n",
              "      <th>passing</th>\n",
              "      <th>dribbling</th>\n",
              "      <th>defending</th>\n",
              "      <th>physic</th>\n",
              "      <th>attacking_finishing</th>\n",
              "    </tr>\n",
              "  </thead>\n",
              "  <tbody>\n",
              "    <tr>\n",
              "      <th>0</th>\n",
              "      <td>78000000.0</td>\n",
              "      <td>93</td>\n",
              "      <td>93</td>\n",
              "      <td>170</td>\n",
              "      <td>72</td>\n",
              "      <td>5</td>\n",
              "      <td>Left</td>\n",
              "      <td>4</td>\n",
              "      <td>4</td>\n",
              "      <td>85.0</td>\n",
              "      <td>92.0</td>\n",
              "      <td>91.0</td>\n",
              "      <td>95.0</td>\n",
              "      <td>34.0</td>\n",
              "      <td>65.0</td>\n",
              "      <td>95</td>\n",
              "    </tr>\n",
              "    <tr>\n",
              "      <th>1</th>\n",
              "      <td>119500000.0</td>\n",
              "      <td>92</td>\n",
              "      <td>92</td>\n",
              "      <td>185</td>\n",
              "      <td>81</td>\n",
              "      <td>6</td>\n",
              "      <td>Right</td>\n",
              "      <td>4</td>\n",
              "      <td>4</td>\n",
              "      <td>78.0</td>\n",
              "      <td>92.0</td>\n",
              "      <td>79.0</td>\n",
              "      <td>86.0</td>\n",
              "      <td>44.0</td>\n",
              "      <td>82.0</td>\n",
              "      <td>95</td>\n",
              "    </tr>\n",
              "    <tr>\n",
              "      <th>2</th>\n",
              "      <td>45000000.0</td>\n",
              "      <td>91</td>\n",
              "      <td>91</td>\n",
              "      <td>187</td>\n",
              "      <td>83</td>\n",
              "      <td>6</td>\n",
              "      <td>Right</td>\n",
              "      <td>4</td>\n",
              "      <td>5</td>\n",
              "      <td>87.0</td>\n",
              "      <td>94.0</td>\n",
              "      <td>80.0</td>\n",
              "      <td>88.0</td>\n",
              "      <td>34.0</td>\n",
              "      <td>75.0</td>\n",
              "      <td>95</td>\n",
              "    </tr>\n",
              "    <tr>\n",
              "      <th>3</th>\n",
              "      <td>129000000.0</td>\n",
              "      <td>91</td>\n",
              "      <td>91</td>\n",
              "      <td>175</td>\n",
              "      <td>68</td>\n",
              "      <td>5</td>\n",
              "      <td>Right</td>\n",
              "      <td>5</td>\n",
              "      <td>5</td>\n",
              "      <td>91.0</td>\n",
              "      <td>83.0</td>\n",
              "      <td>86.0</td>\n",
              "      <td>94.0</td>\n",
              "      <td>37.0</td>\n",
              "      <td>63.0</td>\n",
              "      <td>83</td>\n",
              "    </tr>\n",
              "    <tr>\n",
              "      <th>4</th>\n",
              "      <td>125500000.0</td>\n",
              "      <td>91</td>\n",
              "      <td>91</td>\n",
              "      <td>181</td>\n",
              "      <td>70</td>\n",
              "      <td>3</td>\n",
              "      <td>Right</td>\n",
              "      <td>5</td>\n",
              "      <td>4</td>\n",
              "      <td>76.0</td>\n",
              "      <td>86.0</td>\n",
              "      <td>93.0</td>\n",
              "      <td>88.0</td>\n",
              "      <td>64.0</td>\n",
              "      <td>78.0</td>\n",
              "      <td>82</td>\n",
              "    </tr>\n",
              "  </tbody>\n",
              "</table>\n",
              "</div>\n",
              "      <button class=\"colab-df-convert\" onclick=\"convertToInteractive('df-70ee474d-9495-4475-bd92-ad39da450969')\"\n",
              "              title=\"Convert this dataframe to an interactive table.\"\n",
              "              style=\"display:none;\">\n",
              "        \n",
              "  <svg xmlns=\"http://www.w3.org/2000/svg\" height=\"24px\"viewBox=\"0 0 24 24\"\n",
              "       width=\"24px\">\n",
              "    <path d=\"M0 0h24v24H0V0z\" fill=\"none\"/>\n",
              "    <path d=\"M18.56 5.44l.94 2.06.94-2.06 2.06-.94-2.06-.94-.94-2.06-.94 2.06-2.06.94zm-11 1L8.5 8.5l.94-2.06 2.06-.94-2.06-.94L8.5 2.5l-.94 2.06-2.06.94zm10 10l.94 2.06.94-2.06 2.06-.94-2.06-.94-.94-2.06-.94 2.06-2.06.94z\"/><path d=\"M17.41 7.96l-1.37-1.37c-.4-.4-.92-.59-1.43-.59-.52 0-1.04.2-1.43.59L10.3 9.45l-7.72 7.72c-.78.78-.78 2.05 0 2.83L4 21.41c.39.39.9.59 1.41.59.51 0 1.02-.2 1.41-.59l7.78-7.78 2.81-2.81c.8-.78.8-2.07 0-2.86zM5.41 20L4 18.59l7.72-7.72 1.47 1.35L5.41 20z\"/>\n",
              "  </svg>\n",
              "      </button>\n",
              "      \n",
              "  <style>\n",
              "    .colab-df-container {\n",
              "      display:flex;\n",
              "      flex-wrap:wrap;\n",
              "      gap: 12px;\n",
              "    }\n",
              "\n",
              "    .colab-df-convert {\n",
              "      background-color: #E8F0FE;\n",
              "      border: none;\n",
              "      border-radius: 50%;\n",
              "      cursor: pointer;\n",
              "      display: none;\n",
              "      fill: #1967D2;\n",
              "      height: 32px;\n",
              "      padding: 0 0 0 0;\n",
              "      width: 32px;\n",
              "    }\n",
              "\n",
              "    .colab-df-convert:hover {\n",
              "      background-color: #E2EBFA;\n",
              "      box-shadow: 0px 1px 2px rgba(60, 64, 67, 0.3), 0px 1px 3px 1px rgba(60, 64, 67, 0.15);\n",
              "      fill: #174EA6;\n",
              "    }\n",
              "\n",
              "    [theme=dark] .colab-df-convert {\n",
              "      background-color: #3B4455;\n",
              "      fill: #D2E3FC;\n",
              "    }\n",
              "\n",
              "    [theme=dark] .colab-df-convert:hover {\n",
              "      background-color: #434B5C;\n",
              "      box-shadow: 0px 1px 3px 1px rgba(0, 0, 0, 0.15);\n",
              "      filter: drop-shadow(0px 1px 2px rgba(0, 0, 0, 0.3));\n",
              "      fill: #FFFFFF;\n",
              "    }\n",
              "  </style>\n",
              "\n",
              "      <script>\n",
              "        const buttonEl =\n",
              "          document.querySelector('#df-70ee474d-9495-4475-bd92-ad39da450969 button.colab-df-convert');\n",
              "        buttonEl.style.display =\n",
              "          google.colab.kernel.accessAllowed ? 'block' : 'none';\n",
              "\n",
              "        async function convertToInteractive(key) {\n",
              "          const element = document.querySelector('#df-70ee474d-9495-4475-bd92-ad39da450969');\n",
              "          const dataTable =\n",
              "            await google.colab.kernel.invokeFunction('convertToInteractive',\n",
              "                                                     [key], {});\n",
              "          if (!dataTable) return;\n",
              "\n",
              "          const docLinkHtml = 'Like what you see? Visit the ' +\n",
              "            '<a target=\"_blank\" href=https://colab.research.google.com/notebooks/data_table.ipynb>data table notebook</a>'\n",
              "            + ' to learn more about interactive tables.';\n",
              "          element.innerHTML = '';\n",
              "          dataTable['output_type'] = 'display_data';\n",
              "          await google.colab.output.renderOutput(dataTable, element);\n",
              "          const docLink = document.createElement('div');\n",
              "          docLink.innerHTML = docLinkHtml;\n",
              "          element.appendChild(docLink);\n",
              "        }\n",
              "      </script>\n",
              "    </div>\n",
              "  </div>\n",
              "  "
            ],
            "text/plain": [
              "     value_eur  overall  potential  height_cm  weight_kg  player_positions  \\\n",
              "0   78000000.0       93         93        170         72                 5   \n",
              "1  119500000.0       92         92        185         81                 6   \n",
              "2   45000000.0       91         91        187         83                 6   \n",
              "3  129000000.0       91         91        175         68                 5   \n",
              "4  125500000.0       91         91        181         70                 3   \n",
              "\n",
              "  preferred_foot  weak_foot  skill_moves  pace  shooting  passing  dribbling  \\\n",
              "0           Left          4            4  85.0      92.0     91.0       95.0   \n",
              "1          Right          4            4  78.0      92.0     79.0       86.0   \n",
              "2          Right          4            5  87.0      94.0     80.0       88.0   \n",
              "3          Right          5            5  91.0      83.0     86.0       94.0   \n",
              "4          Right          5            4  76.0      86.0     93.0       88.0   \n",
              "\n",
              "   defending  physic  attacking_finishing  \n",
              "0       34.0    65.0                   95  \n",
              "1       44.0    82.0                   95  \n",
              "2       34.0    75.0                   95  \n",
              "3       37.0    63.0                   83  \n",
              "4       64.0    78.0                   82  "
            ]
          },
          "execution_count": 196,
          "metadata": {},
          "output_type": "execute_result"
        }
      ],
      "source": [
        "df.head()"
      ]
    },
    {
      "cell_type": "code",
      "execution_count": null,
      "metadata": {
        "colab": {
          "base_uri": "https://localhost:8080/"
        },
        "id": "hf4a5vKYJ6kr",
        "outputId": "a06fc11f-80a5-46fb-d6c1-8b385db773f9"
      },
      "outputs": [
        {
          "data": {
            "text/plain": [
              "value_eur              False\n",
              "overall                False\n",
              "potential              False\n",
              "height_cm              False\n",
              "weight_kg              False\n",
              "player_positions       False\n",
              "preferred_foot         False\n",
              "weak_foot              False\n",
              "skill_moves            False\n",
              "pace                   False\n",
              "shooting               False\n",
              "passing                False\n",
              "dribbling              False\n",
              "defending              False\n",
              "physic                 False\n",
              "attacking_finishing    False\n",
              "dtype: bool"
            ]
          },
          "execution_count": 197,
          "metadata": {},
          "output_type": "execute_result"
        }
      ],
      "source": [
        "df.isna().any()"
      ]
    },
    {
      "cell_type": "code",
      "execution_count": null,
      "metadata": {
        "id": "wou_uw0s9CpZ"
      },
      "outputs": [],
      "source": [
        "df['weak_foot'] = df['weak_foot'].multiply(0.2)\n",
        "df['skill_moves'] = df['skill_moves'].multiply(0.2)\n"
      ]
    },
    {
      "cell_type": "code",
      "execution_count": null,
      "metadata": {
        "colab": {
          "base_uri": "https://localhost:8080/",
          "height": 205
        },
        "id": "ic3856QrBZ5w",
        "outputId": "bcd3c038-1701-4408-b9d2-9da389a1a972"
      },
      "outputs": [
        {
          "data": {
            "text/html": [
              "\n",
              "  <div id=\"df-655daac9-8f05-4bd1-9fc3-b8b7eea88bc9\">\n",
              "    <div class=\"colab-df-container\">\n",
              "      <div>\n",
              "<style scoped>\n",
              "    .dataframe tbody tr th:only-of-type {\n",
              "        vertical-align: middle;\n",
              "    }\n",
              "\n",
              "    .dataframe tbody tr th {\n",
              "        vertical-align: top;\n",
              "    }\n",
              "\n",
              "    .dataframe thead th {\n",
              "        text-align: right;\n",
              "    }\n",
              "</style>\n",
              "<table border=\"1\" class=\"dataframe\">\n",
              "  <thead>\n",
              "    <tr style=\"text-align: right;\">\n",
              "      <th></th>\n",
              "      <th>value_eur</th>\n",
              "      <th>overall</th>\n",
              "      <th>potential</th>\n",
              "      <th>height_cm</th>\n",
              "      <th>weight_kg</th>\n",
              "      <th>player_positions</th>\n",
              "      <th>preferred_foot</th>\n",
              "      <th>weak_foot</th>\n",
              "      <th>skill_moves</th>\n",
              "      <th>pace</th>\n",
              "      <th>shooting</th>\n",
              "      <th>passing</th>\n",
              "      <th>dribbling</th>\n",
              "      <th>defending</th>\n",
              "      <th>physic</th>\n",
              "      <th>attacking_finishing</th>\n",
              "    </tr>\n",
              "  </thead>\n",
              "  <tbody>\n",
              "    <tr>\n",
              "      <th>0</th>\n",
              "      <td>78000000.0</td>\n",
              "      <td>93</td>\n",
              "      <td>93</td>\n",
              "      <td>170</td>\n",
              "      <td>72</td>\n",
              "      <td>5</td>\n",
              "      <td>Left</td>\n",
              "      <td>0.8</td>\n",
              "      <td>0.8</td>\n",
              "      <td>85.0</td>\n",
              "      <td>92.0</td>\n",
              "      <td>91.0</td>\n",
              "      <td>95.0</td>\n",
              "      <td>34.0</td>\n",
              "      <td>65.0</td>\n",
              "      <td>95</td>\n",
              "    </tr>\n",
              "    <tr>\n",
              "      <th>1</th>\n",
              "      <td>119500000.0</td>\n",
              "      <td>92</td>\n",
              "      <td>92</td>\n",
              "      <td>185</td>\n",
              "      <td>81</td>\n",
              "      <td>6</td>\n",
              "      <td>Right</td>\n",
              "      <td>0.8</td>\n",
              "      <td>0.8</td>\n",
              "      <td>78.0</td>\n",
              "      <td>92.0</td>\n",
              "      <td>79.0</td>\n",
              "      <td>86.0</td>\n",
              "      <td>44.0</td>\n",
              "      <td>82.0</td>\n",
              "      <td>95</td>\n",
              "    </tr>\n",
              "    <tr>\n",
              "      <th>2</th>\n",
              "      <td>45000000.0</td>\n",
              "      <td>91</td>\n",
              "      <td>91</td>\n",
              "      <td>187</td>\n",
              "      <td>83</td>\n",
              "      <td>6</td>\n",
              "      <td>Right</td>\n",
              "      <td>0.8</td>\n",
              "      <td>1.0</td>\n",
              "      <td>87.0</td>\n",
              "      <td>94.0</td>\n",
              "      <td>80.0</td>\n",
              "      <td>88.0</td>\n",
              "      <td>34.0</td>\n",
              "      <td>75.0</td>\n",
              "      <td>95</td>\n",
              "    </tr>\n",
              "    <tr>\n",
              "      <th>3</th>\n",
              "      <td>129000000.0</td>\n",
              "      <td>91</td>\n",
              "      <td>91</td>\n",
              "      <td>175</td>\n",
              "      <td>68</td>\n",
              "      <td>5</td>\n",
              "      <td>Right</td>\n",
              "      <td>1.0</td>\n",
              "      <td>1.0</td>\n",
              "      <td>91.0</td>\n",
              "      <td>83.0</td>\n",
              "      <td>86.0</td>\n",
              "      <td>94.0</td>\n",
              "      <td>37.0</td>\n",
              "      <td>63.0</td>\n",
              "      <td>83</td>\n",
              "    </tr>\n",
              "    <tr>\n",
              "      <th>4</th>\n",
              "      <td>125500000.0</td>\n",
              "      <td>91</td>\n",
              "      <td>91</td>\n",
              "      <td>181</td>\n",
              "      <td>70</td>\n",
              "      <td>3</td>\n",
              "      <td>Right</td>\n",
              "      <td>1.0</td>\n",
              "      <td>0.8</td>\n",
              "      <td>76.0</td>\n",
              "      <td>86.0</td>\n",
              "      <td>93.0</td>\n",
              "      <td>88.0</td>\n",
              "      <td>64.0</td>\n",
              "      <td>78.0</td>\n",
              "      <td>82</td>\n",
              "    </tr>\n",
              "  </tbody>\n",
              "</table>\n",
              "</div>\n",
              "      <button class=\"colab-df-convert\" onclick=\"convertToInteractive('df-655daac9-8f05-4bd1-9fc3-b8b7eea88bc9')\"\n",
              "              title=\"Convert this dataframe to an interactive table.\"\n",
              "              style=\"display:none;\">\n",
              "        \n",
              "  <svg xmlns=\"http://www.w3.org/2000/svg\" height=\"24px\"viewBox=\"0 0 24 24\"\n",
              "       width=\"24px\">\n",
              "    <path d=\"M0 0h24v24H0V0z\" fill=\"none\"/>\n",
              "    <path d=\"M18.56 5.44l.94 2.06.94-2.06 2.06-.94-2.06-.94-.94-2.06-.94 2.06-2.06.94zm-11 1L8.5 8.5l.94-2.06 2.06-.94-2.06-.94L8.5 2.5l-.94 2.06-2.06.94zm10 10l.94 2.06.94-2.06 2.06-.94-2.06-.94-.94-2.06-.94 2.06-2.06.94z\"/><path d=\"M17.41 7.96l-1.37-1.37c-.4-.4-.92-.59-1.43-.59-.52 0-1.04.2-1.43.59L10.3 9.45l-7.72 7.72c-.78.78-.78 2.05 0 2.83L4 21.41c.39.39.9.59 1.41.59.51 0 1.02-.2 1.41-.59l7.78-7.78 2.81-2.81c.8-.78.8-2.07 0-2.86zM5.41 20L4 18.59l7.72-7.72 1.47 1.35L5.41 20z\"/>\n",
              "  </svg>\n",
              "      </button>\n",
              "      \n",
              "  <style>\n",
              "    .colab-df-container {\n",
              "      display:flex;\n",
              "      flex-wrap:wrap;\n",
              "      gap: 12px;\n",
              "    }\n",
              "\n",
              "    .colab-df-convert {\n",
              "      background-color: #E8F0FE;\n",
              "      border: none;\n",
              "      border-radius: 50%;\n",
              "      cursor: pointer;\n",
              "      display: none;\n",
              "      fill: #1967D2;\n",
              "      height: 32px;\n",
              "      padding: 0 0 0 0;\n",
              "      width: 32px;\n",
              "    }\n",
              "\n",
              "    .colab-df-convert:hover {\n",
              "      background-color: #E2EBFA;\n",
              "      box-shadow: 0px 1px 2px rgba(60, 64, 67, 0.3), 0px 1px 3px 1px rgba(60, 64, 67, 0.15);\n",
              "      fill: #174EA6;\n",
              "    }\n",
              "\n",
              "    [theme=dark] .colab-df-convert {\n",
              "      background-color: #3B4455;\n",
              "      fill: #D2E3FC;\n",
              "    }\n",
              "\n",
              "    [theme=dark] .colab-df-convert:hover {\n",
              "      background-color: #434B5C;\n",
              "      box-shadow: 0px 1px 3px 1px rgba(0, 0, 0, 0.15);\n",
              "      filter: drop-shadow(0px 1px 2px rgba(0, 0, 0, 0.3));\n",
              "      fill: #FFFFFF;\n",
              "    }\n",
              "  </style>\n",
              "\n",
              "      <script>\n",
              "        const buttonEl =\n",
              "          document.querySelector('#df-655daac9-8f05-4bd1-9fc3-b8b7eea88bc9 button.colab-df-convert');\n",
              "        buttonEl.style.display =\n",
              "          google.colab.kernel.accessAllowed ? 'block' : 'none';\n",
              "\n",
              "        async function convertToInteractive(key) {\n",
              "          const element = document.querySelector('#df-655daac9-8f05-4bd1-9fc3-b8b7eea88bc9');\n",
              "          const dataTable =\n",
              "            await google.colab.kernel.invokeFunction('convertToInteractive',\n",
              "                                                     [key], {});\n",
              "          if (!dataTable) return;\n",
              "\n",
              "          const docLinkHtml = 'Like what you see? Visit the ' +\n",
              "            '<a target=\"_blank\" href=https://colab.research.google.com/notebooks/data_table.ipynb>data table notebook</a>'\n",
              "            + ' to learn more about interactive tables.';\n",
              "          element.innerHTML = '';\n",
              "          dataTable['output_type'] = 'display_data';\n",
              "          await google.colab.output.renderOutput(dataTable, element);\n",
              "          const docLink = document.createElement('div');\n",
              "          docLink.innerHTML = docLinkHtml;\n",
              "          element.appendChild(docLink);\n",
              "        }\n",
              "      </script>\n",
              "    </div>\n",
              "  </div>\n",
              "  "
            ],
            "text/plain": [
              "     value_eur  overall  potential  height_cm  weight_kg  player_positions  \\\n",
              "0   78000000.0       93         93        170         72                 5   \n",
              "1  119500000.0       92         92        185         81                 6   \n",
              "2   45000000.0       91         91        187         83                 6   \n",
              "3  129000000.0       91         91        175         68                 5   \n",
              "4  125500000.0       91         91        181         70                 3   \n",
              "\n",
              "  preferred_foot  weak_foot  skill_moves  pace  shooting  passing  dribbling  \\\n",
              "0           Left        0.8          0.8  85.0      92.0     91.0       95.0   \n",
              "1          Right        0.8          0.8  78.0      92.0     79.0       86.0   \n",
              "2          Right        0.8          1.0  87.0      94.0     80.0       88.0   \n",
              "3          Right        1.0          1.0  91.0      83.0     86.0       94.0   \n",
              "4          Right        1.0          0.8  76.0      86.0     93.0       88.0   \n",
              "\n",
              "   defending  physic  attacking_finishing  \n",
              "0       34.0    65.0                   95  \n",
              "1       44.0    82.0                   95  \n",
              "2       34.0    75.0                   95  \n",
              "3       37.0    63.0                   83  \n",
              "4       64.0    78.0                   82  "
            ]
          },
          "execution_count": 199,
          "metadata": {},
          "output_type": "execute_result"
        }
      ],
      "source": [
        "df.head()"
      ]
    },
    {
      "cell_type": "code",
      "execution_count": null,
      "metadata": {
        "id": "Mjc4lHBnFnwj"
      },
      "outputs": [],
      "source": [
        "df[['overall','potential',\"pace\", \"shooting\", \n",
        "    \"passing\", \"dribbling\", \"defending\", \"physic\",\n",
        "    \"attacking_finishing\", \"height_cm\", 'weight_kg']] /= 100"
      ]
    },
    {
      "cell_type": "code",
      "execution_count": null,
      "metadata": {
        "colab": {
          "base_uri": "https://localhost:8080/",
          "height": 205
        },
        "id": "uMHa3eV8Hj63",
        "outputId": "bcbadf5b-1042-4c74-e6e5-eb1fa8606246"
      },
      "outputs": [
        {
          "data": {
            "text/html": [
              "\n",
              "  <div id=\"df-fd9f4b17-e4cf-4fa5-b6df-e8e7a4ff8017\">\n",
              "    <div class=\"colab-df-container\">\n",
              "      <div>\n",
              "<style scoped>\n",
              "    .dataframe tbody tr th:only-of-type {\n",
              "        vertical-align: middle;\n",
              "    }\n",
              "\n",
              "    .dataframe tbody tr th {\n",
              "        vertical-align: top;\n",
              "    }\n",
              "\n",
              "    .dataframe thead th {\n",
              "        text-align: right;\n",
              "    }\n",
              "</style>\n",
              "<table border=\"1\" class=\"dataframe\">\n",
              "  <thead>\n",
              "    <tr style=\"text-align: right;\">\n",
              "      <th></th>\n",
              "      <th>value_eur</th>\n",
              "      <th>overall</th>\n",
              "      <th>potential</th>\n",
              "      <th>height_cm</th>\n",
              "      <th>weight_kg</th>\n",
              "      <th>player_positions</th>\n",
              "      <th>preferred_foot</th>\n",
              "      <th>weak_foot</th>\n",
              "      <th>skill_moves</th>\n",
              "      <th>pace</th>\n",
              "      <th>shooting</th>\n",
              "      <th>passing</th>\n",
              "      <th>dribbling</th>\n",
              "      <th>defending</th>\n",
              "      <th>physic</th>\n",
              "      <th>attacking_finishing</th>\n",
              "    </tr>\n",
              "  </thead>\n",
              "  <tbody>\n",
              "    <tr>\n",
              "      <th>0</th>\n",
              "      <td>78000000.0</td>\n",
              "      <td>0.93</td>\n",
              "      <td>0.93</td>\n",
              "      <td>1.70</td>\n",
              "      <td>0.72</td>\n",
              "      <td>5</td>\n",
              "      <td>Left</td>\n",
              "      <td>0.8</td>\n",
              "      <td>0.8</td>\n",
              "      <td>0.85</td>\n",
              "      <td>0.92</td>\n",
              "      <td>0.91</td>\n",
              "      <td>0.95</td>\n",
              "      <td>0.34</td>\n",
              "      <td>0.65</td>\n",
              "      <td>0.95</td>\n",
              "    </tr>\n",
              "    <tr>\n",
              "      <th>1</th>\n",
              "      <td>119500000.0</td>\n",
              "      <td>0.92</td>\n",
              "      <td>0.92</td>\n",
              "      <td>1.85</td>\n",
              "      <td>0.81</td>\n",
              "      <td>6</td>\n",
              "      <td>Right</td>\n",
              "      <td>0.8</td>\n",
              "      <td>0.8</td>\n",
              "      <td>0.78</td>\n",
              "      <td>0.92</td>\n",
              "      <td>0.79</td>\n",
              "      <td>0.86</td>\n",
              "      <td>0.44</td>\n",
              "      <td>0.82</td>\n",
              "      <td>0.95</td>\n",
              "    </tr>\n",
              "    <tr>\n",
              "      <th>2</th>\n",
              "      <td>45000000.0</td>\n",
              "      <td>0.91</td>\n",
              "      <td>0.91</td>\n",
              "      <td>1.87</td>\n",
              "      <td>0.83</td>\n",
              "      <td>6</td>\n",
              "      <td>Right</td>\n",
              "      <td>0.8</td>\n",
              "      <td>1.0</td>\n",
              "      <td>0.87</td>\n",
              "      <td>0.94</td>\n",
              "      <td>0.80</td>\n",
              "      <td>0.88</td>\n",
              "      <td>0.34</td>\n",
              "      <td>0.75</td>\n",
              "      <td>0.95</td>\n",
              "    </tr>\n",
              "    <tr>\n",
              "      <th>3</th>\n",
              "      <td>129000000.0</td>\n",
              "      <td>0.91</td>\n",
              "      <td>0.91</td>\n",
              "      <td>1.75</td>\n",
              "      <td>0.68</td>\n",
              "      <td>5</td>\n",
              "      <td>Right</td>\n",
              "      <td>1.0</td>\n",
              "      <td>1.0</td>\n",
              "      <td>0.91</td>\n",
              "      <td>0.83</td>\n",
              "      <td>0.86</td>\n",
              "      <td>0.94</td>\n",
              "      <td>0.37</td>\n",
              "      <td>0.63</td>\n",
              "      <td>0.83</td>\n",
              "    </tr>\n",
              "    <tr>\n",
              "      <th>4</th>\n",
              "      <td>125500000.0</td>\n",
              "      <td>0.91</td>\n",
              "      <td>0.91</td>\n",
              "      <td>1.81</td>\n",
              "      <td>0.70</td>\n",
              "      <td>3</td>\n",
              "      <td>Right</td>\n",
              "      <td>1.0</td>\n",
              "      <td>0.8</td>\n",
              "      <td>0.76</td>\n",
              "      <td>0.86</td>\n",
              "      <td>0.93</td>\n",
              "      <td>0.88</td>\n",
              "      <td>0.64</td>\n",
              "      <td>0.78</td>\n",
              "      <td>0.82</td>\n",
              "    </tr>\n",
              "  </tbody>\n",
              "</table>\n",
              "</div>\n",
              "      <button class=\"colab-df-convert\" onclick=\"convertToInteractive('df-fd9f4b17-e4cf-4fa5-b6df-e8e7a4ff8017')\"\n",
              "              title=\"Convert this dataframe to an interactive table.\"\n",
              "              style=\"display:none;\">\n",
              "        \n",
              "  <svg xmlns=\"http://www.w3.org/2000/svg\" height=\"24px\"viewBox=\"0 0 24 24\"\n",
              "       width=\"24px\">\n",
              "    <path d=\"M0 0h24v24H0V0z\" fill=\"none\"/>\n",
              "    <path d=\"M18.56 5.44l.94 2.06.94-2.06 2.06-.94-2.06-.94-.94-2.06-.94 2.06-2.06.94zm-11 1L8.5 8.5l.94-2.06 2.06-.94-2.06-.94L8.5 2.5l-.94 2.06-2.06.94zm10 10l.94 2.06.94-2.06 2.06-.94-2.06-.94-.94-2.06-.94 2.06-2.06.94z\"/><path d=\"M17.41 7.96l-1.37-1.37c-.4-.4-.92-.59-1.43-.59-.52 0-1.04.2-1.43.59L10.3 9.45l-7.72 7.72c-.78.78-.78 2.05 0 2.83L4 21.41c.39.39.9.59 1.41.59.51 0 1.02-.2 1.41-.59l7.78-7.78 2.81-2.81c.8-.78.8-2.07 0-2.86zM5.41 20L4 18.59l7.72-7.72 1.47 1.35L5.41 20z\"/>\n",
              "  </svg>\n",
              "      </button>\n",
              "      \n",
              "  <style>\n",
              "    .colab-df-container {\n",
              "      display:flex;\n",
              "      flex-wrap:wrap;\n",
              "      gap: 12px;\n",
              "    }\n",
              "\n",
              "    .colab-df-convert {\n",
              "      background-color: #E8F0FE;\n",
              "      border: none;\n",
              "      border-radius: 50%;\n",
              "      cursor: pointer;\n",
              "      display: none;\n",
              "      fill: #1967D2;\n",
              "      height: 32px;\n",
              "      padding: 0 0 0 0;\n",
              "      width: 32px;\n",
              "    }\n",
              "\n",
              "    .colab-df-convert:hover {\n",
              "      background-color: #E2EBFA;\n",
              "      box-shadow: 0px 1px 2px rgba(60, 64, 67, 0.3), 0px 1px 3px 1px rgba(60, 64, 67, 0.15);\n",
              "      fill: #174EA6;\n",
              "    }\n",
              "\n",
              "    [theme=dark] .colab-df-convert {\n",
              "      background-color: #3B4455;\n",
              "      fill: #D2E3FC;\n",
              "    }\n",
              "\n",
              "    [theme=dark] .colab-df-convert:hover {\n",
              "      background-color: #434B5C;\n",
              "      box-shadow: 0px 1px 3px 1px rgba(0, 0, 0, 0.15);\n",
              "      filter: drop-shadow(0px 1px 2px rgba(0, 0, 0, 0.3));\n",
              "      fill: #FFFFFF;\n",
              "    }\n",
              "  </style>\n",
              "\n",
              "      <script>\n",
              "        const buttonEl =\n",
              "          document.querySelector('#df-fd9f4b17-e4cf-4fa5-b6df-e8e7a4ff8017 button.colab-df-convert');\n",
              "        buttonEl.style.display =\n",
              "          google.colab.kernel.accessAllowed ? 'block' : 'none';\n",
              "\n",
              "        async function convertToInteractive(key) {\n",
              "          const element = document.querySelector('#df-fd9f4b17-e4cf-4fa5-b6df-e8e7a4ff8017');\n",
              "          const dataTable =\n",
              "            await google.colab.kernel.invokeFunction('convertToInteractive',\n",
              "                                                     [key], {});\n",
              "          if (!dataTable) return;\n",
              "\n",
              "          const docLinkHtml = 'Like what you see? Visit the ' +\n",
              "            '<a target=\"_blank\" href=https://colab.research.google.com/notebooks/data_table.ipynb>data table notebook</a>'\n",
              "            + ' to learn more about interactive tables.';\n",
              "          element.innerHTML = '';\n",
              "          dataTable['output_type'] = 'display_data';\n",
              "          await google.colab.output.renderOutput(dataTable, element);\n",
              "          const docLink = document.createElement('div');\n",
              "          docLink.innerHTML = docLinkHtml;\n",
              "          element.appendChild(docLink);\n",
              "        }\n",
              "      </script>\n",
              "    </div>\n",
              "  </div>\n",
              "  "
            ],
            "text/plain": [
              "     value_eur  overall  potential  height_cm  weight_kg  player_positions  \\\n",
              "0   78000000.0     0.93       0.93       1.70       0.72                 5   \n",
              "1  119500000.0     0.92       0.92       1.85       0.81                 6   \n",
              "2   45000000.0     0.91       0.91       1.87       0.83                 6   \n",
              "3  129000000.0     0.91       0.91       1.75       0.68                 5   \n",
              "4  125500000.0     0.91       0.91       1.81       0.70                 3   \n",
              "\n",
              "  preferred_foot  weak_foot  skill_moves  pace  shooting  passing  dribbling  \\\n",
              "0           Left        0.8          0.8  0.85      0.92     0.91       0.95   \n",
              "1          Right        0.8          0.8  0.78      0.92     0.79       0.86   \n",
              "2          Right        0.8          1.0  0.87      0.94     0.80       0.88   \n",
              "3          Right        1.0          1.0  0.91      0.83     0.86       0.94   \n",
              "4          Right        1.0          0.8  0.76      0.86     0.93       0.88   \n",
              "\n",
              "   defending  physic  attacking_finishing  \n",
              "0       0.34    0.65                 0.95  \n",
              "1       0.44    0.82                 0.95  \n",
              "2       0.34    0.75                 0.95  \n",
              "3       0.37    0.63                 0.83  \n",
              "4       0.64    0.78                 0.82  "
            ]
          },
          "execution_count": 201,
          "metadata": {},
          "output_type": "execute_result"
        }
      ],
      "source": [
        "df.head()"
      ]
    },
    {
      "cell_type": "code",
      "execution_count": null,
      "metadata": {
        "colab": {
          "base_uri": "https://localhost:8080/"
        },
        "id": "3zj5HsMsKF7a",
        "outputId": "29dae6f0-7fa8-4c2c-ebd4-28419882860d"
      },
      "outputs": [
        {
          "data": {
            "text/plain": [
              "15000.0"
            ]
          },
          "execution_count": 202,
          "metadata": {},
          "output_type": "execute_result"
        }
      ],
      "source": [
        "min(df['value_eur'])"
      ]
    },
    {
      "cell_type": "code",
      "execution_count": null,
      "metadata": {
        "colab": {
          "base_uri": "https://localhost:8080/"
        },
        "id": "L-rlwxg7JtIK",
        "outputId": "e61ef09a-26d4-489a-b303-d80480138c32"
      },
      "outputs": [
        {
          "data": {
            "text/plain": [
              "6359"
            ]
          },
          "execution_count": 203,
          "metadata": {},
          "output_type": "execute_result"
        }
      ],
      "source": [
        "((15000 <= df['value_eur']) & (df['value_eur'] < 750000)).sum()"
      ]
    },
    {
      "cell_type": "code",
      "execution_count": null,
      "metadata": {
        "colab": {
          "base_uri": "https://localhost:8080/"
        },
        "id": "ZkCu58uQJtPE",
        "outputId": "55a0231b-10a9-4f3e-8e8a-4e1279d88da7"
      },
      "outputs": [
        {
          "data": {
            "text/plain": [
              "6966"
            ]
          },
          "execution_count": 204,
          "metadata": {},
          "output_type": "execute_result"
        }
      ],
      "source": [
        "((750000 <= df['value_eur']) & (df['value_eur'] < 2500000)).sum()"
      ]
    },
    {
      "cell_type": "code",
      "execution_count": null,
      "metadata": {
        "colab": {
          "base_uri": "https://localhost:8080/"
        },
        "id": "XrlW6NXyLtbP",
        "outputId": "f2b6d4b1-fd1c-4a83-f217-acaf2b44aa90"
      },
      "outputs": [
        {
          "data": {
            "text/plain": [
              "2688"
            ]
          },
          "execution_count": 205,
          "metadata": {},
          "output_type": "execute_result"
        }
      ],
      "source": [
        "((2500000 <= df['value_eur']) & (df['value_eur'] < 10000000)).sum()"
      ]
    },
    {
      "cell_type": "code",
      "execution_count": null,
      "metadata": {
        "colab": {
          "base_uri": "https://localhost:8080/"
        },
        "id": "ujua_nzZLteA",
        "outputId": "3cdfa71f-c09f-4278-9bf7-b493db3e2b69"
      },
      "outputs": [
        {
          "data": {
            "text/plain": [
              "938"
            ]
          },
          "execution_count": 206,
          "metadata": {},
          "output_type": "execute_result"
        }
      ],
      "source": [
        "((10000000 <= df['value_eur']) & (df['value_eur'] < 50000000)).sum()"
      ]
    },
    {
      "cell_type": "code",
      "execution_count": null,
      "metadata": {
        "colab": {
          "base_uri": "https://localhost:8080/"
        },
        "id": "hQy2qCexLtgu",
        "outputId": "f69bee0c-83a6-4843-bd47-2bb1ae0d541a"
      },
      "outputs": [
        {
          "data": {
            "text/plain": [
              "90"
            ]
          },
          "execution_count": 207,
          "metadata": {},
          "output_type": "execute_result"
        }
      ],
      "source": [
        "((50000000 <= df['value_eur'])).sum()"
      ]
    },
    {
      "cell_type": "code",
      "execution_count": null,
      "metadata": {
        "colab": {
          "base_uri": "https://localhost:8080/"
        },
        "id": "KNw-7NunNrqz",
        "outputId": "2ef883ed-5400-4696-e57c-cb83b59d78dc"
      },
      "outputs": [
        {
          "data": {
            "text/plain": [
              "194000000.0"
            ]
          },
          "execution_count": 208,
          "metadata": {},
          "output_type": "execute_result"
        }
      ],
      "source": [
        "df['value_eur'].max()"
      ]
    },
    {
      "cell_type": "code",
      "execution_count": null,
      "metadata": {
        "id": "4-l93AOjLtjM"
      },
      "outputs": [],
      "source": [
        "df['value_eur'] = pd.cut(df['value_eur'], bins=[0, 749999, 2499999,\n",
        "                  9999999, 49999999, 200000000], labels=[1,2,3,4,5])"
      ]
    },
    {
      "cell_type": "code",
      "execution_count": null,
      "metadata": {
        "id": "2IlFumA6Z33F"
      },
      "outputs": [],
      "source": [
        "value_labels = [\"0-750k\", \"750k-2.5m\", \"2.5m-10m\", \"10m-50m\", \"50m+\"]"
      ]
    },
    {
      "cell_type": "code",
      "execution_count": null,
      "metadata": {
        "id": "326X864ATaaj"
      },
      "outputs": [],
      "source": [
        "key_bar, count_bar = np.unique(df['value_eur'], return_counts=True)"
      ]
    },
    {
      "cell_type": "code",
      "execution_count": null,
      "metadata": {
        "colab": {
          "base_uri": "https://localhost:8080/",
          "height": 443
        },
        "id": "9wnE0ne-aPSE",
        "outputId": "f60987d5-5e85-4b05-b1c4-395b75dc017f"
      },
      "outputs": [
        {
          "data": {
            "image/png": "[encoded data removed]",
            "text/plain": [
              "<Figure size 720x504 with 1 Axes>"
            ]
          },
          "metadata": {
            "needs_background": "light"
          },
          "output_type": "display_data"
        }
      ],
      "source": [
        "fig = plt.figure(figsize =(10, 7))\n",
        "plt.bar(value_labels, count_bar)\n",
        "plt.title(\"Player Values (€) Classes\")\n",
        "plt.show()"
      ]
    },
    {
      "cell_type": "code",
      "execution_count": null,
      "metadata": {
        "id": "dK4j8YCoPH2t"
      },
      "outputs": [],
      "source": [
        "features = ['overall', 'potential', 'height_cm', 'weight_kg',\n",
        "       'player_positions', 'preferred_foot', 'weak_foot', 'skill_moves',\n",
        "       'pace', 'shooting', 'passing', 'dribbling', 'defending', 'physic',\n",
        "       'attacking_finishing']\n",
        "\n",
        "X = df.loc[:, features]\n",
        "y = df.loc[:,['value_eur']]\n"
      ]
    },
    {
      "cell_type": "code",
      "execution_count": null,
      "metadata": {
        "colab": {
          "base_uri": "https://localhost:8080/"
        },
        "id": "12SMCuREVLZK",
        "outputId": "9199703e-ce64-4a80-9f85-d3c7a2d3fec8"
      },
      "outputs": [
        {
          "data": {
            "text/plain": [
              "False"
            ]
          },
          "execution_count": 808,
          "metadata": {},
          "output_type": "execute_result"
        }
      ],
      "source": [
        "X.isnull().values.any()"
      ]
    },
    {
      "cell_type": "code",
      "execution_count": null,
      "metadata": {
        "colab": {
          "base_uri": "https://localhost:8080/"
        },
        "id": "rqgeJL26VRnu",
        "outputId": "423e57f1-9e1a-49aa-902d-b0367be192ad"
      },
      "outputs": [
        {
          "data": {
            "text/plain": [
              "False"
            ]
          },
          "execution_count": 809,
          "metadata": {},
          "output_type": "execute_result"
        }
      ],
      "source": [
        "y.isnull().values.any()"
      ]
    },
    {
      "cell_type": "code",
      "execution_count": null,
      "metadata": {
        "colab": {
          "base_uri": "https://localhost:8080/",
          "height": 205
        },
        "id": "2f0ISK-VYKca",
        "outputId": "d62977d0-1082-489b-de8d-15d967539dae"
      },
      "outputs": [
        {
          "data": {
            "text/html": [
              "\n",
              "  <div id=\"df-bfae4237-088e-4254-a863-8e7b5845bbfc\">\n",
              "    <div class=\"colab-df-container\">\n",
              "      <div>\n",
              "<style scoped>\n",
              "    .dataframe tbody tr th:only-of-type {\n",
              "        vertical-align: middle;\n",
              "    }\n",
              "\n",
              "    .dataframe tbody tr th {\n",
              "        vertical-align: top;\n",
              "    }\n",
              "\n",
              "    .dataframe thead th {\n",
              "        text-align: right;\n",
              "    }\n",
              "</style>\n",
              "<table border=\"1\" class=\"dataframe\">\n",
              "  <thead>\n",
              "    <tr style=\"text-align: right;\">\n",
              "      <th></th>\n",
              "      <th>overall</th>\n",
              "      <th>potential</th>\n",
              "      <th>height_cm</th>\n",
              "      <th>weight_kg</th>\n",
              "      <th>player_positions</th>\n",
              "      <th>preferred_foot</th>\n",
              "      <th>weak_foot</th>\n",
              "      <th>skill_moves</th>\n",
              "      <th>pace</th>\n",
              "      <th>shooting</th>\n",
              "      <th>passing</th>\n",
              "      <th>dribbling</th>\n",
              "      <th>defending</th>\n",
              "      <th>physic</th>\n",
              "      <th>attacking_finishing</th>\n",
              "    </tr>\n",
              "  </thead>\n",
              "  <tbody>\n",
              "    <tr>\n",
              "      <th>0</th>\n",
              "      <td>0.93</td>\n",
              "      <td>0.93</td>\n",
              "      <td>1.70</td>\n",
              "      <td>0.72</td>\n",
              "      <td>5</td>\n",
              "      <td>0</td>\n",
              "      <td>0.8</td>\n",
              "      <td>0.8</td>\n",
              "      <td>0.85</td>\n",
              "      <td>0.92</td>\n",
              "      <td>0.91</td>\n",
              "      <td>0.95</td>\n",
              "      <td>0.34</td>\n",
              "      <td>0.65</td>\n",
              "      <td>0.95</td>\n",
              "    </tr>\n",
              "    <tr>\n",
              "      <th>1</th>\n",
              "      <td>0.92</td>\n",
              "      <td>0.92</td>\n",
              "      <td>1.85</td>\n",
              "      <td>0.81</td>\n",
              "      <td>6</td>\n",
              "      <td>1</td>\n",
              "      <td>0.8</td>\n",
              "      <td>0.8</td>\n",
              "      <td>0.78</td>\n",
              "      <td>0.92</td>\n",
              "      <td>0.79</td>\n",
              "      <td>0.86</td>\n",
              "      <td>0.44</td>\n",
              "      <td>0.82</td>\n",
              "      <td>0.95</td>\n",
              "    </tr>\n",
              "    <tr>\n",
              "      <th>2</th>\n",
              "      <td>0.91</td>\n",
              "      <td>0.91</td>\n",
              "      <td>1.87</td>\n",
              "      <td>0.83</td>\n",
              "      <td>6</td>\n",
              "      <td>1</td>\n",
              "      <td>0.8</td>\n",
              "      <td>1.0</td>\n",
              "      <td>0.87</td>\n",
              "      <td>0.94</td>\n",
              "      <td>0.80</td>\n",
              "      <td>0.88</td>\n",
              "      <td>0.34</td>\n",
              "      <td>0.75</td>\n",
              "      <td>0.95</td>\n",
              "    </tr>\n",
              "    <tr>\n",
              "      <th>3</th>\n",
              "      <td>0.91</td>\n",
              "      <td>0.91</td>\n",
              "      <td>1.75</td>\n",
              "      <td>0.68</td>\n",
              "      <td>5</td>\n",
              "      <td>1</td>\n",
              "      <td>1.0</td>\n",
              "      <td>1.0</td>\n",
              "      <td>0.91</td>\n",
              "      <td>0.83</td>\n",
              "      <td>0.86</td>\n",
              "      <td>0.94</td>\n",
              "      <td>0.37</td>\n",
              "      <td>0.63</td>\n",
              "      <td>0.83</td>\n",
              "    </tr>\n",
              "    <tr>\n",
              "      <th>4</th>\n",
              "      <td>0.91</td>\n",
              "      <td>0.91</td>\n",
              "      <td>1.81</td>\n",
              "      <td>0.70</td>\n",
              "      <td>3</td>\n",
              "      <td>1</td>\n",
              "      <td>1.0</td>\n",
              "      <td>0.8</td>\n",
              "      <td>0.76</td>\n",
              "      <td>0.86</td>\n",
              "      <td>0.93</td>\n",
              "      <td>0.88</td>\n",
              "      <td>0.64</td>\n",
              "      <td>0.78</td>\n",
              "      <td>0.82</td>\n",
              "    </tr>\n",
              "  </tbody>\n",
              "</table>\n",
              "</div>\n",
              "      <button class=\"colab-df-convert\" onclick=\"convertToInteractive('df-bfae4237-088e-4254-a863-8e7b5845bbfc')\"\n",
              "              title=\"Convert this dataframe to an interactive table.\"\n",
              "              style=\"display:none;\">\n",
              "        \n",
              "  <svg xmlns=\"http://www.w3.org/2000/svg\" height=\"24px\"viewBox=\"0 0 24 24\"\n",
              "       width=\"24px\">\n",
              "    <path d=\"M0 0h24v24H0V0z\" fill=\"none\"/>\n",
              "    <path d=\"M18.56 5.44l.94 2.06.94-2.06 2.06-.94-2.06-.94-.94-2.06-.94 2.06-2.06.94zm-11 1L8.5 8.5l.94-2.06 2.06-.94-2.06-.94L8.5 2.5l-.94 2.06-2.06.94zm10 10l.94 2.06.94-2.06 2.06-.94-2.06-.94-.94-2.06-.94 2.06-2.06.94z\"/><path d=\"M17.41 7.96l-1.37-1.37c-.4-.4-.92-.59-1.43-.59-.52 0-1.04.2-1.43.59L10.3 9.45l-7.72 7.72c-.78.78-.78 2.05 0 2.83L4 21.41c.39.39.9.59 1.41.59.51 0 1.02-.2 1.41-.59l7.78-7.78 2.81-2.81c.8-.78.8-2.07 0-2.86zM5.41 20L4 18.59l7.72-7.72 1.47 1.35L5.41 20z\"/>\n",
              "  </svg>\n",
              "      </button>\n",
              "      \n",
              "  <style>\n",
              "    .colab-df-container {\n",
              "      display:flex;\n",
              "      flex-wrap:wrap;\n",
              "      gap: 12px;\n",
              "    }\n",
              "\n",
              "    .colab-df-convert {\n",
              "      background-color: #E8F0FE;\n",
              "      border: none;\n",
              "      border-radius: 50%;\n",
              "      cursor: pointer;\n",
              "      display: none;\n",
              "      fill: #1967D2;\n",
              "      height: 32px;\n",
              "      padding: 0 0 0 0;\n",
              "      width: 32px;\n",
              "    }\n",
              "\n",
              "    .colab-df-convert:hover {\n",
              "      background-color: #E2EBFA;\n",
              "      box-shadow: 0px 1px 2px rgba(60, 64, 67, 0.3), 0px 1px 3px 1px rgba(60, 64, 67, 0.15);\n",
              "      fill: #174EA6;\n",
              "    }\n",
              "\n",
              "    [theme=dark] .colab-df-convert {\n",
              "      background-color: #3B4455;\n",
              "      fill: #D2E3FC;\n",
              "    }\n",
              "\n",
              "    [theme=dark] .colab-df-convert:hover {\n",
              "      background-color: #434B5C;\n",
              "      box-shadow: 0px 1px 3px 1px rgba(0, 0, 0, 0.15);\n",
              "      filter: drop-shadow(0px 1px 2px rgba(0, 0, 0, 0.3));\n",
              "      fill: #FFFFFF;\n",
              "    }\n",
              "  </style>\n",
              "\n",
              "      <script>\n",
              "        const buttonEl =\n",
              "          document.querySelector('#df-bfae4237-088e-4254-a863-8e7b5845bbfc button.colab-df-convert');\n",
              "        buttonEl.style.display =\n",
              "          google.colab.kernel.accessAllowed ? 'block' : 'none';\n",
              "\n",
              "        async function convertToInteractive(key) {\n",
              "          const element = document.querySelector('#df-bfae4237-088e-4254-a863-8e7b5845bbfc');\n",
              "          const dataTable =\n",
              "            await google.colab.kernel.invokeFunction('convertToInteractive',\n",
              "                                                     [key], {});\n",
              "          if (!dataTable) return;\n",
              "\n",
              "          const docLinkHtml = 'Like what you see? Visit the ' +\n",
              "            '<a target=\"_blank\" href=https://colab.research.google.com/notebooks/data_table.ipynb>data table notebook</a>'\n",
              "            + ' to learn more about interactive tables.';\n",
              "          element.innerHTML = '';\n",
              "          dataTable['output_type'] = 'display_data';\n",
              "          await google.colab.output.renderOutput(dataTable, element);\n",
              "          const docLink = document.createElement('div');\n",
              "          docLink.innerHTML = docLinkHtml;\n",
              "          element.appendChild(docLink);\n",
              "        }\n",
              "      </script>\n",
              "    </div>\n",
              "  </div>\n",
              "  "
            ],
            "text/plain": [
              "   overall  potential  height_cm  weight_kg  player_positions  preferred_foot  \\\n",
              "0     0.93       0.93       1.70       0.72                 5               0   \n",
              "1     0.92       0.92       1.85       0.81                 6               1   \n",
              "2     0.91       0.91       1.87       0.83                 6               1   \n",
              "3     0.91       0.91       1.75       0.68                 5               1   \n",
              "4     0.91       0.91       1.81       0.70                 3               1   \n",
              "\n",
              "   weak_foot  skill_moves  pace  shooting  passing  dribbling  defending  \\\n",
              "0        0.8          0.8  0.85      0.92     0.91       0.95       0.34   \n",
              "1        0.8          0.8  0.78      0.92     0.79       0.86       0.44   \n",
              "2        0.8          1.0  0.87      0.94     0.80       0.88       0.34   \n",
              "3        1.0          1.0  0.91      0.83     0.86       0.94       0.37   \n",
              "4        1.0          0.8  0.76      0.86     0.93       0.88       0.64   \n",
              "\n",
              "   physic  attacking_finishing  \n",
              "0    0.65                 0.95  \n",
              "1    0.82                 0.95  \n",
              "2    0.75                 0.95  \n",
              "3    0.63                 0.83  \n",
              "4    0.78                 0.82  "
            ]
          },
          "execution_count": 810,
          "metadata": {},
          "output_type": "execute_result"
        }
      ],
      "source": [
        "X.head()"
      ]
    },
    {
      "cell_type": "code",
      "execution_count": null,
      "metadata": {
        "colab": {
          "base_uri": "https://localhost:8080/",
          "height": 205
        },
        "id": "P3mL6_cnPgpd",
        "outputId": "13000848-b241-4e14-c8f0-dbd911ffae3e"
      },
      "outputs": [
        {
          "data": {
            "text/html": [
              "\n",
              "  <div id=\"df-cae07e83-88cc-4573-a9b3-d4daf2b4f7f9\">\n",
              "    <div class=\"colab-df-container\">\n",
              "      <div>\n",
              "<style scoped>\n",
              "    .dataframe tbody tr th:only-of-type {\n",
              "        vertical-align: middle;\n",
              "    }\n",
              "\n",
              "    .dataframe tbody tr th {\n",
              "        vertical-align: top;\n",
              "    }\n",
              "\n",
              "    .dataframe thead th {\n",
              "        text-align: right;\n",
              "    }\n",
              "</style>\n",
              "<table border=\"1\" class=\"dataframe\">\n",
              "  <thead>\n",
              "    <tr style=\"text-align: right;\">\n",
              "      <th></th>\n",
              "      <th>value_eur</th>\n",
              "    </tr>\n",
              "  </thead>\n",
              "  <tbody>\n",
              "    <tr>\n",
              "      <th>0</th>\n",
              "      <td>5</td>\n",
              "    </tr>\n",
              "    <tr>\n",
              "      <th>1</th>\n",
              "      <td>5</td>\n",
              "    </tr>\n",
              "    <tr>\n",
              "      <th>2</th>\n",
              "      <td>4</td>\n",
              "    </tr>\n",
              "    <tr>\n",
              "      <th>3</th>\n",
              "      <td>5</td>\n",
              "    </tr>\n",
              "    <tr>\n",
              "      <th>4</th>\n",
              "      <td>5</td>\n",
              "    </tr>\n",
              "  </tbody>\n",
              "</table>\n",
              "</div>\n",
              "      <button class=\"colab-df-convert\" onclick=\"convertToInteractive('df-cae07e83-88cc-4573-a9b3-d4daf2b4f7f9')\"\n",
              "              title=\"Convert this dataframe to an interactive table.\"\n",
              "              style=\"display:none;\">\n",
              "        \n",
              "  <svg xmlns=\"http://www.w3.org/2000/svg\" height=\"24px\"viewBox=\"0 0 24 24\"\n",
              "       width=\"24px\">\n",
              "    <path d=\"M0 0h24v24H0V0z\" fill=\"none\"/>\n",
              "    <path d=\"M18.56 5.44l.94 2.06.94-2.06 2.06-.94-2.06-.94-.94-2.06-.94 2.06-2.06.94zm-11 1L8.5 8.5l.94-2.06 2.06-.94-2.06-.94L8.5 2.5l-.94 2.06-2.06.94zm10 10l.94 2.06.94-2.06 2.06-.94-2.06-.94-.94-2.06-.94 2.06-2.06.94z\"/><path d=\"M17.41 7.96l-1.37-1.37c-.4-.4-.92-.59-1.43-.59-.52 0-1.04.2-1.43.59L10.3 9.45l-7.72 7.72c-.78.78-.78 2.05 0 2.83L4 21.41c.39.39.9.59 1.41.59.51 0 1.02-.2 1.41-.59l7.78-7.78 2.81-2.81c.8-.78.8-2.07 0-2.86zM5.41 20L4 18.59l7.72-7.72 1.47 1.35L5.41 20z\"/>\n",
              "  </svg>\n",
              "      </button>\n",
              "      \n",
              "  <style>\n",
              "    .colab-df-container {\n",
              "      display:flex;\n",
              "      flex-wrap:wrap;\n",
              "      gap: 12px;\n",
              "    }\n",
              "\n",
              "    .colab-df-convert {\n",
              "      background-color: #E8F0FE;\n",
              "      border: none;\n",
              "      border-radius: 50%;\n",
              "      cursor: pointer;\n",
              "      display: none;\n",
              "      fill: #1967D2;\n",
              "      height: 32px;\n",
              "      padding: 0 0 0 0;\n",
              "      width: 32px;\n",
              "    }\n",
              "\n",
              "    .colab-df-convert:hover {\n",
              "      background-color: #E2EBFA;\n",
              "      box-shadow: 0px 1px 2px rgba(60, 64, 67, 0.3), 0px 1px 3px 1px rgba(60, 64, 67, 0.15);\n",
              "      fill: #174EA6;\n",
              "    }\n",
              "\n",
              "    [theme=dark] .colab-df-convert {\n",
              "      background-color: #3B4455;\n",
              "      fill: #D2E3FC;\n",
              "    }\n",
              "\n",
              "    [theme=dark] .colab-df-convert:hover {\n",
              "      background-color: #434B5C;\n",
              "      box-shadow: 0px 1px 3px 1px rgba(0, 0, 0, 0.15);\n",
              "      filter: drop-shadow(0px 1px 2px rgba(0, 0, 0, 0.3));\n",
              "      fill: #FFFFFF;\n",
              "    }\n",
              "  </style>\n",
              "\n",
              "      <script>\n",
              "        const buttonEl =\n",
              "          document.querySelector('#df-cae07e83-88cc-4573-a9b3-d4daf2b4f7f9 button.colab-df-convert');\n",
              "        buttonEl.style.display =\n",
              "          google.colab.kernel.accessAllowed ? 'block' : 'none';\n",
              "\n",
              "        async function convertToInteractive(key) {\n",
              "          const element = document.querySelector('#df-cae07e83-88cc-4573-a9b3-d4daf2b4f7f9');\n",
              "          const dataTable =\n",
              "            await google.colab.kernel.invokeFunction('convertToInteractive',\n",
              "                                                     [key], {});\n",
              "          if (!dataTable) return;\n",
              "\n",
              "          const docLinkHtml = 'Like what you see? Visit the ' +\n",
              "            '<a target=\"_blank\" href=https://colab.research.google.com/notebooks/data_table.ipynb>data table notebook</a>'\n",
              "            + ' to learn more about interactive tables.';\n",
              "          element.innerHTML = '';\n",
              "          dataTable['output_type'] = 'display_data';\n",
              "          await google.colab.output.renderOutput(dataTable, element);\n",
              "          const docLink = document.createElement('div');\n",
              "          docLink.innerHTML = docLinkHtml;\n",
              "          element.appendChild(docLink);\n",
              "        }\n",
              "      </script>\n",
              "    </div>\n",
              "  </div>\n",
              "  "
            ],
            "text/plain": [
              "  value_eur\n",
              "0         5\n",
              "1         5\n",
              "2         4\n",
              "3         5\n",
              "4         5"
            ]
          },
          "execution_count": 811,
          "metadata": {},
          "output_type": "execute_result"
        }
      ],
      "source": [
        "y.head()"
      ]
    },
    {
      "cell_type": "code",
      "execution_count": null,
      "metadata": {
        "colab": {
          "base_uri": "https://localhost:8080/"
        },
        "id": "tkIiKXjzTXbq",
        "outputId": "693213ed-6102-4194-9f8e-4439305711c5"
      },
      "outputs": [
        {
          "data": {
            "text/plain": [
              "((17041, 15), (17041, 1))"
            ]
          },
          "execution_count": 812,
          "metadata": {},
          "output_type": "execute_result"
        }
      ],
      "source": [
        "X.shape, y.shape"
      ]
    },
    {
      "cell_type": "code",
      "execution_count": null,
      "metadata": {
        "id": "NF1LrDl9H_3m"
      },
      "outputs": [],
      "source": [
        "# train test split, PCA ve normalizasyon islemleri\n",
        "X_train, X_test, y_train, y_test = train_test_split(X, y, test_size=0.2)\n",
        "\n",
        "scaler = StandardScaler()\n",
        "X_train_pca = scaler.fit_transform(X_train)\n",
        "X_test_pca = scaler.transform(X_test)\n",
        "pca = PCA(n_components=5)\n",
        "\n",
        "X_train_pca = pca.fit_transform(X_train_pca)\n",
        "X_test_pca = pca.fit_transform(X_test_pca)\n",
        "\n",
        "X_train_norm = preprocessing.normalize(X_train)  \n",
        "X_test_norm = preprocessing.normalize(X_test)  "
      ]
    },
    {
      "cell_type": "markdown",
      "metadata": {
        "id": "j-9NP2SUoF_g"
      },
      "source": [
        "# KNN"
      ]
    },
    {
      "cell_type": "code",
      "execution_count": null,
      "metadata": {
        "colab": {
          "base_uri": "https://localhost:8080/"
        },
        "id": "2oTiWw9wH__V",
        "outputId": "15950e98-0d41-4642-ac10-d3a2a7bd35ac"
      },
      "outputs": [
        {
          "name": "stdout",
          "output_type": "stream",
          "text": [
            "Accuracy With KNN (original): 0.7468465825755354\n",
            "Accuracy With KNN (original): 0.7444439759102224\n",
            "\n",
            "Accuracy With KNN (PCA): 0.39894397183924907\n",
            "F1 With KNN (PCA Data): 0.39591349741263426\n",
            "\n",
            "Accuracy With KNN (Normalized): 0.7268993839835729\n",
            "F1 With KNN (Normalized): 0.7220299507533903\n"
          ]
        }
      ],
      "source": [
        "params = {\n",
        "    'n_neighbors': [7, 5, 3, 9]\n",
        "}\n",
        "\n",
        "#### knn with original data \n",
        "knn = KNeighborsClassifier()\n",
        "cv = GridSearchCV(estimator=knn, param_grid=params, cv=10)\n",
        "cv.fit(X_train, y_train)\n",
        "KNN_original = KNeighborsClassifier(n_neighbors=cv.best_params_[\"n_neighbors\"])\n",
        "KNN_original.fit(X_train, y_train)\n",
        "y_preds_KNN = KNN_original.predict(X_test)\n",
        "KNN_accuracy_original = metrics.accuracy_score(y_test, y_preds_KNN)\n",
        "KNN_f1_original = metrics.f1_score(y_test, y_preds_KNN, average=\"weighted\")\n",
        "print(\"Accuracy With KNN (original):\",KNN_accuracy_original)\n",
        "print(\"Accuracy With KNN (original):\",KNN_f1_original)\n",
        "\n",
        "\n",
        "### knn with pca data\n",
        "knn = KNeighborsClassifier()\n",
        "cv = GridSearchCV(estimator=knn, param_grid=params, cv=10)\n",
        "cv.fit(X_train_pca, y_train)\n",
        "KNN_pca = KNeighborsClassifier(n_neighbors=cv.best_params_[\"n_neighbors\"])\n",
        "KNN_pca.fit(X_train_pca,y_train) \n",
        "KNN_preds_original = KNN_pca.predict(X_test_pca)\n",
        "KNN_accuracy_pca = metrics.accuracy_score(y_test, KNN_preds_original)\n",
        "KNN_f1_pca = metrics.f1_score(y_test, KNN_preds_original, average=\"weighted\")\n",
        "print(\"\\nAccuracy With KNN (PCA):\",KNN_accuracy_pca)\n",
        "print(\"F1 With KNN (PCA Data):\", KNN_f1_pca)\n",
        "\n",
        "### knn with normalized data\n",
        "knn = KNeighborsClassifier()\n",
        "cv = GridSearchCV(estimator=knn, param_grid=params, cv=10)\n",
        "cv.fit(X_train_norm, y_train)\n",
        "KNN_norm = KNeighborsClassifier(n_neighbors=cv.best_params_[\"n_neighbors\"])\n",
        "KNN_norm.fit(X_train_norm,y_train) # normalized test datasi ile test\n",
        "KNN_preds_norm = KNN_norm.predict(X_test_norm) # normalized test datasi ile predict\n",
        "KNN_acc_norm = metrics.accuracy_score(y_test,KNN_preds_norm)\n",
        "KNN_F1_norm = metrics.f1_score(y_test, KNN_preds_norm, average=\"weighted\")\n",
        "print(\"\\nAccuracy With KNN (Normalized):\",KNN_acc_norm)\n",
        "print(\"F1 With KNN (Normalized):\", KNN_F1_norm)"
      ]
    },
    {
      "cell_type": "code",
      "execution_count": null,
      "metadata": {
        "colab": {
          "base_uri": "https://localhost:8080/",
          "height": 295
        },
        "id": "xxl9k8KXPHMc",
        "outputId": "de707141-de96-4084-cbae-09514cff1a58"
      },
      "outputs": [
        {
          "data": {
            "image/png": "[encoded data removed]",
            "text/plain": [
              "<Figure size 432x288 with 1 Axes>"
            ]
          },
          "metadata": {
            "needs_background": "light"
          },
          "output_type": "display_data"
        }
      ],
      "source": [
        "# accuracy comparison of knn models trained with different datasets\n",
        "y= [KNN_accuracy_original, KNN_accuracy_pca, KNN_acc_norm]\n",
        "x = [1, 2, 3]\n",
        "tick_label = ['Original Data', 'PCA Data' , 'Normalized Data']\n",
        "plt.bar(x, y, tick_label = tick_label,\n",
        "        width = 0.8, color = ['red', 'orange','blue'])\n",
        "plt.xlabel('Type of Data')\n",
        "plt.ylabel('Score')\n",
        "plt.title('KNN Accuracy Comparison')\n",
        "\n",
        "plt.show()"
      ]
    },
    {
      "cell_type": "markdown",
      "metadata": {
        "id": "frw3IX0wwCBu"
      },
      "source": [
        "\n",
        "# DECISION TREE"
      ]
    },
    {
      "cell_type": "code",
      "execution_count": null,
      "metadata": {
        "colab": {
          "base_uri": "https://localhost:8080/"
        },
        "id": "SuqlelgtcG6R",
        "outputId": "4b383b7c-d6a8-463e-e486-fa3fe1a3e13d"
      },
      "outputs": [
        {
          "name": "stdout",
          "output_type": "stream",
          "text": [
            "Accuracy With Decision Tree (Original Data): 0.9172777940745086\n",
            "F1 With Decision Tree (Original Data) 0.9171831824184806\n",
            "\n",
            "Accuracy With Decision Tree (PCA Data): 0.39014373716632444\n",
            "F1 With Decision Tree (PCA Data): 0.39189744658266096\n",
            "\n",
            "Accuracy With Decision Tree (Normalized Data): 0.8386623643297154\n",
            "F1 With Decision Tree (Normalized Data):  0.8386226862270582\n"
          ]
        }
      ],
      "source": [
        "params = {\n",
        "    \"criterion\":[\"gini\", \"entropy\"]\n",
        "}\n",
        "DT_ = DecisionTreeClassifier() \n",
        "cv = GridSearchCV(DT, param_grid=params, cv=10)\n",
        "cv.fit(X_train, y_train)\n",
        "DT_original = DecisionTreeClassifier(criterion=cv.best_params_[\"criterion\"])\n",
        "\n",
        "# DT with original data\n",
        "DT_original.fit(X_train,y_train)\n",
        "y_preds_DT = DT_original.predict(X_test)\n",
        "DT_accuracy = metrics.accuracy_score(y_test, y_preds_DT)\n",
        "DT_f1_original = metrics.f1_score(y_test, y_preds_DT, average=\"weighted\")\n",
        "print(\"Accuracy With Decision Tree (Original Data):\",DT_accuracy)\n",
        "print(\"F1 With Decision Tree (Original Data)\", DT_f1_original)\n",
        "\n",
        "# DT with PCA data\n",
        "DT = DecisionTreeClassifier()\n",
        "cv = GridSearchCV(estimator=DT, param_grid=params, cv=10)\n",
        "cv.fit(X_train_pca, y_train)\n",
        "DT_pca = DecisionTreeClassifier(criterion=cv.best_params_[\"criterion\"])\n",
        "DT_pca.fit(X_train_pca,y_train)\n",
        "y_preds_DT_pca = DT_pca.predict(X_test_pca)\n",
        "DT_accuracy_pca = metrics.accuracy_score(y_test, y_preds_DT_pca)\n",
        "DT_f1_pca = metrics.f1_score(y_test, y_preds_DT_pca, average=\"weighted\")\n",
        "print(\"\\nAccuracy With Decision Tree (PCA Data):\",DT_accuracy_pca)\n",
        "print(\"F1 With Decision Tree (PCA Data):\", DT_f1_pca)\n",
        "\n",
        "# DT with normalized data\n",
        "DT = DecisionTreeClassifier()\n",
        "cv = GridSearchCV(estimator=DT, param_grid=params, cv=10)\n",
        "cv.fit(X_train_norm, y_train)\n",
        "DT_norm = DecisionTreeClassifier(criterion=cv.best_params_[\"criterion\"])\n",
        "DT_norm.fit(X_train_norm,y_train)\n",
        "y_preds_DT_norm = DT_norm.predict(X_test_norm)\n",
        "DT_accuracy_norm = metrics.accuracy_score(y_test, y_preds_DT_norm)\n",
        "DT_f1_norm = metrics.f1_score(y_test, y_preds_DT_norm, average=\"weighted\")\n",
        "print(\"\\nAccuracy With Decision Tree (Normalized Data):\",DT_accuracy_norm)\n",
        "print(\"F1 With Decision Tree (Normalized Data): \", DT_f1_norm)\n",
        "\n"
      ]
    },
    {
      "cell_type": "code",
      "execution_count": null,
      "metadata": {
        "colab": {
          "base_uri": "https://localhost:8080/",
          "height": 295
        },
        "id": "HquGqG9NP6uS",
        "outputId": "13f06ab8-0a77-4f38-9e16-1e5812d97afa"
      },
      "outputs": [
        {
          "data": {
            "image/png": "[encoded data removed]",
            "text/plain": [
              "<Figure size 432x288 with 1 Axes>"
            ]
          },
          "metadata": {
            "needs_background": "light"
          },
          "output_type": "display_data"
        }
      ],
      "source": [
        "# accuracy comparison of DT trained with different datasets\n",
        "y= [DT_accuracy, DT_accuracy_pca, DT_accuracy_norm]\n",
        "x = [1, 2, 3]\n",
        "tick_label = ['Original Data', 'PCA Data' , 'Normalized Data']\n",
        "plt.bar(x, y, tick_label = tick_label,\n",
        "        width = 0.8, color = ['red', 'orange','blue'])\n",
        "plt.xlabel('Type of Data')\n",
        "plt.ylabel('Score')\n",
        "plt.title('Decision Tree Accuracy Comparison')\n",
        "\n",
        "plt.show()"
      ]
    },
    {
      "cell_type": "markdown",
      "metadata": {
        "id": "TeZJI-wpXWMi"
      },
      "source": [
        "# Random Forest Classifier"
      ]
    },
    {
      "cell_type": "code",
      "execution_count": null,
      "metadata": {
        "colab": {
          "base_uri": "https://localhost:8080/"
        },
        "id": "ZI8H11xVcG_Y",
        "outputId": "1de2dd0d-f761-4948-a56d-3f68ca8c1d91"
      },
      "outputs": [
        {
          "name": "stdout",
          "output_type": "stream",
          "text": [
            "Accuracy With Random Forest (Original Data):  0.9392783807568201\n",
            "F1 With Random Forest (Original Data) 0.9391086125674056\n",
            "\n",
            "Accuracy With Random Forest: (PCA Data) 0.3936638310354943\n",
            "F1 With Random Forest (Original Data) 0.3920840505060342\n",
            "\n",
            "Accuracy With Random Forest: (Normalized Data) 0.8656497506600176\n",
            "F1 With Random Forest (Normalized Data) 0.8646713098603125\n"
          ]
        }
      ],
      "source": [
        "RFC = RandomForestClassifier()\n",
        "\n",
        "params = {\n",
        "    \"n_estimators\":[100,200],\n",
        "    \"criterion\":[\"gini\",\"entropy\"]\n",
        "}\n",
        "\n",
        "# rf with original data\n",
        "cv = GridSearchCV(estimator=RFC, param_grid=params, cv=10)\n",
        "cv.fit(X_train,y_train)\n",
        "RFC_original = RandomForestClassifier(random_state=34, n_estimators=cv.best_params_[\"n_estimators\"], criterion=cv.best_params_[\"criterion\"])\n",
        "RFC_original.fit(X_train, y_train)\n",
        "RFC_preds_original = RFC_original.predict(X_test)\n",
        "RFC_accuracy_original = metrics.accuracy_score(y_test, RFC_preds_original)\n",
        "RFC_f1_original = metrics.f1_score(y_test, RFC_preds_original, average = \"weighted\")\n",
        "\n",
        "print(\"Accuracy With Random Forest (Original Data): \", RFC_accuracy_original)\n",
        "print(\"F1 With Random Forest (Original Data)\", RFC_f1_original)\n",
        "\n",
        "\n",
        "# rf with PCA data\n",
        "cv = GridSearchCV(estimator=RFC, param_grid=params, cv=10)\n",
        "cv.fit(X_train_pca,y_train)\n",
        "RFC_pca = RandomForestClassifier(random_state=34, n_estimators=cv.best_params_[\"n_estimators\"], criterion=cv.best_params_[\"criterion\"])\n",
        "RFC_pca.fit(X_train_pca, y_train)\n",
        "RFC_preds_pca = RFC_pca.predict(X_test_pca)\n",
        "RFC_accuracy_pca = metrics.accuracy_score(y_test, RFC_preds_pca)\n",
        "RFC_f1_pca = metrics.f1_score(y_test, RFC_preds_pca, average = \"weighted\")\n",
        "\n",
        "print(\"\\nAccuracy With Random Forest: (PCA Data)\", RFC_accuracy_pca)\n",
        "print(\"F1 With Random Forest (Original Data)\", RFC_f1_pca)\n",
        "\n",
        "# rf with normalized data\n",
        "cv = GridSearchCV(estimator=RFC, param_grid=params, cv=10)\n",
        "cv.fit(X_train_norm,y_train)\n",
        "RFC_norm = RandomForestClassifier(random_state=34, n_estimators=cv.best_params_[\"n_estimators\"], criterion=cv.best_params_[\"criterion\"])\n",
        "RFC_norm.fit(X_train_norm, y_train)\n",
        "RFC_preds_norm = RFC_norm.predict(X_test_norm)\n",
        "RFC_accuracy_norm = metrics.accuracy_score(y_test, RFC_preds_norm)\n",
        "RFC_f1_norm = metrics.f1_score(y_test, RFC_preds_norm, average = \"weighted\")\n",
        "print(\"\\nAccuracy With Random Forest: (Normalized Data)\", RFC_accuracy_norm)\n",
        "print(\"F1 With Random Forest (Normalized Data)\", RFC_f1_norm)\n"
      ]
    },
    {
      "cell_type": "code",
      "execution_count": null,
      "metadata": {
        "colab": {
          "base_uri": "https://localhost:8080/",
          "height": 295
        },
        "id": "2-SjQCc8Qhoj",
        "outputId": "e1903118-488c-42ba-abb8-5920fe65e75f"
      },
      "outputs": [
        {
          "data": {
            "image/png": "[encoded data removed]",
            "text/plain": [
              "<Figure size 432x288 with 1 Axes>"
            ]
          },
          "metadata": {
            "needs_background": "light"
          },
          "output_type": "display_data"
        }
      ],
      "source": [
        "# accuracy coomparison of RFC models trained with different datasets\n",
        "y= [RFC_accuracy_original, RFC_accuracy_pca, RFC_accuracy_norm]\n",
        "x = [1, 2, 3]\n",
        "tick_label = ['Original Data', 'PCA Data' , 'Normalized Data']\n",
        "plt.bar(x, y, tick_label = tick_label,\n",
        "        width = 0.8, color = ['red', 'orange','blue'])\n",
        "plt.xlabel('Type of Data')\n",
        "plt.ylabel('Score')\n",
        "plt.title('Random Forest Accuracy Comparison')\n",
        "\n",
        "plt.show()"
      ]
    },
    {
      "cell_type": "markdown",
      "metadata": {
        "id": "iMl2lQFbXoJb"
      },
      "source": [
        "# Support Vector Machines"
      ]
    },
    {
      "cell_type": "code",
      "execution_count": null,
      "metadata": {
        "colab": {
          "base_uri": "https://localhost:8080/"
        },
        "id": "0DziaigKcoQ4",
        "outputId": "6fe9ece4-0f2d-4204-edc3-0a02eb679847"
      },
      "outputs": [
        {
          "name": "stdout",
          "output_type": "stream",
          "text": [
            "Accuracy With Support Vector Machines: (Original Data) 0.8688765033734233\n",
            "F1 With Support Vector Machine (Original Data): 0.8656142993733797\n",
            "\n",
            "Accuracy With Support Vector Machines: (PCA Data)  0.3681431504840129\n",
            "F1 With Support Vector Machine (Original Data): 0.3670337631199984\n",
            "\n",
            "Accuracy With Support Vector Machines: (Normalized Data)  0.629803461425638\n",
            "F1 With Support Vector Machine (Normalized): 0.5619846740303651\n"
          ]
        }
      ],
      "source": [
        "\n",
        "svc = SVC()\n",
        "params = {\n",
        "    \"kernel\":[\"linear\"]\n",
        "}\n",
        "\n",
        "# svc with original data\n",
        "cv = GridSearchCV(estimator=svc, param_grid=params, cv=10)\n",
        "cv.fit(X_train, y_train)\n",
        "SVC_original= SVC(kernel=cv.best_params_[\"kernel\"])\n",
        "SVC_original.fit(X_train, y_train)\n",
        "SVC_preds_original = SVC_original.predict(X_test)\n",
        "SVC_accuracy_original = metrics.accuracy_score(y_test, SVC_preds_original)\n",
        "SVC_f1_original = metrics.f1_score(y_test, SVC_preds_original, average=\"weighted\")\n",
        "print(\"Accuracy With Support Vector Machines: (Original Data)\", SVC_accuracy_original)\n",
        "print(\"F1 With Support Vector Machine (Original Data):\", SVC_f1_original)\n",
        "\n",
        "# svc with PCA data\n",
        "svc = SVC()\n",
        "cv = GridSearchCV(estimator=svc, param_grid=params, cv=10)\n",
        "cv.fit(X_train_pca, y_train)\n",
        "SVC_pca = SVC(kernel=cv.best_params_[\"kernel\"])\n",
        "SVC_pca.fit(X_train_pca, y_train)\n",
        "SVC_preds_pca = SVC_pca.predict(X_test_pca)\n",
        "SVC_accuracy_pca = metrics.accuracy_score(y_test, SVC_preds_pca)\n",
        "SVC_f1_pca = metrics.f1_score(y_test, SVC_preds_pca, average=\"weighted\")\n",
        "print(\"\\nAccuracy With Support Vector Machines: (PCA Data) \", SVC_accuracy_pca)\n",
        "print(\"F1 With Support Vector Machine (Original Data):\", SVC_f1_pca)\n",
        "\n",
        "# svc with normalized data\n",
        "svc = SVC()\n",
        "cv = GridSearchCV(estimator=svc, param_grid=params, cv=10)\n",
        "cv.fit(X_train_norm, y_train)\n",
        "SVC_norm = SVC(kernel=cv.best_params_[\"kernel\"])\n",
        "SVC_norm.fit(X_train_norm, y_train)\n",
        "SVC_preds_norm = SVC_norm.predict(X_test_norm)\n",
        "SVC_accuracy_norm = metrics.accuracy_score(y_test, SVC_preds_norm)\n",
        "SVC_f1_norm = metrics.f1_score(y_test, SVC_preds_norm,average=\"weighted\")\n",
        "print(\"\\nAccuracy With Support Vector Machines: (Normalized Data) \", SVC_accuracy_norm)\n",
        "print(\"F1 With Support Vector Machine (Normalized):\", SVC_f1_norm)"
      ]
    },
    {
      "cell_type": "code",
      "execution_count": null,
      "metadata": {
        "colab": {
          "base_uri": "https://localhost:8080/",
          "height": 295
        },
        "id": "uJhxAd7WcoYA",
        "outputId": "8398f0c8-3568-443a-ac83-1c7b3c38a953"
      },
      "outputs": [
        {
          "data": {
            "image/png": "[encoded data removed]",
            "text/plain": [
              "<Figure size 432x288 with 1 Axes>"
            ]
          },
          "metadata": {
            "needs_background": "light"
          },
          "output_type": "display_data"
        }
      ],
      "source": [
        "# accuracy comparison of SVC models trained with different datasets\n",
        "y= [SVC_accuracy_original, SVC_accuracy_pca, SVC_accuracy_norm]\n",
        "x = [1, 2, 3]\n",
        "tick_label = ['Original Data', 'PCA Data' , 'Normalized Data']\n",
        "plt.bar(x, y, tick_label = tick_label,\n",
        "        width = 0.8, color = ['red', 'orange','blue'])\n",
        "plt.xlabel('Type of Data')\n",
        "plt.ylabel('Score')\n",
        "plt.title('Support Vector Machine Accuracy Comparison')\n",
        "\n",
        "plt.show()"
      ]
    },
    {
      "cell_type": "markdown",
      "metadata": {
        "id": "QFnLszVwX-Rr"
      },
      "source": [
        "# Saving Models and Confusion Matrix"
      ]
    },
    {
      "cell_type": "code",
      "execution_count": null,
      "metadata": {
        "id": "tQfyAg9_Y-0q"
      },
      "outputs": [],
      "source": [
        "import pickle\n",
        "\n",
        "def save_trained_model(filename, model):\n",
        "  pickle.dump(model, open(filename+\".sav\", 'wb'))\n",
        " \n",
        "def load_from_pretrained(filename):\n",
        "  loaded_model = pickle.load(open(filename, 'rb'))\n",
        "  return loaded_model"
      ]
    },
    {
      "cell_type": "code",
      "execution_count": null,
      "metadata": {
        "id": "KuuxPQb7ZI_4"
      },
      "outputs": [],
      "source": [
        "save_trained_model(\"knn_original\", KNN_original)\n",
        "save_trained_model(\"knn_pca\", KNN_pca)\n",
        "save_trained_model(\"knn_norm\", KNN_norm)\n",
        "\n",
        "save_trained_model(\"dt_original\", DT_original)\n",
        "save_trained_model(\"dt_pca\", DT_pca)\n",
        "save_trained_model(\"dt_norm\", DT_norm)\n",
        "\n",
        "save_trained_model(\"rf_original\", RFC_original)\n",
        "save_trained_model(\"rf_pca\", RFC_pca)\n",
        "save_trained_model(\"rf_norm\", RFC_norm)\n",
        "\n",
        "save_trained_model(\"svc_original\",SVC_original)\n",
        "save_trained_model(\"svc_pca\",SVC_pca)\n",
        "save_trained_model(\"svc_norm\",SVC_norm)\n"
      ]
    },
    {
      "cell_type": "code",
      "execution_count": null,
      "metadata": {
        "colab": {
          "base_uri": "https://localhost:8080/"
        },
        "id": "iLjj6nZFtYTo",
        "outputId": "2b79110a-34f1-40dd-8343-a1fcfe6b55f6"
      },
      "outputs": [
        {
          "name": "stdout",
          "output_type": "stream",
          "text": [
            "              precision    recall  f1-score   support\n",
            "\n",
            "    0-750000       0.84      0.78      0.81      1245\n",
            "750k - 2.5 m       0.71      0.81      0.76      1421\n",
            "2.5 m - 10 m       0.62      0.61      0.62       515\n",
            "   10m - 50m       0.77      0.50      0.61       204\n",
            "  50m - 200m       1.00      0.17      0.29        24\n",
            "\n",
            "    accuracy                           0.75      3409\n",
            "   macro avg       0.79      0.58      0.62      3409\n",
            "weighted avg       0.75      0.75      0.74      3409\n",
            "\n",
            "Confusion Matrix for Best KNN Model\n"
          ]
        }
      ],
      "source": [
        "target_names = ['0-750000', '750k - 2.5 m', '2.5 m - 10 m','10m - 50m','50m - 200m']\n",
        "print(classification_report(y_test, y_preds_KNN, target_names=target_names))\n",
        "print(\"Confusion Matrix for Best KNN Model\")"
      ]
    },
    {
      "cell_type": "code",
      "execution_count": null,
      "metadata": {
        "colab": {
          "base_uri": "https://localhost:8080/"
        },
        "id": "zSf3L8SCZJH8",
        "outputId": "138de2bf-8b32-4aff-b02e-7d15fa709143"
      },
      "outputs": [
        {
          "name": "stdout",
          "output_type": "stream",
          "text": [
            "              precision    recall  f1-score   support\n",
            "\n",
            "    0-750000       0.94      0.93      0.93      1245\n",
            "750k - 2.5 m       0.91      0.92      0.91      1421\n",
            "2.5 m - 10 m       0.89      0.91      0.90       515\n",
            "   10m - 50m       0.92      0.88      0.90       204\n",
            "  50m - 200m       0.80      0.67      0.73        24\n",
            "\n",
            "    accuracy                           0.92      3409\n",
            "   macro avg       0.89      0.86      0.87      3409\n",
            "weighted avg       0.92      0.92      0.92      3409\n",
            "\n",
            "Confusion Matrix for Best Decision Tree Model\n"
          ]
        }
      ],
      "source": [
        "target_names = ['0-750000', '750k - 2.5 m', '2.5 m - 10 m','10m - 50m','50m - 200m']\n",
        "print(classification_report(y_test, y_preds_DT, target_names=target_names))\n",
        "print(\"Confusion Matrix for Best Decision Tree Model\")"
      ]
    },
    {
      "cell_type": "code",
      "execution_count": null,
      "metadata": {
        "colab": {
          "base_uri": "https://localhost:8080/"
        },
        "id": "FDpC_Yp2uCyg",
        "outputId": "a0480b77-ca69-4c0f-fc63-f410efdda9e1"
      },
      "outputs": [
        {
          "name": "stdout",
          "output_type": "stream",
          "text": [
            "              precision    recall  f1-score   support\n",
            "\n",
            "    0-750000       0.98      0.93      0.95      1245\n",
            "750k - 2.5 m       0.92      0.96      0.94      1421\n",
            "2.5 m - 10 m       0.90      0.94      0.92       515\n",
            "   10m - 50m       0.92      0.90      0.91       204\n",
            "  50m - 200m       0.93      0.54      0.68        24\n",
            "\n",
            "    accuracy                           0.94      3409\n",
            "   macro avg       0.93      0.85      0.88      3409\n",
            "weighted avg       0.94      0.94      0.94      3409\n",
            "\n",
            "Confusion Matrix for Best Random Forest Model\n"
          ]
        }
      ],
      "source": [
        "target_names = ['0-750000', '750k - 2.5 m', '2.5 m - 10 m','10m - 50m','50m - 200m']\n",
        "print(classification_report(y_test, RFC_preds_original, target_names=target_names))\n",
        "print(\"Confusion Matrix for Best Random Forest Model\")"
      ]
    },
    {
      "cell_type": "code",
      "execution_count": null,
      "metadata": {
        "colab": {
          "base_uri": "https://localhost:8080/"
        },
        "id": "AQjzr79BuC0v",
        "outputId": "eb447aad-e9d4-4305-d054-d0dd3fa1b100"
      },
      "outputs": [
        {
          "name": "stdout",
          "output_type": "stream",
          "text": [
            "              precision    recall  f1-score   support\n",
            "\n",
            "    0-750000       0.93      0.89      0.91      1245\n",
            "750k - 2.5 m       0.85      0.90      0.88      1421\n",
            "2.5 m - 10 m       0.79      0.83      0.81       515\n",
            "   10m - 50m       0.83      0.69      0.75       204\n",
            "  50m - 200m       0.00      0.00      0.00        24\n",
            "\n",
            "    accuracy                           0.87      3409\n",
            "   macro avg       0.68      0.66      0.67      3409\n",
            "weighted avg       0.86      0.87      0.87      3409\n",
            "\n",
            "Confusion Matrix for Best Support Vector Machine Model\n"
          ]
        },
        {
          "name": "stderr",
          "output_type": "stream",
          "text": [
            "/usr/local/lib/python3.7/dist-packages/sklearn/metrics/_classification.py:1318: UndefinedMetricWarning: Precision and F-score are ill-defined and being set to 0.0 in labels with no predicted samples. Use `zero_division` parameter to control this behavior.\n",
            "  _warn_prf(average, modifier, msg_start, len(result))\n",
            "/usr/local/lib/python3.7/dist-packages/sklearn/metrics/_classification.py:1318: UndefinedMetricWarning: Precision and F-score are ill-defined and being set to 0.0 in labels with no predicted samples. Use `zero_division` parameter to control this behavior.\n",
            "  _warn_prf(average, modifier, msg_start, len(result))\n",
            "/usr/local/lib/python3.7/dist-packages/sklearn/metrics/_classification.py:1318: UndefinedMetricWarning: Precision and F-score are ill-defined and being set to 0.0 in labels with no predicted samples. Use `zero_division` parameter to control this behavior.\n",
            "  _warn_prf(average, modifier, msg_start, len(result))\n"
          ]
        }
      ],
      "source": [
        "target_names = ['0-750000', '750k - 2.5 m', '2.5 m - 10 m','10m - 50m','50m - 200m']\n",
        "print(classification_report(y_test, SVC_preds_original, target_names=target_names))\n",
        "print(\"Confusion Matrix for Best Support Vector Machine Model\")"
      ]
    },
    {
      "cell_type": "code",
      "execution_count": null,
      "metadata": {
        "colab": {
          "base_uri": "https://localhost:8080/",
          "height": 295
        },
        "id": "c-HJAWI2uC3Q",
        "outputId": "58e33158-7f29-4517-ce31-5269dca4f129"
      },
      "outputs": [
        {
          "data": {
            "image/png": "[encoded data removed]",
            "text/plain": [
              "<Figure size 432x288 with 1 Axes>"
            ]
          },
          "metadata": {
            "needs_background": "light"
          },
          "output_type": "display_data"
        }
      ],
      "source": [
        "y= [KNN_accuracy_original, DT_accuracy, RFC_accuracy_original, SVC_accuracy_original]\n",
        "x = [1, 2, 3, 4]\n",
        "tick_label = ['KNN', 'Decision Tree' , 'Random Forest', 'SVC']\n",
        "plt.bar(x, y, tick_label = tick_label,\n",
        "        width = 0.8, color = ['red', 'orange','blue','green'])\n",
        "plt.xlabel('Type of Models')\n",
        "plt.ylabel('Score')\n",
        "plt.title('Classification Algorithm Accuracy Comparison with Original Data')\n",
        "\n",
        "plt.show()"
      ]
    },
    {
      "cell_type": "code",
      "execution_count": null,
      "metadata": {
        "colab": {
          "base_uri": "https://localhost:8080/",
          "height": 295
        },
        "id": "dz3E2I9huC5C",
        "outputId": "8076cd21-d87e-42fa-bfa9-25393cc1618c"
      },
      "outputs": [
        {
          "data": {
            "image/png": "[encoded data removed]",
            "text/plain": [
              "<Figure size 432x288 with 1 Axes>"
            ]
          },
          "metadata": {
            "needs_background": "light"
          },
          "output_type": "display_data"
        }
      ],
      "source": [
        "y= [KNN_accuracy_pca, DT_accuracy_pca, RFC_accuracy_pca, SVC_accuracy_pca]\n",
        "x = [1, 2, 3, 4]\n",
        "tick_label = ['KNN', 'Decision Tree' , 'Random Forest', 'SVC']\n",
        "plt.bar(x, y, tick_label = tick_label,\n",
        "        width = 0.8, color = ['red', 'orange','blue','green'])\n",
        "plt.xlabel('Type of Models')\n",
        "plt.ylabel('Score')\n",
        "plt.title('Classification Algorithm Accuracy Comparison with PCA Data')\n",
        "\n",
        "plt.show()"
      ]
    },
    {
      "cell_type": "code",
      "execution_count": null,
      "metadata": {
        "colab": {
          "base_uri": "https://localhost:8080/",
          "height": 295
        },
        "id": "aJ3QMjOcw7Q_",
        "outputId": "92dbbea0-b78f-431a-d014-4f59df8b15e5"
      },
      "outputs": [
        {
          "data": {
            "image/png": "[encoded data removed]",
            "text/plain": [
              "<Figure size 432x288 with 1 Axes>"
            ]
          },
          "metadata": {
            "needs_background": "light"
          },
          "output_type": "display_data"
        }
      ],
      "source": [
        "y= [KNN_acc_norm, DT_accuracy_norm, RFC_accuracy_norm, SVC_accuracy_norm]\n",
        "x = [1, 2, 3, 4]\n",
        "tick_label = ['KNN', 'Decision Tree' , 'Random Forest', 'SVC']\n",
        "plt.bar(x, y, tick_label = tick_label,\n",
        "        width = 0.8, color = ['red', 'orange','blue','green'])\n",
        "plt.xlabel('Type of Models')\n",
        "plt.ylabel('Score')\n",
        "plt.title('Classification Algorithm Accuracy Comparison with Normalized Data')\n",
        "\n",
        "plt.show()"
      ]
    },
    {
      "cell_type": "markdown",
      "metadata": {
        "id": "8VHSIeNFMI_D"
      },
      "source": [
        "# Custom Input Prediction\n",
        "\n",
        "**Mevki**\n",
        "\n",
        "*   CAM = 0\n",
        "*   CB = 1\n",
        "*   CDM = 2\n",
        "*   CM = 3\n",
        "*   LB-RB = 4\n",
        "*   LW-RW = 5\n",
        "*   ST = 6\n",
        "\n",
        "**Sağ-Sol Ayak**\n",
        "*   Left = 0\n",
        "*   Right = 1\n",
        "\n",
        "**Bonservis**\n",
        "\n",
        "*   0 - 750k -> 1\n",
        "* 750k - 2.5m -> 2\n",
        "* 2.5m - 10m -> 3\n",
        "* 10m - 50m -> 4\n",
        "* 50m + -> 5\n",
        "\n",
        "['overall', 'potential', 'height_cm', 'weight_kg', 'player_positions', 'preferred_foot', 'weak_foot', 'skill_moves', 'pace', 'shooting', 'passing' 'dribbling', 'defending', 'physic', 'attacking_finishing']"
      ]
    },
    {
      "cell_type": "code",
      "execution_count": null,
      "metadata": {
        "id": "e0lblRv-YxPK"
      },
      "outputs": [],
      "source": [
        "import pickle\n",
        "\n",
        "def save_trained_model(filename, model):\n",
        "  pickle.dump(model, open(filename+\".sav\", 'wb'))\n",
        " \n",
        "def load_from_pretrained(filename):\n",
        "  loaded_model = pickle.load(open(filename, 'rb'))\n",
        "  return loaded_model"
      ]
    },
    {
      "cell_type": "code",
      "execution_count": null,
      "metadata": {
        "id": "PGTCc_DkQSF7"
      },
      "outputs": [],
      "source": [
        "position_dict = {'CAM': 0, 'CB': 1, 'CDM': 2, 'CM': 3, 'LB-RB': 4, 'LW-RW': 5, 'ST': 6}\n",
        "pref_foot_dict = {'Left': 0, \"Right\":1}\n",
        "value_dict = {'0-750k €':1, '750k - 2.5m €': 2, '2.5m - 10m €': 3, '10m - 50m €': 4, '50m + €': 5 }"
      ]
    },
    {
      "cell_type": "code",
      "execution_count": null,
      "metadata": {
        "colab": {
          "base_uri": "https://localhost:8080/"
        },
        "id": "juwFYC5eMMBN",
        "outputId": "b4aa1d9e-52b7-4fca-8e79-2b58b5a063b1"
      },
      "outputs": [
        {
          "name": "stdout",
          "output_type": "stream",
          "text": [
            "Oyuncunun Bonservis Bedeli Tahmini Aralığı (KNN):  10m - 50m €\n",
            "\n",
            "Oyuncunun Bonservis Bedeli Tahmini Aralığı (DT):  50m + €\n",
            "\n",
            "Oyuncunun Bonservis Bedeli Tahmini Aralığı (RF):  50m + €\n",
            "\n",
            "Oyuncunun Bonservis Bedeli Tahmini Aralığı (SVC):  10m - 50m €\n"
          ]
        }
      ],
      "source": [
        "overall = 95 / 100\n",
        "potential = 95 / 100\n",
        "height_cm = 180 / 100\n",
        "weight_kg = 80 / 100\n",
        "player_positions = \"ST\"\n",
        "preferred_foot = \"Left\"\n",
        "weak_foot = 4 / 5\n",
        "skill_moves = 4 / 5\n",
        "pace = 78 / 100\n",
        "shooting = 85 / 100\n",
        "passing = 83 / 100\n",
        "dribbling = 79 / 100\n",
        "defending = 60 / 100\n",
        "physic = 80 / 100\n",
        "attacking_finishing = 70 / 100\n",
        "\n",
        "# overall = 66 / 100\n",
        "# potential = 68 / 100\n",
        "# height_cm = 190 / 100\n",
        "# weight_kg = 100 / 100\n",
        "# player_positions = \"CB\"\n",
        "# preferred_foot = \"Right\"\n",
        "# weak_foot = 2 / 5\n",
        "# skill_moves = 2 / 5\n",
        "# pace = 58 / 100\n",
        "# shooting = 60 / 100\n",
        "# passing = 40 / 100\n",
        "# dribbling = 65 / 100\n",
        "# defending = 50 / 100\n",
        "# physic = 61 / 100\n",
        "# attacking_finishing = 70 / 100\n",
        "\n",
        "# overall = 77 / 100\n",
        "# potential = 85 / 100\n",
        "# height_cm = 160 / 100\n",
        "# weight_kg = 70 / 100\n",
        "# player_positions = \"LW-RW\"\n",
        "# preferred_foot = \"Right\"\n",
        "# weak_foot = 3 / 5\n",
        "# skill_moves = 5 / 5\n",
        "# pace = 70 / 100\n",
        "# shooting = 55 / 100\n",
        "# passing = 68 / 100\n",
        "# dribbling = 47 / 100\n",
        "# defending = 40 / 100\n",
        "# physic = 58 / 100\n",
        "# attacking_finishing = 65 / 100\n",
        "\n",
        "player_positions = position_dict.get(player_positions)\n",
        "preferred_foot = pref_foot_dict.get(preferred_foot)\n",
        "\n",
        "knn_model = load_from_pretrained(\"knn_original.sav\")\n",
        "dt_model = load_from_pretrained(\"dt_original.sav\")\n",
        "rf_model = load_from_pretrained(\"rf_original.sav\")\n",
        "svc_model = load_from_pretrained(\"svc_original.sav\")\n",
        "\n",
        "\n",
        "predict_array = [[overall, potential, height_cm, weight_kg, player_positions, preferred_foot, weak_foot, skill_moves, pace, shooting, passing, dribbling, defending, physic, attacking_finishing]]\n",
        "\n",
        "knn_result = knn_model.predict(predict_array)[0]\n",
        "dt_result = dt_model.predict(predict_array)[0]\n",
        "rf_result = rf_model.predict(predict_array)[0]\n",
        "svc_result = svc_model.predict(predict_array)[0]\n",
        "\n",
        "key_list = list(value_dict.keys())\n",
        "val_list = list(value_dict.values())\n",
        "\n",
        "index_knn = val_list.index(knn_result)\n",
        "print(\"Oyuncunun Bonservis Bedeli Tahmini Aralığı (KNN): \", key_list[index_knn])\n",
        "\n",
        "index_dt = val_list.index(dt_result)\n",
        "print(\"\\nOyuncunun Bonservis Bedeli Tahmini Aralığı (DT): \", key_list[index_dt])\n",
        "\n",
        "index_rf = val_list.index(rf_result)\n",
        "print(\"\\nOyuncunun Bonservis Bedeli Tahmini Aralığı (RF): \", key_list[index_rf])\n",
        "\n",
        "index_svc = val_list.index(svc_result)\n",
        "print(\"\\nOyuncunun Bonservis Bedeli Tahmini Aralığı (SVC): \", key_list[index_svc])\n"
      ]
    }
  ],
  "metadata": {
    "colab": {
      "collapsed_sections": [
        "rXysT0Y-ZGkq",
        "j-9NP2SUoF_g",
        "frw3IX0wwCBu",
        "TeZJI-wpXWMi",
        "iMl2lQFbXoJb",
        "QFnLszVwX-Rr",
        "8VHSIeNFMI_D"
      ],
      "name": "fifa22.ipynb",
      "provenance": []
    },
    "kernelspec": {
      "display_name": "Python 3",
      "name": "python3"
    },
    "language_info": {
      "name": "python"
    }
  },
  "nbformat": 4,
  "nbformat_minor": 0
}
